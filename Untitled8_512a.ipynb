{
  "nbformat": 4,
  "nbformat_minor": 0,
  "metadata": {
    "colab": {
      "name": "Untitled8.ipynb",
      "provenance": [],
      "include_colab_link": true
    },
    "kernelspec": {
      "name": "python3",
      "display_name": "Python 3"
    },
    "language_info": {
      "name": "python"
    },
    "accelerator": "GPU"
  },
  "cells": [
    {
      "cell_type": "markdown",
      "metadata": {
        "id": "view-in-github",
        "colab_type": "text"
      },
      "source": [
        "<a href=\"https://colab.research.google.com/github/rohitsubodh/GAN/blob/main/Untitled8_512a.ipynb\" target=\"_parent\"><img src=\"https://colab.research.google.com/assets/colab-badge.svg\" alt=\"Open In Colab\"/></a>"
      ]
    },
    {
      "cell_type": "code",
      "metadata": {
        "id": "cMHBuO0wos-j"
      },
      "source": [
        "\n",
        "import tensorflow as tf\n",
        "import keras\n",
        "import numpy as np\n",
        "from keras import models\n",
        "from keras import layers\n",
        "from keras.wrappers.scikit_learn import KerasClassifier\n",
        "from sklearn.model_selection import cross_val_score\n",
        "from sklearn.datasets import make_classification\n",
        "from matplotlib import pyplot\n",
        "import numpy as np\n",
        "import matplotlib.pyplot as plt\n",
        "import pandas as pd\n",
        "from sklearn import preprocessing\n",
        "from keras.models import Sequential,Model\n",
        "from keras.layers import Dense, Dropout,Input\n",
        "from keras.layers import Embedding,LeakyReLU\n",
        "from keras.layers import Conv1D, GlobalAveragePooling1D, MaxPooling1D, Flatten, LocallyConnected1D, BatchNormalization\n",
        "import scipy.signal\n",
        "from sklearn.decomposition import PCA, KernelPCA"
      ],
      "execution_count": 43,
      "outputs": []
    },
    {
      "cell_type": "code",
      "metadata": {
        "id": "Hi8fcclmpFNY"
      },
      "source": [
        "data = pd.read_excel('/content/PPG_new.xlsx',sheet_name='0-1')\n",
        "target = pd.read_excel('/content/PPG_new.xlsx',sheet_name='target 0-1')"
      ],
      "execution_count": 44,
      "outputs": []
    },
    {
      "cell_type": "code",
      "metadata": {
        "colab": {
          "base_uri": "https://localhost:8080/"
        },
        "id": "mUhak2l_B-rq",
        "outputId": "dea40db3-da91-4b50-90c8-29c8828e160a"
      },
      "source": [
        "data.shape"
      ],
      "execution_count": 45,
      "outputs": [
        {
          "output_type": "execute_result",
          "data": {
            "text/plain": [
              "(495, 2100)"
            ]
          },
          "metadata": {},
          "execution_count": 45
        }
      ]
    },
    {
      "cell_type": "code",
      "metadata": {
        "colab": {
          "base_uri": "https://localhost:8080/",
          "height": 265
        },
        "id": "q1Q3Q3FepFW2",
        "outputId": "e6b73802-4b08-4799-e5a6-94c304095e66"
      },
      "source": [
        "x= data.iloc[0,:]\n",
        "plt.plot(x)\n",
        "plt.show\n",
        "data1=data"
      ],
      "execution_count": 46,
      "outputs": [
        {
          "output_type": "display_data",
          "data": {
            "image/png": "[encoded data removed]",
            "text/plain": [
              "<Figure size 432x288 with 1 Axes>"
            ]
          },
          "metadata": {
            "needs_background": "light"
          }
        }
      ]
    },
    {
      "cell_type": "code",
      "metadata": {
        "colab": {
          "base_uri": "https://localhost:8080/",
          "height": 282
        },
        "id": "SRcZU0-ppFaK",
        "outputId": "6de6ada9-325d-4e1c-e4ad-9dd081f19656"
      },
      "source": [
        "# Applying median filter\n",
        "data=scipy.signal.medfilt(data)\n",
        "data\n",
        "x= data[0,:]\n",
        "plt.plot(x)\n",
        "plt.show"
      ],
      "execution_count": 47,
      "outputs": [
        {
          "output_type": "execute_result",
          "data": {
            "text/plain": [
              "<function matplotlib.pyplot.show>"
            ]
          },
          "metadata": {},
          "execution_count": 47
        },
        {
          "output_type": "display_data",
          "data": {
            "image/png": "[encoded data removed]",
            "text/plain": [
              "<Figure size 432x288 with 1 Axes>"
            ]
          },
          "metadata": {
            "needs_background": "light"
          }
        }
      ]
    },
    {
      "cell_type": "code",
      "metadata": {
        "colab": {
          "base_uri": "https://localhost:8080/"
        },
        "id": "Rr2cHwXGpFc9",
        "outputId": "958f7036-1775-4f74-c61e-7e2d43823771"
      },
      "source": [
        "# Design of low pass chebyshev filter\n",
        "sos= scipy.signal.cheby2(4, 10, 25, 'low', fs=1000, output='sos')\n",
        "sos"
      ],
      "execution_count": 48,
      "outputs": [
        {
          "output_type": "execute_result",
          "data": {
            "text/plain": [
              "array([[ 0.26741176, -0.49141861,  0.26741176,  1.        , -1.6346899 ,\n",
              "         0.69069827],\n",
              "       [ 1.        , -1.97118242,  1.        ,  1.        , -1.92658177,\n",
              "         0.94891457]])"
            ]
          },
          "metadata": {},
          "execution_count": 48
        }
      ]
    },
    {
      "cell_type": "code",
      "metadata": {
        "colab": {
          "base_uri": "https://localhost:8080/",
          "height": 282
        },
        "id": "V2M-vdahpFfz",
        "outputId": "42763fb2-28b5-4bee-8119-6f826d6738a6"
      },
      "source": [
        "data= scipy.signal.sosfilt(sos, data) # applying chebyshev filter\n",
        "x= data[0,:]\n",
        "plt.plot(x)\n",
        "plt.show"
      ],
      "execution_count": 49,
      "outputs": [
        {
          "output_type": "execute_result",
          "data": {
            "text/plain": [
              "<function matplotlib.pyplot.show>"
            ]
          },
          "metadata": {},
          "execution_count": 49
        },
        {
          "output_type": "display_data",
          "data": {
            "image/png": "[encoded data removed]",
            "text/plain": [
              "<Figure size 432x288 with 1 Axes>"
            ]
          },
          "metadata": {
            "needs_background": "light"
          }
        }
      ]
    },
    {
      "cell_type": "code",
      "metadata": {
        "colab": {
          "base_uri": "https://localhost:8080/",
          "height": 282
        },
        "id": "dbCRU494pFiq",
        "outputId": "0069d75c-44a9-456d-d01c-0ac091846b3f"
      },
      "source": [
        "# Applying backward forward filter\n",
        "b, a = scipy.signal.butter(8, 0.125) # filter design\n",
        "\n",
        "data = scipy.signal.filtfilt(b, a, data, method=\"gust\")\n",
        "\n",
        "x= data[0,:]\n",
        "plt.plot(x)\n",
        "plt.show"
      ],
      "execution_count": 50,
      "outputs": [
        {
          "output_type": "execute_result",
          "data": {
            "text/plain": [
              "<function matplotlib.pyplot.show>"
            ]
          },
          "metadata": {},
          "execution_count": 50
        },
        {
          "output_type": "display_data",
          "data": {
            "image/png": "[encoded data removed]",
            "text/plain": [
              "<Figure size 432x288 with 1 Axes>"
            ]
          },
          "metadata": {
            "needs_background": "light"
          }
        }
      ]
    },
    {
      "cell_type": "code",
      "metadata": {
        "id": "Wp6SpBPGqCqY",
        "colab": {
          "base_uri": "https://localhost:8080/"
        },
        "outputId": "4057fe65-a97d-4bf5-b0eb-3a27f0881d47"
      },
      "source": [
        "data1=data\n",
        "kpca=KernelPCA(kernel=\"rbf\",fit_inverse_transform=True, gamma=10)\n",
        "data=kpca.fit_transform(data)\n",
        "data.shape"
      ],
      "execution_count": 51,
      "outputs": [
        {
          "output_type": "execute_result",
          "data": {
            "text/plain": [
              "(495, 494)"
            ]
          },
          "metadata": {},
          "execution_count": 51
        }
      ]
    },
    {
      "cell_type": "code",
      "metadata": {
        "colab": {
          "base_uri": "https://localhost:8080/",
          "height": 282
        },
        "id": "GWoHtut-eico",
        "outputId": "c1874536-b866-481f-d9a2-387009881b01"
      },
      "source": [
        "x= data[0,:]\n",
        "plt.plot(x)\n",
        "plt.show"
      ],
      "execution_count": 52,
      "outputs": [
        {
          "output_type": "execute_result",
          "data": {
            "text/plain": [
              "<function matplotlib.pyplot.show>"
            ]
          },
          "metadata": {},
          "execution_count": 52
        },
        {
          "output_type": "display_data",
          "data": {
            "image/png": "[encoded data removed]",
            "text/plain": [
              "<Figure size 432x288 with 1 Axes>"
            ]
          },
          "metadata": {
            "needs_background": "light"
          }
        }
      ]
    },
    {
      "cell_type": "code",
      "metadata": {
        "id": "aT_bUQPBpFlu"
      },
      "source": [
        "from sklearn.model_selection import train_test_split\n",
        "xTrain1, xTest1, yTrain1, yTest1 = train_test_split(data, target, test_size = 0.3, random_state = 0)"
      ],
      "execution_count": 64,
      "outputs": []
    },
    {
      "cell_type": "code",
      "metadata": {
        "id": "K0ct8stEpFor"
      },
      "source": [
        "xTrain11 = np.expand_dims(xTrain1, axis=2)\n",
        "yTrain11 = tf.keras.utils.to_categorical(yTrain1, num_classes=2)\n",
        "xTest11 =  np.expand_dims(xTest1, axis=2)\n",
        "yTest11 = tf.keras.utils.to_categorical(yTest1, num_classes=2)"
      ],
      "execution_count": 65,
      "outputs": []
    },
    {
      "cell_type": "code",
      "metadata": {
        "id": "egKDUU6zpFr2"
      },
      "source": [
        "input_shape = (494, 1)\n"
      ],
      "execution_count": 66,
      "outputs": []
    },
    {
      "cell_type": "code",
      "metadata": {
        "id": "xJxQ1yvCpFur",
        "colab": {
          "base_uri": "https://localhost:8080/"
        },
        "outputId": "60ebfc57-a4d8-4cb0-c873-3294b2c49a65"
      },
      "source": [
        "\n",
        "#CNN Model\n",
        "\n",
        "model = Sequential()\n",
        "model.add(Conv1D(32, 3, activation='relu', input_shape=input_shape[0:]))\n",
        "model.add(BatchNormalization())\n",
        "model.add(LeakyReLU(alpha=0.1))\n",
        "model.add(Conv1D(64, 3, activation='relu', name=\"my_intermediate_layer\"))\n",
        "model.add(MaxPooling1D(3))\n",
        "model.add(BatchNormalization())\n",
        "model.add(LeakyReLU(alpha=0.1))\n",
        "model.add(Conv1D(128, 3, activation='relu'))\n",
        "model.add(BatchNormalization())\n",
        "model.add(LeakyReLU(alpha=0.1))\n",
        "model.add(Conv1D(256, 3, activation='relu'))\n",
        "model.add(BatchNormalization())\n",
        "model.add(LeakyReLU(alpha=0.1))\n",
        "model.add(Conv1D(512, 3, activation='relu'))\n",
        "\n",
        "model.add(GlobalAveragePooling1D())\n",
        "model.add(Dropout(0.5))\n",
        "model.add(Dense(100, name=\"dense\"))\n",
        "model.add(Dense(2, activation='softmax', name=\"dense1\"))\n",
        "model.compile(loss='categorical_crossentropy',\n",
        "                    optimizer='adam',\n",
        "                    metrics=['accuracy'])\n",
        "model.summary()"
      ],
      "execution_count": 67,
      "outputs": [
        {
          "output_type": "stream",
          "text": [
            "Model: \"sequential_3\"\n",
            "_________________________________________________________________\n",
            "Layer (type)                 Output Shape              Param #   \n",
            "=================================================================\n",
            "conv1d_9 (Conv1D)            (None, 492, 32)           128       \n",
            "_________________________________________________________________\n",
            "batch_normalization_9 (Batch (None, 492, 32)           128       \n",
            "_________________________________________________________________\n",
            "leaky_re_lu_9 (LeakyReLU)    (None, 492, 32)           0         \n",
            "_________________________________________________________________\n",
            "my_intermediate_layer (Conv1 (None, 490, 64)           6208      \n",
            "_________________________________________________________________\n",
            "max_pooling1d_3 (MaxPooling1 (None, 163, 64)           0         \n",
            "_________________________________________________________________\n",
            "batch_normalization_10 (Batc (None, 163, 64)           256       \n",
            "_________________________________________________________________\n",
            "leaky_re_lu_10 (LeakyReLU)   (None, 163, 64)           0         \n",
            "_________________________________________________________________\n",
            "conv1d_10 (Conv1D)           (None, 161, 128)          24704     \n",
            "_________________________________________________________________\n",
            "batch_normalization_11 (Batc (None, 161, 128)          512       \n",
            "_________________________________________________________________\n",
            "leaky_re_lu_11 (LeakyReLU)   (None, 161, 128)          0         \n",
            "_________________________________________________________________\n",
            "conv1d_11 (Conv1D)           (None, 159, 256)          98560     \n",
            "_________________________________________________________________\n",
            "batch_normalization_12 (Batc (None, 159, 256)          1024      \n",
            "_________________________________________________________________\n",
            "leaky_re_lu_12 (LeakyReLU)   (None, 159, 256)          0         \n",
            "_________________________________________________________________\n",
            "conv1d_12 (Conv1D)           (None, 157, 512)          393728    \n",
            "_________________________________________________________________\n",
            "global_average_pooling1d_3 ( (None, 512)               0         \n",
            "_________________________________________________________________\n",
            "dropout_3 (Dropout)          (None, 512)               0         \n",
            "_________________________________________________________________\n",
            "dense (Dense)                (None, 100)               51300     \n",
            "_________________________________________________________________\n",
            "dense1 (Dense)               (None, 2)                 202       \n",
            "=================================================================\n",
            "Total params: 576,750\n",
            "Trainable params: 575,790\n",
            "Non-trainable params: 960\n",
            "_________________________________________________________________\n"
          ],
          "name": "stdout"
        }
      ]
    },
    {
      "cell_type": "code",
      "metadata": {
        "colab": {
          "base_uri": "https://localhost:8080/"
        },
        "id": "dpRAWw9cpFyD",
        "outputId": "c728b7f2-99ca-4c39-ec9f-84f20182d36e"
      },
      "source": [
        "from keras.callbacks import EarlyStopping\n",
        "#set early stopping monitor so the model stops training when it won't improve anymore\n",
        "early_stopping_monitor = EarlyStopping(patience=500)\n",
        "\n",
        "#train model\n",
        "history=model.fit(xTrain11, yTrain11, validation_data = (xTest11, yTest11), epochs=150, batch_size=16)\n"
      ],
      "execution_count": 68,
      "outputs": [
        {
          "output_type": "stream",
          "text": [
            "Epoch 1/150\n",
            "22/22 [==============================] - 3s 42ms/step - loss: 0.8008 - accuracy: 0.6012 - val_loss: 0.7008 - val_accuracy: 0.4698\n",
            "Epoch 2/150\n",
            "22/22 [==============================] - 0s 22ms/step - loss: 0.6577 - accuracy: 0.6734 - val_loss: 0.7208 - val_accuracy: 0.4698\n",
            "Epoch 3/150\n",
            "22/22 [==============================] - 0s 21ms/step - loss: 0.6051 - accuracy: 0.7052 - val_loss: 0.7116 - val_accuracy: 0.4698\n",
            "Epoch 4/150\n",
            "22/22 [==============================] - 0s 21ms/step - loss: 0.5569 - accuracy: 0.7052 - val_loss: 0.7641 - val_accuracy: 0.4698\n",
            "Epoch 5/150\n",
            "22/22 [==============================] - 0s 21ms/step - loss: 0.5973 - accuracy: 0.6879 - val_loss: 0.7329 - val_accuracy: 0.4698\n",
            "Epoch 6/150\n",
            "22/22 [==============================] - 0s 21ms/step - loss: 0.5537 - accuracy: 0.7399 - val_loss: 0.7729 - val_accuracy: 0.4698\n",
            "Epoch 7/150\n",
            "22/22 [==============================] - 0s 21ms/step - loss: 0.4965 - accuracy: 0.7659 - val_loss: 0.8957 - val_accuracy: 0.4698\n",
            "Epoch 8/150\n",
            "22/22 [==============================] - 1s 26ms/step - loss: 0.4724 - accuracy: 0.7572 - val_loss: 0.9366 - val_accuracy: 0.4698\n",
            "Epoch 9/150\n",
            "22/22 [==============================] - 0s 21ms/step - loss: 0.4453 - accuracy: 0.7890 - val_loss: 1.0982 - val_accuracy: 0.4698\n",
            "Epoch 10/150\n",
            "22/22 [==============================] - 0s 21ms/step - loss: 0.4230 - accuracy: 0.8006 - val_loss: 1.3255 - val_accuracy: 0.4698\n",
            "Epoch 11/150\n",
            "22/22 [==============================] - 0s 22ms/step - loss: 0.3932 - accuracy: 0.8353 - val_loss: 1.5736 - val_accuracy: 0.4698\n",
            "Epoch 12/150\n",
            "22/22 [==============================] - 0s 21ms/step - loss: 0.3493 - accuracy: 0.8237 - val_loss: 1.7974 - val_accuracy: 0.4698\n",
            "Epoch 13/150\n",
            "22/22 [==============================] - 0s 22ms/step - loss: 0.3044 - accuracy: 0.8873 - val_loss: 2.0600 - val_accuracy: 0.4698\n",
            "Epoch 14/150\n",
            "22/22 [==============================] - 0s 22ms/step - loss: 0.2969 - accuracy: 0.8757 - val_loss: 1.7961 - val_accuracy: 0.4698\n",
            "Epoch 15/150\n",
            "22/22 [==============================] - 0s 23ms/step - loss: 0.2613 - accuracy: 0.8960 - val_loss: 2.6058 - val_accuracy: 0.4698\n",
            "Epoch 16/150\n",
            "22/22 [==============================] - 1s 25ms/step - loss: 0.2230 - accuracy: 0.8960 - val_loss: 3.2009 - val_accuracy: 0.4698\n",
            "Epoch 17/150\n",
            "22/22 [==============================] - 1s 25ms/step - loss: 0.1907 - accuracy: 0.9364 - val_loss: 2.0569 - val_accuracy: 0.4698\n",
            "Epoch 18/150\n",
            "22/22 [==============================] - 0s 22ms/step - loss: 0.1247 - accuracy: 0.9653 - val_loss: 2.5877 - val_accuracy: 0.4698\n",
            "Epoch 19/150\n",
            "22/22 [==============================] - 0s 22ms/step - loss: 0.1485 - accuracy: 0.9335 - val_loss: 3.2472 - val_accuracy: 0.4698\n",
            "Epoch 20/150\n",
            "22/22 [==============================] - 0s 22ms/step - loss: 0.1699 - accuracy: 0.9249 - val_loss: 3.7789 - val_accuracy: 0.4698\n",
            "Epoch 21/150\n",
            "22/22 [==============================] - 0s 22ms/step - loss: 0.1190 - accuracy: 0.9480 - val_loss: 4.2630 - val_accuracy: 0.4698\n",
            "Epoch 22/150\n",
            "22/22 [==============================] - 0s 22ms/step - loss: 0.0605 - accuracy: 0.9884 - val_loss: 6.0565 - val_accuracy: 0.4698\n",
            "Epoch 23/150\n",
            "22/22 [==============================] - 0s 21ms/step - loss: 0.0966 - accuracy: 0.9624 - val_loss: 4.2904 - val_accuracy: 0.4698\n",
            "Epoch 24/150\n",
            "22/22 [==============================] - 0s 22ms/step - loss: 0.2835 - accuracy: 0.8786 - val_loss: 0.9628 - val_accuracy: 0.6242\n",
            "Epoch 25/150\n",
            "22/22 [==============================] - 0s 21ms/step - loss: 0.1454 - accuracy: 0.9538 - val_loss: 1.1452 - val_accuracy: 0.5369\n",
            "Epoch 26/150\n",
            "22/22 [==============================] - 0s 21ms/step - loss: 0.0749 - accuracy: 0.9711 - val_loss: 1.1749 - val_accuracy: 0.6510\n",
            "Epoch 27/150\n",
            "22/22 [==============================] - 0s 21ms/step - loss: 0.0931 - accuracy: 0.9711 - val_loss: 0.8181 - val_accuracy: 0.6980\n",
            "Epoch 28/150\n",
            "22/22 [==============================] - 0s 22ms/step - loss: 0.0807 - accuracy: 0.9682 - val_loss: 1.8492 - val_accuracy: 0.5906\n",
            "Epoch 29/150\n",
            "22/22 [==============================] - 0s 21ms/step - loss: 0.0821 - accuracy: 0.9711 - val_loss: 0.9822 - val_accuracy: 0.7047\n",
            "Epoch 30/150\n",
            "22/22 [==============================] - 0s 22ms/step - loss: 0.0307 - accuracy: 0.9913 - val_loss: 2.2040 - val_accuracy: 0.6309\n",
            "Epoch 31/150\n",
            "22/22 [==============================] - 0s 21ms/step - loss: 0.0525 - accuracy: 0.9827 - val_loss: 1.5913 - val_accuracy: 0.6174\n",
            "Epoch 32/150\n",
            "22/22 [==============================] - 0s 21ms/step - loss: 0.0754 - accuracy: 0.9769 - val_loss: 1.1639 - val_accuracy: 0.7047\n",
            "Epoch 33/150\n",
            "22/22 [==============================] - 0s 21ms/step - loss: 0.0309 - accuracy: 0.9942 - val_loss: 1.2834 - val_accuracy: 0.6913\n",
            "Epoch 34/150\n",
            "22/22 [==============================] - 0s 21ms/step - loss: 0.0393 - accuracy: 0.9884 - val_loss: 1.5904 - val_accuracy: 0.6644\n",
            "Epoch 35/150\n",
            "22/22 [==============================] - 0s 21ms/step - loss: 0.0184 - accuracy: 0.9942 - val_loss: 2.0695 - val_accuracy: 0.6980\n",
            "Epoch 36/150\n",
            "22/22 [==============================] - 0s 22ms/step - loss: 0.0342 - accuracy: 0.9913 - val_loss: 1.7710 - val_accuracy: 0.7248\n",
            "Epoch 37/150\n",
            "22/22 [==============================] - 1s 23ms/step - loss: 0.0238 - accuracy: 0.9884 - val_loss: 1.6882 - val_accuracy: 0.7047\n",
            "Epoch 38/150\n",
            "22/22 [==============================] - 0s 22ms/step - loss: 0.0256 - accuracy: 0.9884 - val_loss: 1.4659 - val_accuracy: 0.6913\n",
            "Epoch 39/150\n",
            "22/22 [==============================] - 0s 22ms/step - loss: 0.0155 - accuracy: 0.9942 - val_loss: 1.5891 - val_accuracy: 0.7248\n",
            "Epoch 40/150\n",
            "22/22 [==============================] - 0s 22ms/step - loss: 0.0396 - accuracy: 0.9884 - val_loss: 1.4447 - val_accuracy: 0.6711\n",
            "Epoch 41/150\n",
            "22/22 [==============================] - 0s 22ms/step - loss: 0.1628 - accuracy: 0.9480 - val_loss: 4.4977 - val_accuracy: 0.6376\n",
            "Epoch 42/150\n",
            "22/22 [==============================] - 0s 22ms/step - loss: 0.0600 - accuracy: 0.9855 - val_loss: 8.4878 - val_accuracy: 0.5168\n",
            "Epoch 43/150\n",
            "22/22 [==============================] - 0s 22ms/step - loss: 0.0628 - accuracy: 0.9740 - val_loss: 7.5493 - val_accuracy: 0.4698\n",
            "Epoch 44/150\n",
            "22/22 [==============================] - 0s 22ms/step - loss: 0.1034 - accuracy: 0.9653 - val_loss: 2.2723 - val_accuracy: 0.7114\n",
            "Epoch 45/150\n",
            "22/22 [==============================] - 0s 21ms/step - loss: 0.0180 - accuracy: 0.9971 - val_loss: 2.1206 - val_accuracy: 0.6779\n",
            "Epoch 46/150\n",
            "22/22 [==============================] - 0s 23ms/step - loss: 0.0438 - accuracy: 0.9827 - val_loss: 2.2534 - val_accuracy: 0.7114\n",
            "Epoch 47/150\n",
            "22/22 [==============================] - 0s 22ms/step - loss: 0.1075 - accuracy: 0.9538 - val_loss: 1.9119 - val_accuracy: 0.7181\n",
            "Epoch 48/150\n",
            "22/22 [==============================] - 0s 21ms/step - loss: 0.0781 - accuracy: 0.9798 - val_loss: 1.4646 - val_accuracy: 0.6846\n",
            "Epoch 49/150\n",
            "22/22 [==============================] - 0s 22ms/step - loss: 0.0346 - accuracy: 0.9855 - val_loss: 2.1825 - val_accuracy: 0.6376\n",
            "Epoch 50/150\n",
            "22/22 [==============================] - 0s 21ms/step - loss: 0.0215 - accuracy: 0.9942 - val_loss: 1.9060 - val_accuracy: 0.6913\n",
            "Epoch 51/150\n",
            "22/22 [==============================] - 0s 22ms/step - loss: 0.0119 - accuracy: 0.9971 - val_loss: 3.2026 - val_accuracy: 0.7114\n",
            "Epoch 52/150\n",
            "22/22 [==============================] - 0s 22ms/step - loss: 0.0042 - accuracy: 1.0000 - val_loss: 2.6848 - val_accuracy: 0.6779\n",
            "Epoch 53/150\n",
            "22/22 [==============================] - 0s 21ms/step - loss: 0.0024 - accuracy: 1.0000 - val_loss: 2.4045 - val_accuracy: 0.7047\n",
            "Epoch 54/150\n",
            "22/22 [==============================] - 0s 21ms/step - loss: 0.0524 - accuracy: 0.9798 - val_loss: 5.5691 - val_accuracy: 0.6040\n",
            "Epoch 55/150\n",
            "22/22 [==============================] - 0s 21ms/step - loss: 0.0336 - accuracy: 0.9884 - val_loss: 1.6933 - val_accuracy: 0.6846\n",
            "Epoch 56/150\n",
            "22/22 [==============================] - 0s 21ms/step - loss: 0.0367 - accuracy: 0.9855 - val_loss: 1.8956 - val_accuracy: 0.6376\n",
            "Epoch 57/150\n",
            "22/22 [==============================] - 0s 22ms/step - loss: 0.0669 - accuracy: 0.9798 - val_loss: 1.7446 - val_accuracy: 0.6376\n",
            "Epoch 58/150\n",
            "22/22 [==============================] - 0s 21ms/step - loss: 0.0567 - accuracy: 0.9740 - val_loss: 1.8906 - val_accuracy: 0.6510\n",
            "Epoch 59/150\n",
            "22/22 [==============================] - 0s 22ms/step - loss: 0.0082 - accuracy: 1.0000 - val_loss: 1.4261 - val_accuracy: 0.6846\n",
            "Epoch 60/150\n",
            "22/22 [==============================] - 0s 21ms/step - loss: 0.0447 - accuracy: 0.9855 - val_loss: 2.3847 - val_accuracy: 0.6040\n",
            "Epoch 61/150\n",
            "22/22 [==============================] - 0s 21ms/step - loss: 0.0224 - accuracy: 0.9913 - val_loss: 2.3374 - val_accuracy: 0.6846\n",
            "Epoch 62/150\n",
            "22/22 [==============================] - 0s 22ms/step - loss: 0.0167 - accuracy: 0.9971 - val_loss: 3.0888 - val_accuracy: 0.6644\n",
            "Epoch 63/150\n",
            "22/22 [==============================] - 0s 22ms/step - loss: 0.0103 - accuracy: 0.9942 - val_loss: 3.8669 - val_accuracy: 0.6309\n",
            "Epoch 64/150\n",
            "22/22 [==============================] - 0s 22ms/step - loss: 0.0088 - accuracy: 0.9971 - val_loss: 2.1923 - val_accuracy: 0.7315\n",
            "Epoch 65/150\n",
            "22/22 [==============================] - 0s 22ms/step - loss: 0.0052 - accuracy: 0.9971 - val_loss: 2.0431 - val_accuracy: 0.7248\n",
            "Epoch 66/150\n",
            "22/22 [==============================] - 0s 22ms/step - loss: 0.0022 - accuracy: 1.0000 - val_loss: 2.0106 - val_accuracy: 0.7651\n",
            "Epoch 67/150\n",
            "22/22 [==============================] - 0s 21ms/step - loss: 0.0121 - accuracy: 0.9971 - val_loss: 2.2201 - val_accuracy: 0.7047\n",
            "Epoch 68/150\n",
            "22/22 [==============================] - 0s 21ms/step - loss: 0.0076 - accuracy: 1.0000 - val_loss: 3.3413 - val_accuracy: 0.6644\n",
            "Epoch 69/150\n",
            "22/22 [==============================] - 0s 22ms/step - loss: 0.0026 - accuracy: 1.0000 - val_loss: 2.9926 - val_accuracy: 0.6846\n",
            "Epoch 70/150\n",
            "22/22 [==============================] - 0s 21ms/step - loss: 0.0048 - accuracy: 0.9971 - val_loss: 2.1475 - val_accuracy: 0.6913\n",
            "Epoch 71/150\n",
            "22/22 [==============================] - 0s 22ms/step - loss: 0.0015 - accuracy: 1.0000 - val_loss: 2.5369 - val_accuracy: 0.6846\n",
            "Epoch 72/150\n",
            "22/22 [==============================] - 0s 21ms/step - loss: 0.0012 - accuracy: 1.0000 - val_loss: 2.3179 - val_accuracy: 0.6980\n",
            "Epoch 73/150\n",
            "22/22 [==============================] - 0s 21ms/step - loss: 6.2884e-04 - accuracy: 1.0000 - val_loss: 1.8934 - val_accuracy: 0.7181\n",
            "Epoch 74/150\n",
            "22/22 [==============================] - 0s 21ms/step - loss: 0.0016 - accuracy: 1.0000 - val_loss: 2.0155 - val_accuracy: 0.7114\n",
            "Epoch 75/150\n",
            "22/22 [==============================] - 0s 21ms/step - loss: 0.0013 - accuracy: 1.0000 - val_loss: 2.2512 - val_accuracy: 0.7181\n",
            "Epoch 76/150\n",
            "22/22 [==============================] - 0s 22ms/step - loss: 2.1767e-04 - accuracy: 1.0000 - val_loss: 2.3209 - val_accuracy: 0.7114\n",
            "Epoch 77/150\n",
            "22/22 [==============================] - 0s 22ms/step - loss: 7.0412e-04 - accuracy: 1.0000 - val_loss: 2.2346 - val_accuracy: 0.7181\n",
            "Epoch 78/150\n",
            "22/22 [==============================] - 0s 21ms/step - loss: 1.6234e-04 - accuracy: 1.0000 - val_loss: 2.2239 - val_accuracy: 0.7315\n",
            "Epoch 79/150\n",
            "22/22 [==============================] - 0s 21ms/step - loss: 1.9069e-04 - accuracy: 1.0000 - val_loss: 2.2554 - val_accuracy: 0.7383\n",
            "Epoch 80/150\n",
            "22/22 [==============================] - 0s 22ms/step - loss: 5.6559e-04 - accuracy: 1.0000 - val_loss: 2.3913 - val_accuracy: 0.7047\n",
            "Epoch 81/150\n",
            "22/22 [==============================] - 0s 22ms/step - loss: 0.0057 - accuracy: 0.9971 - val_loss: 2.4528 - val_accuracy: 0.6443\n",
            "Epoch 82/150\n",
            "22/22 [==============================] - 0s 22ms/step - loss: 0.1382 - accuracy: 0.9711 - val_loss: 7.9481 - val_accuracy: 0.5168\n",
            "Epoch 83/150\n",
            "22/22 [==============================] - 0s 21ms/step - loss: 0.1915 - accuracy: 0.9364 - val_loss: 2.3583 - val_accuracy: 0.7047\n",
            "Epoch 84/150\n",
            "22/22 [==============================] - 0s 21ms/step - loss: 0.1560 - accuracy: 0.9335 - val_loss: 1.8017 - val_accuracy: 0.5570\n",
            "Epoch 85/150\n",
            "22/22 [==============================] - 1s 24ms/step - loss: 0.0720 - accuracy: 0.9740 - val_loss: 4.1938 - val_accuracy: 0.4765\n",
            "Epoch 86/150\n",
            "22/22 [==============================] - 0s 22ms/step - loss: 0.0818 - accuracy: 0.9769 - val_loss: 2.0810 - val_accuracy: 0.6711\n",
            "Epoch 87/150\n",
            "22/22 [==============================] - 0s 23ms/step - loss: 0.0222 - accuracy: 0.9942 - val_loss: 1.8163 - val_accuracy: 0.6644\n",
            "Epoch 88/150\n",
            "22/22 [==============================] - 0s 23ms/step - loss: 0.0293 - accuracy: 0.9884 - val_loss: 3.5151 - val_accuracy: 0.6242\n",
            "Epoch 89/150\n",
            "22/22 [==============================] - 0s 22ms/step - loss: 0.0203 - accuracy: 0.9942 - val_loss: 2.2958 - val_accuracy: 0.6644\n",
            "Epoch 90/150\n",
            "22/22 [==============================] - 0s 22ms/step - loss: 0.0191 - accuracy: 0.9913 - val_loss: 2.2594 - val_accuracy: 0.6174\n",
            "Epoch 91/150\n",
            "22/22 [==============================] - 0s 22ms/step - loss: 0.0660 - accuracy: 0.9769 - val_loss: 2.9689 - val_accuracy: 0.6309\n",
            "Epoch 92/150\n",
            "22/22 [==============================] - 0s 22ms/step - loss: 0.0812 - accuracy: 0.9624 - val_loss: 9.4152 - val_accuracy: 0.5839\n",
            "Epoch 93/150\n",
            "22/22 [==============================] - 0s 22ms/step - loss: 0.0327 - accuracy: 0.9827 - val_loss: 3.8277 - val_accuracy: 0.6443\n",
            "Epoch 94/150\n",
            "22/22 [==============================] - 0s 22ms/step - loss: 0.0258 - accuracy: 0.9942 - val_loss: 1.5327 - val_accuracy: 0.7248\n",
            "Epoch 95/150\n",
            "22/22 [==============================] - 0s 22ms/step - loss: 0.0080 - accuracy: 1.0000 - val_loss: 1.9557 - val_accuracy: 0.6309\n",
            "Epoch 96/150\n",
            "22/22 [==============================] - 0s 22ms/step - loss: 0.0024 - accuracy: 1.0000 - val_loss: 1.7718 - val_accuracy: 0.6443\n",
            "Epoch 97/150\n",
            "22/22 [==============================] - 0s 22ms/step - loss: 0.0016 - accuracy: 1.0000 - val_loss: 1.5979 - val_accuracy: 0.6913\n",
            "Epoch 98/150\n",
            "22/22 [==============================] - 0s 22ms/step - loss: 0.0129 - accuracy: 0.9942 - val_loss: 1.7709 - val_accuracy: 0.6779\n",
            "Epoch 99/150\n",
            "22/22 [==============================] - 0s 23ms/step - loss: 0.0116 - accuracy: 0.9971 - val_loss: 1.8901 - val_accuracy: 0.7315\n",
            "Epoch 100/150\n",
            "22/22 [==============================] - 0s 21ms/step - loss: 0.0056 - accuracy: 0.9971 - val_loss: 2.0933 - val_accuracy: 0.6980\n",
            "Epoch 101/150\n",
            "22/22 [==============================] - 0s 22ms/step - loss: 0.0011 - accuracy: 1.0000 - val_loss: 1.9861 - val_accuracy: 0.7248\n",
            "Epoch 102/150\n",
            "22/22 [==============================] - 0s 21ms/step - loss: 0.0011 - accuracy: 1.0000 - val_loss: 2.0308 - val_accuracy: 0.7248\n",
            "Epoch 103/150\n",
            "22/22 [==============================] - 0s 21ms/step - loss: 8.3822e-04 - accuracy: 1.0000 - val_loss: 2.0718 - val_accuracy: 0.7248\n",
            "Epoch 104/150\n",
            "22/22 [==============================] - 0s 22ms/step - loss: 0.0025 - accuracy: 1.0000 - val_loss: 2.1074 - val_accuracy: 0.7248\n",
            "Epoch 105/150\n",
            "22/22 [==============================] - 0s 22ms/step - loss: 0.0014 - accuracy: 1.0000 - val_loss: 2.1046 - val_accuracy: 0.7584\n",
            "Epoch 106/150\n",
            "22/22 [==============================] - 0s 22ms/step - loss: 0.0011 - accuracy: 1.0000 - val_loss: 2.1090 - val_accuracy: 0.7584\n",
            "Epoch 107/150\n",
            "22/22 [==============================] - 0s 22ms/step - loss: 8.8117e-04 - accuracy: 1.0000 - val_loss: 2.2221 - val_accuracy: 0.7248\n",
            "Epoch 108/150\n",
            "22/22 [==============================] - 0s 22ms/step - loss: 8.9701e-04 - accuracy: 1.0000 - val_loss: 2.2962 - val_accuracy: 0.7315\n",
            "Epoch 109/150\n",
            "22/22 [==============================] - 0s 22ms/step - loss: 0.0015 - accuracy: 1.0000 - val_loss: 2.4769 - val_accuracy: 0.7047\n",
            "Epoch 110/150\n",
            "22/22 [==============================] - 0s 22ms/step - loss: 2.8820e-04 - accuracy: 1.0000 - val_loss: 2.4874 - val_accuracy: 0.6913\n",
            "Epoch 111/150\n",
            "22/22 [==============================] - 0s 22ms/step - loss: 4.5592e-04 - accuracy: 1.0000 - val_loss: 2.3532 - val_accuracy: 0.7181\n",
            "Epoch 112/150\n",
            "22/22 [==============================] - 0s 22ms/step - loss: 5.1945e-04 - accuracy: 1.0000 - val_loss: 2.0946 - val_accuracy: 0.7517\n",
            "Epoch 113/150\n",
            "22/22 [==============================] - 0s 22ms/step - loss: 0.0074 - accuracy: 0.9971 - val_loss: 1.8832 - val_accuracy: 0.7450\n",
            "Epoch 114/150\n",
            "22/22 [==============================] - 0s 21ms/step - loss: 0.0214 - accuracy: 0.9913 - val_loss: 1.5873 - val_accuracy: 0.6309\n",
            "Epoch 115/150\n",
            "22/22 [==============================] - 0s 22ms/step - loss: 0.0137 - accuracy: 0.9942 - val_loss: 2.1855 - val_accuracy: 0.7181\n",
            "Epoch 116/150\n",
            "22/22 [==============================] - 0s 22ms/step - loss: 0.0150 - accuracy: 0.9971 - val_loss: 2.2990 - val_accuracy: 0.6443\n",
            "Epoch 117/150\n",
            "22/22 [==============================] - 0s 22ms/step - loss: 0.0386 - accuracy: 0.9855 - val_loss: 2.3347 - val_accuracy: 0.6644\n",
            "Epoch 118/150\n",
            "22/22 [==============================] - 0s 22ms/step - loss: 0.0139 - accuracy: 0.9942 - val_loss: 7.3225 - val_accuracy: 0.6174\n",
            "Epoch 119/150\n",
            "22/22 [==============================] - 0s 22ms/step - loss: 0.0460 - accuracy: 0.9855 - val_loss: 14.0524 - val_accuracy: 0.5906\n",
            "Epoch 120/150\n",
            "22/22 [==============================] - 0s 22ms/step - loss: 0.1121 - accuracy: 0.9653 - val_loss: 6.9534 - val_accuracy: 0.6577\n",
            "Epoch 121/150\n",
            "22/22 [==============================] - 0s 22ms/step - loss: 0.0600 - accuracy: 0.9798 - val_loss: 4.4363 - val_accuracy: 0.6040\n",
            "Epoch 122/150\n",
            "22/22 [==============================] - 0s 22ms/step - loss: 0.0157 - accuracy: 0.9971 - val_loss: 11.4399 - val_accuracy: 0.5906\n",
            "Epoch 123/150\n",
            "22/22 [==============================] - 0s 22ms/step - loss: 0.0598 - accuracy: 0.9942 - val_loss: 3.3409 - val_accuracy: 0.6174\n",
            "Epoch 124/150\n",
            "22/22 [==============================] - 0s 23ms/step - loss: 0.0301 - accuracy: 0.9855 - val_loss: 1.4361 - val_accuracy: 0.6779\n",
            "Epoch 125/150\n",
            "22/22 [==============================] - 0s 22ms/step - loss: 0.0194 - accuracy: 0.9913 - val_loss: 2.9778 - val_accuracy: 0.5973\n",
            "Epoch 126/150\n",
            "22/22 [==============================] - 0s 22ms/step - loss: 0.0527 - accuracy: 0.9769 - val_loss: 3.3174 - val_accuracy: 0.6779\n",
            "Epoch 127/150\n",
            "22/22 [==============================] - 0s 22ms/step - loss: 0.0186 - accuracy: 0.9942 - val_loss: 4.0492 - val_accuracy: 0.6980\n",
            "Epoch 128/150\n",
            "22/22 [==============================] - 0s 22ms/step - loss: 0.0076 - accuracy: 1.0000 - val_loss: 4.2103 - val_accuracy: 0.6711\n",
            "Epoch 129/150\n",
            "22/22 [==============================] - 0s 22ms/step - loss: 0.0018 - accuracy: 1.0000 - val_loss: 2.9910 - val_accuracy: 0.7315\n",
            "Epoch 130/150\n",
            "22/22 [==============================] - 1s 23ms/step - loss: 0.0093 - accuracy: 0.9971 - val_loss: 1.7010 - val_accuracy: 0.7047\n",
            "Epoch 131/150\n",
            "22/22 [==============================] - 0s 22ms/step - loss: 0.0084 - accuracy: 0.9971 - val_loss: 1.8522 - val_accuracy: 0.7181\n",
            "Epoch 132/150\n",
            "22/22 [==============================] - 0s 22ms/step - loss: 0.0075 - accuracy: 0.9971 - val_loss: 2.3790 - val_accuracy: 0.6510\n",
            "Epoch 133/150\n",
            "22/22 [==============================] - 0s 22ms/step - loss: 0.0030 - accuracy: 1.0000 - val_loss: 1.8243 - val_accuracy: 0.7114\n",
            "Epoch 134/150\n",
            "22/22 [==============================] - 0s 22ms/step - loss: 0.0013 - accuracy: 1.0000 - val_loss: 2.1818 - val_accuracy: 0.7450\n",
            "Epoch 135/150\n",
            "22/22 [==============================] - 0s 22ms/step - loss: 8.1214e-04 - accuracy: 1.0000 - val_loss: 2.1934 - val_accuracy: 0.7383\n",
            "Epoch 136/150\n",
            "22/22 [==============================] - 0s 22ms/step - loss: 2.6430e-04 - accuracy: 1.0000 - val_loss: 2.1872 - val_accuracy: 0.7315\n",
            "Epoch 137/150\n",
            "22/22 [==============================] - 0s 23ms/step - loss: 0.0805 - accuracy: 0.9798 - val_loss: 3.1839 - val_accuracy: 0.6846\n",
            "Epoch 138/150\n",
            "22/22 [==============================] - 0s 22ms/step - loss: 0.1225 - accuracy: 0.9798 - val_loss: 2.6633 - val_accuracy: 0.6443\n",
            "Epoch 139/150\n",
            "22/22 [==============================] - 1s 23ms/step - loss: 0.0609 - accuracy: 0.9798 - val_loss: 3.1930 - val_accuracy: 0.5906\n",
            "Epoch 140/150\n",
            "22/22 [==============================] - 0s 22ms/step - loss: 0.0291 - accuracy: 0.9913 - val_loss: 2.4715 - val_accuracy: 0.6309\n",
            "Epoch 141/150\n",
            "22/22 [==============================] - 0s 22ms/step - loss: 0.0298 - accuracy: 0.9884 - val_loss: 1.6622 - val_accuracy: 0.7383\n",
            "Epoch 142/150\n",
            "22/22 [==============================] - 0s 22ms/step - loss: 0.0118 - accuracy: 0.9971 - val_loss: 1.4818 - val_accuracy: 0.7181\n",
            "Epoch 143/150\n",
            "22/22 [==============================] - 0s 23ms/step - loss: 0.0061 - accuracy: 1.0000 - val_loss: 1.5117 - val_accuracy: 0.7450\n",
            "Epoch 144/150\n",
            "22/22 [==============================] - 0s 22ms/step - loss: 0.0019 - accuracy: 1.0000 - val_loss: 1.6301 - val_accuracy: 0.7383\n",
            "Epoch 145/150\n",
            "22/22 [==============================] - 0s 22ms/step - loss: 0.0018 - accuracy: 1.0000 - val_loss: 1.7092 - val_accuracy: 0.7181\n",
            "Epoch 146/150\n",
            "22/22 [==============================] - 0s 22ms/step - loss: 0.0015 - accuracy: 1.0000 - val_loss: 1.7576 - val_accuracy: 0.7248\n",
            "Epoch 147/150\n",
            "22/22 [==============================] - 0s 23ms/step - loss: 9.9311e-04 - accuracy: 1.0000 - val_loss: 1.9374 - val_accuracy: 0.7181\n",
            "Epoch 148/150\n",
            "22/22 [==============================] - 0s 22ms/step - loss: 0.0016 - accuracy: 1.0000 - val_loss: 2.2689 - val_accuracy: 0.6846\n",
            "Epoch 149/150\n",
            "22/22 [==============================] - 0s 23ms/step - loss: 0.0091 - accuracy: 0.9971 - val_loss: 2.9320 - val_accuracy: 0.7181\n",
            "Epoch 150/150\n",
            "22/22 [==============================] - 0s 23ms/step - loss: 0.0058 - accuracy: 0.9971 - val_loss: 2.6119 - val_accuracy: 0.7181\n"
          ],
          "name": "stdout"
        }
      ]
    },
    {
      "cell_type": "code",
      "metadata": {
        "colab": {
          "base_uri": "https://localhost:8080/",
          "height": 295
        },
        "id": "SKqzztQDpF01",
        "outputId": "5339f29e-543d-41dd-cb50-6932f68d2bbb"
      },
      "source": [
        "import os\n",
        "import seaborn as sns\n",
        "#plot the training and validation accuracy and loss at each epoch\n",
        "loss = history.history['loss']\n",
        "val_loss = history.history['val_loss']\n",
        "epochs = range(1, len(loss) + 1)\n",
        "plt.plot(epochs, loss, 'y', label='Training loss')\n",
        "plt.plot(epochs, val_loss, 'r', label='Validation loss')\n",
        "plt.title('Training and validation loss')\n",
        "plt.xlabel('Epochs')\n",
        "plt.ylabel('Loss')\n",
        "plt.legend()\n",
        "plt.show()"
      ],
      "execution_count": 69,
      "outputs": [
        {
          "output_type": "display_data",
          "data": {
            "image/png": "[encoded data removed]",
            "text/plain": [
              "<Figure size 432x288 with 1 Axes>"
            ]
          },
          "metadata": {
            "needs_background": "light"
          }
        }
      ]
    },
    {
      "cell_type": "code",
      "metadata": {
        "colab": {
          "base_uri": "https://localhost:8080/",
          "height": 295
        },
        "id": "9mpZlD41pF4A",
        "outputId": "6d3b5a3e-6a59-4fc0-bf1a-77a7dbfb5c0d"
      },
      "source": [
        "acc = history.history['accuracy']\n",
        "val_acc = history.history['val_accuracy']\n",
        "plt.plot(epochs, acc, 'y', label='Training acc')\n",
        "plt.plot(epochs, val_acc, 'r', label='Validation acc')\n",
        "plt.title('Training and validation accuracy')\n",
        "plt.xlabel('Epochs')\n",
        "plt.ylabel('Accuracy')\n",
        "plt.legend()\n",
        "plt.show()"
      ],
      "execution_count": 70,
      "outputs": [
        {
          "output_type": "display_data",
          "data": {
            "image/png": "[encoded data removed]",
            "text/plain": [
              "<Figure size 432x288 with 1 Axes>"
            ]
          },
          "metadata": {
            "needs_background": "light"
          }
        }
      ]
    },
    {
      "cell_type": "code",
      "metadata": {
        "colab": {
          "base_uri": "https://localhost:8080/",
          "height": 332
        },
        "id": "D-PzHWUjpF7H",
        "outputId": "5f20348a-5c3f-48ea-bdc0-b8e60ea1cccb"
      },
      "source": [
        "prediction_NN = model.predict(xTest11)\n",
        "prediction_NN = np.argmax(prediction_NN, axis=-1)\n",
        "#Print overall accuracy\n",
        "from sklearn import metrics\n",
        "print (\"Accuracy = \", metrics.accuracy_score(yTest1, prediction_NN))\n",
        "#Confusion Matrix - verify accuracy of each class\n",
        "from sklearn.metrics import confusion_matrix\n",
        "cm = confusion_matrix(yTest1, prediction_NN)\n",
        "print(cm)\n",
        "sns.heatmap(cm, annot=True)"
      ],
      "execution_count": 71,
      "outputs": [
        {
          "output_type": "stream",
          "text": [
            "Accuracy =  0.7181208053691275\n",
            "[[41 29]\n",
            " [13 66]]\n"
          ],
          "name": "stdout"
        },
        {
          "output_type": "execute_result",
          "data": {
            "text/plain": [
              "<matplotlib.axes._subplots.AxesSubplot at 0x7f9abd2e7a90>"
            ]
          },
          "metadata": {},
          "execution_count": 71
        },
        {
          "output_type": "display_data",
          "data": {
            "image/png": "[encoded data removed]",
            "text/plain": [
              "<Figure size 432x288 with 2 Axes>"
            ]
          },
          "metadata": {
            "needs_background": "light"
          }
        }
      ]
    },
    {
      "cell_type": "code",
      "metadata": {
        "colab": {
          "base_uri": "https://localhost:8080/"
        },
        "id": "kRN2ooNbfptj",
        "outputId": "6d628233-0120-460b-9b0e-754468f10aa8"
      },
      "source": [
        "from keras.callbacks import EarlyStopping\n",
        "#set early stopping monitor so the model stops training when it won't improve anymore\n",
        "early_stopping_monitor = EarlyStopping(patience=500)\n",
        "\n",
        "#train model\n",
        "history=model.fit(xTrain11, yTrain11, validation_data = (xTest11, yTest11), epochs=50, batch_size=16)\n"
      ],
      "execution_count": 72,
      "outputs": [
        {
          "output_type": "stream",
          "text": [
            "Epoch 1/50\n",
            "22/22 [==============================] - 1s 24ms/step - loss: 0.0376 - accuracy: 0.9855 - val_loss: 3.2545 - val_accuracy: 0.6779\n",
            "Epoch 2/50\n",
            "22/22 [==============================] - 0s 22ms/step - loss: 0.0135 - accuracy: 0.9942 - val_loss: 3.1606 - val_accuracy: 0.5973\n",
            "Epoch 3/50\n",
            "22/22 [==============================] - 0s 22ms/step - loss: 0.0034 - accuracy: 1.0000 - val_loss: 2.6247 - val_accuracy: 0.6174\n",
            "Epoch 4/50\n",
            "22/22 [==============================] - 0s 22ms/step - loss: 0.0016 - accuracy: 1.0000 - val_loss: 2.2627 - val_accuracy: 0.6913\n",
            "Epoch 5/50\n",
            "22/22 [==============================] - 1s 25ms/step - loss: 0.0011 - accuracy: 1.0000 - val_loss: 2.1850 - val_accuracy: 0.7047\n",
            "Epoch 6/50\n",
            "22/22 [==============================] - 0s 22ms/step - loss: 4.6494e-04 - accuracy: 1.0000 - val_loss: 2.0046 - val_accuracy: 0.7181\n",
            "Epoch 7/50\n",
            "22/22 [==============================] - 1s 25ms/step - loss: 7.4734e-04 - accuracy: 1.0000 - val_loss: 2.1737 - val_accuracy: 0.6980\n",
            "Epoch 8/50\n",
            "22/22 [==============================] - 0s 22ms/step - loss: 0.0085 - accuracy: 0.9971 - val_loss: 1.8617 - val_accuracy: 0.7315\n",
            "Epoch 9/50\n",
            "22/22 [==============================] - 0s 22ms/step - loss: 0.0058 - accuracy: 1.0000 - val_loss: 1.6506 - val_accuracy: 0.7450\n",
            "Epoch 10/50\n",
            "22/22 [==============================] - 1s 25ms/step - loss: 0.0027 - accuracy: 1.0000 - val_loss: 1.5287 - val_accuracy: 0.7517\n",
            "Epoch 11/50\n",
            "22/22 [==============================] - 0s 21ms/step - loss: 0.0018 - accuracy: 1.0000 - val_loss: 1.5539 - val_accuracy: 0.7383\n",
            "Epoch 12/50\n",
            "22/22 [==============================] - 0s 23ms/step - loss: 1.7756e-04 - accuracy: 1.0000 - val_loss: 1.6542 - val_accuracy: 0.7248\n",
            "Epoch 13/50\n",
            "22/22 [==============================] - 0s 22ms/step - loss: 2.0894e-04 - accuracy: 1.0000 - val_loss: 1.7277 - val_accuracy: 0.7248\n",
            "Epoch 14/50\n",
            "22/22 [==============================] - 0s 21ms/step - loss: 6.3047e-04 - accuracy: 1.0000 - val_loss: 1.7799 - val_accuracy: 0.7181\n",
            "Epoch 15/50\n",
            "22/22 [==============================] - 0s 21ms/step - loss: 6.6488e-04 - accuracy: 1.0000 - val_loss: 1.8950 - val_accuracy: 0.7181\n",
            "Epoch 16/50\n",
            "22/22 [==============================] - 0s 21ms/step - loss: 1.4465e-04 - accuracy: 1.0000 - val_loss: 1.9888 - val_accuracy: 0.7248\n",
            "Epoch 17/50\n",
            "22/22 [==============================] - 0s 21ms/step - loss: 1.4942e-04 - accuracy: 1.0000 - val_loss: 2.0539 - val_accuracy: 0.7315\n",
            "Epoch 18/50\n",
            "22/22 [==============================] - 0s 22ms/step - loss: 1.2441e-04 - accuracy: 1.0000 - val_loss: 2.1084 - val_accuracy: 0.7315\n",
            "Epoch 19/50\n",
            "22/22 [==============================] - 0s 21ms/step - loss: 1.6582e-04 - accuracy: 1.0000 - val_loss: 2.1295 - val_accuracy: 0.7450\n",
            "Epoch 20/50\n",
            "22/22 [==============================] - 0s 21ms/step - loss: 5.9457e-05 - accuracy: 1.0000 - val_loss: 2.1322 - val_accuracy: 0.7517\n",
            "Epoch 21/50\n",
            "22/22 [==============================] - 0s 22ms/step - loss: 1.3815e-04 - accuracy: 1.0000 - val_loss: 2.1404 - val_accuracy: 0.7517\n",
            "Epoch 22/50\n",
            "22/22 [==============================] - 0s 21ms/step - loss: 7.2176e-05 - accuracy: 1.0000 - val_loss: 2.1576 - val_accuracy: 0.7517\n",
            "Epoch 23/50\n",
            "22/22 [==============================] - 0s 21ms/step - loss: 4.4772e-04 - accuracy: 1.0000 - val_loss: 1.9654 - val_accuracy: 0.7315\n",
            "Epoch 24/50\n",
            "22/22 [==============================] - 1s 25ms/step - loss: 6.0707e-05 - accuracy: 1.0000 - val_loss: 1.9640 - val_accuracy: 0.7315\n",
            "Epoch 25/50\n",
            "22/22 [==============================] - 0s 22ms/step - loss: 7.3342e-05 - accuracy: 1.0000 - val_loss: 1.9824 - val_accuracy: 0.7315\n",
            "Epoch 26/50\n",
            "22/22 [==============================] - 0s 21ms/step - loss: 8.8683e-04 - accuracy: 1.0000 - val_loss: 2.2178 - val_accuracy: 0.6779\n",
            "Epoch 27/50\n",
            "22/22 [==============================] - 0s 21ms/step - loss: 4.8370e-04 - accuracy: 1.0000 - val_loss: 2.5101 - val_accuracy: 0.6711\n",
            "Epoch 28/50\n",
            "22/22 [==============================] - 0s 21ms/step - loss: 4.0710e-04 - accuracy: 1.0000 - val_loss: 2.3098 - val_accuracy: 0.6913\n",
            "Epoch 29/50\n",
            "22/22 [==============================] - 0s 21ms/step - loss: 1.1856e-04 - accuracy: 1.0000 - val_loss: 2.2449 - val_accuracy: 0.7315\n",
            "Epoch 30/50\n",
            "22/22 [==============================] - 0s 21ms/step - loss: 5.8248e-05 - accuracy: 1.0000 - val_loss: 2.2231 - val_accuracy: 0.7181\n",
            "Epoch 31/50\n",
            "22/22 [==============================] - 0s 21ms/step - loss: 2.8060e-05 - accuracy: 1.0000 - val_loss: 2.2065 - val_accuracy: 0.7248\n",
            "Epoch 32/50\n",
            "22/22 [==============================] - 0s 23ms/step - loss: 7.6456e-05 - accuracy: 1.0000 - val_loss: 2.2121 - val_accuracy: 0.7383\n",
            "Epoch 33/50\n",
            "22/22 [==============================] - 0s 21ms/step - loss: 4.5320e-05 - accuracy: 1.0000 - val_loss: 2.1897 - val_accuracy: 0.7315\n",
            "Epoch 34/50\n",
            "22/22 [==============================] - 0s 21ms/step - loss: 2.2791e-05 - accuracy: 1.0000 - val_loss: 2.1843 - val_accuracy: 0.7315\n",
            "Epoch 35/50\n",
            "22/22 [==============================] - 0s 22ms/step - loss: 2.7552e-05 - accuracy: 1.0000 - val_loss: 2.1906 - val_accuracy: 0.7315\n",
            "Epoch 36/50\n",
            "22/22 [==============================] - 0s 21ms/step - loss: 3.1650e-04 - accuracy: 1.0000 - val_loss: 2.2359 - val_accuracy: 0.7383\n",
            "Epoch 37/50\n",
            "22/22 [==============================] - 0s 21ms/step - loss: 3.6854e-05 - accuracy: 1.0000 - val_loss: 2.5384 - val_accuracy: 0.7181\n",
            "Epoch 38/50\n",
            "22/22 [==============================] - 0s 21ms/step - loss: 3.3670e-04 - accuracy: 1.0000 - val_loss: 2.4637 - val_accuracy: 0.7383\n",
            "Epoch 39/50\n",
            "22/22 [==============================] - 0s 21ms/step - loss: 1.9521e-04 - accuracy: 1.0000 - val_loss: 2.3084 - val_accuracy: 0.7383\n",
            "Epoch 40/50\n",
            "22/22 [==============================] - 0s 22ms/step - loss: 3.3775e-05 - accuracy: 1.0000 - val_loss: 2.3013 - val_accuracy: 0.7383\n",
            "Epoch 41/50\n",
            "22/22 [==============================] - 0s 21ms/step - loss: 7.2711e-05 - accuracy: 1.0000 - val_loss: 2.3567 - val_accuracy: 0.7517\n",
            "Epoch 42/50\n",
            "22/22 [==============================] - 0s 21ms/step - loss: 1.0094e-05 - accuracy: 1.0000 - val_loss: 2.3755 - val_accuracy: 0.7517\n",
            "Epoch 43/50\n",
            "22/22 [==============================] - 0s 22ms/step - loss: 1.4003e-04 - accuracy: 1.0000 - val_loss: 2.3754 - val_accuracy: 0.7450\n",
            "Epoch 44/50\n",
            "22/22 [==============================] - 0s 21ms/step - loss: 3.8821e-05 - accuracy: 1.0000 - val_loss: 2.3877 - val_accuracy: 0.7517\n",
            "Epoch 45/50\n",
            "22/22 [==============================] - 0s 21ms/step - loss: 6.3639e-05 - accuracy: 1.0000 - val_loss: 2.3872 - val_accuracy: 0.7450\n",
            "Epoch 46/50\n",
            "22/22 [==============================] - 0s 22ms/step - loss: 4.1893e-05 - accuracy: 1.0000 - val_loss: 2.3967 - val_accuracy: 0.7450\n",
            "Epoch 47/50\n",
            "22/22 [==============================] - 0s 21ms/step - loss: 2.5728e-05 - accuracy: 1.0000 - val_loss: 2.3960 - val_accuracy: 0.7450\n",
            "Epoch 48/50\n",
            "22/22 [==============================] - 0s 22ms/step - loss: 6.5352e-05 - accuracy: 1.0000 - val_loss: 2.3985 - val_accuracy: 0.7517\n",
            "Epoch 49/50\n",
            "22/22 [==============================] - 0s 22ms/step - loss: 2.0860e-05 - accuracy: 1.0000 - val_loss: 2.4097 - val_accuracy: 0.7450\n",
            "Epoch 50/50\n",
            "22/22 [==============================] - 0s 21ms/step - loss: 5.9836e-05 - accuracy: 1.0000 - val_loss: 2.4230 - val_accuracy: 0.7517\n"
          ],
          "name": "stdout"
        }
      ]
    },
    {
      "cell_type": "code",
      "metadata": {
        "colab": {
          "base_uri": "https://localhost:8080/",
          "height": 332
        },
        "id": "tPwbNe9QgPqb",
        "outputId": "159fa1a2-7090-4fd7-bbcb-3c6b2127886b"
      },
      "source": [
        "prediction_NN = model.predict(xTest11)\n",
        "prediction_NN = np.argmax(prediction_NN, axis=-1)\n",
        "#Print overall accuracy\n",
        "from sklearn import metrics\n",
        "print (\"Accuracy = \", metrics.accuracy_score(yTest1, prediction_NN))\n",
        "#Confusion Matrix - verify accuracy of each class\n",
        "from sklearn.metrics import confusion_matrix\n",
        "cm = confusion_matrix(yTest1, prediction_NN)\n",
        "print(cm)\n",
        "sns.heatmap(cm, annot=True)"
      ],
      "execution_count": 73,
      "outputs": [
        {
          "output_type": "stream",
          "text": [
            "Accuracy =  0.7516778523489933\n",
            "[[45 25]\n",
            " [12 67]]\n"
          ],
          "name": "stdout"
        },
        {
          "output_type": "execute_result",
          "data": {
            "text/plain": [
              "<matplotlib.axes._subplots.AxesSubplot at 0x7f9abc5cb750>"
            ]
          },
          "metadata": {},
          "execution_count": 73
        },
        {
          "output_type": "display_data",
          "data": {
            "image/png": "[encoded data removed]",
            "text/plain": [
              "<Figure size 432x288 with 2 Axes>"
            ]
          },
          "metadata": {
            "needs_background": "light"
          }
        }
      ]
    },
    {
      "cell_type": "code",
      "metadata": {
        "colab": {
          "base_uri": "https://localhost:8080/",
          "height": 1000
        },
        "id": "nF_cw4JwgWhO",
        "outputId": "d721fb54-5793-48c6-f637-f16260021c47"
      },
      "source": [
        "from keras.callbacks import EarlyStopping\n",
        "#set early stopping monitor so the model stops training when it won't improve anymore\n",
        "early_stopping_monitor = EarlyStopping(patience=500)\n",
        "\n",
        "#train model\n",
        "history=model.fit(xTrain11, yTrain11, validation_data = (xTest11, yTest11), epochs=50, batch_size=16)\n",
        "\n",
        "prediction_NN = model.predict(xTest11)\n",
        "prediction_NN = np.argmax(prediction_NN, axis=-1)\n",
        "#Print overall accuracy\n",
        "from sklearn import metrics\n",
        "print (\"Accuracy = \", metrics.accuracy_score(yTest1, prediction_NN))\n",
        "#Confusion Matrix - verify accuracy of each class\n",
        "from sklearn.metrics import confusion_matrix\n",
        "cm = confusion_matrix(yTest1, prediction_NN)\n",
        "print(cm)\n",
        "sns.heatmap(cm, annot=True)\n"
      ],
      "execution_count": 74,
      "outputs": [
        {
          "output_type": "stream",
          "text": [
            "Epoch 1/50\n",
            "22/22 [==============================] - 1s 27ms/step - loss: 1.9168e-05 - accuracy: 1.0000 - val_loss: 2.4254 - val_accuracy: 0.7517\n",
            "Epoch 2/50\n",
            "22/22 [==============================] - 0s 23ms/step - loss: 1.3881e-04 - accuracy: 1.0000 - val_loss: 2.3907 - val_accuracy: 0.7517\n",
            "Epoch 3/50\n",
            "22/22 [==============================] - 0s 21ms/step - loss: 2.8495e-05 - accuracy: 1.0000 - val_loss: 2.3895 - val_accuracy: 0.7517\n",
            "Epoch 4/50\n",
            "22/22 [==============================] - 1s 26ms/step - loss: 5.8836e-05 - accuracy: 1.0000 - val_loss: 2.4166 - val_accuracy: 0.7450\n",
            "Epoch 5/50\n",
            "22/22 [==============================] - 0s 22ms/step - loss: 2.6087e-05 - accuracy: 1.0000 - val_loss: 2.4272 - val_accuracy: 0.7517\n",
            "Epoch 6/50\n",
            "22/22 [==============================] - 0s 21ms/step - loss: 6.0063e-05 - accuracy: 1.0000 - val_loss: 2.4104 - val_accuracy: 0.7517\n",
            "Epoch 7/50\n",
            "22/22 [==============================] - 0s 22ms/step - loss: 1.6131e-05 - accuracy: 1.0000 - val_loss: 2.4110 - val_accuracy: 0.7517\n",
            "Epoch 8/50\n",
            "22/22 [==============================] - 0s 21ms/step - loss: 4.5738e-06 - accuracy: 1.0000 - val_loss: 2.4207 - val_accuracy: 0.7517\n",
            "Epoch 9/50\n",
            "22/22 [==============================] - 0s 21ms/step - loss: 2.3407e-05 - accuracy: 1.0000 - val_loss: 2.4459 - val_accuracy: 0.7450\n",
            "Epoch 10/50\n",
            "22/22 [==============================] - 0s 22ms/step - loss: 1.7570e-04 - accuracy: 1.0000 - val_loss: 2.4689 - val_accuracy: 0.7450\n",
            "Epoch 11/50\n",
            "22/22 [==============================] - 0s 23ms/step - loss: 1.4547e-04 - accuracy: 1.0000 - val_loss: 2.5190 - val_accuracy: 0.7584\n",
            "Epoch 12/50\n",
            "22/22 [==============================] - 0s 22ms/step - loss: 3.9722e-05 - accuracy: 1.0000 - val_loss: 2.5102 - val_accuracy: 0.7584\n",
            "Epoch 13/50\n",
            "22/22 [==============================] - 0s 22ms/step - loss: 1.0156e-05 - accuracy: 1.0000 - val_loss: 2.5115 - val_accuracy: 0.7584\n",
            "Epoch 14/50\n",
            "22/22 [==============================] - 0s 22ms/step - loss: 8.7557e-06 - accuracy: 1.0000 - val_loss: 2.5221 - val_accuracy: 0.7584\n",
            "Epoch 15/50\n",
            "22/22 [==============================] - 0s 22ms/step - loss: 1.0572e-05 - accuracy: 1.0000 - val_loss: 2.5287 - val_accuracy: 0.7584\n",
            "Epoch 16/50\n",
            "22/22 [==============================] - 0s 22ms/step - loss: 1.9473e-05 - accuracy: 1.0000 - val_loss: 2.5251 - val_accuracy: 0.7584\n",
            "Epoch 17/50\n",
            "22/22 [==============================] - 0s 22ms/step - loss: 1.3529e-05 - accuracy: 1.0000 - val_loss: 2.5166 - val_accuracy: 0.7584\n",
            "Epoch 18/50\n",
            "22/22 [==============================] - 0s 22ms/step - loss: 1.8414e-05 - accuracy: 1.0000 - val_loss: 2.5373 - val_accuracy: 0.7584\n",
            "Epoch 19/50\n",
            "22/22 [==============================] - 0s 22ms/step - loss: 1.6883e-05 - accuracy: 1.0000 - val_loss: 2.5384 - val_accuracy: 0.7584\n",
            "Epoch 20/50\n",
            "22/22 [==============================] - 0s 21ms/step - loss: 1.4634e-04 - accuracy: 1.0000 - val_loss: 2.3261 - val_accuracy: 0.7181\n",
            "Epoch 21/50\n",
            "22/22 [==============================] - 1s 26ms/step - loss: 1.2970e-05 - accuracy: 1.0000 - val_loss: 2.3137 - val_accuracy: 0.7181\n",
            "Epoch 22/50\n",
            "22/22 [==============================] - 0s 21ms/step - loss: 2.0026e-05 - accuracy: 1.0000 - val_loss: 2.3244 - val_accuracy: 0.7181\n",
            "Epoch 23/50\n",
            "22/22 [==============================] - 0s 20ms/step - loss: 4.6147e-05 - accuracy: 1.0000 - val_loss: 2.3250 - val_accuracy: 0.7181\n",
            "Epoch 24/50\n",
            "22/22 [==============================] - 0s 22ms/step - loss: 7.5148e-06 - accuracy: 1.0000 - val_loss: 2.3343 - val_accuracy: 0.7383\n",
            "Epoch 25/50\n",
            "22/22 [==============================] - 0s 22ms/step - loss: 1.2435e-05 - accuracy: 1.0000 - val_loss: 2.3370 - val_accuracy: 0.7383\n",
            "Epoch 26/50\n",
            "22/22 [==============================] - 0s 22ms/step - loss: 2.2848e-05 - accuracy: 1.0000 - val_loss: 2.3418 - val_accuracy: 0.7383\n",
            "Epoch 27/50\n",
            "22/22 [==============================] - 0s 22ms/step - loss: 4.0780e-05 - accuracy: 1.0000 - val_loss: 2.3570 - val_accuracy: 0.7450\n",
            "Epoch 28/50\n",
            "22/22 [==============================] - 0s 23ms/step - loss: 1.0098e-05 - accuracy: 1.0000 - val_loss: 2.3839 - val_accuracy: 0.7450\n",
            "Epoch 29/50\n",
            "22/22 [==============================] - 0s 22ms/step - loss: 6.8333e-06 - accuracy: 1.0000 - val_loss: 2.3874 - val_accuracy: 0.7450\n",
            "Epoch 30/50\n",
            "22/22 [==============================] - 0s 22ms/step - loss: 1.3656e-04 - accuracy: 1.0000 - val_loss: 2.4068 - val_accuracy: 0.7450\n",
            "Epoch 31/50\n",
            "22/22 [==============================] - 0s 22ms/step - loss: 7.2566e-06 - accuracy: 1.0000 - val_loss: 2.4429 - val_accuracy: 0.7315\n",
            "Epoch 32/50\n",
            "22/22 [==============================] - 0s 21ms/step - loss: 6.3591e-04 - accuracy: 1.0000 - val_loss: 3.4237 - val_accuracy: 0.7114\n",
            "Epoch 33/50\n",
            "22/22 [==============================] - 0s 21ms/step - loss: 3.5178e-05 - accuracy: 1.0000 - val_loss: 3.7444 - val_accuracy: 0.6846\n",
            "Epoch 34/50\n",
            "22/22 [==============================] - 0s 21ms/step - loss: 7.7337e-05 - accuracy: 1.0000 - val_loss: 3.5774 - val_accuracy: 0.7047\n",
            "Epoch 35/50\n",
            "22/22 [==============================] - 0s 21ms/step - loss: 7.8988e-05 - accuracy: 1.0000 - val_loss: 3.1903 - val_accuracy: 0.7315\n",
            "Epoch 36/50\n",
            "22/22 [==============================] - 0s 22ms/step - loss: 6.4663e-05 - accuracy: 1.0000 - val_loss: 3.0160 - val_accuracy: 0.7450\n",
            "Epoch 37/50\n",
            "22/22 [==============================] - 0s 21ms/step - loss: 5.3921e-06 - accuracy: 1.0000 - val_loss: 2.9307 - val_accuracy: 0.7450\n",
            "Epoch 38/50\n",
            "22/22 [==============================] - 0s 22ms/step - loss: 2.1751e-05 - accuracy: 1.0000 - val_loss: 2.8837 - val_accuracy: 0.7450\n",
            "Epoch 39/50\n",
            "22/22 [==============================] - 0s 22ms/step - loss: 1.4680e-04 - accuracy: 1.0000 - val_loss: 2.8701 - val_accuracy: 0.7517\n",
            "Epoch 40/50\n",
            "22/22 [==============================] - 0s 22ms/step - loss: 2.2797e-05 - accuracy: 1.0000 - val_loss: 2.8554 - val_accuracy: 0.7450\n",
            "Epoch 41/50\n",
            "22/22 [==============================] - 0s 22ms/step - loss: 3.2234e-05 - accuracy: 1.0000 - val_loss: 2.8440 - val_accuracy: 0.7383\n",
            "Epoch 42/50\n",
            "22/22 [==============================] - 0s 21ms/step - loss: 5.8954e-06 - accuracy: 1.0000 - val_loss: 2.8363 - val_accuracy: 0.7383\n",
            "Epoch 43/50\n",
            "22/22 [==============================] - 0s 22ms/step - loss: 2.6132e-05 - accuracy: 1.0000 - val_loss: 2.8428 - val_accuracy: 0.7383\n",
            "Epoch 44/50\n",
            "22/22 [==============================] - 0s 21ms/step - loss: 8.9315e-06 - accuracy: 1.0000 - val_loss: 2.8210 - val_accuracy: 0.7383\n",
            "Epoch 45/50\n",
            "22/22 [==============================] - 1s 26ms/step - loss: 6.7644e-06 - accuracy: 1.0000 - val_loss: 2.8209 - val_accuracy: 0.7383\n",
            "Epoch 46/50\n",
            "22/22 [==============================] - 0s 22ms/step - loss: 5.6008e-06 - accuracy: 1.0000 - val_loss: 2.8272 - val_accuracy: 0.7383\n",
            "Epoch 47/50\n",
            "22/22 [==============================] - 0s 22ms/step - loss: 2.5056e-05 - accuracy: 1.0000 - val_loss: 2.8155 - val_accuracy: 0.7383\n",
            "Epoch 48/50\n",
            "22/22 [==============================] - 0s 22ms/step - loss: 6.6743e-06 - accuracy: 1.0000 - val_loss: 2.8307 - val_accuracy: 0.7450\n",
            "Epoch 49/50\n",
            "22/22 [==============================] - 0s 22ms/step - loss: 3.4128e-06 - accuracy: 1.0000 - val_loss: 2.8262 - val_accuracy: 0.7383\n",
            "Epoch 50/50\n",
            "22/22 [==============================] - 0s 22ms/step - loss: 6.6817e-06 - accuracy: 1.0000 - val_loss: 2.8249 - val_accuracy: 0.7315\n",
            "Accuracy =  0.7315436241610739\n",
            "[[42 28]\n",
            " [12 67]]\n"
          ],
          "name": "stdout"
        },
        {
          "output_type": "execute_result",
          "data": {
            "text/plain": [
              "<matplotlib.axes._subplots.AxesSubplot at 0x7f9abcdbbf50>"
            ]
          },
          "metadata": {},
          "execution_count": 74
        },
        {
          "output_type": "display_data",
          "data": {
            "image/png": "[encoded data removed]",
            "text/plain": [
              "<Figure size 432x288 with 2 Axes>"
            ]
          },
          "metadata": {
            "needs_background": "light"
          }
        }
      ]
    },
    {
      "cell_type": "code",
      "metadata": {
        "id": "zF_XUwmMg2TP"
      },
      "source": [
        ""
      ],
      "execution_count": 63,
      "outputs": []
    }
  ]
}