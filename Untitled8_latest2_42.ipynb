{
  "nbformat": 4,
  "nbformat_minor": 0,
  "metadata": {
    "colab": {
      "name": "Untitled8.ipynb",
      "provenance": [],
      "include_colab_link": true
    },
    "kernelspec": {
      "name": "python3",
      "display_name": "Python 3"
    },
    "language_info": {
      "name": "python"
    },
    "accelerator": "GPU"
  },
  "cells": [
    {
      "cell_type": "markdown",
      "metadata": {
        "id": "view-in-github",
        "colab_type": "text"
      },
      "source": [
        "<a href=\"https://colab.research.google.com/github/rohitsubodh/GAN/blob/main/Untitled8_latest2_42.ipynb\" target=\"_parent\"><img src=\"https://colab.research.google.com/assets/colab-badge.svg\" alt=\"Open In Colab\"/></a>"
      ]
    },
    {
      "cell_type": "code",
      "metadata": {
        "id": "cMHBuO0wos-j"
      },
      "source": [
        "\n",
        "import tensorflow as tf\n",
        "import keras\n",
        "import numpy as np\n",
        "from keras import models\n",
        "from keras import layers\n",
        "from keras.wrappers.scikit_learn import KerasClassifier\n",
        "from sklearn.model_selection import cross_val_score\n",
        "from sklearn.datasets import make_classification\n",
        "from matplotlib import pyplot\n",
        "import numpy as np\n",
        "import matplotlib.pyplot as plt\n",
        "import pandas as pd\n",
        "from sklearn import preprocessing\n",
        "from keras.models import Sequential,Model\n",
        "from keras.layers import Dense, Dropout,Input\n",
        "from keras.layers import Embedding,LeakyReLU\n",
        "from keras.layers import Conv1D, GlobalAveragePooling1D, MaxPooling1D, Flatten, LocallyConnected1D, BatchNormalization\n",
        "import scipy.signal\n",
        "from sklearn.decomposition import PCA, KernelPCA"
      ],
      "execution_count": 1,
      "outputs": []
    },
    {
      "cell_type": "code",
      "metadata": {
        "id": "Hi8fcclmpFNY"
      },
      "source": [
        "data = pd.read_excel('/content/PPG_new.xlsx',sheet_name='0-1')\n",
        "target = pd.read_excel('/content/PPG_new.xlsx',sheet_name='target 0-1')"
      ],
      "execution_count": 2,
      "outputs": []
    },
    {
      "cell_type": "code",
      "metadata": {
        "colab": {
          "base_uri": "https://localhost:8080/"
        },
        "id": "mUhak2l_B-rq",
        "outputId": "2b5348f3-2406-4420-d16d-76a5b8084052"
      },
      "source": [
        "data.shape"
      ],
      "execution_count": 3,
      "outputs": [
        {
          "output_type": "execute_result",
          "data": {
            "text/plain": [
              "(495, 2100)"
            ]
          },
          "metadata": {},
          "execution_count": 3
        }
      ]
    },
    {
      "cell_type": "code",
      "metadata": {
        "colab": {
          "base_uri": "https://localhost:8080/",
          "height": 265
        },
        "id": "q1Q3Q3FepFW2",
        "outputId": "7697ab2c-ab6a-4e93-e9c3-76841a363459"
      },
      "source": [
        "x= data.iloc[0,:]\n",
        "plt.plot(x)\n",
        "plt.show\n",
        "data1=data"
      ],
      "execution_count": 4,
      "outputs": [
        {
          "output_type": "display_data",
          "data": {
            "image/png": "[encoded data removed]",
            "text/plain": [
              "<Figure size 432x288 with 1 Axes>"
            ]
          },
          "metadata": {
            "needs_background": "light"
          }
        }
      ]
    },
    {
      "cell_type": "code",
      "metadata": {
        "colab": {
          "base_uri": "https://localhost:8080/",
          "height": 282
        },
        "id": "SRcZU0-ppFaK",
        "outputId": "a9c688e8-a2e0-49a4-9298-5ef6d71b00da"
      },
      "source": [
        "# Applying median filter\n",
        "data=scipy.signal.medfilt(data)\n",
        "data\n",
        "x= data[0,:]\n",
        "plt.plot(x)\n",
        "plt.show"
      ],
      "execution_count": 5,
      "outputs": [
        {
          "output_type": "execute_result",
          "data": {
            "text/plain": [
              "<function matplotlib.pyplot.show>"
            ]
          },
          "metadata": {},
          "execution_count": 5
        },
        {
          "output_type": "display_data",
          "data": {
            "image/png": "[encoded data removed]",
            "text/plain": [
              "<Figure size 432x288 with 1 Axes>"
            ]
          },
          "metadata": {
            "needs_background": "light"
          }
        }
      ]
    },
    {
      "cell_type": "code",
      "metadata": {
        "colab": {
          "base_uri": "https://localhost:8080/"
        },
        "id": "Rr2cHwXGpFc9",
        "outputId": "569e4485-166e-4a24-aec5-867f6977b8ec"
      },
      "source": [
        "# Design of low pass chebyshev filter\n",
        "sos= scipy.signal.cheby2(4, 10, 25, 'low', fs=1000, output='sos')\n",
        "sos"
      ],
      "execution_count": 6,
      "outputs": [
        {
          "output_type": "execute_result",
          "data": {
            "text/plain": [
              "array([[ 0.26741176, -0.49141861,  0.26741176,  1.        , -1.6346899 ,\n",
              "         0.69069827],\n",
              "       [ 1.        , -1.97118242,  1.        ,  1.        , -1.92658177,\n",
              "         0.94891457]])"
            ]
          },
          "metadata": {},
          "execution_count": 6
        }
      ]
    },
    {
      "cell_type": "code",
      "metadata": {
        "colab": {
          "base_uri": "https://localhost:8080/",
          "height": 282
        },
        "id": "V2M-vdahpFfz",
        "outputId": "4ad690ad-d251-4753-fcf6-8461ab3c805e"
      },
      "source": [
        "data= scipy.signal.sosfilt(sos, data) # applying chebyshev filter\n",
        "x= data[0,:]\n",
        "plt.plot(x)\n",
        "plt.show"
      ],
      "execution_count": 7,
      "outputs": [
        {
          "output_type": "execute_result",
          "data": {
            "text/plain": [
              "<function matplotlib.pyplot.show>"
            ]
          },
          "metadata": {},
          "execution_count": 7
        },
        {
          "output_type": "display_data",
          "data": {
            "image/png": "[encoded data removed]",
            "text/plain": [
              "<Figure size 432x288 with 1 Axes>"
            ]
          },
          "metadata": {
            "needs_background": "light"
          }
        }
      ]
    },
    {
      "cell_type": "code",
      "metadata": {
        "colab": {
          "base_uri": "https://localhost:8080/",
          "height": 282
        },
        "id": "dbCRU494pFiq",
        "outputId": "ebabda60-41da-4dfe-c124-670a5bc07ce2"
      },
      "source": [
        "# Applying backward forward filter\n",
        "b, a = scipy.signal.butter(8, 0.125) # filter design\n",
        "\n",
        "data = scipy.signal.filtfilt(b, a, data, method=\"gust\")\n",
        "\n",
        "x= data[0,:]\n",
        "plt.plot(x)\n",
        "plt.show"
      ],
      "execution_count": 8,
      "outputs": [
        {
          "output_type": "execute_result",
          "data": {
            "text/plain": [
              "<function matplotlib.pyplot.show>"
            ]
          },
          "metadata": {},
          "execution_count": 8
        },
        {
          "output_type": "display_data",
          "data": {
            "image/png": "[encoded data removed]",
            "text/plain": [
              "<Figure size 432x288 with 1 Axes>"
            ]
          },
          "metadata": {
            "needs_background": "light"
          }
        }
      ]
    },
    {
      "cell_type": "code",
      "metadata": {
        "id": "Wp6SpBPGqCqY",
        "colab": {
          "base_uri": "https://localhost:8080/"
        },
        "outputId": "c454d0e8-0694-4e70-c624-843069de614a"
      },
      "source": [
        "data1=data\n",
        "kpca=KernelPCA(kernel=\"rbf\",fit_inverse_transform=True, gamma=10)\n",
        "data=kpca.fit_transform(data)\n",
        "data.shape"
      ],
      "execution_count": 9,
      "outputs": [
        {
          "output_type": "execute_result",
          "data": {
            "text/plain": [
              "(495, 494)"
            ]
          },
          "metadata": {},
          "execution_count": 9
        }
      ]
    },
    {
      "cell_type": "code",
      "metadata": {
        "colab": {
          "base_uri": "https://localhost:8080/",
          "height": 282
        },
        "id": "GWoHtut-eico",
        "outputId": "b3e74cde-25fe-4a16-f51e-a73ebca8f94c"
      },
      "source": [
        "x= data[0,:]\n",
        "plt.plot(x)\n",
        "plt.show"
      ],
      "execution_count": 10,
      "outputs": [
        {
          "output_type": "execute_result",
          "data": {
            "text/plain": [
              "<function matplotlib.pyplot.show>"
            ]
          },
          "metadata": {},
          "execution_count": 10
        },
        {
          "output_type": "display_data",
          "data": {
            "image/png": "[encoded data removed]",
            "text/plain": [
              "<Figure size 432x288 with 1 Axes>"
            ]
          },
          "metadata": {
            "needs_background": "light"
          }
        }
      ]
    },
    {
      "cell_type": "code",
      "metadata": {
        "id": "aT_bUQPBpFlu"
      },
      "source": [
        "from sklearn.model_selection import train_test_split\n",
        "xTrain1, xTest1, yTrain1, yTest1 = train_test_split(data, target, test_size = 0.3, random_state = 0)"
      ],
      "execution_count": 11,
      "outputs": []
    },
    {
      "cell_type": "code",
      "metadata": {
        "id": "K0ct8stEpFor"
      },
      "source": [
        "xTrain11 = np.expand_dims(xTrain1, axis=2)\n",
        "yTrain11 = tf.keras.utils.to_categorical(yTrain1, num_classes=2)\n",
        "xTest11 =  np.expand_dims(xTest1, axis=2)\n",
        "yTest11 = tf.keras.utils.to_categorical(yTest1, num_classes=2)"
      ],
      "execution_count": 12,
      "outputs": []
    },
    {
      "cell_type": "code",
      "metadata": {
        "id": "egKDUU6zpFr2"
      },
      "source": [
        "input_shape = (494, 1)\n"
      ],
      "execution_count": 13,
      "outputs": []
    },
    {
      "cell_type": "code",
      "metadata": {
        "id": "xJxQ1yvCpFur",
        "colab": {
          "base_uri": "https://localhost:8080/"
        },
        "outputId": "52e5c09c-3290-4007-a3cc-464330b7f208"
      },
      "source": [
        "\n",
        "#CNN Model\n",
        "\n",
        "model = Sequential()\n",
        "model.add(Conv1D(32, 3, activation='relu', input_shape=input_shape[0:]))\n",
        "model.add(BatchNormalization())\n",
        "model.add(LeakyReLU(alpha=0.1))\n",
        "model.add(Conv1D(64, 3, activation='relu', name=\"my_intermediate_layer\"))\n",
        "model.add(MaxPooling1D(3))\n",
        "model.add(BatchNormalization())\n",
        "model.add(LeakyReLU(alpha=0.1))\n",
        "model.add(Conv1D(128, 3, activation='relu'))\n",
        "model.add(BatchNormalization())\n",
        "model.add(LeakyReLU(alpha=0.1))\n",
        "model.add(Conv1D(256, 3, activation='relu'))\n",
        "model.add(GlobalAveragePooling1D())\n",
        "model.add(Dropout(0.5))\n",
        "model.add(Dense(100, name=\"dense\"))\n",
        "model.add(Dense(2, activation='softmax', name=\"dense1\"))\n",
        "model.compile(loss='categorical_crossentropy',\n",
        "                    optimizer='adam',\n",
        "                    metrics=['accuracy'])\n",
        "model.summary()"
      ],
      "execution_count": 14,
      "outputs": [
        {
          "output_type": "stream",
          "text": [
            "Model: \"sequential\"\n",
            "_________________________________________________________________\n",
            "Layer (type)                 Output Shape              Param #   \n",
            "=================================================================\n",
            "conv1d (Conv1D)              (None, 492, 32)           128       \n",
            "_________________________________________________________________\n",
            "batch_normalization (BatchNo (None, 492, 32)           128       \n",
            "_________________________________________________________________\n",
            "leaky_re_lu (LeakyReLU)      (None, 492, 32)           0         \n",
            "_________________________________________________________________\n",
            "my_intermediate_layer (Conv1 (None, 490, 64)           6208      \n",
            "_________________________________________________________________\n",
            "max_pooling1d (MaxPooling1D) (None, 163, 64)           0         \n",
            "_________________________________________________________________\n",
            "batch_normalization_1 (Batch (None, 163, 64)           256       \n",
            "_________________________________________________________________\n",
            "leaky_re_lu_1 (LeakyReLU)    (None, 163, 64)           0         \n",
            "_________________________________________________________________\n",
            "conv1d_1 (Conv1D)            (None, 161, 128)          24704     \n",
            "_________________________________________________________________\n",
            "batch_normalization_2 (Batch (None, 161, 128)          512       \n",
            "_________________________________________________________________\n",
            "leaky_re_lu_2 (LeakyReLU)    (None, 161, 128)          0         \n",
            "_________________________________________________________________\n",
            "conv1d_2 (Conv1D)            (None, 159, 256)          98560     \n",
            "_________________________________________________________________\n",
            "global_average_pooling1d (Gl (None, 256)               0         \n",
            "_________________________________________________________________\n",
            "dropout (Dropout)            (None, 256)               0         \n",
            "_________________________________________________________________\n",
            "dense (Dense)                (None, 100)               25700     \n",
            "_________________________________________________________________\n",
            "dense1 (Dense)               (None, 2)                 202       \n",
            "=================================================================\n",
            "Total params: 156,398\n",
            "Trainable params: 155,950\n",
            "Non-trainable params: 448\n",
            "_________________________________________________________________\n"
          ],
          "name": "stdout"
        }
      ]
    },
    {
      "cell_type": "code",
      "metadata": {
        "colab": {
          "base_uri": "https://localhost:8080/"
        },
        "id": "dpRAWw9cpFyD",
        "outputId": "70e05d2e-e2e2-4edc-a559-7dccf646b1e1"
      },
      "source": [
        "from keras.callbacks import EarlyStopping\n",
        "#set early stopping monitor so the model stops training when it won't improve anymore\n",
        "early_stopping_monitor = EarlyStopping(patience=500)\n",
        "\n",
        "#train model\n",
        "history=model.fit(xTrain11, yTrain11, validation_data = (xTest11, yTest11), epochs=150, batch_size=16)\n"
      ],
      "execution_count": 15,
      "outputs": [
        {
          "output_type": "stream",
          "text": [
            "Epoch 1/150\n",
            "22/22 [==============================] - 3s 35ms/step - loss: 0.7515 - accuracy: 0.6040 - val_loss: 0.6971 - val_accuracy: 0.4899\n",
            "Epoch 2/150\n",
            "22/22 [==============================] - 0s 15ms/step - loss: 0.6433 - accuracy: 0.6272 - val_loss: 0.7012 - val_accuracy: 0.4899\n",
            "Epoch 3/150\n",
            "22/22 [==============================] - 0s 16ms/step - loss: 0.6279 - accuracy: 0.6503 - val_loss: 0.7095 - val_accuracy: 0.4899\n",
            "Epoch 4/150\n",
            "22/22 [==============================] - 0s 15ms/step - loss: 0.6161 - accuracy: 0.6647 - val_loss: 0.7150 - val_accuracy: 0.4899\n",
            "Epoch 5/150\n",
            "22/22 [==============================] - 0s 15ms/step - loss: 0.5932 - accuracy: 0.6792 - val_loss: 0.7277 - val_accuracy: 0.4899\n",
            "Epoch 6/150\n",
            "22/22 [==============================] - 0s 15ms/step - loss: 0.5844 - accuracy: 0.6965 - val_loss: 0.7344 - val_accuracy: 0.4899\n",
            "Epoch 7/150\n",
            "22/22 [==============================] - 0s 15ms/step - loss: 0.5700 - accuracy: 0.7110 - val_loss: 0.7472 - val_accuracy: 0.4899\n",
            "Epoch 8/150\n",
            "22/22 [==============================] - 0s 15ms/step - loss: 0.5259 - accuracy: 0.7312 - val_loss: 0.7664 - val_accuracy: 0.4899\n",
            "Epoch 9/150\n",
            "22/22 [==============================] - 0s 14ms/step - loss: 0.5702 - accuracy: 0.7081 - val_loss: 0.7588 - val_accuracy: 0.4899\n",
            "Epoch 10/150\n",
            "22/22 [==============================] - 0s 15ms/step - loss: 0.5568 - accuracy: 0.7370 - val_loss: 0.7765 - val_accuracy: 0.4899\n",
            "Epoch 11/150\n",
            "22/22 [==============================] - 0s 14ms/step - loss: 0.5175 - accuracy: 0.7283 - val_loss: 0.7957 - val_accuracy: 0.4899\n",
            "Epoch 12/150\n",
            "22/22 [==============================] - 0s 15ms/step - loss: 0.5013 - accuracy: 0.7312 - val_loss: 0.8942 - val_accuracy: 0.4899\n",
            "Epoch 13/150\n",
            "22/22 [==============================] - 0s 14ms/step - loss: 0.5302 - accuracy: 0.7514 - val_loss: 0.9571 - val_accuracy: 0.4899\n",
            "Epoch 14/150\n",
            "22/22 [==============================] - 0s 14ms/step - loss: 0.5107 - accuracy: 0.7543 - val_loss: 0.9541 - val_accuracy: 0.4899\n",
            "Epoch 15/150\n",
            "22/22 [==============================] - 0s 16ms/step - loss: 0.4770 - accuracy: 0.7775 - val_loss: 0.9474 - val_accuracy: 0.4899\n",
            "Epoch 16/150\n",
            "22/22 [==============================] - 0s 14ms/step - loss: 0.5482 - accuracy: 0.7486 - val_loss: 0.9260 - val_accuracy: 0.4899\n",
            "Epoch 17/150\n",
            "22/22 [==============================] - 0s 15ms/step - loss: 0.4538 - accuracy: 0.7746 - val_loss: 0.9865 - val_accuracy: 0.4899\n",
            "Epoch 18/150\n",
            "22/22 [==============================] - 0s 15ms/step - loss: 0.3925 - accuracy: 0.8266 - val_loss: 1.2352 - val_accuracy: 0.4899\n",
            "Epoch 19/150\n",
            "22/22 [==============================] - 0s 15ms/step - loss: 0.3417 - accuracy: 0.8497 - val_loss: 1.4945 - val_accuracy: 0.4899\n",
            "Epoch 20/150\n",
            "22/22 [==============================] - 0s 16ms/step - loss: 0.3764 - accuracy: 0.8295 - val_loss: 1.4037 - val_accuracy: 0.4899\n",
            "Epoch 21/150\n",
            "22/22 [==============================] - 0s 14ms/step - loss: 0.3371 - accuracy: 0.8526 - val_loss: 1.2165 - val_accuracy: 0.4899\n",
            "Epoch 22/150\n",
            "22/22 [==============================] - 0s 15ms/step - loss: 0.3092 - accuracy: 0.8671 - val_loss: 0.9233 - val_accuracy: 0.5034\n",
            "Epoch 23/150\n",
            "22/22 [==============================] - 0s 15ms/step - loss: 0.2777 - accuracy: 0.8786 - val_loss: 0.7146 - val_accuracy: 0.5772\n",
            "Epoch 24/150\n",
            "22/22 [==============================] - 0s 14ms/step - loss: 0.2031 - accuracy: 0.9249 - val_loss: 1.6349 - val_accuracy: 0.5101\n",
            "Epoch 25/150\n",
            "22/22 [==============================] - 0s 15ms/step - loss: 0.2334 - accuracy: 0.8988 - val_loss: 0.8582 - val_accuracy: 0.6242\n",
            "Epoch 26/150\n",
            "22/22 [==============================] - 0s 14ms/step - loss: 0.1946 - accuracy: 0.9220 - val_loss: 1.1668 - val_accuracy: 0.5503\n",
            "Epoch 27/150\n",
            "22/22 [==============================] - 0s 14ms/step - loss: 0.1246 - accuracy: 0.9595 - val_loss: 2.1853 - val_accuracy: 0.4966\n",
            "Epoch 28/150\n",
            "22/22 [==============================] - 0s 14ms/step - loss: 0.1007 - accuracy: 0.9595 - val_loss: 0.8742 - val_accuracy: 0.6107\n",
            "Epoch 29/150\n",
            "22/22 [==============================] - 0s 14ms/step - loss: 0.1090 - accuracy: 0.9595 - val_loss: 1.3461 - val_accuracy: 0.5906\n",
            "Epoch 30/150\n",
            "22/22 [==============================] - 0s 15ms/step - loss: 0.1328 - accuracy: 0.9566 - val_loss: 0.8134 - val_accuracy: 0.6644\n",
            "Epoch 31/150\n",
            "22/22 [==============================] - 0s 14ms/step - loss: 0.1163 - accuracy: 0.9566 - val_loss: 3.4622 - val_accuracy: 0.5302\n",
            "Epoch 32/150\n",
            "22/22 [==============================] - 0s 14ms/step - loss: 0.1776 - accuracy: 0.9306 - val_loss: 11.2235 - val_accuracy: 0.4899\n",
            "Epoch 33/150\n",
            "22/22 [==============================] - 0s 15ms/step - loss: 0.1321 - accuracy: 0.9451 - val_loss: 2.2955 - val_accuracy: 0.6711\n",
            "Epoch 34/150\n",
            "22/22 [==============================] - 0s 14ms/step - loss: 0.1231 - accuracy: 0.9422 - val_loss: 6.8051 - val_accuracy: 0.5570\n",
            "Epoch 35/150\n",
            "22/22 [==============================] - 0s 14ms/step - loss: 0.0825 - accuracy: 0.9740 - val_loss: 2.0731 - val_accuracy: 0.6577\n",
            "Epoch 36/150\n",
            "22/22 [==============================] - 0s 16ms/step - loss: 0.0443 - accuracy: 0.9884 - val_loss: 1.6384 - val_accuracy: 0.6577\n",
            "Epoch 37/150\n",
            "22/22 [==============================] - 0s 15ms/step - loss: 0.0424 - accuracy: 0.9855 - val_loss: 2.5629 - val_accuracy: 0.5772\n",
            "Epoch 38/150\n",
            "22/22 [==============================] - 0s 14ms/step - loss: 0.0488 - accuracy: 0.9884 - val_loss: 1.0589 - val_accuracy: 0.6644\n",
            "Epoch 39/150\n",
            "22/22 [==============================] - 0s 14ms/step - loss: 0.0194 - accuracy: 0.9971 - val_loss: 2.0807 - val_accuracy: 0.5570\n",
            "Epoch 40/150\n",
            "22/22 [==============================] - 0s 16ms/step - loss: 0.0215 - accuracy: 0.9942 - val_loss: 1.1862 - val_accuracy: 0.7047\n",
            "Epoch 41/150\n",
            "22/22 [==============================] - 0s 14ms/step - loss: 0.0207 - accuracy: 0.9884 - val_loss: 1.9506 - val_accuracy: 0.6980\n",
            "Epoch 42/150\n",
            "22/22 [==============================] - 0s 14ms/step - loss: 0.0322 - accuracy: 0.9884 - val_loss: 1.5939 - val_accuracy: 0.6913\n",
            "Epoch 43/150\n",
            "22/22 [==============================] - 0s 15ms/step - loss: 0.0220 - accuracy: 0.9942 - val_loss: 4.7939 - val_accuracy: 0.5570\n",
            "Epoch 44/150\n",
            "22/22 [==============================] - 0s 14ms/step - loss: 0.0180 - accuracy: 0.9942 - val_loss: 1.5506 - val_accuracy: 0.6309\n",
            "Epoch 45/150\n",
            "22/22 [==============================] - 0s 14ms/step - loss: 0.0144 - accuracy: 0.9942 - val_loss: 2.2826 - val_accuracy: 0.6644\n",
            "Epoch 46/150\n",
            "22/22 [==============================] - 0s 14ms/step - loss: 0.0325 - accuracy: 0.9855 - val_loss: 2.7652 - val_accuracy: 0.5503\n",
            "Epoch 47/150\n",
            "22/22 [==============================] - 0s 15ms/step - loss: 0.1030 - accuracy: 0.9711 - val_loss: 2.5202 - val_accuracy: 0.6779\n",
            "Epoch 48/150\n",
            "22/22 [==============================] - 0s 14ms/step - loss: 0.0900 - accuracy: 0.9682 - val_loss: 2.4748 - val_accuracy: 0.6577\n",
            "Epoch 49/150\n",
            "22/22 [==============================] - 0s 16ms/step - loss: 0.1545 - accuracy: 0.9306 - val_loss: 2.1593 - val_accuracy: 0.5570\n",
            "Epoch 50/150\n",
            "22/22 [==============================] - 0s 14ms/step - loss: 0.1350 - accuracy: 0.9480 - val_loss: 9.6645 - val_accuracy: 0.5839\n",
            "Epoch 51/150\n",
            "22/22 [==============================] - 0s 16ms/step - loss: 0.0928 - accuracy: 0.9740 - val_loss: 5.8055 - val_accuracy: 0.5705\n",
            "Epoch 52/150\n",
            "22/22 [==============================] - 0s 16ms/step - loss: 0.0284 - accuracy: 0.9913 - val_loss: 2.5179 - val_accuracy: 0.6242\n",
            "Epoch 53/150\n",
            "22/22 [==============================] - 0s 14ms/step - loss: 0.0165 - accuracy: 1.0000 - val_loss: 1.8690 - val_accuracy: 0.7047\n",
            "Epoch 54/150\n",
            "22/22 [==============================] - 0s 15ms/step - loss: 0.0087 - accuracy: 0.9971 - val_loss: 3.1095 - val_accuracy: 0.6309\n",
            "Epoch 55/150\n",
            "22/22 [==============================] - 0s 14ms/step - loss: 0.0095 - accuracy: 1.0000 - val_loss: 1.7670 - val_accuracy: 0.6846\n",
            "Epoch 56/150\n",
            "22/22 [==============================] - 0s 14ms/step - loss: 0.0073 - accuracy: 1.0000 - val_loss: 3.2321 - val_accuracy: 0.6644\n",
            "Epoch 57/150\n",
            "22/22 [==============================] - 0s 15ms/step - loss: 0.0058 - accuracy: 1.0000 - val_loss: 3.8700 - val_accuracy: 0.6711\n",
            "Epoch 58/150\n",
            "22/22 [==============================] - 0s 15ms/step - loss: 0.0024 - accuracy: 1.0000 - val_loss: 3.0767 - val_accuracy: 0.6577\n",
            "Epoch 59/150\n",
            "22/22 [==============================] - 0s 14ms/step - loss: 0.0026 - accuracy: 1.0000 - val_loss: 2.3974 - val_accuracy: 0.6779\n",
            "Epoch 60/150\n",
            "22/22 [==============================] - 0s 15ms/step - loss: 0.0034 - accuracy: 1.0000 - val_loss: 2.0478 - val_accuracy: 0.6779\n",
            "Epoch 61/150\n",
            "22/22 [==============================] - 0s 15ms/step - loss: 0.0021 - accuracy: 1.0000 - val_loss: 1.9145 - val_accuracy: 0.6846\n",
            "Epoch 62/150\n",
            "22/22 [==============================] - 0s 14ms/step - loss: 0.0024 - accuracy: 1.0000 - val_loss: 1.7569 - val_accuracy: 0.7114\n",
            "Epoch 63/150\n",
            "22/22 [==============================] - 0s 15ms/step - loss: 0.0039 - accuracy: 1.0000 - val_loss: 1.6879 - val_accuracy: 0.7181\n",
            "Epoch 64/150\n",
            "22/22 [==============================] - 0s 15ms/step - loss: 0.0044 - accuracy: 1.0000 - val_loss: 1.8708 - val_accuracy: 0.7584\n",
            "Epoch 65/150\n",
            "22/22 [==============================] - 0s 15ms/step - loss: 0.0041 - accuracy: 1.0000 - val_loss: 2.3593 - val_accuracy: 0.6711\n",
            "Epoch 66/150\n",
            "22/22 [==============================] - 0s 15ms/step - loss: 0.0025 - accuracy: 1.0000 - val_loss: 2.1155 - val_accuracy: 0.7047\n",
            "Epoch 67/150\n",
            "22/22 [==============================] - 0s 14ms/step - loss: 0.0062 - accuracy: 0.9971 - val_loss: 3.0993 - val_accuracy: 0.6577\n",
            "Epoch 68/150\n",
            "22/22 [==============================] - 0s 15ms/step - loss: 0.0052 - accuracy: 1.0000 - val_loss: 2.7965 - val_accuracy: 0.7315\n",
            "Epoch 69/150\n",
            "22/22 [==============================] - 0s 15ms/step - loss: 0.0206 - accuracy: 0.9884 - val_loss: 1.2335 - val_accuracy: 0.6242\n",
            "Epoch 70/150\n",
            "22/22 [==============================] - 0s 15ms/step - loss: 0.0769 - accuracy: 0.9769 - val_loss: 3.1441 - val_accuracy: 0.6376\n",
            "Epoch 71/150\n",
            "22/22 [==============================] - 0s 14ms/step - loss: 0.1333 - accuracy: 0.9538 - val_loss: 2.8378 - val_accuracy: 0.6846\n",
            "Epoch 72/150\n",
            "22/22 [==============================] - 0s 15ms/step - loss: 0.0680 - accuracy: 0.9711 - val_loss: 4.2888 - val_accuracy: 0.6443\n",
            "Epoch 73/150\n",
            "22/22 [==============================] - 0s 14ms/step - loss: 0.0284 - accuracy: 0.9913 - val_loss: 4.0856 - val_accuracy: 0.6443\n",
            "Epoch 74/150\n",
            "22/22 [==============================] - 0s 15ms/step - loss: 0.1395 - accuracy: 0.9509 - val_loss: 5.1624 - val_accuracy: 0.6443\n",
            "Epoch 75/150\n",
            "22/22 [==============================] - 0s 15ms/step - loss: 0.1107 - accuracy: 0.9653 - val_loss: 7.8905 - val_accuracy: 0.5973\n",
            "Epoch 76/150\n",
            "22/22 [==============================] - 0s 14ms/step - loss: 0.0386 - accuracy: 0.9827 - val_loss: 8.8914 - val_accuracy: 0.6107\n",
            "Epoch 77/150\n",
            "22/22 [==============================] - 0s 15ms/step - loss: 0.0183 - accuracy: 0.9913 - val_loss: 4.6742 - val_accuracy: 0.6510\n",
            "Epoch 78/150\n",
            "22/22 [==============================] - 0s 15ms/step - loss: 0.0158 - accuracy: 1.0000 - val_loss: 4.0199 - val_accuracy: 0.6376\n",
            "Epoch 79/150\n",
            "22/22 [==============================] - 0s 15ms/step - loss: 0.0253 - accuracy: 0.9913 - val_loss: 1.7136 - val_accuracy: 0.7450\n",
            "Epoch 80/150\n",
            "22/22 [==============================] - 0s 14ms/step - loss: 0.0163 - accuracy: 0.9942 - val_loss: 3.0216 - val_accuracy: 0.7047\n",
            "Epoch 81/150\n",
            "22/22 [==============================] - 0s 15ms/step - loss: 0.0064 - accuracy: 1.0000 - val_loss: 2.3966 - val_accuracy: 0.6913\n",
            "Epoch 82/150\n",
            "22/22 [==============================] - 0s 15ms/step - loss: 0.0245 - accuracy: 0.9942 - val_loss: 2.4193 - val_accuracy: 0.5705\n",
            "Epoch 83/150\n",
            "22/22 [==============================] - 0s 16ms/step - loss: 0.0052 - accuracy: 1.0000 - val_loss: 1.8617 - val_accuracy: 0.6644\n",
            "Epoch 84/150\n",
            "22/22 [==============================] - 0s 16ms/step - loss: 0.0211 - accuracy: 0.9913 - val_loss: 1.8412 - val_accuracy: 0.6309\n",
            "Epoch 85/150\n",
            "22/22 [==============================] - 0s 14ms/step - loss: 0.0066 - accuracy: 0.9971 - val_loss: 2.2882 - val_accuracy: 0.7047\n",
            "Epoch 86/150\n",
            "22/22 [==============================] - 0s 15ms/step - loss: 0.0063 - accuracy: 1.0000 - val_loss: 2.3601 - val_accuracy: 0.7181\n",
            "Epoch 87/150\n",
            "22/22 [==============================] - 0s 14ms/step - loss: 0.0110 - accuracy: 0.9971 - val_loss: 1.7296 - val_accuracy: 0.6913\n",
            "Epoch 88/150\n",
            "22/22 [==============================] - 0s 15ms/step - loss: 0.0145 - accuracy: 0.9942 - val_loss: 4.0548 - val_accuracy: 0.6980\n",
            "Epoch 89/150\n",
            "22/22 [==============================] - 0s 15ms/step - loss: 0.0136 - accuracy: 0.9913 - val_loss: 2.9646 - val_accuracy: 0.6980\n",
            "Epoch 90/150\n",
            "22/22 [==============================] - 0s 14ms/step - loss: 0.0100 - accuracy: 0.9971 - val_loss: 2.7077 - val_accuracy: 0.6443\n",
            "Epoch 91/150\n",
            "22/22 [==============================] - 0s 15ms/step - loss: 0.0035 - accuracy: 1.0000 - val_loss: 3.6644 - val_accuracy: 0.6376\n",
            "Epoch 92/150\n",
            "22/22 [==============================] - 0s 17ms/step - loss: 0.0026 - accuracy: 1.0000 - val_loss: 4.6126 - val_accuracy: 0.6510\n",
            "Epoch 93/150\n",
            "22/22 [==============================] - 0s 16ms/step - loss: 0.0030 - accuracy: 1.0000 - val_loss: 5.4919 - val_accuracy: 0.6443\n",
            "Epoch 94/150\n",
            "22/22 [==============================] - 0s 15ms/step - loss: 0.0033 - accuracy: 1.0000 - val_loss: 2.2074 - val_accuracy: 0.7248\n",
            "Epoch 95/150\n",
            "22/22 [==============================] - 0s 17ms/step - loss: 0.0021 - accuracy: 1.0000 - val_loss: 1.9023 - val_accuracy: 0.7248\n",
            "Epoch 96/150\n",
            "22/22 [==============================] - 0s 16ms/step - loss: 0.0017 - accuracy: 1.0000 - val_loss: 2.0851 - val_accuracy: 0.7114\n",
            "Epoch 97/150\n",
            "22/22 [==============================] - 0s 15ms/step - loss: 0.0149 - accuracy: 0.9942 - val_loss: 10.6080 - val_accuracy: 0.5235\n",
            "Epoch 98/150\n",
            "22/22 [==============================] - 0s 16ms/step - loss: 0.0215 - accuracy: 0.9971 - val_loss: 3.9278 - val_accuracy: 0.6711\n",
            "Epoch 99/150\n",
            "22/22 [==============================] - 0s 15ms/step - loss: 0.0207 - accuracy: 0.9942 - val_loss: 1.7908 - val_accuracy: 0.6779\n",
            "Epoch 100/150\n",
            "22/22 [==============================] - 0s 16ms/step - loss: 0.0021 - accuracy: 1.0000 - val_loss: 1.2658 - val_accuracy: 0.7047\n",
            "Epoch 101/150\n",
            "22/22 [==============================] - 0s 15ms/step - loss: 0.0032 - accuracy: 1.0000 - val_loss: 1.4484 - val_accuracy: 0.6980\n",
            "Epoch 102/150\n",
            "22/22 [==============================] - 0s 16ms/step - loss: 0.0092 - accuracy: 0.9971 - val_loss: 2.0102 - val_accuracy: 0.6711\n",
            "Epoch 103/150\n",
            "22/22 [==============================] - 0s 16ms/step - loss: 0.0665 - accuracy: 0.9855 - val_loss: 11.0564 - val_accuracy: 0.6107\n",
            "Epoch 104/150\n",
            "22/22 [==============================] - 0s 16ms/step - loss: 0.0758 - accuracy: 0.9827 - val_loss: 6.2566 - val_accuracy: 0.5235\n",
            "Epoch 105/150\n",
            "22/22 [==============================] - 0s 14ms/step - loss: 0.0545 - accuracy: 0.9769 - val_loss: 5.3231 - val_accuracy: 0.6510\n",
            "Epoch 106/150\n",
            "22/22 [==============================] - 0s 16ms/step - loss: 0.0283 - accuracy: 0.9884 - val_loss: 4.7345 - val_accuracy: 0.6711\n",
            "Epoch 107/150\n",
            "22/22 [==============================] - 0s 14ms/step - loss: 0.0235 - accuracy: 0.9942 - val_loss: 8.6281 - val_accuracy: 0.6376\n",
            "Epoch 108/150\n",
            "22/22 [==============================] - 0s 16ms/step - loss: 0.0045 - accuracy: 1.0000 - val_loss: 6.6375 - val_accuracy: 0.6711\n",
            "Epoch 109/150\n",
            "22/22 [==============================] - 0s 15ms/step - loss: 0.0217 - accuracy: 0.9942 - val_loss: 2.7411 - val_accuracy: 0.6510\n",
            "Epoch 110/150\n",
            "22/22 [==============================] - 0s 15ms/step - loss: 0.0410 - accuracy: 0.9827 - val_loss: 2.6547 - val_accuracy: 0.6644\n",
            "Epoch 111/150\n",
            "22/22 [==============================] - 0s 15ms/step - loss: 0.0574 - accuracy: 0.9798 - val_loss: 3.2967 - val_accuracy: 0.6846\n",
            "Epoch 112/150\n",
            "22/22 [==============================] - 0s 16ms/step - loss: 0.0260 - accuracy: 0.9913 - val_loss: 6.8402 - val_accuracy: 0.6376\n",
            "Epoch 113/150\n",
            "22/22 [==============================] - 0s 15ms/step - loss: 0.0093 - accuracy: 1.0000 - val_loss: 6.1265 - val_accuracy: 0.6779\n",
            "Epoch 114/150\n",
            "22/22 [==============================] - 0s 15ms/step - loss: 0.0111 - accuracy: 0.9971 - val_loss: 5.1908 - val_accuracy: 0.6309\n",
            "Epoch 115/150\n",
            "22/22 [==============================] - 0s 16ms/step - loss: 0.0036 - accuracy: 1.0000 - val_loss: 2.5534 - val_accuracy: 0.6779\n",
            "Epoch 116/150\n",
            "22/22 [==============================] - 0s 14ms/step - loss: 0.0043 - accuracy: 1.0000 - val_loss: 2.1642 - val_accuracy: 0.6846\n",
            "Epoch 117/150\n",
            "22/22 [==============================] - 0s 15ms/step - loss: 0.0022 - accuracy: 1.0000 - val_loss: 1.9144 - val_accuracy: 0.6980\n",
            "Epoch 118/150\n",
            "22/22 [==============================] - 0s 16ms/step - loss: 0.0019 - accuracy: 1.0000 - val_loss: 2.0069 - val_accuracy: 0.6711\n",
            "Epoch 119/150\n",
            "22/22 [==============================] - 0s 15ms/step - loss: 0.0111 - accuracy: 0.9913 - val_loss: 3.3273 - val_accuracy: 0.6644\n",
            "Epoch 120/150\n",
            "22/22 [==============================] - 0s 15ms/step - loss: 0.0392 - accuracy: 0.9884 - val_loss: 14.2085 - val_accuracy: 0.5570\n",
            "Epoch 121/150\n",
            "22/22 [==============================] - 0s 15ms/step - loss: 0.0196 - accuracy: 0.9942 - val_loss: 3.4129 - val_accuracy: 0.6644\n",
            "Epoch 122/150\n",
            "22/22 [==============================] - 0s 15ms/step - loss: 0.0093 - accuracy: 0.9971 - val_loss: 3.2709 - val_accuracy: 0.6644\n",
            "Epoch 123/150\n",
            "22/22 [==============================] - 0s 15ms/step - loss: 0.0113 - accuracy: 0.9971 - val_loss: 4.8615 - val_accuracy: 0.6309\n",
            "Epoch 124/150\n",
            "22/22 [==============================] - 0s 16ms/step - loss: 0.0469 - accuracy: 0.9855 - val_loss: 8.7026 - val_accuracy: 0.6107\n",
            "Epoch 125/150\n",
            "22/22 [==============================] - 0s 16ms/step - loss: 0.0545 - accuracy: 0.9769 - val_loss: 12.8298 - val_accuracy: 0.5973\n",
            "Epoch 126/150\n",
            "22/22 [==============================] - 0s 15ms/step - loss: 0.0505 - accuracy: 0.9711 - val_loss: 3.3692 - val_accuracy: 0.6644\n",
            "Epoch 127/150\n",
            "22/22 [==============================] - 0s 15ms/step - loss: 0.0475 - accuracy: 0.9769 - val_loss: 2.5866 - val_accuracy: 0.6577\n",
            "Epoch 128/150\n",
            "22/22 [==============================] - 0s 15ms/step - loss: 0.1794 - accuracy: 0.9451 - val_loss: 5.3749 - val_accuracy: 0.6309\n",
            "Epoch 129/150\n",
            "22/22 [==============================] - 0s 16ms/step - loss: 0.0804 - accuracy: 0.9769 - val_loss: 5.2301 - val_accuracy: 0.6174\n",
            "Epoch 130/150\n",
            "22/22 [==============================] - 0s 15ms/step - loss: 0.0411 - accuracy: 0.9855 - val_loss: 1.5369 - val_accuracy: 0.6644\n",
            "Epoch 131/150\n",
            "22/22 [==============================] - 0s 14ms/step - loss: 0.0157 - accuracy: 0.9971 - val_loss: 2.1894 - val_accuracy: 0.6644\n",
            "Epoch 132/150\n",
            "22/22 [==============================] - 0s 16ms/step - loss: 0.0144 - accuracy: 0.9942 - val_loss: 2.9035 - val_accuracy: 0.6644\n",
            "Epoch 133/150\n",
            "22/22 [==============================] - 0s 15ms/step - loss: 0.0078 - accuracy: 0.9971 - val_loss: 4.5125 - val_accuracy: 0.6846\n",
            "Epoch 134/150\n",
            "22/22 [==============================] - 0s 16ms/step - loss: 0.0021 - accuracy: 1.0000 - val_loss: 3.8223 - val_accuracy: 0.6913\n",
            "Epoch 135/150\n",
            "22/22 [==============================] - 0s 15ms/step - loss: 0.0016 - accuracy: 1.0000 - val_loss: 3.3837 - val_accuracy: 0.6980\n",
            "Epoch 136/150\n",
            "22/22 [==============================] - 0s 16ms/step - loss: 0.0171 - accuracy: 0.9913 - val_loss: 2.0011 - val_accuracy: 0.6913\n",
            "Epoch 137/150\n",
            "22/22 [==============================] - 0s 15ms/step - loss: 0.0233 - accuracy: 0.9942 - val_loss: 2.5896 - val_accuracy: 0.6644\n",
            "Epoch 138/150\n",
            "22/22 [==============================] - 0s 16ms/step - loss: 0.0188 - accuracy: 0.9942 - val_loss: 2.5348 - val_accuracy: 0.6711\n",
            "Epoch 139/150\n",
            "22/22 [==============================] - 0s 16ms/step - loss: 0.0190 - accuracy: 0.9913 - val_loss: 2.5890 - val_accuracy: 0.6779\n",
            "Epoch 140/150\n",
            "22/22 [==============================] - 0s 16ms/step - loss: 0.0313 - accuracy: 0.9884 - val_loss: 8.4164 - val_accuracy: 0.6711\n",
            "Epoch 141/150\n",
            "22/22 [==============================] - 0s 15ms/step - loss: 0.0059 - accuracy: 1.0000 - val_loss: 6.5565 - val_accuracy: 0.6577\n",
            "Epoch 142/150\n",
            "22/22 [==============================] - 0s 17ms/step - loss: 0.0148 - accuracy: 0.9971 - val_loss: 9.7019 - val_accuracy: 0.5906\n",
            "Epoch 143/150\n",
            "22/22 [==============================] - 0s 15ms/step - loss: 0.0090 - accuracy: 0.9971 - val_loss: 3.4723 - val_accuracy: 0.6376\n",
            "Epoch 144/150\n",
            "22/22 [==============================] - 0s 16ms/step - loss: 0.0041 - accuracy: 0.9971 - val_loss: 2.8809 - val_accuracy: 0.6711\n",
            "Epoch 145/150\n",
            "22/22 [==============================] - 0s 15ms/step - loss: 0.0071 - accuracy: 0.9971 - val_loss: 2.6239 - val_accuracy: 0.7114\n",
            "Epoch 146/150\n",
            "22/22 [==============================] - 0s 15ms/step - loss: 0.0114 - accuracy: 0.9942 - val_loss: 1.6448 - val_accuracy: 0.7248\n",
            "Epoch 147/150\n",
            "22/22 [==============================] - 0s 15ms/step - loss: 0.0102 - accuracy: 0.9971 - val_loss: 2.1363 - val_accuracy: 0.6980\n",
            "Epoch 148/150\n",
            "22/22 [==============================] - 0s 15ms/step - loss: 0.0310 - accuracy: 0.9913 - val_loss: 1.8620 - val_accuracy: 0.7114\n",
            "Epoch 149/150\n",
            "22/22 [==============================] - 0s 14ms/step - loss: 0.0194 - accuracy: 0.9942 - val_loss: 9.8825 - val_accuracy: 0.6174\n",
            "Epoch 150/150\n",
            "22/22 [==============================] - 0s 15ms/step - loss: 0.0075 - accuracy: 0.9971 - val_loss: 5.9571 - val_accuracy: 0.6779\n"
          ],
          "name": "stdout"
        }
      ]
    },
    {
      "cell_type": "code",
      "metadata": {
        "colab": {
          "base_uri": "https://localhost:8080/",
          "height": 295
        },
        "id": "SKqzztQDpF01",
        "outputId": "affcdb24-9d58-4d4c-91c9-091c1cf02121"
      },
      "source": [
        "import os\n",
        "import seaborn as sns\n",
        "#plot the training and validation accuracy and loss at each epoch\n",
        "loss = history.history['loss']\n",
        "val_loss = history.history['val_loss']\n",
        "epochs = range(1, len(loss) + 1)\n",
        "plt.plot(epochs, loss, 'y', label='Training loss')\n",
        "plt.plot(epochs, val_loss, 'r', label='Validation loss')\n",
        "plt.title('Training and validation loss')\n",
        "plt.xlabel('Epochs')\n",
        "plt.ylabel('Loss')\n",
        "plt.legend()\n",
        "plt.show()"
      ],
      "execution_count": 16,
      "outputs": [
        {
          "output_type": "display_data",
          "data": {
            "image/png": "[encoded data removed]",
            "text/plain": [
              "<Figure size 432x288 with 1 Axes>"
            ]
          },
          "metadata": {
            "needs_background": "light"
          }
        }
      ]
    },
    {
      "cell_type": "code",
      "metadata": {
        "colab": {
          "base_uri": "https://localhost:8080/",
          "height": 295
        },
        "id": "9mpZlD41pF4A",
        "outputId": "94cdc03f-4540-4f20-9c36-1aa4747eaebd"
      },
      "source": [
        "acc = history.history['accuracy']\n",
        "val_acc = history.history['val_accuracy']\n",
        "plt.plot(epochs, acc, 'y', label='Training acc')\n",
        "plt.plot(epochs, val_acc, 'r', label='Validation acc')\n",
        "plt.title('Training and validation accuracy')\n",
        "plt.xlabel('Epochs')\n",
        "plt.ylabel('Accuracy')\n",
        "plt.legend()\n",
        "plt.show()"
      ],
      "execution_count": 17,
      "outputs": [
        {
          "output_type": "display_data",
          "data": {
            "image/png": "[encoded data removed]",
            "text/plain": [
              "<Figure size 432x288 with 1 Axes>"
            ]
          },
          "metadata": {
            "needs_background": "light"
          }
        }
      ]
    },
    {
      "cell_type": "code",
      "metadata": {
        "colab": {
          "base_uri": "https://localhost:8080/",
          "height": 332
        },
        "id": "D-PzHWUjpF7H",
        "outputId": "56d0a02e-ff15-4c2e-ff3b-4e4bb0c62e67"
      },
      "source": [
        "prediction_NN = model.predict(xTest11)\n",
        "prediction_NN = np.argmax(prediction_NN, axis=-1)\n",
        "#Print overall accuracy\n",
        "from sklearn import metrics\n",
        "print (\"Accuracy = \", metrics.accuracy_score(yTest1, prediction_NN))\n",
        "#Confusion Matrix - verify accuracy of each class\n",
        "from sklearn.metrics import confusion_matrix\n",
        "cm = confusion_matrix(yTest1, prediction_NN)\n",
        "print(cm)\n",
        "sns.heatmap(cm, annot=True)"
      ],
      "execution_count": 18,
      "outputs": [
        {
          "output_type": "stream",
          "text": [
            "Accuracy =  0.6778523489932886\n",
            "[[63 10]\n",
            " [38 38]]\n"
          ],
          "name": "stdout"
        },
        {
          "output_type": "execute_result",
          "data": {
            "text/plain": [
              "<matplotlib.axes._subplots.AxesSubplot at 0x7f9abc871b90>"
            ]
          },
          "metadata": {},
          "execution_count": 18
        },
        {
          "output_type": "display_data",
          "data": {
            "image/png": "[encoded data removed]",
            "text/plain": [
              "<Figure size 432x288 with 2 Axes>"
            ]
          },
          "metadata": {
            "needs_background": "light"
          }
        }
      ]
    },
    {
      "cell_type": "code",
      "metadata": {
        "colab": {
          "base_uri": "https://localhost:8080/"
        },
        "id": "kRN2ooNbfptj",
        "outputId": "5a0ba488-f297-4dc7-a172-d2698eca2ea5"
      },
      "source": [
        "from keras.callbacks import EarlyStopping\n",
        "#set early stopping monitor so the model stops training when it won't improve anymore\n",
        "early_stopping_monitor = EarlyStopping(patience=500)\n",
        "\n",
        "#train model\n",
        "history=model.fit(xTrain11, yTrain11, validation_data = (xTest11, yTest11), epochs=50, batch_size=16)\n"
      ],
      "execution_count": 19,
      "outputs": [
        {
          "output_type": "stream",
          "text": [
            "Epoch 1/50\n",
            "22/22 [==============================] - 0s 17ms/step - loss: 0.0011 - accuracy: 1.0000 - val_loss: 4.9045 - val_accuracy: 0.6644\n",
            "Epoch 2/50\n",
            "22/22 [==============================] - 0s 16ms/step - loss: 0.0016 - accuracy: 1.0000 - val_loss: 4.1586 - val_accuracy: 0.6779\n",
            "Epoch 3/50\n",
            "22/22 [==============================] - 0s 16ms/step - loss: 6.6389e-04 - accuracy: 1.0000 - val_loss: 3.9646 - val_accuracy: 0.6644\n",
            "Epoch 4/50\n",
            "22/22 [==============================] - 0s 15ms/step - loss: 2.7284e-04 - accuracy: 1.0000 - val_loss: 3.3011 - val_accuracy: 0.7047\n",
            "Epoch 5/50\n",
            "22/22 [==============================] - 0s 16ms/step - loss: 2.3299e-04 - accuracy: 1.0000 - val_loss: 2.9431 - val_accuracy: 0.7315\n",
            "Epoch 6/50\n",
            "22/22 [==============================] - 0s 16ms/step - loss: 4.2765e-04 - accuracy: 1.0000 - val_loss: 2.6127 - val_accuracy: 0.7181\n",
            "Epoch 7/50\n",
            "22/22 [==============================] - 0s 15ms/step - loss: 0.0017 - accuracy: 1.0000 - val_loss: 2.3792 - val_accuracy: 0.7114\n",
            "Epoch 8/50\n",
            "22/22 [==============================] - 0s 14ms/step - loss: 0.0017 - accuracy: 1.0000 - val_loss: 2.4778 - val_accuracy: 0.7248\n",
            "Epoch 9/50\n",
            "22/22 [==============================] - 0s 15ms/step - loss: 2.6297e-04 - accuracy: 1.0000 - val_loss: 2.8434 - val_accuracy: 0.7047\n",
            "Epoch 10/50\n",
            "22/22 [==============================] - 0s 14ms/step - loss: 4.4173e-04 - accuracy: 1.0000 - val_loss: 2.5357 - val_accuracy: 0.7248\n",
            "Epoch 11/50\n",
            "22/22 [==============================] - 0s 15ms/step - loss: 0.0307 - accuracy: 0.9942 - val_loss: 13.5629 - val_accuracy: 0.5235\n",
            "Epoch 12/50\n",
            "22/22 [==============================] - 0s 14ms/step - loss: 0.0156 - accuracy: 0.9971 - val_loss: 6.6459 - val_accuracy: 0.6913\n",
            "Epoch 13/50\n",
            "22/22 [==============================] - 0s 14ms/step - loss: 0.0262 - accuracy: 0.9942 - val_loss: 10.2961 - val_accuracy: 0.6510\n",
            "Epoch 14/50\n",
            "22/22 [==============================] - 0s 15ms/step - loss: 0.0251 - accuracy: 0.9971 - val_loss: 4.9048 - val_accuracy: 0.6577\n",
            "Epoch 15/50\n",
            "22/22 [==============================] - 0s 15ms/step - loss: 0.0096 - accuracy: 0.9971 - val_loss: 1.9082 - val_accuracy: 0.6913\n",
            "Epoch 16/50\n",
            "22/22 [==============================] - 0s 16ms/step - loss: 0.0164 - accuracy: 0.9942 - val_loss: 3.7095 - val_accuracy: 0.7047\n",
            "Epoch 17/50\n",
            "22/22 [==============================] - 0s 14ms/step - loss: 0.0037 - accuracy: 1.0000 - val_loss: 3.5615 - val_accuracy: 0.6846\n",
            "Epoch 18/50\n",
            "22/22 [==============================] - 0s 14ms/step - loss: 0.0067 - accuracy: 0.9971 - val_loss: 2.5703 - val_accuracy: 0.6711\n",
            "Epoch 19/50\n",
            "22/22 [==============================] - 0s 15ms/step - loss: 0.0049 - accuracy: 1.0000 - val_loss: 5.0325 - val_accuracy: 0.6644\n",
            "Epoch 20/50\n",
            "22/22 [==============================] - 0s 15ms/step - loss: 8.3609e-04 - accuracy: 1.0000 - val_loss: 4.0490 - val_accuracy: 0.6577\n",
            "Epoch 21/50\n",
            "22/22 [==============================] - 0s 14ms/step - loss: 0.0061 - accuracy: 0.9942 - val_loss: 2.0097 - val_accuracy: 0.7315\n",
            "Epoch 22/50\n",
            "22/22 [==============================] - 0s 14ms/step - loss: 0.0100 - accuracy: 0.9971 - val_loss: 2.7344 - val_accuracy: 0.6309\n",
            "Epoch 23/50\n",
            "22/22 [==============================] - 0s 15ms/step - loss: 0.0134 - accuracy: 0.9971 - val_loss: 2.2965 - val_accuracy: 0.7383\n",
            "Epoch 24/50\n",
            "22/22 [==============================] - 0s 14ms/step - loss: 0.0073 - accuracy: 0.9971 - val_loss: 5.6285 - val_accuracy: 0.6779\n",
            "Epoch 25/50\n",
            "22/22 [==============================] - 0s 14ms/step - loss: 0.0105 - accuracy: 0.9942 - val_loss: 2.3451 - val_accuracy: 0.6980\n",
            "Epoch 26/50\n",
            "22/22 [==============================] - 0s 13ms/step - loss: 0.0030 - accuracy: 1.0000 - val_loss: 3.0817 - val_accuracy: 0.6779\n",
            "Epoch 27/50\n",
            "22/22 [==============================] - 0s 15ms/step - loss: 7.0925e-04 - accuracy: 1.0000 - val_loss: 3.0740 - val_accuracy: 0.6913\n",
            "Epoch 28/50\n",
            "22/22 [==============================] - 0s 14ms/step - loss: 8.3546e-04 - accuracy: 1.0000 - val_loss: 3.2126 - val_accuracy: 0.6846\n",
            "Epoch 29/50\n",
            "22/22 [==============================] - 0s 14ms/step - loss: 3.2457e-04 - accuracy: 1.0000 - val_loss: 2.9552 - val_accuracy: 0.6779\n",
            "Epoch 30/50\n",
            "22/22 [==============================] - 0s 15ms/step - loss: 0.0100 - accuracy: 0.9971 - val_loss: 2.3167 - val_accuracy: 0.6846\n",
            "Epoch 31/50\n",
            "22/22 [==============================] - 0s 15ms/step - loss: 0.0015 - accuracy: 1.0000 - val_loss: 2.3012 - val_accuracy: 0.6846\n",
            "Epoch 32/50\n",
            "22/22 [==============================] - 0s 14ms/step - loss: 0.0105 - accuracy: 0.9971 - val_loss: 3.4442 - val_accuracy: 0.6711\n",
            "Epoch 33/50\n",
            "22/22 [==============================] - 0s 14ms/step - loss: 0.0611 - accuracy: 0.9798 - val_loss: 4.4781 - val_accuracy: 0.6980\n",
            "Epoch 34/50\n",
            "22/22 [==============================] - 0s 15ms/step - loss: 0.1901 - accuracy: 0.9451 - val_loss: 33.5523 - val_accuracy: 0.5101\n",
            "Epoch 35/50\n",
            "22/22 [==============================] - 0s 15ms/step - loss: 0.0312 - accuracy: 0.9971 - val_loss: 12.0973 - val_accuracy: 0.5168\n",
            "Epoch 36/50\n",
            "22/22 [==============================] - 0s 14ms/step - loss: 0.0217 - accuracy: 0.9884 - val_loss: 3.7782 - val_accuracy: 0.5973\n",
            "Epoch 37/50\n",
            "22/22 [==============================] - 0s 14ms/step - loss: 0.0078 - accuracy: 0.9971 - val_loss: 4.4407 - val_accuracy: 0.6577\n",
            "Epoch 38/50\n",
            "22/22 [==============================] - 0s 14ms/step - loss: 0.0060 - accuracy: 0.9971 - val_loss: 2.9301 - val_accuracy: 0.7047\n",
            "Epoch 39/50\n",
            "22/22 [==============================] - 0s 15ms/step - loss: 0.0081 - accuracy: 0.9971 - val_loss: 2.3240 - val_accuracy: 0.7584\n",
            "Epoch 40/50\n",
            "22/22 [==============================] - 0s 15ms/step - loss: 0.0022 - accuracy: 1.0000 - val_loss: 2.1174 - val_accuracy: 0.7517\n",
            "Epoch 41/50\n",
            "22/22 [==============================] - 0s 14ms/step - loss: 0.0020 - accuracy: 1.0000 - val_loss: 1.8658 - val_accuracy: 0.7181\n",
            "Epoch 42/50\n",
            "22/22 [==============================] - 0s 14ms/step - loss: 0.0029 - accuracy: 1.0000 - val_loss: 2.0515 - val_accuracy: 0.7584\n",
            "Epoch 43/50\n",
            "22/22 [==============================] - 0s 15ms/step - loss: 0.0172 - accuracy: 0.9971 - val_loss: 5.8713 - val_accuracy: 0.6510\n",
            "Epoch 44/50\n",
            "22/22 [==============================] - 0s 16ms/step - loss: 0.0278 - accuracy: 0.9884 - val_loss: 1.9925 - val_accuracy: 0.7047\n",
            "Epoch 45/50\n",
            "22/22 [==============================] - 0s 14ms/step - loss: 0.0374 - accuracy: 0.9827 - val_loss: 2.4155 - val_accuracy: 0.6913\n",
            "Epoch 46/50\n",
            "22/22 [==============================] - 0s 15ms/step - loss: 0.0218 - accuracy: 0.9913 - val_loss: 5.4925 - val_accuracy: 0.5570\n",
            "Epoch 47/50\n",
            "22/22 [==============================] - 0s 15ms/step - loss: 0.0276 - accuracy: 0.9942 - val_loss: 12.9915 - val_accuracy: 0.4899\n",
            "Epoch 48/50\n",
            "22/22 [==============================] - 0s 14ms/step - loss: 0.0419 - accuracy: 0.9827 - val_loss: 6.9554 - val_accuracy: 0.5906\n",
            "Epoch 49/50\n",
            "22/22 [==============================] - 0s 14ms/step - loss: 0.0306 - accuracy: 0.9884 - val_loss: 2.6462 - val_accuracy: 0.7047\n",
            "Epoch 50/50\n",
            "22/22 [==============================] - 0s 14ms/step - loss: 0.0274 - accuracy: 0.9913 - val_loss: 2.8806 - val_accuracy: 0.6443\n"
          ],
          "name": "stdout"
        }
      ]
    },
    {
      "cell_type": "code",
      "metadata": {
        "colab": {
          "base_uri": "https://localhost:8080/",
          "height": 332
        },
        "id": "tPwbNe9QgPqb",
        "outputId": "3fea92ae-f2b2-49d4-e305-ac080528f4ca"
      },
      "source": [
        "prediction_NN = model.predict(xTest11)\n",
        "prediction_NN = np.argmax(prediction_NN, axis=-1)\n",
        "#Print overall accuracy\n",
        "from sklearn import metrics\n",
        "print (\"Accuracy = \", metrics.accuracy_score(yTest1, prediction_NN))\n",
        "#Confusion Matrix - verify accuracy of each class\n",
        "from sklearn.metrics import confusion_matrix\n",
        "cm = confusion_matrix(yTest1, prediction_NN)\n",
        "print(cm)\n",
        "sns.heatmap(cm, annot=True)"
      ],
      "execution_count": 20,
      "outputs": [
        {
          "output_type": "stream",
          "text": [
            "Accuracy =  0.6442953020134228\n",
            "[[23 50]\n",
            " [ 3 73]]\n"
          ],
          "name": "stdout"
        },
        {
          "output_type": "execute_result",
          "data": {
            "text/plain": [
              "<matplotlib.axes._subplots.AxesSubplot at 0x7f9abca24490>"
            ]
          },
          "metadata": {},
          "execution_count": 20
        },
        {
          "output_type": "display_data",
          "data": {
            "image/png": "[encoded data removed]",
            "text/plain": [
              "<Figure size 432x288 with 2 Axes>"
            ]
          },
          "metadata": {
            "needs_background": "light"
          }
        }
      ]
    },
    {
      "cell_type": "code",
      "metadata": {
        "colab": {
          "base_uri": "https://localhost:8080/",
          "height": 1000
        },
        "id": "nF_cw4JwgWhO",
        "outputId": "c2dada3c-0f32-4536-fdce-75a8d70f3e9a"
      },
      "source": [
        "from keras.callbacks import EarlyStopping\n",
        "#set early stopping monitor so the model stops training when it won't improve anymore\n",
        "early_stopping_monitor = EarlyStopping(patience=500)\n",
        "\n",
        "#train model\n",
        "history=model.fit(xTrain11, yTrain11, validation_data = (xTest11, yTest11), epochs=50, batch_size=16)\n",
        "\n",
        "prediction_NN = model.predict(xTest11)\n",
        "prediction_NN = np.argmax(prediction_NN, axis=-1)\n",
        "#Print overall accuracy\n",
        "from sklearn import metrics\n",
        "print (\"Accuracy = \", metrics.accuracy_score(yTest1, prediction_NN))\n",
        "#Confusion Matrix - verify accuracy of each class\n",
        "from sklearn.metrics import confusion_matrix\n",
        "cm = confusion_matrix(yTest1, prediction_NN)\n",
        "print(cm)\n",
        "sns.heatmap(cm, annot=True)\n"
      ],
      "execution_count": 21,
      "outputs": [
        {
          "output_type": "stream",
          "text": [
            "Epoch 1/50\n",
            "22/22 [==============================] - 0s 16ms/step - loss: 0.0052 - accuracy: 1.0000 - val_loss: 2.1857 - val_accuracy: 0.6577\n",
            "Epoch 2/50\n",
            "22/22 [==============================] - 0s 14ms/step - loss: 0.0052 - accuracy: 1.0000 - val_loss: 2.3374 - val_accuracy: 0.6443\n",
            "Epoch 3/50\n",
            "22/22 [==============================] - 0s 14ms/step - loss: 0.0018 - accuracy: 1.0000 - val_loss: 2.1376 - val_accuracy: 0.6711\n",
            "Epoch 4/50\n",
            "22/22 [==============================] - 0s 15ms/step - loss: 6.4753e-04 - accuracy: 1.0000 - val_loss: 1.8965 - val_accuracy: 0.6846\n",
            "Epoch 5/50\n",
            "22/22 [==============================] - 0s 14ms/step - loss: 6.5188e-04 - accuracy: 1.0000 - val_loss: 1.9377 - val_accuracy: 0.6779\n",
            "Epoch 6/50\n",
            "22/22 [==============================] - 0s 15ms/step - loss: 0.0078 - accuracy: 0.9971 - val_loss: 2.7059 - val_accuracy: 0.6711\n",
            "Epoch 7/50\n",
            "22/22 [==============================] - 0s 13ms/step - loss: 0.0290 - accuracy: 0.9913 - val_loss: 1.0591 - val_accuracy: 0.7383\n",
            "Epoch 8/50\n",
            "22/22 [==============================] - 0s 16ms/step - loss: 0.0060 - accuracy: 0.9971 - val_loss: 1.4334 - val_accuracy: 0.6913\n",
            "Epoch 9/50\n",
            "22/22 [==============================] - 0s 14ms/step - loss: 0.0136 - accuracy: 0.9942 - val_loss: 11.1246 - val_accuracy: 0.6309\n",
            "Epoch 10/50\n",
            "22/22 [==============================] - 0s 14ms/step - loss: 0.0010 - accuracy: 1.0000 - val_loss: 8.8774 - val_accuracy: 0.6376\n",
            "Epoch 11/50\n",
            "22/22 [==============================] - 0s 15ms/step - loss: 0.0028 - accuracy: 0.9971 - val_loss: 6.4905 - val_accuracy: 0.6711\n",
            "Epoch 12/50\n",
            "22/22 [==============================] - 0s 14ms/step - loss: 3.6140e-04 - accuracy: 1.0000 - val_loss: 4.1717 - val_accuracy: 0.6913\n",
            "Epoch 13/50\n",
            "22/22 [==============================] - 0s 14ms/step - loss: 4.9178e-04 - accuracy: 1.0000 - val_loss: 2.9073 - val_accuracy: 0.7114\n",
            "Epoch 14/50\n",
            "22/22 [==============================] - 0s 13ms/step - loss: 6.3132e-04 - accuracy: 1.0000 - val_loss: 2.4615 - val_accuracy: 0.7181\n",
            "Epoch 15/50\n",
            "22/22 [==============================] - 0s 15ms/step - loss: 4.5866e-04 - accuracy: 1.0000 - val_loss: 2.3480 - val_accuracy: 0.7181\n",
            "Epoch 16/50\n",
            "22/22 [==============================] - 0s 15ms/step - loss: 2.0063e-04 - accuracy: 1.0000 - val_loss: 2.2547 - val_accuracy: 0.7114\n",
            "Epoch 17/50\n",
            "22/22 [==============================] - 0s 15ms/step - loss: 1.1907e-04 - accuracy: 1.0000 - val_loss: 2.1704 - val_accuracy: 0.7181\n",
            "Epoch 18/50\n",
            "22/22 [==============================] - 0s 14ms/step - loss: 2.6632e-04 - accuracy: 1.0000 - val_loss: 2.1343 - val_accuracy: 0.7047\n",
            "Epoch 19/50\n",
            "22/22 [==============================] - 0s 15ms/step - loss: 0.0055 - accuracy: 0.9942 - val_loss: 1.8989 - val_accuracy: 0.7383\n",
            "Epoch 20/50\n",
            "22/22 [==============================] - 0s 14ms/step - loss: 0.0047 - accuracy: 0.9971 - val_loss: 2.1424 - val_accuracy: 0.7248\n",
            "Epoch 21/50\n",
            "22/22 [==============================] - 0s 15ms/step - loss: 0.0019 - accuracy: 1.0000 - val_loss: 2.3968 - val_accuracy: 0.7450\n",
            "Epoch 22/50\n",
            "22/22 [==============================] - 0s 15ms/step - loss: 5.2390e-04 - accuracy: 1.0000 - val_loss: 2.4779 - val_accuracy: 0.7383\n",
            "Epoch 23/50\n",
            "22/22 [==============================] - 0s 14ms/step - loss: 8.2229e-04 - accuracy: 1.0000 - val_loss: 2.6925 - val_accuracy: 0.7047\n",
            "Epoch 24/50\n",
            "22/22 [==============================] - 0s 16ms/step - loss: 2.6376e-04 - accuracy: 1.0000 - val_loss: 2.8311 - val_accuracy: 0.7047\n",
            "Epoch 25/50\n",
            "22/22 [==============================] - 0s 15ms/step - loss: 3.2385e-04 - accuracy: 1.0000 - val_loss: 2.9272 - val_accuracy: 0.7114\n",
            "Epoch 26/50\n",
            "22/22 [==============================] - 0s 14ms/step - loss: 1.3535e-04 - accuracy: 1.0000 - val_loss: 2.7921 - val_accuracy: 0.6980\n",
            "Epoch 27/50\n",
            "22/22 [==============================] - 0s 15ms/step - loss: 1.4659e-04 - accuracy: 1.0000 - val_loss: 2.6495 - val_accuracy: 0.6577\n",
            "Epoch 28/50\n",
            "22/22 [==============================] - 0s 15ms/step - loss: 1.2888e-04 - accuracy: 1.0000 - val_loss: 2.5030 - val_accuracy: 0.6846\n",
            "Epoch 29/50\n",
            "22/22 [==============================] - 0s 15ms/step - loss: 9.8197e-04 - accuracy: 1.0000 - val_loss: 2.1380 - val_accuracy: 0.6846\n",
            "Epoch 30/50\n",
            "22/22 [==============================] - 0s 15ms/step - loss: 6.9734e-04 - accuracy: 1.0000 - val_loss: 1.9478 - val_accuracy: 0.6980\n",
            "Epoch 31/50\n",
            "22/22 [==============================] - 0s 15ms/step - loss: 0.0011 - accuracy: 1.0000 - val_loss: 2.1419 - val_accuracy: 0.7181\n",
            "Epoch 32/50\n",
            "22/22 [==============================] - 0s 14ms/step - loss: 0.0012 - accuracy: 1.0000 - val_loss: 2.5051 - val_accuracy: 0.7047\n",
            "Epoch 33/50\n",
            "22/22 [==============================] - 0s 15ms/step - loss: 4.0215e-04 - accuracy: 1.0000 - val_loss: 3.0936 - val_accuracy: 0.6913\n",
            "Epoch 34/50\n",
            "22/22 [==============================] - 0s 14ms/step - loss: 0.0018 - accuracy: 1.0000 - val_loss: 3.1501 - val_accuracy: 0.6980\n",
            "Epoch 35/50\n",
            "22/22 [==============================] - 0s 13ms/step - loss: 0.0078 - accuracy: 0.9971 - val_loss: 3.0682 - val_accuracy: 0.7315\n",
            "Epoch 36/50\n",
            "22/22 [==============================] - 0s 15ms/step - loss: 0.0058 - accuracy: 0.9971 - val_loss: 3.8521 - val_accuracy: 0.6846\n",
            "Epoch 37/50\n",
            "22/22 [==============================] - 0s 15ms/step - loss: 5.1313e-04 - accuracy: 1.0000 - val_loss: 3.7138 - val_accuracy: 0.7047\n",
            "Epoch 38/50\n",
            "22/22 [==============================] - 0s 14ms/step - loss: 6.7518e-04 - accuracy: 1.0000 - val_loss: 3.3918 - val_accuracy: 0.6711\n",
            "Epoch 39/50\n",
            "22/22 [==============================] - 0s 15ms/step - loss: 0.0010 - accuracy: 1.0000 - val_loss: 3.4561 - val_accuracy: 0.6980\n",
            "Epoch 40/50\n",
            "22/22 [==============================] - 0s 15ms/step - loss: 7.1295e-04 - accuracy: 1.0000 - val_loss: 3.3370 - val_accuracy: 0.6846\n",
            "Epoch 41/50\n",
            "22/22 [==============================] - 0s 16ms/step - loss: 0.0034 - accuracy: 0.9971 - val_loss: 2.0805 - val_accuracy: 0.6980\n",
            "Epoch 42/50\n",
            "22/22 [==============================] - 0s 15ms/step - loss: 0.0038 - accuracy: 1.0000 - val_loss: 1.8415 - val_accuracy: 0.7383\n",
            "Epoch 43/50\n",
            "22/22 [==============================] - 0s 14ms/step - loss: 0.0011 - accuracy: 1.0000 - val_loss: 1.8011 - val_accuracy: 0.7383\n",
            "Epoch 44/50\n",
            "22/22 [==============================] - 0s 15ms/step - loss: 8.8211e-04 - accuracy: 1.0000 - val_loss: 1.9410 - val_accuracy: 0.7047\n",
            "Epoch 45/50\n",
            "22/22 [==============================] - 0s 15ms/step - loss: 0.0014 - accuracy: 1.0000 - val_loss: 2.2816 - val_accuracy: 0.7114\n",
            "Epoch 46/50\n",
            "22/22 [==============================] - 0s 14ms/step - loss: 0.0012 - accuracy: 1.0000 - val_loss: 2.5792 - val_accuracy: 0.6913\n",
            "Epoch 47/50\n",
            "22/22 [==============================] - 0s 14ms/step - loss: 1.0579e-04 - accuracy: 1.0000 - val_loss: 2.3199 - val_accuracy: 0.7047\n",
            "Epoch 48/50\n",
            "22/22 [==============================] - 0s 15ms/step - loss: 1.1318e-04 - accuracy: 1.0000 - val_loss: 2.3644 - val_accuracy: 0.7047\n",
            "Epoch 49/50\n",
            "22/22 [==============================] - 0s 14ms/step - loss: 1.2198e-04 - accuracy: 1.0000 - val_loss: 2.3839 - val_accuracy: 0.7114\n",
            "Epoch 50/50\n",
            "22/22 [==============================] - 0s 14ms/step - loss: 7.0564e-04 - accuracy: 1.0000 - val_loss: 2.2996 - val_accuracy: 0.6980\n",
            "Accuracy =  0.697986577181208\n",
            "[[49 24]\n",
            " [21 55]]\n"
          ],
          "name": "stdout"
        },
        {
          "output_type": "execute_result",
          "data": {
            "text/plain": [
              "<matplotlib.axes._subplots.AxesSubplot at 0x7f9ab89a9410>"
            ]
          },
          "metadata": {},
          "execution_count": 21
        },
        {
          "output_type": "display_data",
          "data": {
            "image/png": "[encoded data removed]",
            "text/plain": [
              "<Figure size 432x288 with 2 Axes>"
            ]
          },
          "metadata": {
            "needs_background": "light"
          }
        }
      ]
    },
    {
      "cell_type": "code",
      "metadata": {
        "id": "zF_XUwmMg2TP"
      },
      "source": [
        ""
      ],
      "execution_count": 21,
      "outputs": []
    }
  ]
}