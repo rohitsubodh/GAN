{
  "nbformat": 4,
  "nbformat_minor": 0,
  "metadata": {
    "colab": {
      "name": "Untitled8.ipynb",
      "provenance": [],
      "include_colab_link": true
    },
    "kernelspec": {
      "name": "python3",
      "display_name": "Python 3"
    },
    "language_info": {
      "name": "python"
    },
    "accelerator": "GPU"
  },
  "cells": [
    {
      "cell_type": "markdown",
      "metadata": {
        "id": "view-in-github",
        "colab_type": "text"
      },
      "source": [
        "<a href=\"https://colab.research.google.com/github/rohitsubodh/GAN/blob/main/Untitled8_512b.ipynb\" target=\"_parent\"><img src=\"https://colab.research.google.com/assets/colab-badge.svg\" alt=\"Open In Colab\"/></a>"
      ]
    },
    {
      "cell_type": "code",
      "metadata": {
        "id": "cMHBuO0wos-j"
      },
      "source": [
        "\n",
        "import tensorflow as tf\n",
        "import keras\n",
        "import numpy as np\n",
        "from keras import models\n",
        "from keras import layers\n",
        "from keras.wrappers.scikit_learn import KerasClassifier\n",
        "from sklearn.model_selection import cross_val_score\n",
        "from sklearn.datasets import make_classification\n",
        "from matplotlib import pyplot\n",
        "import numpy as np\n",
        "import matplotlib.pyplot as plt\n",
        "import pandas as pd\n",
        "from sklearn import preprocessing\n",
        "from keras.models import Sequential,Model\n",
        "from keras.layers import Dense, Dropout,Input\n",
        "from keras.layers import Embedding,LeakyReLU\n",
        "from keras.layers import Conv1D, GlobalAveragePooling1D, MaxPooling1D, Flatten, LocallyConnected1D, BatchNormalization\n",
        "import scipy.signal\n",
        "from sklearn.decomposition import PCA, KernelPCA"
      ],
      "execution_count": 75,
      "outputs": []
    },
    {
      "cell_type": "code",
      "metadata": {
        "id": "Hi8fcclmpFNY"
      },
      "source": [
        "data = pd.read_excel('/content/PPG_new.xlsx',sheet_name='0-1')\n",
        "target = pd.read_excel('/content/PPG_new.xlsx',sheet_name='target 0-1')"
      ],
      "execution_count": 76,
      "outputs": []
    },
    {
      "cell_type": "code",
      "metadata": {
        "colab": {
          "base_uri": "https://localhost:8080/"
        },
        "id": "mUhak2l_B-rq",
        "outputId": "09bca429-403a-4d51-cdcc-294d7b25188a"
      },
      "source": [
        "data.shape"
      ],
      "execution_count": 77,
      "outputs": [
        {
          "output_type": "execute_result",
          "data": {
            "text/plain": [
              "(495, 2100)"
            ]
          },
          "metadata": {},
          "execution_count": 77
        }
      ]
    },
    {
      "cell_type": "code",
      "metadata": {
        "colab": {
          "base_uri": "https://localhost:8080/",
          "height": 265
        },
        "id": "q1Q3Q3FepFW2",
        "outputId": "f49919f5-b8c1-4170-dd2f-e0dd0176493d"
      },
      "source": [
        "x= data.iloc[0,:]\n",
        "plt.plot(x)\n",
        "plt.show\n",
        "data1=data"
      ],
      "execution_count": 78,
      "outputs": [
        {
          "output_type": "display_data",
          "data": {
            "image/png": "[encoded data removed]",
            "text/plain": [
              "<Figure size 432x288 with 1 Axes>"
            ]
          },
          "metadata": {
            "needs_background": "light"
          }
        }
      ]
    },
    {
      "cell_type": "code",
      "metadata": {
        "colab": {
          "base_uri": "https://localhost:8080/",
          "height": 282
        },
        "id": "SRcZU0-ppFaK",
        "outputId": "10d39b7e-64d7-4f51-8990-a9706b6053c8"
      },
      "source": [
        "# Applying median filter\n",
        "data=scipy.signal.medfilt(data)\n",
        "data\n",
        "x= data[0,:]\n",
        "plt.plot(x)\n",
        "plt.show"
      ],
      "execution_count": 79,
      "outputs": [
        {
          "output_type": "execute_result",
          "data": {
            "text/plain": [
              "<function matplotlib.pyplot.show>"
            ]
          },
          "metadata": {},
          "execution_count": 79
        },
        {
          "output_type": "display_data",
          "data": {
            "image/png": "[encoded data removed]",
            "text/plain": [
              "<Figure size 432x288 with 1 Axes>"
            ]
          },
          "metadata": {
            "needs_background": "light"
          }
        }
      ]
    },
    {
      "cell_type": "code",
      "metadata": {
        "colab": {
          "base_uri": "https://localhost:8080/"
        },
        "id": "Rr2cHwXGpFc9",
        "outputId": "a35ce440-a225-4982-d06a-cd7e8813d4d3"
      },
      "source": [
        "# Design of low pass chebyshev filter\n",
        "sos= scipy.signal.cheby2(4, 10, 25, 'low', fs=1000, output='sos')\n",
        "sos"
      ],
      "execution_count": 80,
      "outputs": [
        {
          "output_type": "execute_result",
          "data": {
            "text/plain": [
              "array([[ 0.26741176, -0.49141861,  0.26741176,  1.        , -1.6346899 ,\n",
              "         0.69069827],\n",
              "       [ 1.        , -1.97118242,  1.        ,  1.        , -1.92658177,\n",
              "         0.94891457]])"
            ]
          },
          "metadata": {},
          "execution_count": 80
        }
      ]
    },
    {
      "cell_type": "code",
      "metadata": {
        "colab": {
          "base_uri": "https://localhost:8080/",
          "height": 282
        },
        "id": "V2M-vdahpFfz",
        "outputId": "545836ce-00cf-4d55-a150-2d9ee47af4e6"
      },
      "source": [
        "data= scipy.signal.sosfilt(sos, data) # applying chebyshev filter\n",
        "x= data[0,:]\n",
        "plt.plot(x)\n",
        "plt.show"
      ],
      "execution_count": 81,
      "outputs": [
        {
          "output_type": "execute_result",
          "data": {
            "text/plain": [
              "<function matplotlib.pyplot.show>"
            ]
          },
          "metadata": {},
          "execution_count": 81
        },
        {
          "output_type": "display_data",
          "data": {
            "image/png": "[encoded data removed]",
            "text/plain": [
              "<Figure size 432x288 with 1 Axes>"
            ]
          },
          "metadata": {
            "needs_background": "light"
          }
        }
      ]
    },
    {
      "cell_type": "code",
      "metadata": {
        "colab": {
          "base_uri": "https://localhost:8080/",
          "height": 282
        },
        "id": "dbCRU494pFiq",
        "outputId": "c4412da1-f18e-4e08-d747-ba588aa20e15"
      },
      "source": [
        "# Applying backward forward filter\n",
        "b, a = scipy.signal.butter(8, 0.125) # filter design\n",
        "\n",
        "data = scipy.signal.filtfilt(b, a, data, method=\"gust\")\n",
        "\n",
        "x= data[0,:]\n",
        "plt.plot(x)\n",
        "plt.show"
      ],
      "execution_count": 82,
      "outputs": [
        {
          "output_type": "execute_result",
          "data": {
            "text/plain": [
              "<function matplotlib.pyplot.show>"
            ]
          },
          "metadata": {},
          "execution_count": 82
        },
        {
          "output_type": "display_data",
          "data": {
            "image/png": "[encoded data removed]",
            "text/plain": [
              "<Figure size 432x288 with 1 Axes>"
            ]
          },
          "metadata": {
            "needs_background": "light"
          }
        }
      ]
    },
    {
      "cell_type": "code",
      "metadata": {
        "id": "Wp6SpBPGqCqY",
        "colab": {
          "base_uri": "https://localhost:8080/"
        },
        "outputId": "75d3c662-2f34-4106-ee12-1c148147004d"
      },
      "source": [
        "data1=data\n",
        "kpca=KernelPCA(kernel=\"rbf\",fit_inverse_transform=True, gamma=10)\n",
        "data=kpca.fit_transform(data)\n",
        "data.shape"
      ],
      "execution_count": 83,
      "outputs": [
        {
          "output_type": "execute_result",
          "data": {
            "text/plain": [
              "(495, 494)"
            ]
          },
          "metadata": {},
          "execution_count": 83
        }
      ]
    },
    {
      "cell_type": "code",
      "metadata": {
        "colab": {
          "base_uri": "https://localhost:8080/",
          "height": 282
        },
        "id": "GWoHtut-eico",
        "outputId": "6571e4bb-2ba0-4b3e-c65d-83187d8f7065"
      },
      "source": [
        "x= data[0,:]\n",
        "plt.plot(x)\n",
        "plt.show"
      ],
      "execution_count": 84,
      "outputs": [
        {
          "output_type": "execute_result",
          "data": {
            "text/plain": [
              "<function matplotlib.pyplot.show>"
            ]
          },
          "metadata": {},
          "execution_count": 84
        },
        {
          "output_type": "display_data",
          "data": {
            "image/png": "[encoded data removed]",
            "text/plain": [
              "<Figure size 432x288 with 1 Axes>"
            ]
          },
          "metadata": {
            "needs_background": "light"
          }
        }
      ]
    },
    {
      "cell_type": "code",
      "metadata": {
        "id": "aT_bUQPBpFlu"
      },
      "source": [
        "from sklearn.model_selection import train_test_split\n",
        "xTrain1, xTest1, yTrain1, yTest1 = train_test_split(data, target, test_size = 0.3, random_state = 0)"
      ],
      "execution_count": 85,
      "outputs": []
    },
    {
      "cell_type": "code",
      "metadata": {
        "id": "K0ct8stEpFor"
      },
      "source": [
        "xTrain11 = np.expand_dims(xTrain1, axis=2)\n",
        "yTrain11 = tf.keras.utils.to_categorical(yTrain1, num_classes=2)\n",
        "xTest11 =  np.expand_dims(xTest1, axis=2)\n",
        "yTest11 = tf.keras.utils.to_categorical(yTest1, num_classes=2)"
      ],
      "execution_count": 86,
      "outputs": []
    },
    {
      "cell_type": "code",
      "metadata": {
        "id": "egKDUU6zpFr2"
      },
      "source": [
        "input_shape = (494, 1)\n"
      ],
      "execution_count": 87,
      "outputs": []
    },
    {
      "cell_type": "code",
      "metadata": {
        "id": "xJxQ1yvCpFur",
        "colab": {
          "base_uri": "https://localhost:8080/"
        },
        "outputId": "80111154-e2f4-4e61-efc9-94be5967ddd0"
      },
      "source": [
        "\n",
        "#CNN Model\n",
        "\n",
        "model = Sequential()\n",
        "model.add(Conv1D(32, 3, activation='relu', input_shape=input_shape[0:]))\n",
        "model.add(BatchNormalization())\n",
        "model.add(LeakyReLU(alpha=0.1))\n",
        "model.add(Conv1D(64, 3, activation='relu', name=\"my_intermediate_layer\"))\n",
        "model.add(MaxPooling1D(3))\n",
        "model.add(BatchNormalization())\n",
        "model.add(LeakyReLU(alpha=0.1))\n",
        "model.add(Conv1D(128, 3, activation='relu'))\n",
        "model.add(BatchNormalization())\n",
        "model.add(LeakyReLU(alpha=0.1))\n",
        "model.add(Conv1D(256, 3, activation='relu'))\n",
        "model.add(BatchNormalization())\n",
        "model.add(LeakyReLU(alpha=0.1))\n",
        "model.add(Conv1D(512, 3, activation='relu'))\n",
        "\n",
        "model.add(GlobalAveragePooling1D())\n",
        "model.add(Dropout(0.5))\n",
        "model.add(Dense(100, name=\"dense\"))\n",
        "model.add(Dense(2, activation='softmax', name=\"dense1\"))\n",
        "model.compile(loss='categorical_crossentropy',\n",
        "                    optimizer='adam',\n",
        "                    metrics=['accuracy'])\n",
        "model.summary()"
      ],
      "execution_count": 88,
      "outputs": [
        {
          "output_type": "stream",
          "text": [
            "Model: \"sequential_4\"\n",
            "_________________________________________________________________\n",
            "Layer (type)                 Output Shape              Param #   \n",
            "=================================================================\n",
            "conv1d_13 (Conv1D)           (None, 492, 32)           128       \n",
            "_________________________________________________________________\n",
            "batch_normalization_13 (Batc (None, 492, 32)           128       \n",
            "_________________________________________________________________\n",
            "leaky_re_lu_13 (LeakyReLU)   (None, 492, 32)           0         \n",
            "_________________________________________________________________\n",
            "my_intermediate_layer (Conv1 (None, 490, 64)           6208      \n",
            "_________________________________________________________________\n",
            "max_pooling1d_4 (MaxPooling1 (None, 163, 64)           0         \n",
            "_________________________________________________________________\n",
            "batch_normalization_14 (Batc (None, 163, 64)           256       \n",
            "_________________________________________________________________\n",
            "leaky_re_lu_14 (LeakyReLU)   (None, 163, 64)           0         \n",
            "_________________________________________________________________\n",
            "conv1d_14 (Conv1D)           (None, 161, 128)          24704     \n",
            "_________________________________________________________________\n",
            "batch_normalization_15 (Batc (None, 161, 128)          512       \n",
            "_________________________________________________________________\n",
            "leaky_re_lu_15 (LeakyReLU)   (None, 161, 128)          0         \n",
            "_________________________________________________________________\n",
            "conv1d_15 (Conv1D)           (None, 159, 256)          98560     \n",
            "_________________________________________________________________\n",
            "batch_normalization_16 (Batc (None, 159, 256)          1024      \n",
            "_________________________________________________________________\n",
            "leaky_re_lu_16 (LeakyReLU)   (None, 159, 256)          0         \n",
            "_________________________________________________________________\n",
            "conv1d_16 (Conv1D)           (None, 157, 512)          393728    \n",
            "_________________________________________________________________\n",
            "global_average_pooling1d_4 ( (None, 512)               0         \n",
            "_________________________________________________________________\n",
            "dropout_4 (Dropout)          (None, 512)               0         \n",
            "_________________________________________________________________\n",
            "dense (Dense)                (None, 100)               51300     \n",
            "_________________________________________________________________\n",
            "dense1 (Dense)               (None, 2)                 202       \n",
            "=================================================================\n",
            "Total params: 576,750\n",
            "Trainable params: 575,790\n",
            "Non-trainable params: 960\n",
            "_________________________________________________________________\n"
          ],
          "name": "stdout"
        }
      ]
    },
    {
      "cell_type": "code",
      "metadata": {
        "colab": {
          "base_uri": "https://localhost:8080/"
        },
        "id": "dpRAWw9cpFyD",
        "outputId": "3a685a10-aae3-4d8e-81eb-d486a0fc6157"
      },
      "source": [
        "from keras.callbacks import EarlyStopping\n",
        "#set early stopping monitor so the model stops training when it won't improve anymore\n",
        "early_stopping_monitor = EarlyStopping(patience=500)\n",
        "\n",
        "#train model\n",
        "history=model.fit(xTrain11, yTrain11, validation_data = (xTest11, yTest11), epochs=150, batch_size=16)\n"
      ],
      "execution_count": 89,
      "outputs": [
        {
          "output_type": "stream",
          "text": [
            "Epoch 1/150\n",
            "22/22 [==============================] - 3s 40ms/step - loss: 0.8331 - accuracy: 0.5520 - val_loss: 0.6952 - val_accuracy: 0.4698\n",
            "Epoch 2/150\n",
            "22/22 [==============================] - 0s 22ms/step - loss: 0.6370 - accuracy: 0.6474 - val_loss: 0.6981 - val_accuracy: 0.4698\n",
            "Epoch 3/150\n",
            "22/22 [==============================] - 0s 21ms/step - loss: 0.5922 - accuracy: 0.6965 - val_loss: 0.7046 - val_accuracy: 0.4698\n",
            "Epoch 4/150\n",
            "22/22 [==============================] - 1s 25ms/step - loss: 0.6003 - accuracy: 0.6763 - val_loss: 0.7173 - val_accuracy: 0.4698\n",
            "Epoch 5/150\n",
            "22/22 [==============================] - 0s 21ms/step - loss: 0.5930 - accuracy: 0.6908 - val_loss: 0.7238 - val_accuracy: 0.4698\n",
            "Epoch 6/150\n",
            "22/22 [==============================] - 0s 21ms/step - loss: 0.5507 - accuracy: 0.6879 - val_loss: 0.7348 - val_accuracy: 0.4698\n",
            "Epoch 7/150\n",
            "22/22 [==============================] - 0s 22ms/step - loss: 0.5268 - accuracy: 0.7370 - val_loss: 0.7855 - val_accuracy: 0.4698\n",
            "Epoch 8/150\n",
            "22/22 [==============================] - 0s 21ms/step - loss: 0.5299 - accuracy: 0.7225 - val_loss: 0.8265 - val_accuracy: 0.4698\n",
            "Epoch 9/150\n",
            "22/22 [==============================] - 0s 21ms/step - loss: 0.4627 - accuracy: 0.7688 - val_loss: 0.8401 - val_accuracy: 0.4698\n",
            "Epoch 10/150\n",
            "22/22 [==============================] - 0s 22ms/step - loss: 0.4609 - accuracy: 0.7717 - val_loss: 0.8378 - val_accuracy: 0.4698\n",
            "Epoch 11/150\n",
            "22/22 [==============================] - 0s 21ms/step - loss: 0.4316 - accuracy: 0.8064 - val_loss: 0.9038 - val_accuracy: 0.4698\n",
            "Epoch 12/150\n",
            "22/22 [==============================] - 0s 21ms/step - loss: 0.3626 - accuracy: 0.8410 - val_loss: 0.8068 - val_accuracy: 0.4698\n",
            "Epoch 13/150\n",
            "22/22 [==============================] - 0s 21ms/step - loss: 0.3297 - accuracy: 0.8642 - val_loss: 0.9708 - val_accuracy: 0.4698\n",
            "Epoch 14/150\n",
            "22/22 [==============================] - 0s 21ms/step - loss: 0.2882 - accuracy: 0.8699 - val_loss: 1.0757 - val_accuracy: 0.4698\n",
            "Epoch 15/150\n",
            "22/22 [==============================] - 0s 22ms/step - loss: 0.3257 - accuracy: 0.8642 - val_loss: 0.9493 - val_accuracy: 0.4698\n",
            "Epoch 16/150\n",
            "22/22 [==============================] - 0s 21ms/step - loss: 0.2702 - accuracy: 0.8873 - val_loss: 0.9852 - val_accuracy: 0.4698\n",
            "Epoch 17/150\n",
            "22/22 [==============================] - 0s 22ms/step - loss: 0.1973 - accuracy: 0.9075 - val_loss: 1.0020 - val_accuracy: 0.4698\n",
            "Epoch 18/150\n",
            "22/22 [==============================] - 0s 21ms/step - loss: 0.1950 - accuracy: 0.9249 - val_loss: 1.3924 - val_accuracy: 0.4698\n",
            "Epoch 19/150\n",
            "22/22 [==============================] - 0s 21ms/step - loss: 0.2346 - accuracy: 0.8960 - val_loss: 1.0283 - val_accuracy: 0.4698\n",
            "Epoch 20/150\n",
            "22/22 [==============================] - 0s 21ms/step - loss: 0.1841 - accuracy: 0.9306 - val_loss: 1.0934 - val_accuracy: 0.4698\n",
            "Epoch 21/150\n",
            "22/22 [==============================] - 0s 21ms/step - loss: 0.1344 - accuracy: 0.9624 - val_loss: 0.9952 - val_accuracy: 0.4832\n",
            "Epoch 22/150\n",
            "22/22 [==============================] - 0s 21ms/step - loss: 0.1696 - accuracy: 0.9249 - val_loss: 1.1466 - val_accuracy: 0.5101\n",
            "Epoch 23/150\n",
            "22/22 [==============================] - 0s 21ms/step - loss: 0.1539 - accuracy: 0.9335 - val_loss: 0.8434 - val_accuracy: 0.5436\n",
            "Epoch 24/150\n",
            "22/22 [==============================] - 0s 21ms/step - loss: 0.1192 - accuracy: 0.9624 - val_loss: 0.9186 - val_accuracy: 0.5168\n",
            "Epoch 25/150\n",
            "22/22 [==============================] - 0s 22ms/step - loss: 0.0680 - accuracy: 0.9769 - val_loss: 0.9657 - val_accuracy: 0.5772\n",
            "Epoch 26/150\n",
            "22/22 [==============================] - 0s 21ms/step - loss: 0.0436 - accuracy: 0.9913 - val_loss: 0.9253 - val_accuracy: 0.6174\n",
            "Epoch 27/150\n",
            "22/22 [==============================] - 0s 21ms/step - loss: 0.0208 - accuracy: 0.9971 - val_loss: 1.2528 - val_accuracy: 0.5772\n",
            "Epoch 28/150\n",
            "22/22 [==============================] - 0s 21ms/step - loss: 0.0213 - accuracy: 0.9971 - val_loss: 0.8236 - val_accuracy: 0.7248\n",
            "Epoch 29/150\n",
            "22/22 [==============================] - 0s 22ms/step - loss: 0.0131 - accuracy: 0.9971 - val_loss: 1.3063 - val_accuracy: 0.6510\n",
            "Epoch 30/150\n",
            "22/22 [==============================] - 0s 22ms/step - loss: 0.0107 - accuracy: 1.0000 - val_loss: 1.0232 - val_accuracy: 0.7181\n",
            "Epoch 31/150\n",
            "22/22 [==============================] - 0s 21ms/step - loss: 0.0065 - accuracy: 1.0000 - val_loss: 1.1275 - val_accuracy: 0.7383\n",
            "Epoch 32/150\n",
            "22/22 [==============================] - 0s 21ms/step - loss: 0.0207 - accuracy: 0.9942 - val_loss: 1.3662 - val_accuracy: 0.7047\n",
            "Epoch 33/150\n",
            "22/22 [==============================] - 0s 21ms/step - loss: 0.0154 - accuracy: 0.9942 - val_loss: 1.3524 - val_accuracy: 0.6980\n",
            "Epoch 34/150\n",
            "22/22 [==============================] - 0s 21ms/step - loss: 0.0213 - accuracy: 0.9942 - val_loss: 1.2514 - val_accuracy: 0.7383\n",
            "Epoch 35/150\n",
            "22/22 [==============================] - 0s 22ms/step - loss: 0.0588 - accuracy: 0.9798 - val_loss: 1.3906 - val_accuracy: 0.6711\n",
            "Epoch 36/150\n",
            "22/22 [==============================] - 0s 21ms/step - loss: 0.1084 - accuracy: 0.9682 - val_loss: 1.6839 - val_accuracy: 0.6510\n",
            "Epoch 37/150\n",
            "22/22 [==============================] - 0s 21ms/step - loss: 0.0696 - accuracy: 0.9740 - val_loss: 6.3457 - val_accuracy: 0.6913\n",
            "Epoch 38/150\n",
            "22/22 [==============================] - 0s 22ms/step - loss: 0.1014 - accuracy: 0.9653 - val_loss: 1.8278 - val_accuracy: 0.7181\n",
            "Epoch 39/150\n",
            "22/22 [==============================] - 0s 22ms/step - loss: 0.0275 - accuracy: 0.9913 - val_loss: 3.0474 - val_accuracy: 0.6711\n",
            "Epoch 40/150\n",
            "22/22 [==============================] - 0s 21ms/step - loss: 0.0399 - accuracy: 0.9855 - val_loss: 6.5569 - val_accuracy: 0.5973\n",
            "Epoch 41/150\n",
            "22/22 [==============================] - 0s 21ms/step - loss: 0.1612 - accuracy: 0.9653 - val_loss: 8.5917 - val_accuracy: 0.5839\n",
            "Epoch 42/150\n",
            "22/22 [==============================] - 0s 21ms/step - loss: 0.1437 - accuracy: 0.9509 - val_loss: 1.8591 - val_accuracy: 0.6376\n",
            "Epoch 43/150\n",
            "22/22 [==============================] - 0s 21ms/step - loss: 0.1214 - accuracy: 0.9595 - val_loss: 6.5482 - val_accuracy: 0.5906\n",
            "Epoch 44/150\n",
            "22/22 [==============================] - 0s 21ms/step - loss: 0.0452 - accuracy: 0.9798 - val_loss: 2.8935 - val_accuracy: 0.6309\n",
            "Epoch 45/150\n",
            "22/22 [==============================] - 0s 21ms/step - loss: 0.0175 - accuracy: 0.9971 - val_loss: 2.0539 - val_accuracy: 0.6309\n",
            "Epoch 46/150\n",
            "22/22 [==============================] - 0s 21ms/step - loss: 0.0183 - accuracy: 0.9942 - val_loss: 1.2678 - val_accuracy: 0.7047\n",
            "Epoch 47/150\n",
            "22/22 [==============================] - 0s 21ms/step - loss: 0.0106 - accuracy: 0.9971 - val_loss: 1.2615 - val_accuracy: 0.7114\n",
            "Epoch 48/150\n",
            "22/22 [==============================] - 0s 21ms/step - loss: 0.0061 - accuracy: 1.0000 - val_loss: 1.2915 - val_accuracy: 0.7517\n",
            "Epoch 49/150\n",
            "22/22 [==============================] - 0s 21ms/step - loss: 0.0250 - accuracy: 0.9913 - val_loss: 1.1497 - val_accuracy: 0.7517\n",
            "Epoch 50/150\n",
            "22/22 [==============================] - 0s 21ms/step - loss: 0.0054 - accuracy: 1.0000 - val_loss: 1.2916 - val_accuracy: 0.7383\n",
            "Epoch 51/150\n",
            "22/22 [==============================] - 0s 22ms/step - loss: 0.0035 - accuracy: 1.0000 - val_loss: 1.3365 - val_accuracy: 0.7517\n",
            "Epoch 52/150\n",
            "22/22 [==============================] - 0s 21ms/step - loss: 0.0030 - accuracy: 1.0000 - val_loss: 1.3760 - val_accuracy: 0.7383\n",
            "Epoch 53/150\n",
            "22/22 [==============================] - 0s 21ms/step - loss: 0.0013 - accuracy: 1.0000 - val_loss: 1.3766 - val_accuracy: 0.7248\n",
            "Epoch 54/150\n",
            "22/22 [==============================] - 0s 21ms/step - loss: 6.9821e-04 - accuracy: 1.0000 - val_loss: 1.4229 - val_accuracy: 0.7315\n",
            "Epoch 55/150\n",
            "22/22 [==============================] - 0s 21ms/step - loss: 6.3835e-04 - accuracy: 1.0000 - val_loss: 1.4453 - val_accuracy: 0.7517\n",
            "Epoch 56/150\n",
            "22/22 [==============================] - 0s 21ms/step - loss: 8.5914e-04 - accuracy: 1.0000 - val_loss: 1.4741 - val_accuracy: 0.7584\n",
            "Epoch 57/150\n",
            "22/22 [==============================] - 0s 21ms/step - loss: 5.4176e-04 - accuracy: 1.0000 - val_loss: 1.5481 - val_accuracy: 0.7315\n",
            "Epoch 58/150\n",
            "22/22 [==============================] - 0s 21ms/step - loss: 0.0011 - accuracy: 1.0000 - val_loss: 1.6038 - val_accuracy: 0.7315\n",
            "Epoch 59/150\n",
            "22/22 [==============================] - 0s 22ms/step - loss: 0.0038 - accuracy: 0.9971 - val_loss: 1.4662 - val_accuracy: 0.7181\n",
            "Epoch 60/150\n",
            "22/22 [==============================] - 0s 21ms/step - loss: 0.0036 - accuracy: 0.9971 - val_loss: 1.6484 - val_accuracy: 0.7181\n",
            "Epoch 61/150\n",
            "22/22 [==============================] - 0s 21ms/step - loss: 0.0089 - accuracy: 0.9942 - val_loss: 1.9242 - val_accuracy: 0.7181\n",
            "Epoch 62/150\n",
            "22/22 [==============================] - 0s 21ms/step - loss: 0.0264 - accuracy: 0.9827 - val_loss: 1.8348 - val_accuracy: 0.7383\n",
            "Epoch 63/150\n",
            "22/22 [==============================] - 0s 22ms/step - loss: 0.0983 - accuracy: 0.9711 - val_loss: 1.8156 - val_accuracy: 0.6376\n",
            "Epoch 64/150\n",
            "22/22 [==============================] - 0s 22ms/step - loss: 0.0697 - accuracy: 0.9740 - val_loss: 2.0528 - val_accuracy: 0.6779\n",
            "Epoch 65/150\n",
            "22/22 [==============================] - 0s 21ms/step - loss: 0.1368 - accuracy: 0.9538 - val_loss: 2.2889 - val_accuracy: 0.7517\n",
            "Epoch 66/150\n",
            "22/22 [==============================] - 0s 21ms/step - loss: 0.1240 - accuracy: 0.9566 - val_loss: 6.2363 - val_accuracy: 0.6846\n",
            "Epoch 67/150\n",
            "22/22 [==============================] - 0s 21ms/step - loss: 0.1103 - accuracy: 0.9509 - val_loss: 3.7916 - val_accuracy: 0.6242\n",
            "Epoch 68/150\n",
            "22/22 [==============================] - 0s 21ms/step - loss: 0.0341 - accuracy: 0.9884 - val_loss: 2.7971 - val_accuracy: 0.6309\n",
            "Epoch 69/150\n",
            "22/22 [==============================] - 0s 20ms/step - loss: 0.0485 - accuracy: 0.9827 - val_loss: 2.9030 - val_accuracy: 0.6779\n",
            "Epoch 70/150\n",
            "22/22 [==============================] - 0s 21ms/step - loss: 0.0272 - accuracy: 0.9942 - val_loss: 2.6860 - val_accuracy: 0.7517\n",
            "Epoch 71/150\n",
            "22/22 [==============================] - 0s 21ms/step - loss: 0.0160 - accuracy: 0.9971 - val_loss: 2.3213 - val_accuracy: 0.7450\n",
            "Epoch 72/150\n",
            "22/22 [==============================] - 0s 22ms/step - loss: 0.0348 - accuracy: 0.9884 - val_loss: 1.4226 - val_accuracy: 0.7181\n",
            "Epoch 73/150\n",
            "22/22 [==============================] - 0s 22ms/step - loss: 0.0092 - accuracy: 0.9971 - val_loss: 1.5227 - val_accuracy: 0.6711\n",
            "Epoch 74/150\n",
            "22/22 [==============================] - 0s 22ms/step - loss: 0.0075 - accuracy: 0.9971 - val_loss: 2.1780 - val_accuracy: 0.6711\n",
            "Epoch 75/150\n",
            "22/22 [==============================] - 0s 21ms/step - loss: 0.0391 - accuracy: 0.9913 - val_loss: 3.0632 - val_accuracy: 0.5503\n",
            "Epoch 76/150\n",
            "22/22 [==============================] - 0s 21ms/step - loss: 0.0702 - accuracy: 0.9740 - val_loss: 2.7800 - val_accuracy: 0.6510\n",
            "Epoch 77/150\n",
            "22/22 [==============================] - 0s 21ms/step - loss: 0.0551 - accuracy: 0.9827 - val_loss: 2.7113 - val_accuracy: 0.6913\n",
            "Epoch 78/150\n",
            "22/22 [==============================] - 0s 21ms/step - loss: 0.0135 - accuracy: 1.0000 - val_loss: 1.9801 - val_accuracy: 0.6846\n",
            "Epoch 79/150\n",
            "22/22 [==============================] - 0s 21ms/step - loss: 0.0075 - accuracy: 0.9971 - val_loss: 1.6686 - val_accuracy: 0.6913\n",
            "Epoch 80/150\n",
            "22/22 [==============================] - 0s 22ms/step - loss: 0.0034 - accuracy: 1.0000 - val_loss: 1.5686 - val_accuracy: 0.7248\n",
            "Epoch 81/150\n",
            "22/22 [==============================] - 0s 22ms/step - loss: 0.0021 - accuracy: 1.0000 - val_loss: 1.5631 - val_accuracy: 0.7248\n",
            "Epoch 82/150\n",
            "22/22 [==============================] - 0s 22ms/step - loss: 0.0017 - accuracy: 1.0000 - val_loss: 1.4706 - val_accuracy: 0.7315\n",
            "Epoch 83/150\n",
            "22/22 [==============================] - 0s 22ms/step - loss: 0.0029 - accuracy: 1.0000 - val_loss: 1.6291 - val_accuracy: 0.6980\n",
            "Epoch 84/150\n",
            "22/22 [==============================] - 0s 21ms/step - loss: 8.5096e-04 - accuracy: 1.0000 - val_loss: 1.6689 - val_accuracy: 0.7047\n",
            "Epoch 85/150\n",
            "22/22 [==============================] - 0s 23ms/step - loss: 0.0014 - accuracy: 1.0000 - val_loss: 1.6560 - val_accuracy: 0.7114\n",
            "Epoch 86/150\n",
            "22/22 [==============================] - 0s 22ms/step - loss: 8.9751e-04 - accuracy: 1.0000 - val_loss: 1.7131 - val_accuracy: 0.7047\n",
            "Epoch 87/150\n",
            "22/22 [==============================] - 0s 23ms/step - loss: 4.2311e-04 - accuracy: 1.0000 - val_loss: 1.7460 - val_accuracy: 0.7047\n",
            "Epoch 88/150\n",
            "22/22 [==============================] - 0s 22ms/step - loss: 0.0014 - accuracy: 1.0000 - val_loss: 1.9585 - val_accuracy: 0.6779\n",
            "Epoch 89/150\n",
            "22/22 [==============================] - 0s 23ms/step - loss: 3.9369e-04 - accuracy: 1.0000 - val_loss: 1.9157 - val_accuracy: 0.7047\n",
            "Epoch 90/150\n",
            "22/22 [==============================] - 0s 22ms/step - loss: 3.8939e-04 - accuracy: 1.0000 - val_loss: 2.0029 - val_accuracy: 0.7047\n",
            "Epoch 91/150\n",
            "22/22 [==============================] - 0s 22ms/step - loss: 7.2938e-04 - accuracy: 1.0000 - val_loss: 2.2252 - val_accuracy: 0.6846\n",
            "Epoch 92/150\n",
            "22/22 [==============================] - 0s 22ms/step - loss: 2.3331e-04 - accuracy: 1.0000 - val_loss: 2.3119 - val_accuracy: 0.6779\n",
            "Epoch 93/150\n",
            "22/22 [==============================] - 0s 22ms/step - loss: 3.2815e-04 - accuracy: 1.0000 - val_loss: 2.3306 - val_accuracy: 0.6980\n",
            "Epoch 94/150\n",
            "22/22 [==============================] - 0s 21ms/step - loss: 2.0428e-04 - accuracy: 1.0000 - val_loss: 2.2503 - val_accuracy: 0.6980\n",
            "Epoch 95/150\n",
            "22/22 [==============================] - 0s 21ms/step - loss: 5.6275e-04 - accuracy: 1.0000 - val_loss: 2.2771 - val_accuracy: 0.7047\n",
            "Epoch 96/150\n",
            "22/22 [==============================] - 0s 22ms/step - loss: 2.6189e-04 - accuracy: 1.0000 - val_loss: 2.2549 - val_accuracy: 0.7114\n",
            "Epoch 97/150\n",
            "22/22 [==============================] - 0s 22ms/step - loss: 2.5317e-04 - accuracy: 1.0000 - val_loss: 2.3235 - val_accuracy: 0.7047\n",
            "Epoch 98/150\n",
            "22/22 [==============================] - 0s 21ms/step - loss: 4.0691e-04 - accuracy: 1.0000 - val_loss: 2.3197 - val_accuracy: 0.7114\n",
            "Epoch 99/150\n",
            "22/22 [==============================] - 0s 22ms/step - loss: 1.6590e-04 - accuracy: 1.0000 - val_loss: 2.2250 - val_accuracy: 0.7181\n",
            "Epoch 100/150\n",
            "22/22 [==============================] - 0s 22ms/step - loss: 1.7897e-04 - accuracy: 1.0000 - val_loss: 2.1554 - val_accuracy: 0.7315\n",
            "Epoch 101/150\n",
            "22/22 [==============================] - 0s 22ms/step - loss: 1.9468e-04 - accuracy: 1.0000 - val_loss: 2.1306 - val_accuracy: 0.7383\n",
            "Epoch 102/150\n",
            "22/22 [==============================] - 0s 22ms/step - loss: 2.2664e-04 - accuracy: 1.0000 - val_loss: 2.1263 - val_accuracy: 0.7383\n",
            "Epoch 103/150\n",
            "22/22 [==============================] - 1s 25ms/step - loss: 5.5451e-04 - accuracy: 1.0000 - val_loss: 2.3317 - val_accuracy: 0.7114\n",
            "Epoch 104/150\n",
            "22/22 [==============================] - 0s 23ms/step - loss: 4.3988e-04 - accuracy: 1.0000 - val_loss: 2.9821 - val_accuracy: 0.6913\n",
            "Epoch 105/150\n",
            "22/22 [==============================] - 0s 22ms/step - loss: 1.3324e-04 - accuracy: 1.0000 - val_loss: 2.8349 - val_accuracy: 0.6980\n",
            "Epoch 106/150\n",
            "22/22 [==============================] - 0s 22ms/step - loss: 2.9781e-04 - accuracy: 1.0000 - val_loss: 2.6040 - val_accuracy: 0.7047\n",
            "Epoch 107/150\n",
            "22/22 [==============================] - 0s 22ms/step - loss: 1.2996e-04 - accuracy: 1.0000 - val_loss: 2.3791 - val_accuracy: 0.7181\n",
            "Epoch 108/150\n",
            "22/22 [==============================] - 0s 22ms/step - loss: 2.2909e-04 - accuracy: 1.0000 - val_loss: 2.3381 - val_accuracy: 0.7248\n",
            "Epoch 109/150\n",
            "22/22 [==============================] - 0s 22ms/step - loss: 2.6231e-04 - accuracy: 1.0000 - val_loss: 2.2727 - val_accuracy: 0.7181\n",
            "Epoch 110/150\n",
            "22/22 [==============================] - 0s 22ms/step - loss: 2.3091e-04 - accuracy: 1.0000 - val_loss: 2.2364 - val_accuracy: 0.7315\n",
            "Epoch 111/150\n",
            "22/22 [==============================] - 0s 22ms/step - loss: 1.5291e-04 - accuracy: 1.0000 - val_loss: 2.2355 - val_accuracy: 0.7315\n",
            "Epoch 112/150\n",
            "22/22 [==============================] - 0s 22ms/step - loss: 1.5926e-04 - accuracy: 1.0000 - val_loss: 2.2414 - val_accuracy: 0.7248\n",
            "Epoch 113/150\n",
            "22/22 [==============================] - 0s 22ms/step - loss: 6.9625e-05 - accuracy: 1.0000 - val_loss: 2.2626 - val_accuracy: 0.7248\n",
            "Epoch 114/150\n",
            "22/22 [==============================] - 0s 22ms/step - loss: 1.1405e-04 - accuracy: 1.0000 - val_loss: 2.2721 - val_accuracy: 0.7047\n",
            "Epoch 115/150\n",
            "22/22 [==============================] - 0s 21ms/step - loss: 2.9629e-04 - accuracy: 1.0000 - val_loss: 2.2962 - val_accuracy: 0.7181\n",
            "Epoch 116/150\n",
            "22/22 [==============================] - 0s 22ms/step - loss: 1.3533e-04 - accuracy: 1.0000 - val_loss: 2.3304 - val_accuracy: 0.7248\n",
            "Epoch 117/150\n",
            "22/22 [==============================] - 0s 21ms/step - loss: 1.7352e-04 - accuracy: 1.0000 - val_loss: 2.3923 - val_accuracy: 0.7383\n",
            "Epoch 118/150\n",
            "22/22 [==============================] - 0s 23ms/step - loss: 5.6276e-05 - accuracy: 1.0000 - val_loss: 2.3772 - val_accuracy: 0.7450\n",
            "Epoch 119/150\n",
            "22/22 [==============================] - 0s 22ms/step - loss: 1.6720e-04 - accuracy: 1.0000 - val_loss: 2.3012 - val_accuracy: 0.7248\n",
            "Epoch 120/150\n",
            "22/22 [==============================] - 1s 26ms/step - loss: 2.8715e-05 - accuracy: 1.0000 - val_loss: 2.2524 - val_accuracy: 0.7315\n",
            "Epoch 121/150\n",
            "22/22 [==============================] - 0s 22ms/step - loss: 4.9675e-05 - accuracy: 1.0000 - val_loss: 2.2480 - val_accuracy: 0.7383\n",
            "Epoch 122/150\n",
            "22/22 [==============================] - 1s 23ms/step - loss: 2.1881e-04 - accuracy: 1.0000 - val_loss: 2.4045 - val_accuracy: 0.7450\n",
            "Epoch 123/150\n",
            "22/22 [==============================] - 0s 22ms/step - loss: 5.0504e-05 - accuracy: 1.0000 - val_loss: 2.3906 - val_accuracy: 0.7383\n",
            "Epoch 124/150\n",
            "22/22 [==============================] - 1s 23ms/step - loss: 6.5674e-05 - accuracy: 1.0000 - val_loss: 2.3740 - val_accuracy: 0.7248\n",
            "Epoch 125/150\n",
            "22/22 [==============================] - 0s 22ms/step - loss: 7.5097e-05 - accuracy: 1.0000 - val_loss: 2.3575 - val_accuracy: 0.7248\n",
            "Epoch 126/150\n",
            "22/22 [==============================] - 0s 22ms/step - loss: 5.9550e-05 - accuracy: 1.0000 - val_loss: 2.3561 - val_accuracy: 0.7248\n",
            "Epoch 127/150\n",
            "22/22 [==============================] - 0s 22ms/step - loss: 5.2483e-05 - accuracy: 1.0000 - val_loss: 2.3154 - val_accuracy: 0.7315\n",
            "Epoch 128/150\n",
            "22/22 [==============================] - 0s 22ms/step - loss: 4.5527e-05 - accuracy: 1.0000 - val_loss: 2.3117 - val_accuracy: 0.7315\n",
            "Epoch 129/150\n",
            "22/22 [==============================] - 0s 22ms/step - loss: 4.1861e-05 - accuracy: 1.0000 - val_loss: 2.3115 - val_accuracy: 0.7315\n",
            "Epoch 130/150\n",
            "22/22 [==============================] - 0s 23ms/step - loss: 5.1453e-04 - accuracy: 1.0000 - val_loss: 2.6609 - val_accuracy: 0.6913\n",
            "Epoch 131/150\n",
            "22/22 [==============================] - 0s 22ms/step - loss: 3.6272e-05 - accuracy: 1.0000 - val_loss: 2.8146 - val_accuracy: 0.6711\n",
            "Epoch 132/150\n",
            "22/22 [==============================] - 0s 22ms/step - loss: 8.9373e-05 - accuracy: 1.0000 - val_loss: 2.7435 - val_accuracy: 0.6846\n",
            "Epoch 133/150\n",
            "22/22 [==============================] - 1s 23ms/step - loss: 3.8820e-05 - accuracy: 1.0000 - val_loss: 2.6519 - val_accuracy: 0.6846\n",
            "Epoch 134/150\n",
            "22/22 [==============================] - 0s 23ms/step - loss: 6.3354e-04 - accuracy: 1.0000 - val_loss: 2.6869 - val_accuracy: 0.6846\n",
            "Epoch 135/150\n",
            "22/22 [==============================] - 0s 23ms/step - loss: 6.0778e-04 - accuracy: 1.0000 - val_loss: 2.7209 - val_accuracy: 0.6980\n",
            "Epoch 136/150\n",
            "22/22 [==============================] - 0s 22ms/step - loss: 2.6281e-04 - accuracy: 1.0000 - val_loss: 2.5207 - val_accuracy: 0.7047\n",
            "Epoch 137/150\n",
            "22/22 [==============================] - 0s 22ms/step - loss: 2.3858e-04 - accuracy: 1.0000 - val_loss: 3.1932 - val_accuracy: 0.6779\n",
            "Epoch 138/150\n",
            "22/22 [==============================] - 0s 22ms/step - loss: 2.5934e-04 - accuracy: 1.0000 - val_loss: 3.1768 - val_accuracy: 0.6711\n",
            "Epoch 139/150\n",
            "22/22 [==============================] - 0s 21ms/step - loss: 9.5383e-05 - accuracy: 1.0000 - val_loss: 3.1151 - val_accuracy: 0.6779\n",
            "Epoch 140/150\n",
            "22/22 [==============================] - 1s 26ms/step - loss: 0.0018 - accuracy: 1.0000 - val_loss: 2.6331 - val_accuracy: 0.7248\n",
            "Epoch 141/150\n",
            "22/22 [==============================] - 0s 23ms/step - loss: 0.2896 - accuracy: 0.9653 - val_loss: 51.7309 - val_accuracy: 0.5302\n",
            "Epoch 142/150\n",
            "22/22 [==============================] - 0s 21ms/step - loss: 0.5850 - accuracy: 0.8353 - val_loss: 0.9244 - val_accuracy: 0.6510\n",
            "Epoch 143/150\n",
            "22/22 [==============================] - 0s 21ms/step - loss: 0.1998 - accuracy: 0.9277 - val_loss: 1.7281 - val_accuracy: 0.6779\n",
            "Epoch 144/150\n",
            "22/22 [==============================] - 0s 22ms/step - loss: 0.1559 - accuracy: 0.9480 - val_loss: 3.2140 - val_accuracy: 0.6510\n",
            "Epoch 145/150\n",
            "22/22 [==============================] - 0s 22ms/step - loss: 0.0562 - accuracy: 0.9855 - val_loss: 3.4454 - val_accuracy: 0.5973\n",
            "Epoch 146/150\n",
            "22/22 [==============================] - 0s 22ms/step - loss: 0.0245 - accuracy: 0.9884 - val_loss: 2.7083 - val_accuracy: 0.6309\n",
            "Epoch 147/150\n",
            "22/22 [==============================] - 0s 21ms/step - loss: 0.0116 - accuracy: 0.9971 - val_loss: 1.7006 - val_accuracy: 0.6510\n",
            "Epoch 148/150\n",
            "22/22 [==============================] - 0s 22ms/step - loss: 0.0136 - accuracy: 0.9971 - val_loss: 2.6452 - val_accuracy: 0.6443\n",
            "Epoch 149/150\n",
            "22/22 [==============================] - 0s 23ms/step - loss: 0.0078 - accuracy: 1.0000 - val_loss: 1.6289 - val_accuracy: 0.6846\n",
            "Epoch 150/150\n",
            "22/22 [==============================] - 0s 22ms/step - loss: 0.0122 - accuracy: 0.9942 - val_loss: 1.4907 - val_accuracy: 0.6980\n"
          ],
          "name": "stdout"
        }
      ]
    },
    {
      "cell_type": "code",
      "metadata": {
        "colab": {
          "base_uri": "https://localhost:8080/",
          "height": 295
        },
        "id": "SKqzztQDpF01",
        "outputId": "7abdf6f8-e30a-40b2-e837-14f88313fa44"
      },
      "source": [
        "import os\n",
        "import seaborn as sns\n",
        "#plot the training and validation accuracy and loss at each epoch\n",
        "loss = history.history['loss']\n",
        "val_loss = history.history['val_loss']\n",
        "epochs = range(1, len(loss) + 1)\n",
        "plt.plot(epochs, loss, 'y', label='Training loss')\n",
        "plt.plot(epochs, val_loss, 'r', label='Validation loss')\n",
        "plt.title('Training and validation loss')\n",
        "plt.xlabel('Epochs')\n",
        "plt.ylabel('Loss')\n",
        "plt.legend()\n",
        "plt.show()"
      ],
      "execution_count": 90,
      "outputs": [
        {
          "output_type": "display_data",
          "data": {
            "image/png": "[encoded data removed]",
            "text/plain": [
              "<Figure size 432x288 with 1 Axes>"
            ]
          },
          "metadata": {
            "needs_background": "light"
          }
        }
      ]
    },
    {
      "cell_type": "code",
      "metadata": {
        "colab": {
          "base_uri": "https://localhost:8080/",
          "height": 295
        },
        "id": "9mpZlD41pF4A",
        "outputId": "ea7f3fe5-b7cb-4d42-e7c3-e414b5cc125a"
      },
      "source": [
        "acc = history.history['accuracy']\n",
        "val_acc = history.history['val_accuracy']\n",
        "plt.plot(epochs, acc, 'y', label='Training acc')\n",
        "plt.plot(epochs, val_acc, 'r', label='Validation acc')\n",
        "plt.title('Training and validation accuracy')\n",
        "plt.xlabel('Epochs')\n",
        "plt.ylabel('Accuracy')\n",
        "plt.legend()\n",
        "plt.show()"
      ],
      "execution_count": 91,
      "outputs": [
        {
          "output_type": "display_data",
          "data": {
            "image/png": "[encoded data removed]",
            "text/plain": [
              "<Figure size 432x288 with 1 Axes>"
            ]
          },
          "metadata": {
            "needs_background": "light"
          }
        }
      ]
    },
    {
      "cell_type": "code",
      "metadata": {
        "colab": {
          "base_uri": "https://localhost:8080/",
          "height": 332
        },
        "id": "D-PzHWUjpF7H",
        "outputId": "54725c4d-4c70-49aa-ee51-8923ce79c43e"
      },
      "source": [
        "prediction_NN = model.predict(xTest11)\n",
        "prediction_NN = np.argmax(prediction_NN, axis=-1)\n",
        "#Print overall accuracy\n",
        "from sklearn import metrics\n",
        "print (\"Accuracy = \", metrics.accuracy_score(yTest1, prediction_NN))\n",
        "#Confusion Matrix - verify accuracy of each class\n",
        "from sklearn.metrics import confusion_matrix\n",
        "cm = confusion_matrix(yTest1, prediction_NN)\n",
        "print(cm)\n",
        "sns.heatmap(cm, annot=True)"
      ],
      "execution_count": 92,
      "outputs": [
        {
          "output_type": "stream",
          "text": [
            "Accuracy =  0.697986577181208\n",
            "[[53 17]\n",
            " [28 51]]\n"
          ],
          "name": "stdout"
        },
        {
          "output_type": "execute_result",
          "data": {
            "text/plain": [
              "<matplotlib.axes._subplots.AxesSubplot at 0x7f9abb759c50>"
            ]
          },
          "metadata": {},
          "execution_count": 92
        },
        {
          "output_type": "display_data",
          "data": {
            "image/png": "[encoded data removed]",
            "text/plain": [
              "<Figure size 432x288 with 2 Axes>"
            ]
          },
          "metadata": {
            "needs_background": "light"
          }
        }
      ]
    },
    {
      "cell_type": "code",
      "metadata": {
        "colab": {
          "base_uri": "https://localhost:8080/"
        },
        "id": "kRN2ooNbfptj",
        "outputId": "81de9599-11ab-421f-fff2-312df17af56a"
      },
      "source": [
        "from keras.callbacks import EarlyStopping\n",
        "#set early stopping monitor so the model stops training when it won't improve anymore\n",
        "early_stopping_monitor = EarlyStopping(patience=500)\n",
        "\n",
        "#train model\n",
        "history=model.fit(xTrain11, yTrain11, validation_data = (xTest11, yTest11), epochs=50, batch_size=16)\n"
      ],
      "execution_count": 93,
      "outputs": [
        {
          "output_type": "stream",
          "text": [
            "Epoch 1/50\n",
            "22/22 [==============================] - 1s 27ms/step - loss: 0.0122 - accuracy: 0.9971 - val_loss: 3.0516 - val_accuracy: 0.6711\n",
            "Epoch 2/50\n",
            "22/22 [==============================] - 0s 22ms/step - loss: 0.0191 - accuracy: 0.9942 - val_loss: 3.3781 - val_accuracy: 0.6376\n",
            "Epoch 3/50\n",
            "22/22 [==============================] - 0s 22ms/step - loss: 0.0299 - accuracy: 0.9827 - val_loss: 1.9961 - val_accuracy: 0.6711\n",
            "Epoch 4/50\n",
            "22/22 [==============================] - 0s 22ms/step - loss: 0.1096 - accuracy: 0.9624 - val_loss: 3.8500 - val_accuracy: 0.6174\n",
            "Epoch 5/50\n",
            "22/22 [==============================] - 0s 22ms/step - loss: 0.1565 - accuracy: 0.9624 - val_loss: 6.3291 - val_accuracy: 0.6577\n",
            "Epoch 6/50\n",
            "22/22 [==============================] - 0s 22ms/step - loss: 0.1251 - accuracy: 0.9595 - val_loss: 5.1721 - val_accuracy: 0.6644\n",
            "Epoch 7/50\n",
            "22/22 [==============================] - 0s 22ms/step - loss: 0.0746 - accuracy: 0.9740 - val_loss: 2.5486 - val_accuracy: 0.6913\n",
            "Epoch 8/50\n",
            "22/22 [==============================] - 0s 22ms/step - loss: 0.0363 - accuracy: 0.9855 - val_loss: 1.7933 - val_accuracy: 0.6980\n",
            "Epoch 9/50\n",
            "22/22 [==============================] - 0s 22ms/step - loss: 0.0148 - accuracy: 0.9942 - val_loss: 1.7937 - val_accuracy: 0.6980\n",
            "Epoch 10/50\n",
            "22/22 [==============================] - 0s 21ms/step - loss: 0.0053 - accuracy: 1.0000 - val_loss: 1.9666 - val_accuracy: 0.7047\n",
            "Epoch 11/50\n",
            "22/22 [==============================] - 0s 22ms/step - loss: 0.0041 - accuracy: 1.0000 - val_loss: 1.8233 - val_accuracy: 0.6980\n",
            "Epoch 12/50\n",
            "22/22 [==============================] - 0s 22ms/step - loss: 0.0015 - accuracy: 1.0000 - val_loss: 1.7108 - val_accuracy: 0.7047\n",
            "Epoch 13/50\n",
            "22/22 [==============================] - 0s 21ms/step - loss: 0.0027 - accuracy: 1.0000 - val_loss: 1.5021 - val_accuracy: 0.7450\n",
            "Epoch 14/50\n",
            "22/22 [==============================] - 0s 21ms/step - loss: 0.0025 - accuracy: 1.0000 - val_loss: 1.4398 - val_accuracy: 0.7315\n",
            "Epoch 15/50\n",
            "22/22 [==============================] - 0s 22ms/step - loss: 0.0038 - accuracy: 1.0000 - val_loss: 1.5903 - val_accuracy: 0.7315\n",
            "Epoch 16/50\n",
            "22/22 [==============================] - 0s 21ms/step - loss: 0.0018 - accuracy: 1.0000 - val_loss: 1.6900 - val_accuracy: 0.7383\n",
            "Epoch 17/50\n",
            "22/22 [==============================] - 0s 21ms/step - loss: 0.0017 - accuracy: 1.0000 - val_loss: 1.7634 - val_accuracy: 0.7181\n",
            "Epoch 18/50\n",
            "22/22 [==============================] - 0s 22ms/step - loss: 8.3687e-04 - accuracy: 1.0000 - val_loss: 1.8419 - val_accuracy: 0.7047\n",
            "Epoch 19/50\n",
            "22/22 [==============================] - 0s 21ms/step - loss: 7.0108e-04 - accuracy: 1.0000 - val_loss: 1.8167 - val_accuracy: 0.7047\n",
            "Epoch 20/50\n",
            "22/22 [==============================] - 0s 23ms/step - loss: 0.0015 - accuracy: 1.0000 - val_loss: 1.8400 - val_accuracy: 0.7114\n",
            "Epoch 21/50\n",
            "22/22 [==============================] - 0s 21ms/step - loss: 0.0028 - accuracy: 0.9971 - val_loss: 1.9191 - val_accuracy: 0.7584\n",
            "Epoch 22/50\n",
            "22/22 [==============================] - 0s 21ms/step - loss: 4.6667e-04 - accuracy: 1.0000 - val_loss: 1.8714 - val_accuracy: 0.7651\n",
            "Epoch 23/50\n",
            "22/22 [==============================] - 0s 21ms/step - loss: 2.2713e-04 - accuracy: 1.0000 - val_loss: 1.8512 - val_accuracy: 0.7517\n",
            "Epoch 24/50\n",
            "22/22 [==============================] - 1s 25ms/step - loss: 6.8305e-04 - accuracy: 1.0000 - val_loss: 1.8382 - val_accuracy: 0.7517\n",
            "Epoch 25/50\n",
            "22/22 [==============================] - 0s 21ms/step - loss: 0.0023 - accuracy: 1.0000 - val_loss: 2.6294 - val_accuracy: 0.6644\n",
            "Epoch 26/50\n",
            "22/22 [==============================] - 0s 23ms/step - loss: 4.2509e-04 - accuracy: 1.0000 - val_loss: 2.5616 - val_accuracy: 0.6779\n",
            "Epoch 27/50\n",
            "22/22 [==============================] - 0s 21ms/step - loss: 5.5022e-04 - accuracy: 1.0000 - val_loss: 2.3980 - val_accuracy: 0.6913\n",
            "Epoch 28/50\n",
            "22/22 [==============================] - 0s 22ms/step - loss: 0.0024 - accuracy: 1.0000 - val_loss: 2.1162 - val_accuracy: 0.7047\n",
            "Epoch 29/50\n",
            "22/22 [==============================] - 0s 22ms/step - loss: 6.9462e-04 - accuracy: 1.0000 - val_loss: 2.0082 - val_accuracy: 0.7315\n",
            "Epoch 30/50\n",
            "22/22 [==============================] - 0s 21ms/step - loss: 4.6971e-04 - accuracy: 1.0000 - val_loss: 1.9874 - val_accuracy: 0.7383\n",
            "Epoch 31/50\n",
            "22/22 [==============================] - 0s 22ms/step - loss: 2.6760e-04 - accuracy: 1.0000 - val_loss: 1.9935 - val_accuracy: 0.7450\n",
            "Epoch 32/50\n",
            "22/22 [==============================] - 0s 22ms/step - loss: 3.1752e-04 - accuracy: 1.0000 - val_loss: 2.0062 - val_accuracy: 0.7517\n",
            "Epoch 33/50\n",
            "22/22 [==============================] - 0s 21ms/step - loss: 6.6222e-04 - accuracy: 1.0000 - val_loss: 2.0289 - val_accuracy: 0.7517\n",
            "Epoch 34/50\n",
            "22/22 [==============================] - 0s 21ms/step - loss: 1.2970e-04 - accuracy: 1.0000 - val_loss: 2.0948 - val_accuracy: 0.7248\n",
            "Epoch 35/50\n",
            "22/22 [==============================] - 0s 22ms/step - loss: 2.4059e-04 - accuracy: 1.0000 - val_loss: 2.0898 - val_accuracy: 0.7315\n",
            "Epoch 36/50\n",
            "22/22 [==============================] - 0s 22ms/step - loss: 1.5997e-04 - accuracy: 1.0000 - val_loss: 2.1089 - val_accuracy: 0.7383\n",
            "Epoch 37/50\n",
            "22/22 [==============================] - 0s 22ms/step - loss: 9.1438e-04 - accuracy: 1.0000 - val_loss: 1.8760 - val_accuracy: 0.7651\n",
            "Epoch 38/50\n",
            "22/22 [==============================] - 0s 22ms/step - loss: 2.1620e-04 - accuracy: 1.0000 - val_loss: 1.8552 - val_accuracy: 0.7584\n",
            "Epoch 39/50\n",
            "22/22 [==============================] - 0s 22ms/step - loss: 5.7724e-04 - accuracy: 1.0000 - val_loss: 1.9034 - val_accuracy: 0.7651\n",
            "Epoch 40/50\n",
            "22/22 [==============================] - 0s 22ms/step - loss: 1.4370e-04 - accuracy: 1.0000 - val_loss: 1.9910 - val_accuracy: 0.7517\n",
            "Epoch 41/50\n",
            "22/22 [==============================] - 0s 22ms/step - loss: 1.4075e-04 - accuracy: 1.0000 - val_loss: 2.0529 - val_accuracy: 0.7383\n",
            "Epoch 42/50\n",
            "22/22 [==============================] - 0s 21ms/step - loss: 2.1074e-04 - accuracy: 1.0000 - val_loss: 2.0837 - val_accuracy: 0.7315\n",
            "Epoch 43/50\n",
            "22/22 [==============================] - 0s 22ms/step - loss: 1.1339e-04 - accuracy: 1.0000 - val_loss: 2.1043 - val_accuracy: 0.7315\n",
            "Epoch 44/50\n",
            "22/22 [==============================] - 0s 22ms/step - loss: 1.3267e-04 - accuracy: 1.0000 - val_loss: 2.1231 - val_accuracy: 0.7383\n",
            "Epoch 45/50\n",
            "22/22 [==============================] - 1s 26ms/step - loss: 6.4526e-05 - accuracy: 1.0000 - val_loss: 2.1341 - val_accuracy: 0.7383\n",
            "Epoch 46/50\n",
            "22/22 [==============================] - 0s 22ms/step - loss: 9.8175e-05 - accuracy: 1.0000 - val_loss: 2.1590 - val_accuracy: 0.7315\n",
            "Epoch 47/50\n",
            "22/22 [==============================] - 0s 21ms/step - loss: 8.9536e-05 - accuracy: 1.0000 - val_loss: 2.1766 - val_accuracy: 0.7383\n",
            "Epoch 48/50\n",
            "22/22 [==============================] - 0s 22ms/step - loss: 1.0017e-04 - accuracy: 1.0000 - val_loss: 2.1873 - val_accuracy: 0.7315\n",
            "Epoch 49/50\n",
            "22/22 [==============================] - 0s 22ms/step - loss: 5.9989e-04 - accuracy: 1.0000 - val_loss: 2.1712 - val_accuracy: 0.7517\n",
            "Epoch 50/50\n",
            "22/22 [==============================] - 0s 21ms/step - loss: 3.4072e-04 - accuracy: 1.0000 - val_loss: 2.2064 - val_accuracy: 0.7450\n"
          ],
          "name": "stdout"
        }
      ]
    },
    {
      "cell_type": "code",
      "metadata": {
        "colab": {
          "base_uri": "https://localhost:8080/",
          "height": 332
        },
        "id": "tPwbNe9QgPqb",
        "outputId": "c84af788-75f8-4800-850d-e55ff1b39ac4"
      },
      "source": [
        "prediction_NN = model.predict(xTest11)\n",
        "prediction_NN = np.argmax(prediction_NN, axis=-1)\n",
        "#Print overall accuracy\n",
        "from sklearn import metrics\n",
        "print (\"Accuracy = \", metrics.accuracy_score(yTest1, prediction_NN))\n",
        "#Confusion Matrix - verify accuracy of each class\n",
        "from sklearn.metrics import confusion_matrix\n",
        "cm = confusion_matrix(yTest1, prediction_NN)\n",
        "print(cm)\n",
        "sns.heatmap(cm, annot=True)"
      ],
      "execution_count": 94,
      "outputs": [
        {
          "output_type": "stream",
          "text": [
            "Accuracy =  0.7449664429530202\n",
            "[[53 17]\n",
            " [21 58]]\n"
          ],
          "name": "stdout"
        },
        {
          "output_type": "execute_result",
          "data": {
            "text/plain": [
              "<matplotlib.axes._subplots.AxesSubplot at 0x7f9ac0cee450>"
            ]
          },
          "metadata": {},
          "execution_count": 94
        },
        {
          "output_type": "display_data",
          "data": {
            "image/png": "[encoded data removed]",
            "text/plain": [
              "<Figure size 432x288 with 2 Axes>"
            ]
          },
          "metadata": {
            "needs_background": "light"
          }
        }
      ]
    },
    {
      "cell_type": "code",
      "metadata": {
        "colab": {
          "base_uri": "https://localhost:8080/",
          "height": 1000
        },
        "id": "nF_cw4JwgWhO",
        "outputId": "dd33cb85-6d19-48e7-b379-b7df069ea502"
      },
      "source": [
        "from keras.callbacks import EarlyStopping\n",
        "#set early stopping monitor so the model stops training when it won't improve anymore\n",
        "early_stopping_monitor = EarlyStopping(patience=500)\n",
        "\n",
        "#train model\n",
        "history=model.fit(xTrain11, yTrain11, validation_data = (xTest11, yTest11), epochs=50, batch_size=16)\n",
        "\n",
        "prediction_NN = model.predict(xTest11)\n",
        "prediction_NN = np.argmax(prediction_NN, axis=-1)\n",
        "#Print overall accuracy\n",
        "from sklearn import metrics\n",
        "print (\"Accuracy = \", metrics.accuracy_score(yTest1, prediction_NN))\n",
        "#Confusion Matrix - verify accuracy of each class\n",
        "from sklearn.metrics import confusion_matrix\n",
        "cm = confusion_matrix(yTest1, prediction_NN)\n",
        "print(cm)\n",
        "sns.heatmap(cm, annot=True)\n"
      ],
      "execution_count": 95,
      "outputs": [
        {
          "output_type": "stream",
          "text": [
            "Epoch 1/50\n",
            "22/22 [==============================] - 0s 23ms/step - loss: 1.2025e-04 - accuracy: 1.0000 - val_loss: 2.2259 - val_accuracy: 0.7383\n",
            "Epoch 2/50\n",
            "22/22 [==============================] - 0s 21ms/step - loss: 1.0054e-04 - accuracy: 1.0000 - val_loss: 2.2384 - val_accuracy: 0.7315\n",
            "Epoch 3/50\n",
            "22/22 [==============================] - 0s 21ms/step - loss: 9.2823e-04 - accuracy: 1.0000 - val_loss: 2.1868 - val_accuracy: 0.7584\n",
            "Epoch 4/50\n",
            "22/22 [==============================] - 0s 21ms/step - loss: 2.5211e-04 - accuracy: 1.0000 - val_loss: 2.2720 - val_accuracy: 0.7517\n",
            "Epoch 5/50\n",
            "22/22 [==============================] - 0s 22ms/step - loss: 1.6834e-04 - accuracy: 1.0000 - val_loss: 2.2367 - val_accuracy: 0.7584\n",
            "Epoch 6/50\n",
            "22/22 [==============================] - 0s 22ms/step - loss: 2.1804e-04 - accuracy: 1.0000 - val_loss: 2.2810 - val_accuracy: 0.7584\n",
            "Epoch 7/50\n",
            "22/22 [==============================] - 0s 21ms/step - loss: 4.3328e-04 - accuracy: 1.0000 - val_loss: 2.4311 - val_accuracy: 0.7383\n",
            "Epoch 8/50\n",
            "22/22 [==============================] - 0s 21ms/step - loss: 5.5084e-04 - accuracy: 1.0000 - val_loss: 2.5618 - val_accuracy: 0.6913\n",
            "Epoch 9/50\n",
            "22/22 [==============================] - 0s 22ms/step - loss: 6.5440e-05 - accuracy: 1.0000 - val_loss: 2.5350 - val_accuracy: 0.6980\n",
            "Epoch 10/50\n",
            "22/22 [==============================] - 0s 22ms/step - loss: 7.7899e-05 - accuracy: 1.0000 - val_loss: 2.4862 - val_accuracy: 0.7181\n",
            "Epoch 11/50\n",
            "22/22 [==============================] - 0s 22ms/step - loss: 7.5523e-05 - accuracy: 1.0000 - val_loss: 2.4726 - val_accuracy: 0.7181\n",
            "Epoch 12/50\n",
            "22/22 [==============================] - 0s 22ms/step - loss: 7.1298e-05 - accuracy: 1.0000 - val_loss: 2.4642 - val_accuracy: 0.7248\n",
            "Epoch 13/50\n",
            "22/22 [==============================] - 0s 22ms/step - loss: 4.8158e-05 - accuracy: 1.0000 - val_loss: 2.4496 - val_accuracy: 0.7315\n",
            "Epoch 14/50\n",
            "22/22 [==============================] - 0s 21ms/step - loss: 2.7102e-04 - accuracy: 1.0000 - val_loss: 2.5178 - val_accuracy: 0.7114\n",
            "Epoch 15/50\n",
            "22/22 [==============================] - 0s 22ms/step - loss: 8.4942e-05 - accuracy: 1.0000 - val_loss: 2.5074 - val_accuracy: 0.7181\n",
            "Epoch 16/50\n",
            "22/22 [==============================] - 0s 22ms/step - loss: 5.3929e-05 - accuracy: 1.0000 - val_loss: 2.4955 - val_accuracy: 0.7181\n",
            "Epoch 17/50\n",
            "22/22 [==============================] - 0s 21ms/step - loss: 4.3531e-05 - accuracy: 1.0000 - val_loss: 2.4894 - val_accuracy: 0.7248\n",
            "Epoch 18/50\n",
            "22/22 [==============================] - 0s 22ms/step - loss: 8.9662e-04 - accuracy: 1.0000 - val_loss: 2.4032 - val_accuracy: 0.7181\n",
            "Epoch 19/50\n",
            "22/22 [==============================] - 0s 22ms/step - loss: 1.5989e-04 - accuracy: 1.0000 - val_loss: 2.6610 - val_accuracy: 0.6711\n",
            "Epoch 20/50\n",
            "22/22 [==============================] - 0s 21ms/step - loss: 7.7651e-05 - accuracy: 1.0000 - val_loss: 2.6338 - val_accuracy: 0.6846\n",
            "Epoch 21/50\n",
            "22/22 [==============================] - 0s 22ms/step - loss: 6.7040e-05 - accuracy: 1.0000 - val_loss: 2.5686 - val_accuracy: 0.6846\n",
            "Epoch 22/50\n",
            "22/22 [==============================] - 0s 21ms/step - loss: 2.6134e-04 - accuracy: 1.0000 - val_loss: 2.4583 - val_accuracy: 0.7114\n",
            "Epoch 23/50\n",
            "22/22 [==============================] - 0s 22ms/step - loss: 7.3849e-05 - accuracy: 1.0000 - val_loss: 2.3672 - val_accuracy: 0.7383\n",
            "Epoch 24/50\n",
            "22/22 [==============================] - 0s 22ms/step - loss: 2.7262e-05 - accuracy: 1.0000 - val_loss: 2.3729 - val_accuracy: 0.7450\n",
            "Epoch 25/50\n",
            "22/22 [==============================] - 0s 21ms/step - loss: 2.0038e-04 - accuracy: 1.0000 - val_loss: 2.4729 - val_accuracy: 0.7248\n",
            "Epoch 26/50\n",
            "22/22 [==============================] - 0s 21ms/step - loss: 4.1398e-05 - accuracy: 1.0000 - val_loss: 2.5811 - val_accuracy: 0.7181\n",
            "Epoch 27/50\n",
            "22/22 [==============================] - 0s 22ms/step - loss: 1.5869e-04 - accuracy: 1.0000 - val_loss: 2.5661 - val_accuracy: 0.7181\n",
            "Epoch 28/50\n",
            "22/22 [==============================] - 0s 21ms/step - loss: 1.5590e-04 - accuracy: 1.0000 - val_loss: 2.4256 - val_accuracy: 0.7181\n",
            "Epoch 29/50\n",
            "22/22 [==============================] - 0s 21ms/step - loss: 2.5300e-05 - accuracy: 1.0000 - val_loss: 2.4110 - val_accuracy: 0.7181\n",
            "Epoch 30/50\n",
            "22/22 [==============================] - 0s 22ms/step - loss: 3.1851e-05 - accuracy: 1.0000 - val_loss: 2.4131 - val_accuracy: 0.7181\n",
            "Epoch 31/50\n",
            "22/22 [==============================] - 0s 21ms/step - loss: 7.9624e-05 - accuracy: 1.0000 - val_loss: 2.4146 - val_accuracy: 0.7248\n",
            "Epoch 32/50\n",
            "22/22 [==============================] - 0s 22ms/step - loss: 2.7362e-05 - accuracy: 1.0000 - val_loss: 2.4230 - val_accuracy: 0.7248\n",
            "Epoch 33/50\n",
            "22/22 [==============================] - 0s 21ms/step - loss: 7.5613e-05 - accuracy: 1.0000 - val_loss: 2.4347 - val_accuracy: 0.7248\n",
            "Epoch 34/50\n",
            "22/22 [==============================] - 0s 21ms/step - loss: 1.1852e-04 - accuracy: 1.0000 - val_loss: 2.4839 - val_accuracy: 0.7181\n",
            "Epoch 35/50\n",
            "22/22 [==============================] - 0s 21ms/step - loss: 4.2380e-05 - accuracy: 1.0000 - val_loss: 2.5049 - val_accuracy: 0.7114\n",
            "Epoch 36/50\n",
            "22/22 [==============================] - 0s 21ms/step - loss: 3.9596e-05 - accuracy: 1.0000 - val_loss: 2.5036 - val_accuracy: 0.7114\n",
            "Epoch 37/50\n",
            "22/22 [==============================] - 0s 22ms/step - loss: 6.7165e-05 - accuracy: 1.0000 - val_loss: 2.5349 - val_accuracy: 0.7114\n",
            "Epoch 38/50\n",
            "22/22 [==============================] - 0s 21ms/step - loss: 2.4230e-05 - accuracy: 1.0000 - val_loss: 2.5450 - val_accuracy: 0.7114\n",
            "Epoch 39/50\n",
            "22/22 [==============================] - 0s 21ms/step - loss: 4.7320e-05 - accuracy: 1.0000 - val_loss: 2.5367 - val_accuracy: 0.7114\n",
            "Epoch 40/50\n",
            "22/22 [==============================] - 0s 23ms/step - loss: 2.4286e-05 - accuracy: 1.0000 - val_loss: 2.5307 - val_accuracy: 0.7114\n",
            "Epoch 41/50\n",
            "22/22 [==============================] - 0s 22ms/step - loss: 2.4859e-05 - accuracy: 1.0000 - val_loss: 2.5613 - val_accuracy: 0.7114\n",
            "Epoch 42/50\n",
            "22/22 [==============================] - 0s 21ms/step - loss: 1.8291e-05 - accuracy: 1.0000 - val_loss: 2.5638 - val_accuracy: 0.7114\n",
            "Epoch 43/50\n",
            "22/22 [==============================] - 1s 26ms/step - loss: 3.4541e-05 - accuracy: 1.0000 - val_loss: 2.5824 - val_accuracy: 0.7114\n",
            "Epoch 44/50\n",
            "22/22 [==============================] - 0s 22ms/step - loss: 3.5432e-05 - accuracy: 1.0000 - val_loss: 2.5947 - val_accuracy: 0.7114\n",
            "Epoch 45/50\n",
            "22/22 [==============================] - 1s 26ms/step - loss: 7.6794e-05 - accuracy: 1.0000 - val_loss: 2.6887 - val_accuracy: 0.7047\n",
            "Epoch 46/50\n",
            "22/22 [==============================] - 0s 22ms/step - loss: 2.9662e-05 - accuracy: 1.0000 - val_loss: 2.6904 - val_accuracy: 0.7047\n",
            "Epoch 47/50\n",
            "22/22 [==============================] - 0s 22ms/step - loss: 4.0750e-05 - accuracy: 1.0000 - val_loss: 2.6641 - val_accuracy: 0.7047\n",
            "Epoch 48/50\n",
            "22/22 [==============================] - 0s 22ms/step - loss: 2.8284e-05 - accuracy: 1.0000 - val_loss: 2.6419 - val_accuracy: 0.7047\n",
            "Epoch 49/50\n",
            "22/22 [==============================] - 0s 22ms/step - loss: 1.0640e-05 - accuracy: 1.0000 - val_loss: 2.6313 - val_accuracy: 0.7047\n",
            "Epoch 50/50\n",
            "22/22 [==============================] - 0s 21ms/step - loss: 1.3779e-04 - accuracy: 1.0000 - val_loss: 2.5940 - val_accuracy: 0.7114\n",
            "Accuracy =  0.7114093959731543\n",
            "[[47 23]\n",
            " [20 59]]\n"
          ],
          "name": "stdout"
        },
        {
          "output_type": "execute_result",
          "data": {
            "text/plain": [
              "<matplotlib.axes._subplots.AxesSubplot at 0x7f9abdc077d0>"
            ]
          },
          "metadata": {},
          "execution_count": 95
        },
        {
          "output_type": "display_data",
          "data": {
            "image/png": "[encoded data removed]",
            "text/plain": [
              "<Figure size 432x288 with 2 Axes>"
            ]
          },
          "metadata": {
            "needs_background": "light"
          }
        }
      ]
    },
    {
      "cell_type": "code",
      "metadata": {
        "id": "zF_XUwmMg2TP"
      },
      "source": [
        ""
      ],
      "execution_count": 95,
      "outputs": []
    }
  ]
}