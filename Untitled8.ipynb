{
  "nbformat": 4,
  "nbformat_minor": 0,
  "metadata": {
    "colab": {
      "name": "Untitled8.ipynb",
      "provenance": [],
      "include_colab_link": true
    },
    "kernelspec": {
      "name": "python3",
      "display_name": "Python 3"
    },
    "language_info": {
      "name": "python"
    },
    "accelerator": "GPU"
  },
  "cells": [
    {
      "cell_type": "markdown",
      "metadata": {
        "id": "view-in-github",
        "colab_type": "text"
      },
      "source": [
        "<a href=\"https://colab.research.google.com/github/rohitsubodh/GAN/blob/main/Untitled8.ipynb\" target=\"_parent\"><img src=\"https://colab.research.google.com/assets/colab-badge.svg\" alt=\"Open In Colab\"/></a>"
      ]
    },
    {
      "cell_type": "code",
      "metadata": {
        "id": "cMHBuO0wos-j"
      },
      "source": [
        "\n",
        "import tensorflow as tf\n",
        "import keras\n",
        "import numpy as np\n",
        "from keras import models\n",
        "from keras import layers\n",
        "from keras.wrappers.scikit_learn import KerasClassifier\n",
        "from sklearn.model_selection import cross_val_score\n",
        "from sklearn.datasets import make_classification\n",
        "from matplotlib import pyplot\n",
        "import numpy as np\n",
        "import matplotlib.pyplot as plt\n",
        "import pandas as pd\n",
        "from sklearn import preprocessing\n",
        "from keras.models import Sequential,Model\n",
        "from keras.layers import Dense, Dropout,Input, Conv1D, MaxPooling1D, UpSampling1D, concatenate, BatchNormalization, Activation, add\n",
        "from keras.layers import Embedding,LeakyReLU\n",
        "from keras.layers import Conv1D, GlobalAveragePooling1D, MaxPooling1D, Flatten, LocallyConnected1D, BatchNormalization\n",
        "import scipy.signal\n",
        "from sklearn.discriminant_analysis import LinearDiscriminantAnalysis\n",
        "from sklearn.decomposition import PCA, KernelPCA"
      ],
      "execution_count": 1,
      "outputs": []
    },
    {
      "cell_type": "code",
      "metadata": {
        "id": "Hi8fcclmpFNY"
      },
      "source": [
        "data = pd.read_excel('/content/PPG_new.xlsx',sheet_name='0-1')\n",
        "target = pd.read_excel('/content/PPG_new.xlsx',sheet_name='target 0-1')"
      ],
      "execution_count": 2,
      "outputs": []
    },
    {
      "cell_type": "code",
      "metadata": {
        "id": "wIeXqwO6svrV"
      },
      "source": [
        "data1=data\n",
        "kpca=KernelPCA(kernel=\"rbf\",fit_inverse_transform=True, gamma=10)\n",
        "data=kpca.fit_transform(data)\n",
        "\n"
      ],
      "execution_count": 3,
      "outputs": []
    },
    {
      "cell_type": "code",
      "metadata": {
        "colab": {
          "base_uri": "https://localhost:8080/"
        },
        "id": "mUhak2l_B-rq",
        "outputId": "5567e290-390a-4d25-ea0d-58c3db8f80d6"
      },
      "source": [
        "data.shape"
      ],
      "execution_count": 4,
      "outputs": [
        {
          "output_type": "execute_result",
          "data": {
            "text/plain": [
              "(495, 488)"
            ]
          },
          "metadata": {},
          "execution_count": 4
        }
      ]
    },
    {
      "cell_type": "code",
      "metadata": {
        "colab": {
          "base_uri": "https://localhost:8080/",
          "height": 265
        },
        "id": "q1Q3Q3FepFW2",
        "outputId": "948455fd-8939-4858-f103-b3789b5ad917"
      },
      "source": [
        "x= data[0,:]\n",
        "# x=data.iloc[0,:]\n",
        "plt.plot(x)\n",
        "plt.show\n",
        "data1=data"
      ],
      "execution_count": 5,
      "outputs": [
        {
          "output_type": "display_data",
          "data": {
            "image/png": "[encoded data removed]",
            "text/plain": [
              "<Figure size 432x288 with 1 Axes>"
            ]
          },
          "metadata": {
            "needs_background": "light"
          }
        }
      ]
    },
    {
      "cell_type": "code",
      "metadata": {
        "id": "10KkuwVR1Q96"
      },
      "source": [
        "# from sklearn.preprocessing import StandardScaler,MinMaxScaler\n",
        "\n",
        "# data = StandardScaler().fit_transform(data)\n",
        "# data=MinMaxScaler().fit_transform(data)"
      ],
      "execution_count": 6,
      "outputs": []
    },
    {
      "cell_type": "code",
      "metadata": {
        "colab": {
          "base_uri": "https://localhost:8080/",
          "height": 282
        },
        "id": "SRcZU0-ppFaK",
        "outputId": "248fdd0a-8e2d-4b1c-ed11-6af8c25af3ae"
      },
      "source": [
        "# Applying median filter\n",
        "data=scipy.signal.medfilt(data)\n",
        "data\n",
        "x= data[0,:]\n",
        "plt.plot(x)\n",
        "plt.show"
      ],
      "execution_count": 7,
      "outputs": [
        {
          "output_type": "execute_result",
          "data": {
            "text/plain": [
              "<function matplotlib.pyplot.show>"
            ]
          },
          "metadata": {},
          "execution_count": 7
        },
        {
          "output_type": "display_data",
          "data": {
            "image/png": "[encoded data removed]",
            "text/plain": [
              "<Figure size 432x288 with 1 Axes>"
            ]
          },
          "metadata": {
            "needs_background": "light"
          }
        }
      ]
    },
    {
      "cell_type": "code",
      "metadata": {
        "colab": {
          "base_uri": "https://localhost:8080/"
        },
        "id": "Rr2cHwXGpFc9",
        "outputId": "8da62a84-254d-42d1-a512-2343b5990edb"
      },
      "source": [
        "# Design of low pass chebyshev filter\n",
        "sos= scipy.signal.cheby2(4, 10, 25, 'low', fs=1000, output='sos')\n",
        "sos"
      ],
      "execution_count": 8,
      "outputs": [
        {
          "output_type": "execute_result",
          "data": {
            "text/plain": [
              "array([[ 0.26741176, -0.49141861,  0.26741176,  1.        , -1.6346899 ,\n",
              "         0.69069827],\n",
              "       [ 1.        , -1.97118242,  1.        ,  1.        , -1.92658177,\n",
              "         0.94891457]])"
            ]
          },
          "metadata": {},
          "execution_count": 8
        }
      ]
    },
    {
      "cell_type": "code",
      "metadata": {
        "colab": {
          "base_uri": "https://localhost:8080/",
          "height": 282
        },
        "id": "V2M-vdahpFfz",
        "outputId": "a870266a-7bbb-41da-fa5c-b0ba6fe02a25"
      },
      "source": [
        "data= scipy.signal.sosfilt(sos, data) # applying chebyshev filter\n",
        "x= data[0,:]\n",
        "plt.plot(x)\n",
        "plt.show"
      ],
      "execution_count": 9,
      "outputs": [
        {
          "output_type": "execute_result",
          "data": {
            "text/plain": [
              "<function matplotlib.pyplot.show>"
            ]
          },
          "metadata": {},
          "execution_count": 9
        },
        {
          "output_type": "display_data",
          "data": {
            "image/png": "[encoded data removed]",
            "text/plain": [
              "<Figure size 432x288 with 1 Axes>"
            ]
          },
          "metadata": {
            "needs_background": "light"
          }
        }
      ]
    },
    {
      "cell_type": "code",
      "metadata": {
        "colab": {
          "base_uri": "https://localhost:8080/",
          "height": 282
        },
        "id": "dbCRU494pFiq",
        "outputId": "b5d3d889-3cec-439c-ad3f-05db76632c18"
      },
      "source": [
        "# Applying backward forward filter\n",
        "b, a = scipy.signal.butter(8, 0.125) # filter design\n",
        "\n",
        "data = scipy.signal.filtfilt(b, a, data, method=\"gust\")\n",
        "\n",
        "x= data[0,:]\n",
        "plt.plot(x)\n",
        "plt.show"
      ],
      "execution_count": 10,
      "outputs": [
        {
          "output_type": "execute_result",
          "data": {
            "text/plain": [
              "<function matplotlib.pyplot.show>"
            ]
          },
          "metadata": {},
          "execution_count": 10
        },
        {
          "output_type": "display_data",
          "data": {
            "image/png": "[encoded data removed]",
            "text/plain": [
              "<Figure size 432x288 with 1 Axes>"
            ]
          },
          "metadata": {
            "needs_background": "light"
          }
        }
      ]
    },
    {
      "cell_type": "code",
      "metadata": {
        "id": "Wp6SpBPGqCqY"
      },
      "source": [
        "# from sklearn.preprocessing import StandardScaler\n",
        "\n",
        "# data = StandardScaler().fit_transform(data)\n",
        "\n",
        "# xTrain1 = scaler.transform(xTrain1)\n",
        "\n",
        "# xTest1 = scaler.transform(xTest1)"
      ],
      "execution_count": 11,
      "outputs": []
    },
    {
      "cell_type": "code",
      "metadata": {
        "id": "aT_bUQPBpFlu"
      },
      "source": [
        "from sklearn.model_selection import train_test_split\n",
        "xTrain1, xTest1, yTrain1, yTest1 = train_test_split(data, target, test_size = 0.3, random_state = 42)"
      ],
      "execution_count": 12,
      "outputs": []
    },
    {
      "cell_type": "code",
      "metadata": {
        "id": "cXZ06OSTqc2O"
      },
      "source": [
        "# from sklearn.preprocessing import StandardScaler\n",
        "\n",
        "# scaler = StandardScaler().fit(xTrain1)\n",
        "\n",
        "# xTrain1 = scaler.transform(xTrain1)\n",
        "\n",
        "# xTest1 = scaler.transform(xTest1)"
      ],
      "execution_count": 13,
      "outputs": []
    },
    {
      "cell_type": "code",
      "metadata": {
        "id": "K0ct8stEpFor"
      },
      "source": [
        "xTrain11 = np.expand_dims(xTrain1, axis=2)\n",
        "yTrain11 = tf.keras.utils.to_categorical(yTrain1, num_classes=2)\n",
        "xTest11 =  np.expand_dims(xTest1, axis=2)\n",
        "yTest11 = tf.keras.utils.to_categorical(yTest1, num_classes=2)"
      ],
      "execution_count": 14,
      "outputs": []
    },
    {
      "cell_type": "code",
      "metadata": {
        "id": "egKDUU6zpFr2"
      },
      "source": [
        "input_shape = (2100, 1)\n"
      ],
      "execution_count": 15,
      "outputs": []
    },
    {
      "cell_type": "code",
      "metadata": {
        "id": "mVDYOW9JIHQ1"
      },
      "source": [
        "  #   x = 64\n",
        "  # #  from keras\n",
        "  #   inputs = Input(input_shape)\n",
        "  #   conv1 = Conv1D(x,3, activation='relu', padding='same')(inputs)\n",
        "  #   conv1 = BatchNormalization()(conv1)\n",
        "  #   conv1 = Conv1D(x,3, activation='relu', padding='same')(conv1)\n",
        "  #   conv1 = BatchNormalization()(conv1)\n",
        "  #   pool1 = MaxPooling1D(pool_size=2)(conv1)\n",
        "\n",
        "  #   conv2 = Conv1D(x*2,3, activation='relu', padding='same')(pool1)\n",
        "  #   conv2 = BatchNormalization()(conv2)\n",
        "  #   conv2 = Conv1D(x*2,3, activation='relu', padding='same')(conv2)\n",
        "  #   conv2 = BatchNormalization()(conv2)\n",
        "  #   pool2 = MaxPooling1D(pool_size=2)(conv2)\n",
        "\n",
        "  #   conv3 = Conv1D(x*4,3, activation='relu', padding='same')(pool2)\n",
        "  #   conv3 = BatchNormalization()(conv3)\n",
        "  #   conv3 = Conv1D(x*4,3, activation='relu', padding='same')(conv3)\n",
        "  #   conv3 = BatchNormalization()(conv3)\n",
        "  #   pool3 = MaxPooling1D(pool_size=2)(conv3)\n",
        "\n",
        "  #   conv4 = Conv1D(x*8,3, activation='relu', padding='same')(pool3)\n",
        "  #   conv4 = BatchNormalization()(conv4)\n",
        "  #   conv4 = Conv1D(x*8,3, activation='relu', padding='same')(conv4)\n",
        "  #   conv4 = BatchNormalization()(conv4)\n",
        "  #   pool4 = MaxPooling1D(pool_size=2)(conv4)\n",
        "\n",
        "  #   conv5 = Conv1D(x*16, 3, activation='relu', padding='same')(pool4)\n",
        "  #   conv5 = BatchNormalization()(conv5)\n",
        "  #   conv5 = Conv1D(x*16, 3, activation='relu', padding='same')(conv5)\n",
        "  #   conv5 = BatchNormalization()(conv5)\n",
        "\n",
        "  #   up6 = concatenate([UpSampling1D(size=2)(conv5), conv4], axis=2)\n",
        "  #   conv6 = Conv1D(x*8, 3, activation='relu', padding='same')(up6)\n",
        "  #   conv6 = BatchNormalization()(conv6)\n",
        "  #   conv6 = Conv1D(x*8, 3, activation='relu', padding='same')(conv6)\n",
        "  #   conv6 = BatchNormalization()(conv6)\n",
        "    \n",
        "  #   up7 = concatenate([UpSampling1D(size=2)(conv6), conv3], axis=2)\n",
        "  #   conv7 = Conv1D(x*4, 3, activation='relu', padding='same')(up7)\n",
        "  #   conv7 = BatchNormalization()(conv7)\n",
        "  #   conv7 = Conv1D(x*4, 3, activation='relu', padding='same')(conv7)\n",
        "  #   conv7 = BatchNormalization()(conv7)\n",
        "\n",
        "  #   up8 = concatenate([UpSampling1D(size=2)(conv7), conv2], axis=2)\n",
        "  #   conv8 = Conv1D(x*2, 3, activation='relu', padding='same')(up8)\n",
        "  #   conv8 = BatchNormalization()(conv8)\n",
        "  #   conv8 = Conv1D(x*2, 3, activation='relu', padding='same')(conv8)\n",
        "  #   conv8 = BatchNormalization()(conv8)\n",
        "\n",
        "  #   up9 = concatenate([UpSampling1D(size=2)(conv8), conv1], axis=2)\n",
        "  #   conv9 = Conv1D(x, 3, activation='relu', padding='same')(up9)\n",
        "  #   conv9 = BatchNormalization()(conv9)\n",
        "  #   conv9 = Conv1D(x, 3, activation='relu', padding='same')(conv9)\n",
        "  #   conv9 = BatchNormalization()(conv9)\n",
        "\n",
        "  #   conv10 = Conv1D(1, 1)(conv9)\n",
        "\n",
        "  #   model = Model(inputs=[inputs], outputs=[conv10])\n",
        "  #   # model.compile(loss='mean_absolute_error',optimizer='adam',metrics=['mean_squared_error'], loss_weights=[1., 0.9, 0.8, 0.7, 0.6])                                                         \n",
        "  #   model.compile(loss='categorical_crossentropy',\n",
        "  #                   optimizer='adam',\n",
        "  #                   metrics=['accuracy'])\n",
        "\n",
        "  #   # checkpoint1_ = ModelCheckpoint(os.path.join('models','{}_model1_fold{}.h5'.format(mdlName1,foldname)), verbose=1, monitor='val_out_loss',save_best_only=True, mode='auto')  \n",
        "  #                                                                       # train approximation network for 100 epochs\n",
        "  #   # history1 = mdl1.fit(X_train,{'out': Y_train['out'], 'level1': Y_train['level1'], 'level2':Y_train['level2'], 'level3':Y_train['level3'] , 'level4':Y_train['level4']},epochs=100,batch_size=256,validation_data=(X_val,{'out': Y_val['out'], 'level1': Y_val['level1'], 'level2':Y_val['level2'], 'level3':Y_val['level3'] , 'level4':Y_val['level4']}),callbacks=[checkpoint1_],verbose=1)\n",
        "  #   history = model.fit(xTrain1, yTrain1, validation_split=0.3, epochs=200, batch_size=20, verbose=2)\n"
      ],
      "execution_count": 16,
      "outputs": []
    },
    {
      "cell_type": "code",
      "metadata": {
        "id": "xJxQ1yvCpFur",
        "outputId": "88d7263a-4b3b-45b0-a984-6a655c8d8890",
        "colab": {
          "base_uri": "https://localhost:8080/"
        }
      },
      "source": [
        "\n",
        "#CNN Model\n",
        "\n",
        "model = Sequential()\n",
        "model.add(Conv1D(32, 3, activation='relu', input_shape=input_shape[0:]))\n",
        "model.add(BatchNormalization())\n",
        "model.add(LeakyReLU(alpha=0.1))\n",
        "model.add(Conv1D(64, 3, activation='relu', name=\"my_intermediate_layer\"))\n",
        "model.add(MaxPooling1D(3))\n",
        "model.add(BatchNormalization())\n",
        "model.add(LeakyReLU(alpha=0.1))\n",
        "model.add(Conv1D(128, 3, activation='relu'))\n",
        "model.add(BatchNormalization())\n",
        "model.add(LeakyReLU(alpha=0.1))\n",
        "model.add(Conv1D(256, 3, activation='relu'))\n",
        "model.add(GlobalAveragePooling1D())\n",
        "model.add(Dropout(0.5))\n",
        "model.add(Dense(100, name=\"dense\"))\n",
        "model.add(Dense(2, activation='softmax', name=\"dense1\"))\n",
        "model.compile(loss='categorical_crossentropy',\n",
        "                    optimizer='adam',\n",
        "                    metrics=['accuracy'])\n",
        "model.summary()"
      ],
      "execution_count": 17,
      "outputs": [
        {
          "output_type": "stream",
          "text": [
            "Model: \"sequential\"\n",
            "_________________________________________________________________\n",
            "Layer (type)                 Output Shape              Param #   \n",
            "=================================================================\n",
            "conv1d (Conv1D)              (None, 2098, 32)          128       \n",
            "_________________________________________________________________\n",
            "batch_normalization (BatchNo (None, 2098, 32)          128       \n",
            "_________________________________________________________________\n",
            "leaky_re_lu (LeakyReLU)      (None, 2098, 32)          0         \n",
            "_________________________________________________________________\n",
            "my_intermediate_layer (Conv1 (None, 2096, 64)          6208      \n",
            "_________________________________________________________________\n",
            "max_pooling1d (MaxPooling1D) (None, 698, 64)           0         \n",
            "_________________________________________________________________\n",
            "batch_normalization_1 (Batch (None, 698, 64)           256       \n",
            "_________________________________________________________________\n",
            "leaky_re_lu_1 (LeakyReLU)    (None, 698, 64)           0         \n",
            "_________________________________________________________________\n",
            "conv1d_1 (Conv1D)            (None, 696, 128)          24704     \n",
            "_________________________________________________________________\n",
            "batch_normalization_2 (Batch (None, 696, 128)          512       \n",
            "_________________________________________________________________\n",
            "leaky_re_lu_2 (LeakyReLU)    (None, 696, 128)          0         \n",
            "_________________________________________________________________\n",
            "conv1d_2 (Conv1D)            (None, 694, 256)          98560     \n",
            "_________________________________________________________________\n",
            "global_average_pooling1d (Gl (None, 256)               0         \n",
            "_________________________________________________________________\n",
            "dropout (Dropout)            (None, 256)               0         \n",
            "_________________________________________________________________\n",
            "dense (Dense)                (None, 100)               25700     \n",
            "_________________________________________________________________\n",
            "dense1 (Dense)               (None, 2)                 202       \n",
            "=================================================================\n",
            "Total params: 156,398\n",
            "Trainable params: 155,950\n",
            "Non-trainable params: 448\n",
            "_________________________________________________________________\n"
          ],
          "name": "stdout"
        }
      ]
    },
    {
      "cell_type": "code",
      "metadata": {
        "id": "H3v31kS4v0Em"
      },
      "source": [
        "\n",
        "# from sklearn.model_selection import train_test_split\n",
        "# xTrain1, xTest1, yTrain1, yTest1 = train_test_split(data, target, test_size = 0.3, random_state = 42)\n",
        "\n",
        "# xTrain1.shape, yTest1.shape\n",
        "\n",
        "# xTrain11 = np.expand_dims(xTrain1, axis=2)\n",
        "# yTrain11 = tf.keras.utils.to_categorical(yTrain1, num_classes=2)\n",
        "# xTest11 =  np.expand_dims(xTest1, axis=2)\n",
        "# yTest11 = tf.keras.utils.to_categorical(yTest1, num_classes=2)\n",
        "\n",
        "# input_shape = (2100, 1)\n",
        "\n",
        "# model = Sequential()\n",
        "\n",
        "# model.add(Dense(128, activation='relu', input_shape=(2100, ) ))\n",
        "# #model.add(Dropout(0.2))\n",
        "# model.add(BatchNormalization())\n",
        "\n",
        "# model.add(Dense(64, activation='relu', kernel_regularizer='l2', kernel_initializer='he_uniform'))\n",
        "# model.add(BatchNormalization())\n",
        "# model.add(Dropout(0.5))\n",
        "# model.add(Dense(32, activation='relu', kernel_regularizer='l2', kernel_initializer='he_uniform'))\n",
        "# model.add(BatchNormalization())\n",
        "# model.add(Dropout(0.1))\n",
        "# model.add(Dense(16, activation='relu', kernel_regularizer='l2', kernel_initializer='he_uniform'))\n",
        "# model.add(BatchNormalization())\n",
        "# model.add(Dropout(0.1))\n",
        "# #model.add(Dense(16, activation='relu', kernel_regularizer='l2'))\n",
        "# #model.add(Dropout(0.05))\n",
        "# #model.add(Dense(64, activation='relu'))#\n",
        "\n",
        "# model.add(Dense(1, activation='sigmoid')) \n",
        "# opt = tf.keras.optimizers.Adam(learning_rate=.005)\n",
        "# model.compile(loss='binary_crossentropy',\n",
        "#               optimizer= opt,\n",
        "#                metrics=['accuracy'])\n",
        "# model.summary()               \n",
        "# history = model.fit(xTrain1, yTrain1, validation_split=0.3, epochs=200, batch_size=20, verbose=2)\n",
        "\n",
        "# # model.evaluate(x=xTest1, y=yTest1, verbose=2)\n",
        "\n",
        "# # import os\n",
        "# # import seaborn as sns\n",
        "# # #plot the training and validation accuracy and loss at each epoch\n",
        "# # loss = history.history['loss']\n",
        "# # val_loss = history.history['val_loss']\n",
        "# # epochs = range(1, len(loss) + 1)\n",
        "# # plt.plot(loss[10:], 'b', label='Training loss')\n",
        "# # plt.plot(val_loss[10:], 'g', label='Validation loss')\n",
        "# # plt.title('Training and validation loss')\n",
        "# # plt.xlabel('Epochs')\n",
        "# # plt.ylabel('Loss')\n",
        "# # plt.legend()\n",
        "# # plt.show()\n",
        "\n",
        "# # acc = history.history['accuracy']\n",
        "# # val_acc = history.history['val_accuracy']\n",
        "# # plt.plot(epochs, acc, 'r', label='Training acc')\n",
        "# # plt.plot(epochs, val_acc, 'c', label='Validation acc')\n",
        "# # plt.title('Training and validation accuracy')\n",
        "# # plt.xlabel('Epochs')\n",
        "# # plt.ylabel('Accuracy')\n",
        "# # plt.legend()\n",
        "# # plt.show()"
      ],
      "execution_count": 18,
      "outputs": []
    },
    {
      "cell_type": "code",
      "metadata": {
        "colab": {
          "base_uri": "https://localhost:8080/"
        },
        "id": "dpRAWw9cpFyD",
        "outputId": "3a6e9016-4381-446d-bd74-db4252469c67"
      },
      "source": [
        "from keras.callbacks import EarlyStopping\n",
        "#set early stopping monitor so the model stops training when it won't improve anymore\n",
        "early_stopping_monitor = EarlyStopping(patience=500)\n",
        "\n",
        "#train model\n",
        "history=model.fit(xTrain11, yTrain11, validation_data = (xTest11, yTest11), epochs=150, batch_size=16)"
      ],
      "execution_count": 19,
      "outputs": [
        {
          "output_type": "stream",
          "text": [
            "Epoch 1/150\n",
            "WARNING:tensorflow:Model was constructed with shape (None, 2100, 1) for input KerasTensor(type_spec=TensorSpec(shape=(None, 2100, 1), dtype=tf.float32, name='conv1d_input'), name='conv1d_input', description=\"created by layer 'conv1d_input'\"), but it was called on an input with incompatible shape (None, 488, 1).\n",
            "WARNING:tensorflow:Model was constructed with shape (None, 2100, 1) for input KerasTensor(type_spec=TensorSpec(shape=(None, 2100, 1), dtype=tf.float32, name='conv1d_input'), name='conv1d_input', description=\"created by layer 'conv1d_input'\"), but it was called on an input with incompatible shape (None, 488, 1).\n",
            "22/22 [==============================] - ETA: 0s - loss: 0.6764 - accuracy: 0.6618WARNING:tensorflow:Model was constructed with shape (None, 2100, 1) for input KerasTensor(type_spec=TensorSpec(shape=(None, 2100, 1), dtype=tf.float32, name='conv1d_input'), name='conv1d_input', description=\"created by layer 'conv1d_input'\"), but it was called on an input with incompatible shape (None, 488, 1).\n",
            "22/22 [==============================] - 31s 50ms/step - loss: 0.6764 - accuracy: 0.6618 - val_loss: 0.6971 - val_accuracy: 0.4899\n",
            "Epoch 2/150\n",
            "22/22 [==============================] - 0s 15ms/step - loss: 0.7021 - accuracy: 0.6329 - val_loss: 0.6964 - val_accuracy: 0.4899\n",
            "Epoch 3/150\n",
            "22/22 [==============================] - 0s 16ms/step - loss: 0.6010 - accuracy: 0.6936 - val_loss: 0.6995 - val_accuracy: 0.4899\n",
            "Epoch 4/150\n",
            "22/22 [==============================] - 0s 17ms/step - loss: 0.5983 - accuracy: 0.6908 - val_loss: 0.7042 - val_accuracy: 0.4899\n",
            "Epoch 5/150\n",
            "22/22 [==============================] - 0s 14ms/step - loss: 0.5997 - accuracy: 0.6994 - val_loss: 0.7051 - val_accuracy: 0.4899\n",
            "Epoch 6/150\n",
            "22/22 [==============================] - 0s 15ms/step - loss: 0.6270 - accuracy: 0.6879 - val_loss: 0.7133 - val_accuracy: 0.4899\n",
            "Epoch 7/150\n",
            "22/22 [==============================] - 0s 14ms/step - loss: 0.5900 - accuracy: 0.7023 - val_loss: 0.7121 - val_accuracy: 0.4899\n",
            "Epoch 8/150\n",
            "22/22 [==============================] - 0s 15ms/step - loss: 0.6086 - accuracy: 0.7225 - val_loss: 0.7182 - val_accuracy: 0.4899\n",
            "Epoch 9/150\n",
            "22/22 [==============================] - 0s 15ms/step - loss: 0.5959 - accuracy: 0.6994 - val_loss: 0.7346 - val_accuracy: 0.4899\n",
            "Epoch 10/150\n",
            "22/22 [==============================] - 0s 14ms/step - loss: 0.5674 - accuracy: 0.7254 - val_loss: 0.7395 - val_accuracy: 0.4899\n",
            "Epoch 11/150\n",
            "22/22 [==============================] - 0s 15ms/step - loss: 0.6127 - accuracy: 0.6850 - val_loss: 0.7257 - val_accuracy: 0.4899\n",
            "Epoch 12/150\n",
            "22/22 [==============================] - 0s 15ms/step - loss: 0.5699 - accuracy: 0.7168 - val_loss: 0.7696 - val_accuracy: 0.4899\n",
            "Epoch 13/150\n",
            "22/22 [==============================] - 0s 14ms/step - loss: 0.5878 - accuracy: 0.6908 - val_loss: 0.7290 - val_accuracy: 0.4899\n",
            "Epoch 14/150\n",
            "22/22 [==============================] - 0s 16ms/step - loss: 0.5599 - accuracy: 0.7399 - val_loss: 0.7577 - val_accuracy: 0.4899\n",
            "Epoch 15/150\n",
            "22/22 [==============================] - 0s 15ms/step - loss: 0.5732 - accuracy: 0.7023 - val_loss: 0.7468 - val_accuracy: 0.4899\n",
            "Epoch 16/150\n",
            "22/22 [==============================] - 0s 14ms/step - loss: 0.6239 - accuracy: 0.6676 - val_loss: 0.7337 - val_accuracy: 0.4899\n",
            "Epoch 17/150\n",
            "22/22 [==============================] - 0s 15ms/step - loss: 0.5985 - accuracy: 0.7081 - val_loss: 0.7233 - val_accuracy: 0.4899\n",
            "Epoch 18/150\n",
            "22/22 [==============================] - 0s 15ms/step - loss: 0.5796 - accuracy: 0.7341 - val_loss: 0.7224 - val_accuracy: 0.4899\n",
            "Epoch 19/150\n",
            "22/22 [==============================] - 0s 15ms/step - loss: 0.5861 - accuracy: 0.7168 - val_loss: 0.7351 - val_accuracy: 0.4899\n",
            "Epoch 20/150\n",
            "22/22 [==============================] - 0s 14ms/step - loss: 0.5559 - accuracy: 0.7283 - val_loss: 0.7476 - val_accuracy: 0.4899\n",
            "Epoch 21/150\n",
            "22/22 [==============================] - 0s 15ms/step - loss: 0.5824 - accuracy: 0.7168 - val_loss: 0.7639 - val_accuracy: 0.4899\n",
            "Epoch 22/150\n",
            "22/22 [==============================] - 0s 15ms/step - loss: 0.5848 - accuracy: 0.6879 - val_loss: 0.7596 - val_accuracy: 0.4899\n",
            "Epoch 23/150\n",
            "22/22 [==============================] - 0s 15ms/step - loss: 0.6035 - accuracy: 0.6763 - val_loss: 0.7337 - val_accuracy: 0.4899\n",
            "Epoch 24/150\n",
            "22/22 [==============================] - 0s 15ms/step - loss: 0.6142 - accuracy: 0.6965 - val_loss: 0.7406 - val_accuracy: 0.4899\n",
            "Epoch 25/150\n",
            "22/22 [==============================] - 0s 14ms/step - loss: 0.5704 - accuracy: 0.6994 - val_loss: 0.7786 - val_accuracy: 0.4899\n",
            "Epoch 26/150\n",
            "22/22 [==============================] - 0s 14ms/step - loss: 0.5758 - accuracy: 0.7197 - val_loss: 0.8881 - val_accuracy: 0.4899\n",
            "Epoch 27/150\n",
            "22/22 [==============================] - 0s 15ms/step - loss: 0.5552 - accuracy: 0.7225 - val_loss: 0.8460 - val_accuracy: 0.4899\n",
            "Epoch 28/150\n",
            "22/22 [==============================] - 0s 16ms/step - loss: 0.5445 - accuracy: 0.7225 - val_loss: 0.7242 - val_accuracy: 0.4966\n",
            "Epoch 29/150\n",
            "22/22 [==============================] - 0s 15ms/step - loss: 0.5824 - accuracy: 0.7312 - val_loss: 0.6338 - val_accuracy: 0.5772\n",
            "Epoch 30/150\n",
            "22/22 [==============================] - 0s 14ms/step - loss: 0.5741 - accuracy: 0.7197 - val_loss: 0.6576 - val_accuracy: 0.6711\n",
            "Epoch 31/150\n",
            "22/22 [==============================] - 0s 14ms/step - loss: 0.5710 - accuracy: 0.6994 - val_loss: 0.6942 - val_accuracy: 0.5101\n",
            "Epoch 32/150\n",
            "22/22 [==============================] - 0s 14ms/step - loss: 0.5619 - accuracy: 0.7110 - val_loss: 0.6839 - val_accuracy: 0.5369\n",
            "Epoch 33/150\n",
            "22/22 [==============================] - 0s 16ms/step - loss: 0.5421 - accuracy: 0.7486 - val_loss: 0.6550 - val_accuracy: 0.7785\n",
            "Epoch 34/150\n",
            "22/22 [==============================] - 0s 16ms/step - loss: 0.5343 - accuracy: 0.7312 - val_loss: 0.6187 - val_accuracy: 0.6577\n",
            "Epoch 35/150\n",
            "22/22 [==============================] - 0s 14ms/step - loss: 0.5469 - accuracy: 0.7399 - val_loss: 0.6544 - val_accuracy: 0.5101\n",
            "Epoch 36/150\n",
            "22/22 [==============================] - 0s 14ms/step - loss: 0.5724 - accuracy: 0.7254 - val_loss: 0.8947 - val_accuracy: 0.5101\n",
            "Epoch 37/150\n",
            "22/22 [==============================] - 0s 14ms/step - loss: 0.5627 - accuracy: 0.7312 - val_loss: 0.5974 - val_accuracy: 0.7248\n",
            "Epoch 38/150\n",
            "22/22 [==============================] - 0s 15ms/step - loss: 0.5553 - accuracy: 0.7225 - val_loss: 0.5692 - val_accuracy: 0.7718\n",
            "Epoch 39/150\n",
            "22/22 [==============================] - 0s 14ms/step - loss: 0.5432 - accuracy: 0.7486 - val_loss: 0.5485 - val_accuracy: 0.7584\n",
            "Epoch 40/150\n",
            "22/22 [==============================] - 0s 14ms/step - loss: 0.5375 - accuracy: 0.7428 - val_loss: 0.5451 - val_accuracy: 0.7785\n",
            "Epoch 41/150\n",
            "22/22 [==============================] - 0s 14ms/step - loss: 0.5339 - accuracy: 0.7254 - val_loss: 0.5450 - val_accuracy: 0.7450\n",
            "Epoch 42/150\n",
            "22/22 [==============================] - 0s 15ms/step - loss: 0.5451 - accuracy: 0.7428 - val_loss: 0.4910 - val_accuracy: 0.7987\n",
            "Epoch 43/150\n",
            "22/22 [==============================] - 0s 14ms/step - loss: 0.5203 - accuracy: 0.7688 - val_loss: 0.4431 - val_accuracy: 0.8255\n",
            "Epoch 44/150\n",
            "22/22 [==============================] - 0s 14ms/step - loss: 0.5424 - accuracy: 0.7428 - val_loss: 0.4928 - val_accuracy: 0.7651\n",
            "Epoch 45/150\n",
            "22/22 [==============================] - 0s 15ms/step - loss: 0.5358 - accuracy: 0.7312 - val_loss: 0.5031 - val_accuracy: 0.7651\n",
            "Epoch 46/150\n",
            "22/22 [==============================] - 0s 14ms/step - loss: 0.5116 - accuracy: 0.7370 - val_loss: 0.4701 - val_accuracy: 0.8054\n",
            "Epoch 47/150\n",
            "22/22 [==============================] - 0s 15ms/step - loss: 0.5342 - accuracy: 0.7225 - val_loss: 0.4933 - val_accuracy: 0.7718\n",
            "Epoch 48/150\n",
            "22/22 [==============================] - 0s 15ms/step - loss: 0.5363 - accuracy: 0.7225 - val_loss: 0.5146 - val_accuracy: 0.7718\n",
            "Epoch 49/150\n",
            "22/22 [==============================] - 0s 14ms/step - loss: 0.5323 - accuracy: 0.7457 - val_loss: 0.4481 - val_accuracy: 0.7785\n",
            "Epoch 50/150\n",
            "22/22 [==============================] - 0s 14ms/step - loss: 0.5224 - accuracy: 0.7486 - val_loss: 0.5376 - val_accuracy: 0.7114\n",
            "Epoch 51/150\n",
            "22/22 [==============================] - 0s 14ms/step - loss: 0.5122 - accuracy: 0.7601 - val_loss: 0.5449 - val_accuracy: 0.7517\n",
            "Epoch 52/150\n",
            "22/22 [==============================] - 0s 15ms/step - loss: 0.5013 - accuracy: 0.7659 - val_loss: 0.5168 - val_accuracy: 0.7450\n",
            "Epoch 53/150\n",
            "22/22 [==============================] - 0s 15ms/step - loss: 0.5527 - accuracy: 0.7457 - val_loss: 0.5678 - val_accuracy: 0.6846\n",
            "Epoch 54/150\n",
            "22/22 [==============================] - 0s 14ms/step - loss: 0.5339 - accuracy: 0.7341 - val_loss: 0.5343 - val_accuracy: 0.7785\n",
            "Epoch 55/150\n",
            "22/22 [==============================] - 0s 14ms/step - loss: 0.5094 - accuracy: 0.7746 - val_loss: 0.5903 - val_accuracy: 0.6376\n",
            "Epoch 56/150\n",
            "22/22 [==============================] - 0s 15ms/step - loss: 0.5315 - accuracy: 0.7341 - val_loss: 0.5885 - val_accuracy: 0.6846\n",
            "Epoch 57/150\n",
            "22/22 [==============================] - 0s 14ms/step - loss: 0.5109 - accuracy: 0.7370 - val_loss: 0.5551 - val_accuracy: 0.7181\n",
            "Epoch 58/150\n",
            "22/22 [==============================] - 0s 14ms/step - loss: 0.5242 - accuracy: 0.7514 - val_loss: 0.4796 - val_accuracy: 0.7987\n",
            "Epoch 59/150\n",
            "22/22 [==============================] - 0s 14ms/step - loss: 0.5257 - accuracy: 0.7514 - val_loss: 0.5109 - val_accuracy: 0.7987\n",
            "Epoch 60/150\n",
            "22/22 [==============================] - 0s 15ms/step - loss: 0.5118 - accuracy: 0.7543 - val_loss: 0.5851 - val_accuracy: 0.6980\n",
            "Epoch 61/150\n",
            "22/22 [==============================] - 0s 15ms/step - loss: 0.5142 - accuracy: 0.7486 - val_loss: 0.5286 - val_accuracy: 0.7383\n",
            "Epoch 62/150\n",
            "22/22 [==============================] - 0s 14ms/step - loss: 0.5419 - accuracy: 0.7341 - val_loss: 0.5361 - val_accuracy: 0.7718\n",
            "Epoch 63/150\n",
            "22/22 [==============================] - 0s 16ms/step - loss: 0.5381 - accuracy: 0.7514 - val_loss: 0.5726 - val_accuracy: 0.6846\n",
            "Epoch 64/150\n",
            "22/22 [==============================] - 0s 15ms/step - loss: 0.5131 - accuracy: 0.7457 - val_loss: 0.6124 - val_accuracy: 0.6577\n",
            "Epoch 65/150\n",
            "22/22 [==============================] - 0s 14ms/step - loss: 0.5118 - accuracy: 0.7399 - val_loss: 0.6317 - val_accuracy: 0.6980\n",
            "Epoch 66/150\n",
            "22/22 [==============================] - 0s 14ms/step - loss: 0.4920 - accuracy: 0.7543 - val_loss: 0.6469 - val_accuracy: 0.5369\n",
            "Epoch 67/150\n",
            "22/22 [==============================] - 0s 14ms/step - loss: 0.5256 - accuracy: 0.7341 - val_loss: 0.6485 - val_accuracy: 0.5503\n",
            "Epoch 68/150\n",
            "22/22 [==============================] - 0s 15ms/step - loss: 0.5326 - accuracy: 0.7225 - val_loss: 0.5210 - val_accuracy: 0.7785\n",
            "Epoch 69/150\n",
            "22/22 [==============================] - 0s 16ms/step - loss: 0.5092 - accuracy: 0.7457 - val_loss: 0.5568 - val_accuracy: 0.7181\n",
            "Epoch 70/150\n",
            "22/22 [==============================] - 0s 14ms/step - loss: 0.5099 - accuracy: 0.7514 - val_loss: 0.5814 - val_accuracy: 0.7114\n",
            "Epoch 71/150\n",
            "22/22 [==============================] - 0s 16ms/step - loss: 0.5218 - accuracy: 0.7312 - val_loss: 0.7312 - val_accuracy: 0.5906\n",
            "Epoch 72/150\n",
            "22/22 [==============================] - 0s 15ms/step - loss: 0.5044 - accuracy: 0.7514 - val_loss: 0.5725 - val_accuracy: 0.7114\n",
            "Epoch 73/150\n",
            "22/22 [==============================] - 0s 14ms/step - loss: 0.5013 - accuracy: 0.7659 - val_loss: 0.5082 - val_accuracy: 0.7718\n",
            "Epoch 74/150\n",
            "22/22 [==============================] - 0s 14ms/step - loss: 0.4786 - accuracy: 0.7543 - val_loss: 0.6741 - val_accuracy: 0.6913\n",
            "Epoch 75/150\n",
            "22/22 [==============================] - 0s 14ms/step - loss: 0.4977 - accuracy: 0.7630 - val_loss: 0.4783 - val_accuracy: 0.7852\n",
            "Epoch 76/150\n",
            "22/22 [==============================] - 0s 14ms/step - loss: 0.4974 - accuracy: 0.7370 - val_loss: 0.6109 - val_accuracy: 0.6980\n",
            "Epoch 77/150\n",
            "22/22 [==============================] - 0s 14ms/step - loss: 0.5239 - accuracy: 0.7717 - val_loss: 0.5038 - val_accuracy: 0.7852\n",
            "Epoch 78/150\n",
            "22/22 [==============================] - 0s 14ms/step - loss: 0.4959 - accuracy: 0.7543 - val_loss: 0.4455 - val_accuracy: 0.8188\n",
            "Epoch 79/150\n",
            "22/22 [==============================] - 0s 15ms/step - loss: 0.4903 - accuracy: 0.7746 - val_loss: 0.4831 - val_accuracy: 0.7785\n",
            "Epoch 80/150\n",
            "22/22 [==============================] - 0s 15ms/step - loss: 0.5212 - accuracy: 0.7572 - val_loss: 0.4905 - val_accuracy: 0.7517\n",
            "Epoch 81/150\n",
            "22/22 [==============================] - 0s 14ms/step - loss: 0.4959 - accuracy: 0.7630 - val_loss: 0.4449 - val_accuracy: 0.7987\n",
            "Epoch 82/150\n",
            "22/22 [==============================] - 0s 15ms/step - loss: 0.5043 - accuracy: 0.7746 - val_loss: 0.4583 - val_accuracy: 0.8054\n",
            "Epoch 83/150\n",
            "22/22 [==============================] - 0s 15ms/step - loss: 0.5186 - accuracy: 0.7283 - val_loss: 0.5169 - val_accuracy: 0.7718\n",
            "Epoch 84/150\n",
            "22/22 [==============================] - 0s 14ms/step - loss: 0.5016 - accuracy: 0.7543 - val_loss: 0.5151 - val_accuracy: 0.7785\n",
            "Epoch 85/150\n",
            "22/22 [==============================] - 0s 14ms/step - loss: 0.4929 - accuracy: 0.7630 - val_loss: 0.5611 - val_accuracy: 0.7248\n",
            "Epoch 86/150\n",
            "22/22 [==============================] - 0s 14ms/step - loss: 0.5344 - accuracy: 0.7312 - val_loss: 0.5453 - val_accuracy: 0.7651\n",
            "Epoch 87/150\n",
            "22/22 [==============================] - 0s 15ms/step - loss: 0.4849 - accuracy: 0.7370 - val_loss: 0.5483 - val_accuracy: 0.7383\n",
            "Epoch 88/150\n",
            "22/22 [==============================] - 0s 15ms/step - loss: 0.4950 - accuracy: 0.7514 - val_loss: 0.5485 - val_accuracy: 0.7315\n",
            "Epoch 89/150\n",
            "22/22 [==============================] - 0s 14ms/step - loss: 0.4728 - accuracy: 0.7601 - val_loss: 0.5154 - val_accuracy: 0.7517\n",
            "Epoch 90/150\n",
            "22/22 [==============================] - 0s 14ms/step - loss: 0.5121 - accuracy: 0.7659 - val_loss: 0.5170 - val_accuracy: 0.7785\n",
            "Epoch 91/150\n",
            "22/22 [==============================] - 0s 14ms/step - loss: 0.4949 - accuracy: 0.7688 - val_loss: 0.4730 - val_accuracy: 0.7718\n",
            "Epoch 92/150\n",
            "22/22 [==============================] - 0s 15ms/step - loss: 0.4877 - accuracy: 0.7572 - val_loss: 0.4868 - val_accuracy: 0.7852\n",
            "Epoch 93/150\n",
            "22/22 [==============================] - 0s 15ms/step - loss: 0.5071 - accuracy: 0.7399 - val_loss: 0.5261 - val_accuracy: 0.7584\n",
            "Epoch 94/150\n",
            "22/22 [==============================] - 0s 14ms/step - loss: 0.4850 - accuracy: 0.7572 - val_loss: 0.4866 - val_accuracy: 0.7852\n",
            "Epoch 95/150\n",
            "22/22 [==============================] - 0s 14ms/step - loss: 0.4981 - accuracy: 0.7659 - val_loss: 0.5203 - val_accuracy: 0.7584\n",
            "Epoch 96/150\n",
            "22/22 [==============================] - 0s 15ms/step - loss: 0.5021 - accuracy: 0.7543 - val_loss: 0.4607 - val_accuracy: 0.8054\n",
            "Epoch 97/150\n",
            "22/22 [==============================] - 0s 15ms/step - loss: 0.4834 - accuracy: 0.7832 - val_loss: 0.5655 - val_accuracy: 0.7315\n",
            "Epoch 98/150\n",
            "22/22 [==============================] - 0s 14ms/step - loss: 0.5044 - accuracy: 0.7486 - val_loss: 0.4679 - val_accuracy: 0.7852\n",
            "Epoch 99/150\n",
            "22/22 [==============================] - 0s 15ms/step - loss: 0.4774 - accuracy: 0.7688 - val_loss: 0.4568 - val_accuracy: 0.8121\n",
            "Epoch 100/150\n",
            "22/22 [==============================] - 0s 14ms/step - loss: 0.5027 - accuracy: 0.7457 - val_loss: 0.4432 - val_accuracy: 0.7651\n",
            "Epoch 101/150\n",
            "22/22 [==============================] - 0s 15ms/step - loss: 0.4919 - accuracy: 0.7428 - val_loss: 0.4813 - val_accuracy: 0.7718\n",
            "Epoch 102/150\n",
            "22/22 [==============================] - 0s 15ms/step - loss: 0.4735 - accuracy: 0.7688 - val_loss: 0.4876 - val_accuracy: 0.7987\n",
            "Epoch 103/150\n",
            "22/22 [==============================] - 0s 14ms/step - loss: 0.4952 - accuracy: 0.7803 - val_loss: 0.4912 - val_accuracy: 0.7919\n",
            "Epoch 104/150\n",
            "22/22 [==============================] - 0s 15ms/step - loss: 0.4697 - accuracy: 0.7775 - val_loss: 0.4738 - val_accuracy: 0.8121\n",
            "Epoch 105/150\n",
            "22/22 [==============================] - 0s 14ms/step - loss: 0.5009 - accuracy: 0.7630 - val_loss: 0.4281 - val_accuracy: 0.8054\n",
            "Epoch 106/150\n",
            "22/22 [==============================] - 0s 14ms/step - loss: 0.4853 - accuracy: 0.7688 - val_loss: 0.4740 - val_accuracy: 0.8054\n",
            "Epoch 107/150\n",
            "22/22 [==============================] - 0s 15ms/step - loss: 0.4707 - accuracy: 0.7832 - val_loss: 0.4373 - val_accuracy: 0.7987\n",
            "Epoch 108/150\n",
            "22/22 [==============================] - 0s 14ms/step - loss: 0.4963 - accuracy: 0.7688 - val_loss: 0.5153 - val_accuracy: 0.7718\n",
            "Epoch 109/150\n",
            "22/22 [==============================] - 0s 15ms/step - loss: 0.4774 - accuracy: 0.7688 - val_loss: 0.5086 - val_accuracy: 0.7584\n",
            "Epoch 110/150\n",
            "22/22 [==============================] - 0s 14ms/step - loss: 0.4671 - accuracy: 0.7659 - val_loss: 0.6289 - val_accuracy: 0.7248\n",
            "Epoch 111/150\n",
            "22/22 [==============================] - 0s 14ms/step - loss: 0.4684 - accuracy: 0.7919 - val_loss: 0.5294 - val_accuracy: 0.7584\n",
            "Epoch 112/150\n",
            "22/22 [==============================] - 0s 14ms/step - loss: 0.4546 - accuracy: 0.7832 - val_loss: 0.5758 - val_accuracy: 0.7517\n",
            "Epoch 113/150\n",
            "22/22 [==============================] - 0s 15ms/step - loss: 0.4880 - accuracy: 0.7717 - val_loss: 0.6194 - val_accuracy: 0.7383\n",
            "Epoch 114/150\n",
            "22/22 [==============================] - 0s 14ms/step - loss: 0.4449 - accuracy: 0.7948 - val_loss: 0.5503 - val_accuracy: 0.7718\n",
            "Epoch 115/150\n",
            "22/22 [==============================] - 0s 15ms/step - loss: 0.4490 - accuracy: 0.7948 - val_loss: 0.5788 - val_accuracy: 0.7450\n",
            "Epoch 116/150\n",
            "22/22 [==============================] - 0s 14ms/step - loss: 0.4834 - accuracy: 0.7775 - val_loss: 0.5558 - val_accuracy: 0.7584\n",
            "Epoch 117/150\n",
            "22/22 [==============================] - 0s 14ms/step - loss: 0.4628 - accuracy: 0.7861 - val_loss: 0.4495 - val_accuracy: 0.7718\n",
            "Epoch 118/150\n",
            "22/22 [==============================] - 0s 14ms/step - loss: 0.4781 - accuracy: 0.7832 - val_loss: 0.4735 - val_accuracy: 0.7450\n",
            "Epoch 119/150\n",
            "22/22 [==============================] - 0s 14ms/step - loss: 0.4811 - accuracy: 0.7514 - val_loss: 0.4352 - val_accuracy: 0.8121\n",
            "Epoch 120/150\n",
            "22/22 [==============================] - 0s 15ms/step - loss: 0.4759 - accuracy: 0.7659 - val_loss: 0.4728 - val_accuracy: 0.7785\n",
            "Epoch 121/150\n",
            "22/22 [==============================] - 0s 15ms/step - loss: 0.4650 - accuracy: 0.8006 - val_loss: 0.4952 - val_accuracy: 0.7517\n",
            "Epoch 122/150\n",
            "22/22 [==============================] - 0s 14ms/step - loss: 0.4932 - accuracy: 0.7543 - val_loss: 0.5913 - val_accuracy: 0.7248\n",
            "Epoch 123/150\n",
            "22/22 [==============================] - 0s 15ms/step - loss: 0.5217 - accuracy: 0.7428 - val_loss: 0.6697 - val_accuracy: 0.7315\n",
            "Epoch 124/150\n",
            "22/22 [==============================] - 0s 15ms/step - loss: 0.4836 - accuracy: 0.7688 - val_loss: 0.5736 - val_accuracy: 0.7584\n",
            "Epoch 125/150\n",
            "22/22 [==============================] - 0s 14ms/step - loss: 0.4526 - accuracy: 0.7803 - val_loss: 0.5243 - val_accuracy: 0.7651\n",
            "Epoch 126/150\n",
            "22/22 [==============================] - 0s 15ms/step - loss: 0.4458 - accuracy: 0.7832 - val_loss: 0.5411 - val_accuracy: 0.7584\n",
            "Epoch 127/150\n",
            "22/22 [==============================] - 0s 14ms/step - loss: 0.4474 - accuracy: 0.7948 - val_loss: 0.5373 - val_accuracy: 0.7450\n",
            "Epoch 128/150\n",
            "22/22 [==============================] - 0s 15ms/step - loss: 0.4482 - accuracy: 0.8006 - val_loss: 0.4857 - val_accuracy: 0.7651\n",
            "Epoch 129/150\n",
            "22/22 [==============================] - 0s 14ms/step - loss: 0.4600 - accuracy: 0.7688 - val_loss: 0.4906 - val_accuracy: 0.7718\n",
            "Epoch 130/150\n",
            "22/22 [==============================] - 0s 15ms/step - loss: 0.4825 - accuracy: 0.7861 - val_loss: 0.4798 - val_accuracy: 0.7785\n",
            "Epoch 131/150\n",
            "22/22 [==============================] - 0s 14ms/step - loss: 0.4268 - accuracy: 0.7948 - val_loss: 0.5045 - val_accuracy: 0.7785\n",
            "Epoch 132/150\n",
            "22/22 [==============================] - 0s 14ms/step - loss: 0.4770 - accuracy: 0.7803 - val_loss: 0.6004 - val_accuracy: 0.7315\n",
            "Epoch 133/150\n",
            "22/22 [==============================] - 0s 14ms/step - loss: 0.4350 - accuracy: 0.8006 - val_loss: 0.5461 - val_accuracy: 0.7651\n",
            "Epoch 134/150\n",
            "22/22 [==============================] - 0s 15ms/step - loss: 0.4346 - accuracy: 0.7977 - val_loss: 0.5739 - val_accuracy: 0.7114\n",
            "Epoch 135/150\n",
            "22/22 [==============================] - 0s 15ms/step - loss: 0.4735 - accuracy: 0.7919 - val_loss: 0.7945 - val_accuracy: 0.6107\n",
            "Epoch 136/150\n",
            "22/22 [==============================] - 0s 17ms/step - loss: 0.4528 - accuracy: 0.7688 - val_loss: 0.5550 - val_accuracy: 0.7450\n",
            "Epoch 137/150\n",
            "22/22 [==============================] - 0s 14ms/step - loss: 0.4351 - accuracy: 0.7890 - val_loss: 0.5410 - val_accuracy: 0.7383\n",
            "Epoch 138/150\n",
            "22/22 [==============================] - 0s 14ms/step - loss: 0.4560 - accuracy: 0.7919 - val_loss: 0.5826 - val_accuracy: 0.7315\n",
            "Epoch 139/150\n",
            "22/22 [==============================] - 0s 15ms/step - loss: 0.4503 - accuracy: 0.7948 - val_loss: 0.5281 - val_accuracy: 0.7987\n",
            "Epoch 140/150\n",
            "22/22 [==============================] - 0s 14ms/step - loss: 0.4499 - accuracy: 0.7977 - val_loss: 0.4731 - val_accuracy: 0.7785\n",
            "Epoch 141/150\n",
            "22/22 [==============================] - 0s 15ms/step - loss: 0.4448 - accuracy: 0.8208 - val_loss: 0.4826 - val_accuracy: 0.7919\n",
            "Epoch 142/150\n",
            "22/22 [==============================] - 0s 15ms/step - loss: 0.4017 - accuracy: 0.8382 - val_loss: 0.4677 - val_accuracy: 0.7785\n",
            "Epoch 143/150\n",
            "22/22 [==============================] - 0s 15ms/step - loss: 0.3977 - accuracy: 0.8208 - val_loss: 0.4976 - val_accuracy: 0.7517\n",
            "Epoch 144/150\n",
            "22/22 [==============================] - 0s 14ms/step - loss: 0.4685 - accuracy: 0.7803 - val_loss: 0.6308 - val_accuracy: 0.6040\n",
            "Epoch 145/150\n",
            "22/22 [==============================] - 0s 14ms/step - loss: 0.4311 - accuracy: 0.8064 - val_loss: 0.5325 - val_accuracy: 0.7584\n",
            "Epoch 146/150\n",
            "22/22 [==============================] - 0s 14ms/step - loss: 0.4410 - accuracy: 0.7948 - val_loss: 0.5299 - val_accuracy: 0.7517\n",
            "Epoch 147/150\n",
            "22/22 [==============================] - 0s 15ms/step - loss: 0.4198 - accuracy: 0.8150 - val_loss: 0.5006 - val_accuracy: 0.7852\n",
            "Epoch 148/150\n",
            "22/22 [==============================] - 0s 15ms/step - loss: 0.4300 - accuracy: 0.7890 - val_loss: 0.5541 - val_accuracy: 0.7718\n",
            "Epoch 149/150\n",
            "22/22 [==============================] - 0s 15ms/step - loss: 0.4108 - accuracy: 0.8035 - val_loss: 0.5048 - val_accuracy: 0.7718\n",
            "Epoch 150/150\n",
            "22/22 [==============================] - 0s 14ms/step - loss: 0.4222 - accuracy: 0.7977 - val_loss: 0.5825 - val_accuracy: 0.7383\n"
          ],
          "name": "stdout"
        }
      ]
    },
    {
      "cell_type": "code",
      "metadata": {
        "colab": {
          "base_uri": "https://localhost:8080/",
          "height": 295
        },
        "id": "SKqzztQDpF01",
        "outputId": "c1bdc1ea-ff6b-4870-a0fe-d0ad716b309b"
      },
      "source": [
        "import os\n",
        "import seaborn as sns\n",
        "#plot the training and validation accuracy and loss at each epoch\n",
        "loss = history.history['loss']\n",
        "val_loss = history.history['val_loss']\n",
        "epochs = range(1, len(loss) + 1)\n",
        "plt.plot(epochs, loss, 'y', label='Training loss')\n",
        "plt.plot(epochs, val_loss, 'r', label='Validation loss')\n",
        "plt.title('Training and validation loss')\n",
        "plt.xlabel('Epochs')\n",
        "plt.ylabel('Loss')\n",
        "plt.legend()\n",
        "plt.show()"
      ],
      "execution_count": 20,
      "outputs": [
        {
          "output_type": "display_data",
          "data": {
            "image/png": "[encoded data removed]",
            "text/plain": [
              "<Figure size 432x288 with 1 Axes>"
            ]
          },
          "metadata": {
            "needs_background": "light"
          }
        }
      ]
    },
    {
      "cell_type": "code",
      "metadata": {
        "colab": {
          "base_uri": "https://localhost:8080/",
          "height": 295
        },
        "id": "9mpZlD41pF4A",
        "outputId": "81f126ea-52b1-4ad1-b757-e19c728a1650"
      },
      "source": [
        "acc = history.history['accuracy']\n",
        "val_acc = history.history['val_accuracy']\n",
        "plt.plot(epochs, acc, 'y', label='Training acc')\n",
        "plt.plot(epochs, val_acc, 'r', label='Validation acc')\n",
        "plt.title('Training and validation accuracy')\n",
        "plt.xlabel('Epochs')\n",
        "plt.ylabel('Accuracy')\n",
        "plt.legend()\n",
        "plt.show()"
      ],
      "execution_count": 21,
      "outputs": [
        {
          "output_type": "display_data",
          "data": {
            "image/png": "[encoded data removed]",
            "text/plain": [
              "<Figure size 432x288 with 1 Axes>"
            ]
          },
          "metadata": {
            "needs_background": "light"
          }
        }
      ]
    },
    {
      "cell_type": "code",
      "metadata": {
        "colab": {
          "base_uri": "https://localhost:8080/",
          "height": 369
        },
        "id": "D-PzHWUjpF7H",
        "outputId": "424f7c37-56c6-43a2-dbec-2f20abfa0c1e"
      },
      "source": [
        "prediction_NN = model.predict(xTest11)\n",
        "prediction_NN = np.argmax(prediction_NN, axis=-1)\n",
        "#Print overall accuracy\n",
        "from sklearn import metrics\n",
        "print (\"Accuracy = \", metrics.accuracy_score(yTest1, prediction_NN))\n",
        "#Confusion Matrix - verify accuracy of each class\n",
        "from sklearn.metrics import confusion_matrix\n",
        "cm = confusion_matrix(yTest1, prediction_NN)\n",
        "print(cm)\n",
        "sns.heatmap(cm, annot=True)"
      ],
      "execution_count": 22,
      "outputs": [
        {
          "output_type": "stream",
          "text": [
            "WARNING:tensorflow:Model was constructed with shape (None, 2100, 1) for input KerasTensor(type_spec=TensorSpec(shape=(None, 2100, 1), dtype=tf.float32, name='conv1d_input'), name='conv1d_input', description=\"created by layer 'conv1d_input'\"), but it was called on an input with incompatible shape (None, 488, 1).\n",
            "Accuracy =  0.738255033557047\n",
            "[[62 11]\n",
            " [28 48]]\n"
          ],
          "name": "stdout"
        },
        {
          "output_type": "execute_result",
          "data": {
            "text/plain": [
              "<matplotlib.axes._subplots.AxesSubplot at 0x7fb755bb2d10>"
            ]
          },
          "metadata": {},
          "execution_count": 22
        },
        {
          "output_type": "display_data",
          "data": {
            "image/png": "[encoded data removed]",
            "text/plain": [
              "<Figure size 432x288 with 2 Axes>"
            ]
          },
          "metadata": {
            "needs_background": "light"
          }
        }
      ]
    }
  ]
}