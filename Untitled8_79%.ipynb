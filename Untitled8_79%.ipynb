{
  "nbformat": 4,
  "nbformat_minor": 0,
  "metadata": {
    "colab": {
      "name": "Untitled8.ipynb",
      "provenance": [],
      "include_colab_link": true
    },
    "kernelspec": {
      "name": "python3",
      "display_name": "Python 3"
    },
    "language_info": {
      "name": "python"
    },
    "accelerator": "GPU"
  },
  "cells": [
    {
      "cell_type": "markdown",
      "metadata": {
        "id": "view-in-github",
        "colab_type": "text"
      },
      "source": [
        "<a href=\"https://colab.research.google.com/github/rohitsubodh/GAN/blob/main/Untitled8_79%25.ipynb\" target=\"_parent\"><img src=\"https://colab.research.google.com/assets/colab-badge.svg\" alt=\"Open In Colab\"/></a>"
      ]
    },
    {
      "cell_type": "code",
      "metadata": {
        "id": "cMHBuO0wos-j"
      },
      "source": [
        "\n",
        "import tensorflow as tf\n",
        "import keras\n",
        "import numpy as np\n",
        "from keras import models\n",
        "from keras import layers\n",
        "from keras.wrappers.scikit_learn import KerasClassifier\n",
        "from sklearn.model_selection import cross_val_score\n",
        "from sklearn.datasets import make_classification\n",
        "from matplotlib import pyplot\n",
        "import numpy as np\n",
        "import matplotlib.pyplot as plt\n",
        "import pandas as pd\n",
        "from sklearn import preprocessing\n",
        "from keras.models import Sequential,Model\n",
        "from keras.layers import Dense, Dropout,Input\n",
        "from keras.layers import Embedding,LeakyReLU\n",
        "from keras.layers import Conv1D, GlobalAveragePooling1D, MaxPooling1D, Flatten, LocallyConnected1D, BatchNormalization\n",
        "import scipy.signal\n",
        "from sklearn.decomposition import PCA, KernelPCA"
      ],
      "execution_count": 1,
      "outputs": []
    },
    {
      "cell_type": "code",
      "metadata": {
        "id": "Hi8fcclmpFNY"
      },
      "source": [
        "data = pd.read_excel('/content/PPG_new.xlsx',sheet_name='0-1')\n",
        "target = pd.read_excel('/content/PPG_new.xlsx',sheet_name='target 0-1')"
      ],
      "execution_count": 2,
      "outputs": []
    },
    {
      "cell_type": "code",
      "metadata": {
        "colab": {
          "base_uri": "https://localhost:8080/"
        },
        "id": "mUhak2l_B-rq",
        "outputId": "ea885f42-fbaf-4b82-8bfd-1cbf911c5857"
      },
      "source": [
        "data.shape"
      ],
      "execution_count": 3,
      "outputs": [
        {
          "output_type": "execute_result",
          "data": {
            "text/plain": [
              "(495, 2100)"
            ]
          },
          "metadata": {},
          "execution_count": 3
        }
      ]
    },
    {
      "cell_type": "code",
      "metadata": {
        "colab": {
          "base_uri": "https://localhost:8080/",
          "height": 265
        },
        "id": "q1Q3Q3FepFW2",
        "outputId": "c421e1c5-89c2-4566-c7bb-17fbbf7a90bc"
      },
      "source": [
        "x= data.iloc[0,:]\n",
        "plt.plot(x)\n",
        "plt.show\n",
        "data1=data"
      ],
      "execution_count": 4,
      "outputs": [
        {
          "output_type": "display_data",
          "data": {
            "image/png": "[encoded data removed]",
            "text/plain": [
              "<Figure size 432x288 with 1 Axes>"
            ]
          },
          "metadata": {
            "needs_background": "light"
          }
        }
      ]
    },
    {
      "cell_type": "code",
      "metadata": {
        "colab": {
          "base_uri": "https://localhost:8080/",
          "height": 282
        },
        "id": "SRcZU0-ppFaK",
        "outputId": "7dd61ce4-7a19-48a9-a102-6bc17bc98835"
      },
      "source": [
        "# Applying median filter\n",
        "data=scipy.signal.medfilt(data)\n",
        "data\n",
        "x= data[0,:]\n",
        "plt.plot(x)\n",
        "plt.show"
      ],
      "execution_count": 5,
      "outputs": [
        {
          "output_type": "execute_result",
          "data": {
            "text/plain": [
              "<function matplotlib.pyplot.show>"
            ]
          },
          "metadata": {},
          "execution_count": 5
        },
        {
          "output_type": "display_data",
          "data": {
            "image/png": "[encoded data removed]",
            "text/plain": [
              "<Figure size 432x288 with 1 Axes>"
            ]
          },
          "metadata": {
            "needs_background": "light"
          }
        }
      ]
    },
    {
      "cell_type": "code",
      "metadata": {
        "colab": {
          "base_uri": "https://localhost:8080/"
        },
        "id": "Rr2cHwXGpFc9",
        "outputId": "4bb18a3f-e6a8-4f05-bdbc-ffb1995c1fb3"
      },
      "source": [
        "# Design of low pass chebyshev filter\n",
        "sos= scipy.signal.cheby2(4, 10, 25, 'low', fs=1000, output='sos')\n",
        "sos"
      ],
      "execution_count": 6,
      "outputs": [
        {
          "output_type": "execute_result",
          "data": {
            "text/plain": [
              "array([[ 0.26741176, -0.49141861,  0.26741176,  1.        , -1.6346899 ,\n",
              "         0.69069827],\n",
              "       [ 1.        , -1.97118242,  1.        ,  1.        , -1.92658177,\n",
              "         0.94891457]])"
            ]
          },
          "metadata": {},
          "execution_count": 6
        }
      ]
    },
    {
      "cell_type": "code",
      "metadata": {
        "colab": {
          "base_uri": "https://localhost:8080/",
          "height": 282
        },
        "id": "V2M-vdahpFfz",
        "outputId": "5946aa5c-23ae-4f50-ddbd-5153d0927d94"
      },
      "source": [
        "data= scipy.signal.sosfilt(sos, data) # applying chebyshev filter\n",
        "x= data[0,:]\n",
        "plt.plot(x)\n",
        "plt.show"
      ],
      "execution_count": 7,
      "outputs": [
        {
          "output_type": "execute_result",
          "data": {
            "text/plain": [
              "<function matplotlib.pyplot.show>"
            ]
          },
          "metadata": {},
          "execution_count": 7
        },
        {
          "output_type": "display_data",
          "data": {
            "image/png": "[encoded data removed]",
            "text/plain": [
              "<Figure size 432x288 with 1 Axes>"
            ]
          },
          "metadata": {
            "needs_background": "light"
          }
        }
      ]
    },
    {
      "cell_type": "code",
      "metadata": {
        "colab": {
          "base_uri": "https://localhost:8080/",
          "height": 282
        },
        "id": "dbCRU494pFiq",
        "outputId": "d39574e5-d070-4e06-f415-bb795d3a1f4d"
      },
      "source": [
        "# Applying backward forward filter\n",
        "b, a = scipy.signal.butter(8, 0.125) # filter design\n",
        "\n",
        "data = scipy.signal.filtfilt(b, a, data, method=\"gust\")\n",
        "\n",
        "x= data[0,:]\n",
        "plt.plot(x)\n",
        "plt.show"
      ],
      "execution_count": 8,
      "outputs": [
        {
          "output_type": "execute_result",
          "data": {
            "text/plain": [
              "<function matplotlib.pyplot.show>"
            ]
          },
          "metadata": {},
          "execution_count": 8
        },
        {
          "output_type": "display_data",
          "data": {
            "image/png": "[encoded data removed]",
            "text/plain": [
              "<Figure size 432x288 with 1 Axes>"
            ]
          },
          "metadata": {
            "needs_background": "light"
          }
        }
      ]
    },
    {
      "cell_type": "code",
      "metadata": {
        "id": "Wp6SpBPGqCqY",
        "outputId": "d7b6c9f5-e75f-4fcb-cb3e-dfb4106261cb",
        "colab": {
          "base_uri": "https://localhost:8080/"
        }
      },
      "source": [
        "data1=data\n",
        "kpca=KernelPCA(kernel=\"rbf\",fit_inverse_transform=True, gamma=10)\n",
        "data=kpca.fit_transform(data)\n",
        "data.shape"
      ],
      "execution_count": 19,
      "outputs": [
        {
          "output_type": "execute_result",
          "data": {
            "text/plain": [
              "(495, 494)"
            ]
          },
          "metadata": {},
          "execution_count": 19
        }
      ]
    },
    {
      "cell_type": "code",
      "metadata": {
        "id": "_ZXGQrBpKyPL",
        "outputId": "737992e2-8ba5-4378-ce8f-2fecb0eb9568",
        "colab": {
          "base_uri": "https://localhost:8080/",
          "height": 282
        }
      },
      "source": [
        "x= data[0,:]\n",
        "plt.plot(x)\n",
        "plt.show"
      ],
      "execution_count": 20,
      "outputs": [
        {
          "output_type": "execute_result",
          "data": {
            "text/plain": [
              "<function matplotlib.pyplot.show>"
            ]
          },
          "metadata": {},
          "execution_count": 20
        },
        {
          "output_type": "display_data",
          "data": {
            "image/png": "[encoded data removed]",
            "text/plain": [
              "<Figure size 432x288 with 1 Axes>"
            ]
          },
          "metadata": {
            "needs_background": "light"
          }
        }
      ]
    },
    {
      "cell_type": "code",
      "metadata": {
        "id": "aT_bUQPBpFlu"
      },
      "source": [
        "from sklearn.model_selection import train_test_split\n",
        "xTrain1, xTest1, yTrain1, yTest1 = train_test_split(data, target, test_size = 0.3, random_state = 42)"
      ],
      "execution_count": 21,
      "outputs": []
    },
    {
      "cell_type": "code",
      "metadata": {
        "id": "K0ct8stEpFor"
      },
      "source": [
        "xTrain11 = np.expand_dims(xTrain1, axis=2)\n",
        "yTrain11 = tf.keras.utils.to_categorical(yTrain1, num_classes=2)\n",
        "xTest11 =  np.expand_dims(xTest1, axis=2)\n",
        "yTest11 = tf.keras.utils.to_categorical(yTest1, num_classes=2)"
      ],
      "execution_count": 22,
      "outputs": []
    },
    {
      "cell_type": "code",
      "metadata": {
        "id": "egKDUU6zpFr2"
      },
      "source": [
        "input_shape = (494, 1)\n"
      ],
      "execution_count": 23,
      "outputs": []
    },
    {
      "cell_type": "code",
      "metadata": {
        "id": "xJxQ1yvCpFur",
        "outputId": "668dcff9-32c9-43fd-e273-beb3e58c2b40",
        "colab": {
          "base_uri": "https://localhost:8080/"
        }
      },
      "source": [
        "\n",
        "#CNN Model\n",
        "\n",
        "model = Sequential()\n",
        "model.add(Conv1D(32, 3, activation='relu', input_shape=input_shape[0:]))\n",
        "model.add(BatchNormalization())\n",
        "model.add(LeakyReLU(alpha=0.1))\n",
        "model.add(Conv1D(64, 3, activation='relu', name=\"my_intermediate_layer\"))\n",
        "model.add(MaxPooling1D(3))\n",
        "model.add(BatchNormalization())\n",
        "model.add(LeakyReLU(alpha=0.1))\n",
        "model.add(Conv1D(128, 3, activation='relu'))\n",
        "model.add(BatchNormalization())\n",
        "model.add(LeakyReLU(alpha=0.1))\n",
        "model.add(Conv1D(256, 3, activation='relu'))\n",
        "model.add(GlobalAveragePooling1D())\n",
        "model.add(Dropout(0.5))\n",
        "model.add(Dense(100, name=\"dense\"))\n",
        "model.add(Dense(2, activation='softmax', name=\"dense1\"))\n",
        "model.compile(loss='categorical_crossentropy',\n",
        "                    optimizer='adam',\n",
        "                    metrics=['accuracy'])\n",
        "model.summary()"
      ],
      "execution_count": 24,
      "outputs": [
        {
          "output_type": "stream",
          "text": [
            "Model: \"sequential_1\"\n",
            "_________________________________________________________________\n",
            "Layer (type)                 Output Shape              Param #   \n",
            "=================================================================\n",
            "conv1d_3 (Conv1D)            (None, 492, 32)           128       \n",
            "_________________________________________________________________\n",
            "batch_normalization_3 (Batch (None, 492, 32)           128       \n",
            "_________________________________________________________________\n",
            "leaky_re_lu_3 (LeakyReLU)    (None, 492, 32)           0         \n",
            "_________________________________________________________________\n",
            "my_intermediate_layer (Conv1 (None, 490, 64)           6208      \n",
            "_________________________________________________________________\n",
            "max_pooling1d_1 (MaxPooling1 (None, 163, 64)           0         \n",
            "_________________________________________________________________\n",
            "batch_normalization_4 (Batch (None, 163, 64)           256       \n",
            "_________________________________________________________________\n",
            "leaky_re_lu_4 (LeakyReLU)    (None, 163, 64)           0         \n",
            "_________________________________________________________________\n",
            "conv1d_4 (Conv1D)            (None, 161, 128)          24704     \n",
            "_________________________________________________________________\n",
            "batch_normalization_5 (Batch (None, 161, 128)          512       \n",
            "_________________________________________________________________\n",
            "leaky_re_lu_5 (LeakyReLU)    (None, 161, 128)          0         \n",
            "_________________________________________________________________\n",
            "conv1d_5 (Conv1D)            (None, 159, 256)          98560     \n",
            "_________________________________________________________________\n",
            "global_average_pooling1d_1 ( (None, 256)               0         \n",
            "_________________________________________________________________\n",
            "dropout_1 (Dropout)          (None, 256)               0         \n",
            "_________________________________________________________________\n",
            "dense (Dense)                (None, 100)               25700     \n",
            "_________________________________________________________________\n",
            "dense1 (Dense)               (None, 2)                 202       \n",
            "=================================================================\n",
            "Total params: 156,398\n",
            "Trainable params: 155,950\n",
            "Non-trainable params: 448\n",
            "_________________________________________________________________\n"
          ],
          "name": "stdout"
        }
      ]
    },
    {
      "cell_type": "code",
      "metadata": {
        "colab": {
          "base_uri": "https://localhost:8080/"
        },
        "id": "dpRAWw9cpFyD",
        "outputId": "740f7329-1ca7-4a2d-c136-e795c4720717"
      },
      "source": [
        "from keras.callbacks import EarlyStopping\n",
        "#set early stopping monitor so the model stops training when it won't improve anymore\n",
        "early_stopping_monitor = EarlyStopping(patience=500)\n",
        "\n",
        "#train model\n",
        "history=model.fit(xTrain11, yTrain11, validation_data = (xTest11, yTest11), epochs=150, batch_size=16)\n"
      ],
      "execution_count": 25,
      "outputs": [
        {
          "output_type": "stream",
          "text": [
            "Epoch 1/150\n",
            "22/22 [==============================] - 2s 29ms/step - loss: 0.7495 - accuracy: 0.5809 - val_loss: 0.6935 - val_accuracy: 0.4899\n",
            "Epoch 2/150\n",
            "22/22 [==============================] - 0s 16ms/step - loss: 0.6592 - accuracy: 0.6069 - val_loss: 0.6974 - val_accuracy: 0.4899\n",
            "Epoch 3/150\n",
            "22/22 [==============================] - 0s 15ms/step - loss: 0.6339 - accuracy: 0.6618 - val_loss: 0.7062 - val_accuracy: 0.4899\n",
            "Epoch 4/150\n",
            "22/22 [==============================] - 0s 15ms/step - loss: 0.6493 - accuracy: 0.6329 - val_loss: 0.7193 - val_accuracy: 0.4899\n",
            "Epoch 5/150\n",
            "22/22 [==============================] - 0s 15ms/step - loss: 0.5895 - accuracy: 0.6734 - val_loss: 0.7213 - val_accuracy: 0.4899\n",
            "Epoch 6/150\n",
            "22/22 [==============================] - 0s 15ms/step - loss: 0.5930 - accuracy: 0.6965 - val_loss: 0.7467 - val_accuracy: 0.4899\n",
            "Epoch 7/150\n",
            "22/22 [==============================] - 0s 14ms/step - loss: 0.5656 - accuracy: 0.7312 - val_loss: 0.7582 - val_accuracy: 0.4899\n",
            "Epoch 8/150\n",
            "22/22 [==============================] - 0s 15ms/step - loss: 0.5707 - accuracy: 0.6994 - val_loss: 0.7986 - val_accuracy: 0.4899\n",
            "Epoch 9/150\n",
            "22/22 [==============================] - 0s 15ms/step - loss: 0.5332 - accuracy: 0.7543 - val_loss: 0.8540 - val_accuracy: 0.4899\n",
            "Epoch 10/150\n",
            "22/22 [==============================] - 0s 15ms/step - loss: 0.4957 - accuracy: 0.7746 - val_loss: 0.9074 - val_accuracy: 0.4899\n",
            "Epoch 11/150\n",
            "22/22 [==============================] - 0s 15ms/step - loss: 0.4350 - accuracy: 0.8006 - val_loss: 0.9441 - val_accuracy: 0.4899\n",
            "Epoch 12/150\n",
            "22/22 [==============================] - 0s 14ms/step - loss: 0.4856 - accuracy: 0.7630 - val_loss: 1.0492 - val_accuracy: 0.4899\n",
            "Epoch 13/150\n",
            "22/22 [==============================] - 0s 14ms/step - loss: 0.4552 - accuracy: 0.7919 - val_loss: 1.1932 - val_accuracy: 0.4899\n",
            "Epoch 14/150\n",
            "22/22 [==============================] - 0s 14ms/step - loss: 0.4236 - accuracy: 0.8035 - val_loss: 1.3522 - val_accuracy: 0.4899\n",
            "Epoch 15/150\n",
            "22/22 [==============================] - 0s 15ms/step - loss: 0.4373 - accuracy: 0.7977 - val_loss: 1.4258 - val_accuracy: 0.4899\n",
            "Epoch 16/150\n",
            "22/22 [==============================] - 0s 14ms/step - loss: 0.3516 - accuracy: 0.8584 - val_loss: 1.7039 - val_accuracy: 0.4899\n",
            "Epoch 17/150\n",
            "22/22 [==============================] - 0s 15ms/step - loss: 0.4015 - accuracy: 0.8064 - val_loss: 1.6216 - val_accuracy: 0.4899\n",
            "Epoch 18/150\n",
            "22/22 [==============================] - 0s 14ms/step - loss: 0.3200 - accuracy: 0.8786 - val_loss: 1.9887 - val_accuracy: 0.4899\n",
            "Epoch 19/150\n",
            "22/22 [==============================] - 0s 15ms/step - loss: 0.2360 - accuracy: 0.9220 - val_loss: 2.4232 - val_accuracy: 0.4899\n",
            "Epoch 20/150\n",
            "22/22 [==============================] - 0s 14ms/step - loss: 0.2507 - accuracy: 0.8988 - val_loss: 5.8156 - val_accuracy: 0.4899\n",
            "Epoch 21/150\n",
            "22/22 [==============================] - 0s 14ms/step - loss: 0.2311 - accuracy: 0.9162 - val_loss: 2.8604 - val_accuracy: 0.4899\n",
            "Epoch 22/150\n",
            "22/22 [==============================] - 0s 14ms/step - loss: 0.1909 - accuracy: 0.9451 - val_loss: 7.0249 - val_accuracy: 0.4899\n",
            "Epoch 23/150\n",
            "22/22 [==============================] - 0s 16ms/step - loss: 0.2365 - accuracy: 0.8931 - val_loss: 6.6500 - val_accuracy: 0.4899\n",
            "Epoch 24/150\n",
            "22/22 [==============================] - 0s 14ms/step - loss: 0.1966 - accuracy: 0.9191 - val_loss: 2.9008 - val_accuracy: 0.4899\n",
            "Epoch 25/150\n",
            "22/22 [==============================] - 0s 14ms/step - loss: 0.1488 - accuracy: 0.9451 - val_loss: 4.5013 - val_accuracy: 0.4899\n",
            "Epoch 26/150\n",
            "22/22 [==============================] - 0s 14ms/step - loss: 0.1538 - accuracy: 0.9335 - val_loss: 3.1781 - val_accuracy: 0.4899\n",
            "Epoch 27/150\n",
            "22/22 [==============================] - 0s 14ms/step - loss: 0.1438 - accuracy: 0.9566 - val_loss: 4.4514 - val_accuracy: 0.4899\n",
            "Epoch 28/150\n",
            "22/22 [==============================] - 0s 14ms/step - loss: 0.1303 - accuracy: 0.9538 - val_loss: 3.1914 - val_accuracy: 0.5101\n",
            "Epoch 29/150\n",
            "22/22 [==============================] - 0s 14ms/step - loss: 0.1453 - accuracy: 0.9566 - val_loss: 5.8717 - val_accuracy: 0.4966\n",
            "Epoch 30/150\n",
            "22/22 [==============================] - 0s 14ms/step - loss: 0.1037 - accuracy: 0.9538 - val_loss: 5.1239 - val_accuracy: 0.4899\n",
            "Epoch 31/150\n",
            "22/22 [==============================] - 0s 14ms/step - loss: 0.0984 - accuracy: 0.9798 - val_loss: 11.4445 - val_accuracy: 0.4899\n",
            "Epoch 32/150\n",
            "22/22 [==============================] - 0s 14ms/step - loss: 0.0886 - accuracy: 0.9624 - val_loss: 5.3466 - val_accuracy: 0.5168\n",
            "Epoch 33/150\n",
            "22/22 [==============================] - 0s 14ms/step - loss: 0.0884 - accuracy: 0.9653 - val_loss: 2.4631 - val_accuracy: 0.5638\n",
            "Epoch 34/150\n",
            "22/22 [==============================] - 0s 14ms/step - loss: 0.0869 - accuracy: 0.9653 - val_loss: 1.0575 - val_accuracy: 0.6779\n",
            "Epoch 35/150\n",
            "22/22 [==============================] - 0s 15ms/step - loss: 0.0924 - accuracy: 0.9740 - val_loss: 1.0918 - val_accuracy: 0.7584\n",
            "Epoch 36/150\n",
            "22/22 [==============================] - 0s 15ms/step - loss: 0.0811 - accuracy: 0.9653 - val_loss: 2.1099 - val_accuracy: 0.6644\n",
            "Epoch 37/150\n",
            "22/22 [==============================] - 0s 15ms/step - loss: 0.0514 - accuracy: 0.9827 - val_loss: 4.2780 - val_accuracy: 0.5638\n",
            "Epoch 38/150\n",
            "22/22 [==============================] - 0s 14ms/step - loss: 0.0630 - accuracy: 0.9827 - val_loss: 2.5104 - val_accuracy: 0.7181\n",
            "Epoch 39/150\n",
            "22/22 [==============================] - 0s 16ms/step - loss: 0.0251 - accuracy: 0.9913 - val_loss: 1.6628 - val_accuracy: 0.6980\n",
            "Epoch 40/150\n",
            "22/22 [==============================] - 0s 14ms/step - loss: 0.0171 - accuracy: 1.0000 - val_loss: 0.7016 - val_accuracy: 0.7651\n",
            "Epoch 41/150\n",
            "22/22 [==============================] - 0s 15ms/step - loss: 0.0292 - accuracy: 0.9913 - val_loss: 0.7742 - val_accuracy: 0.7785\n",
            "Epoch 42/150\n",
            "22/22 [==============================] - 0s 14ms/step - loss: 0.0237 - accuracy: 0.9913 - val_loss: 0.7947 - val_accuracy: 0.7383\n",
            "Epoch 43/150\n",
            "22/22 [==============================] - 0s 14ms/step - loss: 0.0360 - accuracy: 0.9855 - val_loss: 1.4748 - val_accuracy: 0.7383\n",
            "Epoch 44/150\n",
            "22/22 [==============================] - 0s 14ms/step - loss: 0.0525 - accuracy: 0.9798 - val_loss: 1.5376 - val_accuracy: 0.5906\n",
            "Epoch 45/150\n",
            "22/22 [==============================] - 0s 15ms/step - loss: 0.0620 - accuracy: 0.9740 - val_loss: 3.4429 - val_accuracy: 0.4698\n",
            "Epoch 46/150\n",
            "22/22 [==============================] - 0s 14ms/step - loss: 0.0597 - accuracy: 0.9798 - val_loss: 4.3448 - val_accuracy: 0.6242\n",
            "Epoch 47/150\n",
            "22/22 [==============================] - 0s 16ms/step - loss: 0.0719 - accuracy: 0.9740 - val_loss: 4.8448 - val_accuracy: 0.6040\n",
            "Epoch 48/150\n",
            "22/22 [==============================] - 0s 15ms/step - loss: 0.0682 - accuracy: 0.9740 - val_loss: 5.9050 - val_accuracy: 0.5839\n",
            "Epoch 49/150\n",
            "22/22 [==============================] - 0s 14ms/step - loss: 0.3959 - accuracy: 0.8584 - val_loss: 3.4821 - val_accuracy: 0.5168\n",
            "Epoch 50/150\n",
            "22/22 [==============================] - 0s 16ms/step - loss: 0.2165 - accuracy: 0.9017 - val_loss: 1.2023 - val_accuracy: 0.6443\n",
            "Epoch 51/150\n",
            "22/22 [==============================] - 0s 15ms/step - loss: 0.0920 - accuracy: 0.9769 - val_loss: 1.8978 - val_accuracy: 0.5973\n",
            "Epoch 52/150\n",
            "22/22 [==============================] - 0s 15ms/step - loss: 0.0767 - accuracy: 0.9798 - val_loss: 2.0496 - val_accuracy: 0.6309\n",
            "Epoch 53/150\n",
            "22/22 [==============================] - 0s 15ms/step - loss: 0.0677 - accuracy: 0.9827 - val_loss: 1.2162 - val_accuracy: 0.7047\n",
            "Epoch 54/150\n",
            "22/22 [==============================] - 0s 15ms/step - loss: 0.0347 - accuracy: 0.9942 - val_loss: 1.8704 - val_accuracy: 0.7450\n",
            "Epoch 55/150\n",
            "22/22 [==============================] - 0s 14ms/step - loss: 0.0254 - accuracy: 0.9942 - val_loss: 1.2823 - val_accuracy: 0.7785\n",
            "Epoch 56/150\n",
            "22/22 [==============================] - 0s 16ms/step - loss: 0.0337 - accuracy: 0.9913 - val_loss: 2.1328 - val_accuracy: 0.7450\n",
            "Epoch 57/150\n",
            "22/22 [==============================] - 0s 15ms/step - loss: 0.0201 - accuracy: 0.9971 - val_loss: 2.3969 - val_accuracy: 0.6107\n",
            "Epoch 58/150\n",
            "22/22 [==============================] - 0s 16ms/step - loss: 0.0089 - accuracy: 1.0000 - val_loss: 2.0991 - val_accuracy: 0.6242\n",
            "Epoch 59/150\n",
            "22/22 [==============================] - 0s 14ms/step - loss: 0.0074 - accuracy: 1.0000 - val_loss: 1.0165 - val_accuracy: 0.7785\n",
            "Epoch 60/150\n",
            "22/22 [==============================] - 0s 16ms/step - loss: 0.0032 - accuracy: 1.0000 - val_loss: 1.1487 - val_accuracy: 0.7248\n",
            "Epoch 61/150\n",
            "22/22 [==============================] - 0s 15ms/step - loss: 0.0062 - accuracy: 1.0000 - val_loss: 1.2999 - val_accuracy: 0.7248\n",
            "Epoch 62/150\n",
            "22/22 [==============================] - 0s 15ms/step - loss: 0.0036 - accuracy: 1.0000 - val_loss: 1.6669 - val_accuracy: 0.7114\n",
            "Epoch 63/150\n",
            "22/22 [==============================] - 0s 15ms/step - loss: 0.0137 - accuracy: 0.9942 - val_loss: 1.9488 - val_accuracy: 0.6913\n",
            "Epoch 64/150\n",
            "22/22 [==============================] - 0s 15ms/step - loss: 0.0305 - accuracy: 0.9913 - val_loss: 3.1662 - val_accuracy: 0.7047\n",
            "Epoch 65/150\n",
            "22/22 [==============================] - 0s 14ms/step - loss: 0.0413 - accuracy: 0.9855 - val_loss: 2.3534 - val_accuracy: 0.7383\n",
            "Epoch 66/150\n",
            "22/22 [==============================] - 0s 15ms/step - loss: 0.0604 - accuracy: 0.9740 - val_loss: 4.8947 - val_accuracy: 0.6644\n",
            "Epoch 67/150\n",
            "22/22 [==============================] - 0s 15ms/step - loss: 0.0502 - accuracy: 0.9798 - val_loss: 5.1137 - val_accuracy: 0.5973\n",
            "Epoch 68/150\n",
            "22/22 [==============================] - 0s 14ms/step - loss: 0.0936 - accuracy: 0.9711 - val_loss: 1.8340 - val_accuracy: 0.6376\n",
            "Epoch 69/150\n",
            "22/22 [==============================] - 0s 14ms/step - loss: 0.0494 - accuracy: 0.9827 - val_loss: 1.3615 - val_accuracy: 0.7383\n",
            "Epoch 70/150\n",
            "22/22 [==============================] - 0s 14ms/step - loss: 0.0170 - accuracy: 0.9971 - val_loss: 1.2870 - val_accuracy: 0.7450\n",
            "Epoch 71/150\n",
            "22/22 [==============================] - 0s 15ms/step - loss: 0.0119 - accuracy: 1.0000 - val_loss: 1.3895 - val_accuracy: 0.7450\n",
            "Epoch 72/150\n",
            "22/22 [==============================] - 0s 15ms/step - loss: 0.0062 - accuracy: 1.0000 - val_loss: 1.5055 - val_accuracy: 0.7450\n",
            "Epoch 73/150\n",
            "22/22 [==============================] - 0s 14ms/step - loss: 0.0028 - accuracy: 1.0000 - val_loss: 1.4166 - val_accuracy: 0.7651\n",
            "Epoch 74/150\n",
            "22/22 [==============================] - 0s 14ms/step - loss: 0.0043 - accuracy: 0.9971 - val_loss: 1.7041 - val_accuracy: 0.7383\n",
            "Epoch 75/150\n",
            "22/22 [==============================] - 0s 15ms/step - loss: 0.0041 - accuracy: 1.0000 - val_loss: 1.1642 - val_accuracy: 0.7785\n",
            "Epoch 76/150\n",
            "22/22 [==============================] - 0s 14ms/step - loss: 0.0021 - accuracy: 1.0000 - val_loss: 1.2235 - val_accuracy: 0.7785\n",
            "Epoch 77/150\n",
            "22/22 [==============================] - 0s 15ms/step - loss: 0.0013 - accuracy: 1.0000 - val_loss: 1.4107 - val_accuracy: 0.7651\n",
            "Epoch 78/150\n",
            "22/22 [==============================] - 0s 14ms/step - loss: 0.0031 - accuracy: 1.0000 - val_loss: 1.4758 - val_accuracy: 0.7852\n",
            "Epoch 79/150\n",
            "22/22 [==============================] - 0s 16ms/step - loss: 0.0048 - accuracy: 1.0000 - val_loss: 2.0454 - val_accuracy: 0.7517\n",
            "Epoch 80/150\n",
            "22/22 [==============================] - 0s 15ms/step - loss: 0.0035 - accuracy: 1.0000 - val_loss: 1.3336 - val_accuracy: 0.7383\n",
            "Epoch 81/150\n",
            "22/22 [==============================] - 0s 14ms/step - loss: 0.0014 - accuracy: 1.0000 - val_loss: 1.2165 - val_accuracy: 0.7718\n",
            "Epoch 82/150\n",
            "22/22 [==============================] - 0s 16ms/step - loss: 0.0020 - accuracy: 1.0000 - val_loss: 1.2407 - val_accuracy: 0.7651\n",
            "Epoch 83/150\n",
            "22/22 [==============================] - 0s 15ms/step - loss: 0.0012 - accuracy: 1.0000 - val_loss: 1.2810 - val_accuracy: 0.7785\n",
            "Epoch 84/150\n",
            "22/22 [==============================] - 0s 15ms/step - loss: 0.0028 - accuracy: 1.0000 - val_loss: 1.5282 - val_accuracy: 0.7651\n",
            "Epoch 85/150\n",
            "22/22 [==============================] - 0s 15ms/step - loss: 0.0030 - accuracy: 1.0000 - val_loss: 1.5598 - val_accuracy: 0.7450\n",
            "Epoch 86/150\n",
            "22/22 [==============================] - 0s 14ms/step - loss: 0.0012 - accuracy: 1.0000 - val_loss: 1.6513 - val_accuracy: 0.7450\n",
            "Epoch 87/150\n",
            "22/22 [==============================] - 0s 15ms/step - loss: 0.0015 - accuracy: 1.0000 - val_loss: 1.5573 - val_accuracy: 0.7651\n",
            "Epoch 88/150\n",
            "22/22 [==============================] - 0s 15ms/step - loss: 7.9533e-04 - accuracy: 1.0000 - val_loss: 1.5083 - val_accuracy: 0.7584\n",
            "Epoch 89/150\n",
            "22/22 [==============================] - 0s 14ms/step - loss: 0.0135 - accuracy: 0.9942 - val_loss: 1.3543 - val_accuracy: 0.7651\n",
            "Epoch 90/150\n",
            "22/22 [==============================] - 0s 14ms/step - loss: 0.1174 - accuracy: 0.9798 - val_loss: 22.1634 - val_accuracy: 0.4899\n",
            "Epoch 91/150\n",
            "22/22 [==============================] - 0s 15ms/step - loss: 0.2878 - accuracy: 0.9046 - val_loss: 17.2136 - val_accuracy: 0.5101\n",
            "Epoch 92/150\n",
            "22/22 [==============================] - 0s 15ms/step - loss: 0.2545 - accuracy: 0.9017 - val_loss: 3.3419 - val_accuracy: 0.7181\n",
            "Epoch 93/150\n",
            "22/22 [==============================] - 0s 14ms/step - loss: 0.1541 - accuracy: 0.9306 - val_loss: 2.8625 - val_accuracy: 0.7114\n",
            "Epoch 94/150\n",
            "22/22 [==============================] - 0s 16ms/step - loss: 0.0702 - accuracy: 0.9798 - val_loss: 6.6754 - val_accuracy: 0.6510\n",
            "Epoch 95/150\n",
            "22/22 [==============================] - 0s 15ms/step - loss: 0.0342 - accuracy: 0.9942 - val_loss: 12.8607 - val_accuracy: 0.5302\n",
            "Epoch 96/150\n",
            "22/22 [==============================] - 0s 15ms/step - loss: 0.0251 - accuracy: 0.9971 - val_loss: 9.3764 - val_accuracy: 0.5906\n",
            "Epoch 97/150\n",
            "22/22 [==============================] - 0s 16ms/step - loss: 0.0146 - accuracy: 0.9942 - val_loss: 8.4957 - val_accuracy: 0.5906\n",
            "Epoch 98/150\n",
            "22/22 [==============================] - 0s 14ms/step - loss: 0.0095 - accuracy: 0.9971 - val_loss: 7.9993 - val_accuracy: 0.5503\n",
            "Epoch 99/150\n",
            "22/22 [==============================] - 0s 14ms/step - loss: 0.0082 - accuracy: 1.0000 - val_loss: 3.1924 - val_accuracy: 0.6510\n",
            "Epoch 100/150\n",
            "22/22 [==============================] - 0s 16ms/step - loss: 0.0026 - accuracy: 1.0000 - val_loss: 2.8850 - val_accuracy: 0.6846\n",
            "Epoch 101/150\n",
            "22/22 [==============================] - 0s 14ms/step - loss: 0.0069 - accuracy: 0.9971 - val_loss: 2.3708 - val_accuracy: 0.7181\n",
            "Epoch 102/150\n",
            "22/22 [==============================] - 0s 16ms/step - loss: 0.0034 - accuracy: 1.0000 - val_loss: 2.2097 - val_accuracy: 0.7450\n",
            "Epoch 103/150\n",
            "22/22 [==============================] - 0s 15ms/step - loss: 0.0026 - accuracy: 1.0000 - val_loss: 1.7307 - val_accuracy: 0.7450\n",
            "Epoch 104/150\n",
            "22/22 [==============================] - 0s 15ms/step - loss: 0.0057 - accuracy: 0.9971 - val_loss: 1.3117 - val_accuracy: 0.7584\n",
            "Epoch 105/150\n",
            "22/22 [==============================] - 0s 14ms/step - loss: 0.0178 - accuracy: 0.9942 - val_loss: 1.2040 - val_accuracy: 0.7315\n",
            "Epoch 106/150\n",
            "22/22 [==============================] - 0s 15ms/step - loss: 0.0078 - accuracy: 1.0000 - val_loss: 3.8399 - val_accuracy: 0.6174\n",
            "Epoch 107/150\n",
            "22/22 [==============================] - 0s 14ms/step - loss: 0.0055 - accuracy: 1.0000 - val_loss: 2.3442 - val_accuracy: 0.6913\n",
            "Epoch 108/150\n",
            "22/22 [==============================] - 0s 14ms/step - loss: 0.0028 - accuracy: 1.0000 - val_loss: 1.9021 - val_accuracy: 0.7315\n",
            "Epoch 109/150\n",
            "22/22 [==============================] - 0s 15ms/step - loss: 0.0207 - accuracy: 0.9913 - val_loss: 2.5233 - val_accuracy: 0.6779\n",
            "Epoch 110/150\n",
            "22/22 [==============================] - 0s 16ms/step - loss: 0.0242 - accuracy: 0.9913 - val_loss: 2.4467 - val_accuracy: 0.6846\n",
            "Epoch 111/150\n",
            "22/22 [==============================] - 0s 14ms/step - loss: 0.0073 - accuracy: 1.0000 - val_loss: 2.7608 - val_accuracy: 0.6376\n",
            "Epoch 112/150\n",
            "22/22 [==============================] - 0s 15ms/step - loss: 0.0062 - accuracy: 1.0000 - val_loss: 1.7544 - val_accuracy: 0.7315\n",
            "Epoch 113/150\n",
            "22/22 [==============================] - 0s 15ms/step - loss: 0.0044 - accuracy: 1.0000 - val_loss: 2.3313 - val_accuracy: 0.7181\n",
            "Epoch 114/150\n",
            "22/22 [==============================] - 0s 15ms/step - loss: 0.0035 - accuracy: 1.0000 - val_loss: 1.4936 - val_accuracy: 0.7517\n",
            "Epoch 115/150\n",
            "22/22 [==============================] - 0s 15ms/step - loss: 0.0195 - accuracy: 0.9971 - val_loss: 3.3477 - val_accuracy: 0.7450\n",
            "Epoch 116/150\n",
            "22/22 [==============================] - 0s 15ms/step - loss: 0.0250 - accuracy: 0.9913 - val_loss: 1.8025 - val_accuracy: 0.7718\n",
            "Epoch 117/150\n",
            "22/22 [==============================] - 0s 14ms/step - loss: 0.0090 - accuracy: 0.9971 - val_loss: 3.6041 - val_accuracy: 0.7248\n",
            "Epoch 118/150\n",
            "22/22 [==============================] - 0s 15ms/step - loss: 0.0341 - accuracy: 0.9855 - val_loss: 5.5943 - val_accuracy: 0.5839\n",
            "Epoch 119/150\n",
            "22/22 [==============================] - 0s 15ms/step - loss: 0.0270 - accuracy: 0.9855 - val_loss: 1.6938 - val_accuracy: 0.7517\n",
            "Epoch 120/150\n",
            "22/22 [==============================] - 0s 15ms/step - loss: 0.0170 - accuracy: 0.9971 - val_loss: 1.6842 - val_accuracy: 0.7651\n",
            "Epoch 121/150\n",
            "22/22 [==============================] - 0s 14ms/step - loss: 0.0044 - accuracy: 1.0000 - val_loss: 1.5102 - val_accuracy: 0.7651\n",
            "Epoch 122/150\n",
            "22/22 [==============================] - 0s 15ms/step - loss: 0.0030 - accuracy: 1.0000 - val_loss: 1.8636 - val_accuracy: 0.7450\n",
            "Epoch 123/150\n",
            "22/22 [==============================] - 0s 15ms/step - loss: 0.0035 - accuracy: 1.0000 - val_loss: 1.4862 - val_accuracy: 0.7450\n",
            "Epoch 124/150\n",
            "22/22 [==============================] - 0s 14ms/step - loss: 0.0109 - accuracy: 0.9971 - val_loss: 1.1351 - val_accuracy: 0.7651\n",
            "Epoch 125/150\n",
            "22/22 [==============================] - 0s 16ms/step - loss: 0.0705 - accuracy: 0.9855 - val_loss: 4.2732 - val_accuracy: 0.6510\n",
            "Epoch 126/150\n",
            "22/22 [==============================] - 0s 15ms/step - loss: 0.0498 - accuracy: 0.9855 - val_loss: 1.1721 - val_accuracy: 0.7383\n",
            "Epoch 127/150\n",
            "22/22 [==============================] - 0s 14ms/step - loss: 0.0184 - accuracy: 0.9913 - val_loss: 1.5897 - val_accuracy: 0.5973\n",
            "Epoch 128/150\n",
            "22/22 [==============================] - 0s 15ms/step - loss: 0.0164 - accuracy: 0.9942 - val_loss: 1.7184 - val_accuracy: 0.7181\n",
            "Epoch 129/150\n",
            "22/22 [==============================] - 0s 14ms/step - loss: 0.0273 - accuracy: 0.9884 - val_loss: 1.8571 - val_accuracy: 0.6980\n",
            "Epoch 130/150\n",
            "22/22 [==============================] - 0s 15ms/step - loss: 0.0218 - accuracy: 0.9913 - val_loss: 1.6766 - val_accuracy: 0.7785\n",
            "Epoch 131/150\n",
            "22/22 [==============================] - 0s 14ms/step - loss: 0.0090 - accuracy: 0.9971 - val_loss: 1.5368 - val_accuracy: 0.7450\n",
            "Epoch 132/150\n",
            "22/22 [==============================] - 0s 15ms/step - loss: 0.0034 - accuracy: 1.0000 - val_loss: 1.8877 - val_accuracy: 0.7785\n",
            "Epoch 133/150\n",
            "22/22 [==============================] - 0s 14ms/step - loss: 0.0053 - accuracy: 1.0000 - val_loss: 2.6305 - val_accuracy: 0.7517\n",
            "Epoch 134/150\n",
            "22/22 [==============================] - 0s 16ms/step - loss: 0.0033 - accuracy: 0.9971 - val_loss: 3.3633 - val_accuracy: 0.7450\n",
            "Epoch 135/150\n",
            "22/22 [==============================] - 0s 14ms/step - loss: 0.0096 - accuracy: 0.9971 - val_loss: 2.6541 - val_accuracy: 0.7248\n",
            "Epoch 136/150\n",
            "22/22 [==============================] - 0s 14ms/step - loss: 0.0082 - accuracy: 1.0000 - val_loss: 2.4617 - val_accuracy: 0.7047\n",
            "Epoch 137/150\n",
            "22/22 [==============================] - 0s 15ms/step - loss: 0.0036 - accuracy: 1.0000 - val_loss: 2.0628 - val_accuracy: 0.7785\n",
            "Epoch 138/150\n",
            "22/22 [==============================] - 0s 15ms/step - loss: 0.0018 - accuracy: 1.0000 - val_loss: 1.7078 - val_accuracy: 0.7852\n",
            "Epoch 139/150\n",
            "22/22 [==============================] - 0s 15ms/step - loss: 0.0013 - accuracy: 1.0000 - val_loss: 1.7939 - val_accuracy: 0.6779\n",
            "Epoch 140/150\n",
            "22/22 [==============================] - 0s 15ms/step - loss: 4.3525e-04 - accuracy: 1.0000 - val_loss: 1.5644 - val_accuracy: 0.7584\n",
            "Epoch 141/150\n",
            "22/22 [==============================] - 0s 14ms/step - loss: 3.7491e-04 - accuracy: 1.0000 - val_loss: 1.5697 - val_accuracy: 0.7852\n",
            "Epoch 142/150\n",
            "22/22 [==============================] - 0s 15ms/step - loss: 7.5150e-04 - accuracy: 1.0000 - val_loss: 1.9417 - val_accuracy: 0.7383\n",
            "Epoch 143/150\n",
            "22/22 [==============================] - 0s 16ms/step - loss: 6.1973e-04 - accuracy: 1.0000 - val_loss: 1.6663 - val_accuracy: 0.7651\n",
            "Epoch 144/150\n",
            "22/22 [==============================] - 0s 15ms/step - loss: 7.9172e-04 - accuracy: 1.0000 - val_loss: 1.7347 - val_accuracy: 0.7987\n",
            "Epoch 145/150\n",
            "22/22 [==============================] - 0s 14ms/step - loss: 3.8793e-04 - accuracy: 1.0000 - val_loss: 1.9603 - val_accuracy: 0.7718\n",
            "Epoch 146/150\n",
            "22/22 [==============================] - 0s 15ms/step - loss: 8.5787e-04 - accuracy: 1.0000 - val_loss: 1.8170 - val_accuracy: 0.7718\n",
            "Epoch 147/150\n",
            "22/22 [==============================] - 0s 14ms/step - loss: 2.4003e-04 - accuracy: 1.0000 - val_loss: 1.8701 - val_accuracy: 0.7718\n",
            "Epoch 148/150\n",
            "22/22 [==============================] - 0s 14ms/step - loss: 2.5719e-04 - accuracy: 1.0000 - val_loss: 1.8401 - val_accuracy: 0.7785\n",
            "Epoch 149/150\n",
            "22/22 [==============================] - 0s 15ms/step - loss: 2.4622e-04 - accuracy: 1.0000 - val_loss: 1.8551 - val_accuracy: 0.7718\n",
            "Epoch 150/150\n",
            "22/22 [==============================] - 0s 15ms/step - loss: 3.3802e-04 - accuracy: 1.0000 - val_loss: 1.7243 - val_accuracy: 0.7919\n"
          ],
          "name": "stdout"
        }
      ]
    },
    {
      "cell_type": "code",
      "metadata": {
        "colab": {
          "base_uri": "https://localhost:8080/",
          "height": 295
        },
        "id": "SKqzztQDpF01",
        "outputId": "e03ee50e-9cd1-4211-b00b-f8996bf4eea1"
      },
      "source": [
        "import os\n",
        "import seaborn as sns\n",
        "#plot the training and validation accuracy and loss at each epoch\n",
        "loss = history.history['loss']\n",
        "val_loss = history.history['val_loss']\n",
        "epochs = range(1, len(loss) + 1)\n",
        "plt.plot(epochs, loss, 'y', label='Training loss')\n",
        "plt.plot(epochs, val_loss, 'r', label='Validation loss')\n",
        "plt.title('Training and validation loss')\n",
        "plt.xlabel('Epochs')\n",
        "plt.ylabel('Loss')\n",
        "plt.legend()\n",
        "plt.show()"
      ],
      "execution_count": 26,
      "outputs": [
        {
          "output_type": "display_data",
          "data": {
            "image/png": "[encoded data removed]",
            "text/plain": [
              "<Figure size 432x288 with 1 Axes>"
            ]
          },
          "metadata": {
            "needs_background": "light"
          }
        }
      ]
    },
    {
      "cell_type": "code",
      "metadata": {
        "colab": {
          "base_uri": "https://localhost:8080/",
          "height": 295
        },
        "id": "9mpZlD41pF4A",
        "outputId": "f2ae951c-b9cd-46e2-a228-2aa8301a696c"
      },
      "source": [
        "acc = history.history['accuracy']\n",
        "val_acc = history.history['val_accuracy']\n",
        "plt.plot(epochs, acc, 'y', label='Training acc')\n",
        "plt.plot(epochs, val_acc, 'r', label='Validation acc')\n",
        "plt.title('Training and validation accuracy')\n",
        "plt.xlabel('Epochs')\n",
        "plt.ylabel('Accuracy')\n",
        "plt.legend()\n",
        "plt.show()"
      ],
      "execution_count": 27,
      "outputs": [
        {
          "output_type": "display_data",
          "data": {
            "image/png": "[encoded data removed]",
            "text/plain": [
              "<Figure size 432x288 with 1 Axes>"
            ]
          },
          "metadata": {
            "needs_background": "light"
          }
        }
      ]
    },
    {
      "cell_type": "code",
      "metadata": {
        "colab": {
          "base_uri": "https://localhost:8080/",
          "height": 336
        },
        "id": "D-PzHWUjpF7H",
        "outputId": "9ac5fa8d-3aff-44ed-8f70-2c1886c1465b"
      },
      "source": [
        "prediction_NN = model.predict(xTest11)\n",
        "prediction_NN = np.argmax(prediction_NN, axis=-1)\n",
        "#Print overall accuracy\n",
        "from sklearn import metrics\n",
        "print (\"Accuracy = \", metrics.accuracy_score(yTest1, prediction_NN))\n",
        "#Confusion Matrix - verify accuracy of each class\n",
        "from sklearn.metrics import confusion_matrix\n",
        "cm = confusion_matrix(yTest1, prediction_NN)\n",
        "print(cm)\n",
        "sns.heatmap(cm, annot=True)"
      ],
      "execution_count": 28,
      "outputs": [
        {
          "output_type": "stream",
          "text": [
            "Accuracy =  0.7919463087248322\n",
            "[[60 13]\n",
            " [18 58]]\n"
          ],
          "name": "stdout"
        },
        {
          "output_type": "execute_result",
          "data": {
            "text/plain": [
              "<matplotlib.axes._subplots.AxesSubplot at 0x7f6ec1cecf50>"
            ]
          },
          "metadata": {},
          "execution_count": 28
        },
        {
          "output_type": "display_data",
          "data": {
            "image/png": "[encoded data removed]",
            "text/plain": [
              "<Figure size 432x288 with 2 Axes>"
            ]
          },
          "metadata": {
            "needs_background": "light"
          }
        }
      ]
    },
    {
      "cell_type": "code",
      "metadata": {
        "id": "9uZBV86wOX77"
      },
      "source": [
        ""
      ],
      "execution_count": null,
      "outputs": []
    }
  ]
}