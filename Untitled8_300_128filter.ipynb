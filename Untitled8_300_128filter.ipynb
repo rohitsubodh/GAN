{
  "nbformat": 4,
  "nbformat_minor": 0,
  "metadata": {
    "colab": {
      "name": "Untitled8.ipynb",
      "provenance": [],
      "include_colab_link": true
    },
    "kernelspec": {
      "name": "python3",
      "display_name": "Python 3"
    },
    "language_info": {
      "name": "python"
    },
    "accelerator": "GPU"
  },
  "cells": [
    {
      "cell_type": "markdown",
      "metadata": {
        "id": "view-in-github",
        "colab_type": "text"
      },
      "source": [
        "<a href=\"https://colab.research.google.com/github/rohitsubodh/GAN/blob/main/Untitled8_300_128filter.ipynb\" target=\"_parent\"><img src=\"https://colab.research.google.com/assets/colab-badge.svg\" alt=\"Open In Colab\"/></a>"
      ]
    },
    {
      "cell_type": "code",
      "metadata": {
        "id": "cMHBuO0wos-j"
      },
      "source": [
        "\n",
        "import tensorflow as tf\n",
        "import keras\n",
        "import numpy as np\n",
        "from keras import models\n",
        "from keras import layers\n",
        "from keras.wrappers.scikit_learn import KerasClassifier\n",
        "from sklearn.model_selection import cross_val_score\n",
        "from sklearn.datasets import make_classification\n",
        "from matplotlib import pyplot\n",
        "import numpy as np\n",
        "import matplotlib.pyplot as plt\n",
        "import pandas as pd\n",
        "from sklearn import preprocessing\n",
        "from keras.models import Sequential\n",
        "from keras.layers import Dense, Dropout,Input\n",
        "from keras.layers import Embedding,LeakyReLU\n",
        "from keras.layers import Conv1D, GlobalAveragePooling1D, MaxPooling1D, Flatten, LocallyConnected1D, BatchNormalization\n",
        "import scipy.signal\n",
        "from sklearn.decomposition import PCA, KernelPCA"
      ],
      "execution_count": 51,
      "outputs": []
    },
    {
      "cell_type": "code",
      "metadata": {
        "id": "Hi8fcclmpFNY"
      },
      "source": [
        "data = pd.read_excel('/content/PPG_new.xlsx',sheet_name='0-1')\n",
        "target = pd.read_excel('/content/PPG_new.xlsx',sheet_name='target 0-1')"
      ],
      "execution_count": 52,
      "outputs": []
    },
    {
      "cell_type": "code",
      "metadata": {
        "colab": {
          "base_uri": "https://localhost:8080/"
        },
        "id": "mUhak2l_B-rq",
        "outputId": "152c2716-1185-4992-90aa-069c182f5fd6"
      },
      "source": [
        "data.shape"
      ],
      "execution_count": 53,
      "outputs": [
        {
          "output_type": "execute_result",
          "data": {
            "text/plain": [
              "(495, 2100)"
            ]
          },
          "metadata": {},
          "execution_count": 53
        }
      ]
    },
    {
      "cell_type": "code",
      "metadata": {
        "colab": {
          "base_uri": "https://localhost:8080/",
          "height": 265
        },
        "id": "q1Q3Q3FepFW2",
        "outputId": "10c76b26-5c2a-4aec-9e1f-b97e51450680"
      },
      "source": [
        "x= data.iloc[0,:]\n",
        "plt.plot(x)\n",
        "plt.show\n",
        "data12=data"
      ],
      "execution_count": 54,
      "outputs": [
        {
          "output_type": "display_data",
          "data": {
            "image/png": "[encoded data removed]",
            "text/plain": [
              "<Figure size 432x288 with 1 Axes>"
            ]
          },
          "metadata": {
            "needs_background": "light"
          }
        }
      ]
    },
    {
      "cell_type": "code",
      "metadata": {
        "colab": {
          "base_uri": "https://localhost:8080/",
          "height": 282
        },
        "id": "SRcZU0-ppFaK",
        "outputId": "5830c6f1-c8cb-48f7-987f-333dfb6d4eef"
      },
      "source": [
        "# Applying median filter\n",
        "data=data\n",
        "data=scipy.signal.medfilt(data)\n",
        "data\n",
        "x= data[0,:]\n",
        "plt.plot(x)\n",
        "plt.show"
      ],
      "execution_count": 55,
      "outputs": [
        {
          "output_type": "execute_result",
          "data": {
            "text/plain": [
              "<function matplotlib.pyplot.show>"
            ]
          },
          "metadata": {},
          "execution_count": 55
        },
        {
          "output_type": "display_data",
          "data": {
            "image/png": "[encoded data removed]",
            "text/plain": [
              "<Figure size 432x288 with 1 Axes>"
            ]
          },
          "metadata": {
            "needs_background": "light"
          }
        }
      ]
    },
    {
      "cell_type": "code",
      "metadata": {
        "colab": {
          "base_uri": "https://localhost:8080/"
        },
        "id": "Rr2cHwXGpFc9",
        "outputId": "7931b781-c197-49bd-c659-f3830f5eb69e"
      },
      "source": [
        "# Design of low pass chebyshev filter\n",
        "sos= scipy.signal.cheby2(4, 10, 25, 'low', fs=1000, output='sos')\n",
        "sos"
      ],
      "execution_count": 56,
      "outputs": [
        {
          "output_type": "execute_result",
          "data": {
            "text/plain": [
              "array([[ 0.26741176, -0.49141861,  0.26741176,  1.        , -1.6346899 ,\n",
              "         0.69069827],\n",
              "       [ 1.        , -1.97118242,  1.        ,  1.        , -1.92658177,\n",
              "         0.94891457]])"
            ]
          },
          "metadata": {},
          "execution_count": 56
        }
      ]
    },
    {
      "cell_type": "code",
      "metadata": {
        "colab": {
          "base_uri": "https://localhost:8080/",
          "height": 282
        },
        "id": "V2M-vdahpFfz",
        "outputId": "6c724000-8f6e-4074-ad6a-0ca24cc877b6"
      },
      "source": [
        "data= scipy.signal.sosfilt(sos, data) # applying chebyshev filter\n",
        "x= data[0,:]\n",
        "plt.plot(x)\n",
        "plt.show"
      ],
      "execution_count": 57,
      "outputs": [
        {
          "output_type": "execute_result",
          "data": {
            "text/plain": [
              "<function matplotlib.pyplot.show>"
            ]
          },
          "metadata": {},
          "execution_count": 57
        },
        {
          "output_type": "display_data",
          "data": {
            "image/png": "[encoded data removed]",
            "text/plain": [
              "<Figure size 432x288 with 1 Axes>"
            ]
          },
          "metadata": {
            "needs_background": "light"
          }
        }
      ]
    },
    {
      "cell_type": "code",
      "metadata": {
        "colab": {
          "base_uri": "https://localhost:8080/",
          "height": 282
        },
        "id": "dbCRU494pFiq",
        "outputId": "35d899d5-cc36-4e1f-81fe-ef21778bb74c"
      },
      "source": [
        "# Applying backward forward filter\n",
        "b, a = scipy.signal.butter(8, 0.125) # filter design\n",
        "\n",
        "data = scipy.signal.filtfilt(b, a, data, method=\"gust\")\n",
        "\n",
        "x= data[0,:]\n",
        "plt.plot(x)\n",
        "plt.show"
      ],
      "execution_count": 58,
      "outputs": [
        {
          "output_type": "execute_result",
          "data": {
            "text/plain": [
              "<function matplotlib.pyplot.show>"
            ]
          },
          "metadata": {},
          "execution_count": 58
        },
        {
          "output_type": "display_data",
          "data": {
            "image/png": "[encoded data removed]",
            "text/plain": [
              "<Figure size 432x288 with 1 Axes>"
            ]
          },
          "metadata": {
            "needs_background": "light"
          }
        }
      ]
    },
    {
      "cell_type": "code",
      "metadata": {
        "id": "Wp6SpBPGqCqY",
        "outputId": "23f4cab9-7b11-41ca-8c08-01eba520dbc6",
        "colab": {
          "base_uri": "https://localhost:8080/"
        }
      },
      "source": [
        "data1=data\n",
        "kpca=KernelPCA(kernel=\"rbf\",fit_inverse_transform=True, gamma=10)\n",
        "data=kpca.fit_transform(data)\n",
        "data.shape"
      ],
      "execution_count": 59,
      "outputs": [
        {
          "output_type": "execute_result",
          "data": {
            "text/plain": [
              "(495, 494)"
            ]
          },
          "metadata": {},
          "execution_count": 59
        }
      ]
    },
    {
      "cell_type": "code",
      "metadata": {
        "id": "Sq_3gb_TCpgf",
        "outputId": "427c9512-56ce-470a-9fc1-1fb366a7d065",
        "colab": {
          "base_uri": "https://localhost:8080/",
          "height": 282
        }
      },
      "source": [
        "x= data[0,:]\n",
        "plt.plot(x)\n",
        "plt.show"
      ],
      "execution_count": 60,
      "outputs": [
        {
          "output_type": "execute_result",
          "data": {
            "text/plain": [
              "<function matplotlib.pyplot.show>"
            ]
          },
          "metadata": {},
          "execution_count": 60
        },
        {
          "output_type": "display_data",
          "data": {
            "image/png": "[encoded data removed]",
            "text/plain": [
              "<Figure size 432x288 with 1 Axes>"
            ]
          },
          "metadata": {
            "needs_background": "light"
          }
        }
      ]
    },
    {
      "cell_type": "code",
      "metadata": {
        "id": "aT_bUQPBpFlu"
      },
      "source": [
        "from sklearn.model_selection import train_test_split\n",
        "xTrain1, xTest1, yTrain1, yTest1 = train_test_split(data, target, test_size = 0.3, random_state = 42)"
      ],
      "execution_count": 61,
      "outputs": []
    },
    {
      "cell_type": "code",
      "metadata": {
        "id": "K0ct8stEpFor"
      },
      "source": [
        "xTrain11 = np.expand_dims(xTrain1, axis=2)\n",
        "yTrain11 = tf.keras.utils.to_categorical(yTrain1, num_classes=2)\n",
        "xTest11 =  np.expand_dims(xTest1, axis=2)\n",
        "yTest11 = tf.keras.utils.to_categorical(yTest1, num_classes=2)"
      ],
      "execution_count": 62,
      "outputs": []
    },
    {
      "cell_type": "code",
      "metadata": {
        "id": "egKDUU6zpFr2"
      },
      "source": [
        "input_shape = (494, 1)\n"
      ],
      "execution_count": 63,
      "outputs": []
    },
    {
      "cell_type": "code",
      "metadata": {
        "id": "xJxQ1yvCpFur",
        "outputId": "3f61ac54-f55b-401f-f823-fff65c3c9a2a",
        "colab": {
          "base_uri": "https://localhost:8080/"
        }
      },
      "source": [
        "\n",
        "#CNN Model\n",
        "\n",
        "model = Sequential()\n",
        "model.add(Conv1D(32, 3, activation='relu', input_shape=input_shape[0:]))\n",
        "model.add(BatchNormalization())\n",
        "model.add(LeakyReLU(alpha=0.1))\n",
        "model.add(Conv1D(64, 3, activation='relu', name=\"my_intermediate_layer\"))\n",
        "model.add(MaxPooling1D(3))\n",
        "model.add(BatchNormalization())\n",
        "model.add(LeakyReLU(alpha=0.1))\n",
        "model.add(Conv1D(128, 3, activation='relu'))\n",
        "model.add(BatchNormalization())\n",
        "# model.add(LeakyReLU(alpha=0.1))\n",
        "# model.add(Conv1D(256, 3, activation='relu'))\n",
        "model.add(GlobalAveragePooling1D())\n",
        "model.add(Dropout(0.5))\n",
        "model.add(Dense(100, name=\"dense\"))\n",
        "model.add(Dense(2, activation='softmax', name=\"dense1\"))\n",
        "model.compile(loss='categorical_crossentropy',\n",
        "                    optimizer='adam',\n",
        "                    metrics=['accuracy'])\n",
        "model.summary()"
      ],
      "execution_count": 64,
      "outputs": [
        {
          "output_type": "stream",
          "text": [
            "Model: \"sequential_3\"\n",
            "_________________________________________________________________\n",
            "Layer (type)                 Output Shape              Param #   \n",
            "=================================================================\n",
            "conv1d_8 (Conv1D)            (None, 492, 32)           128       \n",
            "_________________________________________________________________\n",
            "batch_normalization_9 (Batch (None, 492, 32)           128       \n",
            "_________________________________________________________________\n",
            "leaky_re_lu_8 (LeakyReLU)    (None, 492, 32)           0         \n",
            "_________________________________________________________________\n",
            "my_intermediate_layer (Conv1 (None, 490, 64)           6208      \n",
            "_________________________________________________________________\n",
            "max_pooling1d_3 (MaxPooling1 (None, 163, 64)           0         \n",
            "_________________________________________________________________\n",
            "batch_normalization_10 (Batc (None, 163, 64)           256       \n",
            "_________________________________________________________________\n",
            "leaky_re_lu_9 (LeakyReLU)    (None, 163, 64)           0         \n",
            "_________________________________________________________________\n",
            "conv1d_9 (Conv1D)            (None, 161, 128)          24704     \n",
            "_________________________________________________________________\n",
            "batch_normalization_11 (Batc (None, 161, 128)          512       \n",
            "_________________________________________________________________\n",
            "global_average_pooling1d_3 ( (None, 128)               0         \n",
            "_________________________________________________________________\n",
            "dropout_3 (Dropout)          (None, 128)               0         \n",
            "_________________________________________________________________\n",
            "dense (Dense)                (None, 100)               12900     \n",
            "_________________________________________________________________\n",
            "dense1 (Dense)               (None, 2)                 202       \n",
            "=================================================================\n",
            "Total params: 45,038\n",
            "Trainable params: 44,590\n",
            "Non-trainable params: 448\n",
            "_________________________________________________________________\n"
          ],
          "name": "stdout"
        }
      ]
    },
    {
      "cell_type": "code",
      "metadata": {
        "id": "H3v31kS4v0Em"
      },
      "source": [
        "\n",
        "# from sklearn.model_selection import train_test_split\n",
        "# xTrain1, xTest1, yTrain1, yTest1 = train_test_split(data, target, test_size = 0.3, random_state = 42)\n",
        "\n",
        "# xTrain1.shape, yTest1.shape\n",
        "\n",
        "# xTrain11 = np.expand_dims(xTrain1, axis=2)\n",
        "# yTrain11 = tf.keras.utils.to_categorical(yTrain1, num_classes=2)\n",
        "# xTest11 =  np.expand_dims(xTest1, axis=2)\n",
        "# yTest11 = tf.keras.utils.to_categorical(yTest1, num_classes=2)\n",
        "\n",
        "# input_shape = (2100, 1)\n",
        "\n",
        "# model = Sequential()\n",
        "\n",
        "# model.add(Dense(128, activation='relu', input_shape=(2100, ) ))\n",
        "# #model.add(Dropout(0.2))\n",
        "# model.add(BatchNormalization())\n",
        "\n",
        "# model.add(Dense(64, activation='relu', kernel_regularizer='l2', kernel_initializer='he_uniform'))\n",
        "# model.add(BatchNormalization())\n",
        "# model.add(Dropout(0.5))\n",
        "# model.add(Dense(32, activation='relu', kernel_regularizer='l2', kernel_initializer='he_uniform'))\n",
        "# model.add(BatchNormalization())\n",
        "# model.add(Dropout(0.1))\n",
        "# model.add(Dense(16, activation='relu', kernel_regularizer='l2', kernel_initializer='he_uniform'))\n",
        "# model.add(BatchNormalization())\n",
        "# model.add(Dropout(0.1))\n",
        "# #model.add(Dense(16, activation='relu', kernel_regularizer='l2'))\n",
        "# #model.add(Dropout(0.05))\n",
        "# #model.add(Dense(64, activation='relu'))#\n",
        "\n",
        "# model.add(Dense(1, activation='sigmoid')) \n",
        "# opt = tf.keras.optimizers.Adam(learning_rate=.005)\n",
        "# model.compile(loss='binary_crossentropy',\n",
        "#               optimizer= opt,\n",
        "#                metrics=['accuracy'])\n",
        "# model.summary()               \n",
        "# history = model.fit(xTrain1, yTrain1, validation_split=0.3, epochs=200, batch_size=20, verbose=2)\n",
        "\n",
        "# # model.evaluate(x=xTest1, y=yTest1, verbose=2)\n",
        "\n",
        "# # import os\n",
        "# # import seaborn as sns\n",
        "# # #plot the training and validation accuracy and loss at each epoch\n",
        "# # loss = history.history['loss']\n",
        "# # val_loss = history.history['val_loss']\n",
        "# # epochs = range(1, len(loss) + 1)\n",
        "# # plt.plot(loss[10:], 'b', label='Training loss')\n",
        "# # plt.plot(val_loss[10:], 'g', label='Validation loss')\n",
        "# # plt.title('Training and validation loss')\n",
        "# # plt.xlabel('Epochs')\n",
        "# # plt.ylabel('Loss')\n",
        "# # plt.legend()\n",
        "# # plt.show()\n",
        "\n",
        "# # acc = history.history['accuracy']\n",
        "# # val_acc = history.history['val_accuracy']\n",
        "# # plt.plot(epochs, acc, 'r', label='Training acc')\n",
        "# # plt.plot(epochs, val_acc, 'c', label='Validation acc')\n",
        "# # plt.title('Training and validation accuracy')\n",
        "# # plt.xlabel('Epochs')\n",
        "# # plt.ylabel('Accuracy')\n",
        "# # plt.legend()\n",
        "# # plt.show()"
      ],
      "execution_count": 65,
      "outputs": []
    },
    {
      "cell_type": "code",
      "metadata": {
        "colab": {
          "base_uri": "https://localhost:8080/"
        },
        "id": "dpRAWw9cpFyD",
        "outputId": "c5ad4f24-bafb-4ad0-9dbe-8d565dbbc5f8"
      },
      "source": [
        "from keras.callbacks import EarlyStopping\n",
        "#set early stopping monitor so the model stops training when it won't improve anymore\n",
        "early_stopping_monitor = EarlyStopping(patience=500)\n",
        "\n",
        "#train model\n",
        "history=model.fit(xTrain11, yTrain11, validation_data = (xTest11, yTest11), epochs=50, batch_size=16)"
      ],
      "execution_count": 74,
      "outputs": [
        {
          "output_type": "stream",
          "text": [
            "Epoch 1/50\n",
            "22/22 [==============================] - 0s 9ms/step - loss: 0.0497 - accuracy: 0.9855 - val_loss: 3.4298 - val_accuracy: 0.5772\n",
            "Epoch 2/50\n",
            "22/22 [==============================] - 0s 7ms/step - loss: 0.0534 - accuracy: 0.9798 - val_loss: 5.8623 - val_accuracy: 0.5705\n",
            "Epoch 3/50\n",
            "22/22 [==============================] - 0s 9ms/step - loss: 0.0108 - accuracy: 0.9971 - val_loss: 7.8016 - val_accuracy: 0.5302\n",
            "Epoch 4/50\n",
            "22/22 [==============================] - 0s 9ms/step - loss: 0.0636 - accuracy: 0.9740 - val_loss: 4.1122 - val_accuracy: 0.6711\n",
            "Epoch 5/50\n",
            "22/22 [==============================] - 0s 7ms/step - loss: 0.0460 - accuracy: 0.9884 - val_loss: 2.4427 - val_accuracy: 0.6510\n",
            "Epoch 6/50\n",
            "22/22 [==============================] - 0s 7ms/step - loss: 0.0372 - accuracy: 0.9855 - val_loss: 5.4975 - val_accuracy: 0.5705\n",
            "Epoch 7/50\n",
            "22/22 [==============================] - 0s 9ms/step - loss: 0.0402 - accuracy: 0.9827 - val_loss: 14.6088 - val_accuracy: 0.4832\n",
            "Epoch 8/50\n",
            "22/22 [==============================] - 0s 7ms/step - loss: 0.0288 - accuracy: 0.9942 - val_loss: 4.7876 - val_accuracy: 0.5034\n",
            "Epoch 9/50\n",
            "22/22 [==============================] - 0s 9ms/step - loss: 0.0162 - accuracy: 0.9913 - val_loss: 3.4376 - val_accuracy: 0.5034\n",
            "Epoch 10/50\n",
            "22/22 [==============================] - 0s 8ms/step - loss: 0.0209 - accuracy: 0.9913 - val_loss: 4.1051 - val_accuracy: 0.6040\n",
            "Epoch 11/50\n",
            "22/22 [==============================] - 0s 7ms/step - loss: 0.0650 - accuracy: 0.9798 - val_loss: 4.1466 - val_accuracy: 0.6510\n",
            "Epoch 12/50\n",
            "22/22 [==============================] - 0s 7ms/step - loss: 0.0551 - accuracy: 0.9855 - val_loss: 4.2732 - val_accuracy: 0.5772\n",
            "Epoch 13/50\n",
            "22/22 [==============================] - 0s 7ms/step - loss: 0.1235 - accuracy: 0.9538 - val_loss: 2.6398 - val_accuracy: 0.6510\n",
            "Epoch 14/50\n",
            "22/22 [==============================] - 0s 9ms/step - loss: 0.0256 - accuracy: 0.9913 - val_loss: 1.4728 - val_accuracy: 0.7047\n",
            "Epoch 15/50\n",
            "22/22 [==============================] - 0s 9ms/step - loss: 0.0286 - accuracy: 0.9855 - val_loss: 1.5460 - val_accuracy: 0.6913\n",
            "Epoch 16/50\n",
            "22/22 [==============================] - 0s 7ms/step - loss: 0.0182 - accuracy: 0.9971 - val_loss: 1.7049 - val_accuracy: 0.6577\n",
            "Epoch 17/50\n",
            "22/22 [==============================] - 0s 7ms/step - loss: 0.0338 - accuracy: 0.9855 - val_loss: 4.6784 - val_accuracy: 0.6040\n",
            "Epoch 18/50\n",
            "22/22 [==============================] - 0s 7ms/step - loss: 0.0279 - accuracy: 0.9884 - val_loss: 12.3155 - val_accuracy: 0.5101\n",
            "Epoch 19/50\n",
            "22/22 [==============================] - 0s 7ms/step - loss: 0.0342 - accuracy: 0.9884 - val_loss: 11.0909 - val_accuracy: 0.5101\n",
            "Epoch 20/50\n",
            "22/22 [==============================] - 0s 7ms/step - loss: 0.0125 - accuracy: 0.9971 - val_loss: 19.8337 - val_accuracy: 0.5101\n",
            "Epoch 21/50\n",
            "22/22 [==============================] - 0s 7ms/step - loss: 0.0501 - accuracy: 0.9740 - val_loss: 5.9213 - val_accuracy: 0.5168\n",
            "Epoch 22/50\n",
            "22/22 [==============================] - 0s 8ms/step - loss: 0.0128 - accuracy: 0.9971 - val_loss: 2.6464 - val_accuracy: 0.6846\n",
            "Epoch 23/50\n",
            "22/22 [==============================] - 0s 7ms/step - loss: 0.0065 - accuracy: 0.9971 - val_loss: 1.3030 - val_accuracy: 0.6980\n",
            "Epoch 24/50\n",
            "22/22 [==============================] - 0s 7ms/step - loss: 0.0098 - accuracy: 1.0000 - val_loss: 1.3982 - val_accuracy: 0.6846\n",
            "Epoch 25/50\n",
            "22/22 [==============================] - 0s 7ms/step - loss: 0.0067 - accuracy: 0.9971 - val_loss: 1.7475 - val_accuracy: 0.7047\n",
            "Epoch 26/50\n",
            "22/22 [==============================] - 0s 9ms/step - loss: 0.0102 - accuracy: 0.9971 - val_loss: 2.1059 - val_accuracy: 0.7181\n",
            "Epoch 27/50\n",
            "22/22 [==============================] - 0s 9ms/step - loss: 0.0088 - accuracy: 0.9971 - val_loss: 2.4011 - val_accuracy: 0.7114\n",
            "Epoch 28/50\n",
            "22/22 [==============================] - 0s 9ms/step - loss: 0.0056 - accuracy: 1.0000 - val_loss: 2.2095 - val_accuracy: 0.6779\n",
            "Epoch 29/50\n",
            "22/22 [==============================] - 0s 9ms/step - loss: 0.0043 - accuracy: 1.0000 - val_loss: 2.3545 - val_accuracy: 0.7248\n",
            "Epoch 30/50\n",
            "22/22 [==============================] - 0s 9ms/step - loss: 0.0033 - accuracy: 1.0000 - val_loss: 1.7268 - val_accuracy: 0.7181\n",
            "Epoch 31/50\n",
            "22/22 [==============================] - 0s 7ms/step - loss: 0.0134 - accuracy: 0.9942 - val_loss: 1.5046 - val_accuracy: 0.7517\n",
            "Epoch 32/50\n",
            "22/22 [==============================] - 0s 7ms/step - loss: 0.0090 - accuracy: 0.9913 - val_loss: 3.4271 - val_accuracy: 0.6577\n",
            "Epoch 33/50\n",
            "22/22 [==============================] - 0s 7ms/step - loss: 0.0191 - accuracy: 0.9913 - val_loss: 3.7277 - val_accuracy: 0.6242\n",
            "Epoch 34/50\n",
            "22/22 [==============================] - 0s 7ms/step - loss: 0.0519 - accuracy: 0.9855 - val_loss: 5.7197 - val_accuracy: 0.5369\n",
            "Epoch 35/50\n",
            "22/22 [==============================] - 0s 8ms/step - loss: 0.0255 - accuracy: 0.9913 - val_loss: 4.1163 - val_accuracy: 0.6376\n",
            "Epoch 36/50\n",
            "22/22 [==============================] - 0s 9ms/step - loss: 0.0358 - accuracy: 0.9855 - val_loss: 2.6480 - val_accuracy: 0.6779\n",
            "Epoch 37/50\n",
            "22/22 [==============================] - 0s 9ms/step - loss: 0.0226 - accuracy: 0.9913 - val_loss: 2.2747 - val_accuracy: 0.6644\n",
            "Epoch 38/50\n",
            "22/22 [==============================] - 0s 7ms/step - loss: 0.0193 - accuracy: 0.9884 - val_loss: 1.1913 - val_accuracy: 0.7517\n",
            "Epoch 39/50\n",
            "22/22 [==============================] - 0s 9ms/step - loss: 0.0138 - accuracy: 0.9942 - val_loss: 1.3623 - val_accuracy: 0.7383\n",
            "Epoch 40/50\n",
            "22/22 [==============================] - 0s 7ms/step - loss: 0.0186 - accuracy: 0.9942 - val_loss: 1.7424 - val_accuracy: 0.6711\n",
            "Epoch 41/50\n",
            "22/22 [==============================] - 0s 9ms/step - loss: 0.0221 - accuracy: 0.9855 - val_loss: 3.3143 - val_accuracy: 0.6711\n",
            "Epoch 42/50\n",
            "22/22 [==============================] - 0s 7ms/step - loss: 0.0513 - accuracy: 0.9913 - val_loss: 1.6744 - val_accuracy: 0.7248\n",
            "Epoch 43/50\n",
            "22/22 [==============================] - 0s 7ms/step - loss: 0.0191 - accuracy: 0.9971 - val_loss: 2.7726 - val_accuracy: 0.6711\n",
            "Epoch 44/50\n",
            "22/22 [==============================] - 0s 7ms/step - loss: 0.0037 - accuracy: 1.0000 - val_loss: 2.3871 - val_accuracy: 0.6980\n",
            "Epoch 45/50\n",
            "22/22 [==============================] - 0s 9ms/step - loss: 0.0086 - accuracy: 0.9971 - val_loss: 1.9266 - val_accuracy: 0.7114\n",
            "Epoch 46/50\n",
            "22/22 [==============================] - 0s 7ms/step - loss: 0.0542 - accuracy: 0.9798 - val_loss: 4.4617 - val_accuracy: 0.5772\n",
            "Epoch 47/50\n",
            "22/22 [==============================] - 0s 9ms/step - loss: 0.0388 - accuracy: 0.9884 - val_loss: 8.7157 - val_accuracy: 0.5638\n",
            "Epoch 48/50\n",
            "22/22 [==============================] - 0s 7ms/step - loss: 0.0477 - accuracy: 0.9855 - val_loss: 1.6404 - val_accuracy: 0.7047\n",
            "Epoch 49/50\n",
            "22/22 [==============================] - 0s 9ms/step - loss: 0.0270 - accuracy: 0.9913 - val_loss: 4.8679 - val_accuracy: 0.6242\n",
            "Epoch 50/50\n",
            "22/22 [==============================] - 0s 8ms/step - loss: 0.0363 - accuracy: 0.9827 - val_loss: 2.6927 - val_accuracy: 0.6644\n"
          ],
          "name": "stdout"
        }
      ]
    },
    {
      "cell_type": "code",
      "metadata": {
        "colab": {
          "base_uri": "https://localhost:8080/",
          "height": 295
        },
        "id": "SKqzztQDpF01",
        "outputId": "e5a12a3f-0a41-4f0c-947f-cd63f11e6da9"
      },
      "source": [
        "import os\n",
        "import seaborn as sns\n",
        "#plot the training and validation accuracy and loss at each epoch\n",
        "loss = history.history['loss']\n",
        "val_loss = history.history['val_loss']\n",
        "epochs = range(1, len(loss) + 1)\n",
        "plt.plot(epochs, loss, 'y', label='Training loss')\n",
        "plt.plot(epochs, val_loss, 'r', label='Validation loss')\n",
        "plt.title('Training and validation loss')\n",
        "plt.xlabel('Epochs')\n",
        "plt.ylabel('Loss')\n",
        "plt.legend()\n",
        "plt.show()"
      ],
      "execution_count": 75,
      "outputs": [
        {
          "output_type": "display_data",
          "data": {
            "image/png": "[encoded data removed]",
            "text/plain": [
              "<Figure size 432x288 with 1 Axes>"
            ]
          },
          "metadata": {
            "needs_background": "light"
          }
        }
      ]
    },
    {
      "cell_type": "code",
      "metadata": {
        "colab": {
          "base_uri": "https://localhost:8080/",
          "height": 295
        },
        "id": "9mpZlD41pF4A",
        "outputId": "283e3adc-d3da-4092-81fc-ec575b95816c"
      },
      "source": [
        "acc = history.history['accuracy']\n",
        "val_acc = history.history['val_accuracy']\n",
        "plt.plot(epochs, acc, 'y', label='Training acc')\n",
        "plt.plot(epochs, val_acc, 'r', label='Validation acc')\n",
        "plt.title('Training and validation accuracy')\n",
        "plt.xlabel('Epochs')\n",
        "plt.ylabel('Accuracy')\n",
        "plt.legend()\n",
        "plt.show()"
      ],
      "execution_count": 76,
      "outputs": [
        {
          "output_type": "display_data",
          "data": {
            "image/png": "[encoded data removed]",
            "text/plain": [
              "<Figure size 432x288 with 1 Axes>"
            ]
          },
          "metadata": {
            "needs_background": "light"
          }
        }
      ]
    },
    {
      "cell_type": "markdown",
      "metadata": {
        "id": "uaHR3zXKEEHp"
      },
      "source": [
        ""
      ]
    },
    {
      "cell_type": "code",
      "metadata": {
        "colab": {
          "base_uri": "https://localhost:8080/",
          "height": 332
        },
        "id": "D-PzHWUjpF7H",
        "outputId": "f3c7ee73-e3ff-4abb-e19d-4f50016fe958"
      },
      "source": [
        "prediction_NN = model.predict(xTest11)\n",
        "prediction_NN = np.argmax(prediction_NN, axis=-1)\n",
        "#Print overall accuracy\n",
        "from sklearn import metrics\n",
        "print (\"Accuracy = \", metrics.accuracy_score(yTest1, prediction_NN))\n",
        "#Confusion Matrix - verify accuracy of each class\n",
        "from sklearn.metrics import confusion_matrix\n",
        "cm = confusion_matrix(yTest1, prediction_NN)\n",
        "print(cm)\n",
        "sns.heatmap(cm, annot=True)"
      ],
      "execution_count": 77,
      "outputs": [
        {
          "output_type": "stream",
          "text": [
            "Accuracy =  0.6644295302013423\n",
            "[[32 41]\n",
            " [ 9 67]]\n"
          ],
          "name": "stdout"
        },
        {
          "output_type": "execute_result",
          "data": {
            "text/plain": [
              "<matplotlib.axes._subplots.AxesSubplot at 0x7f8821987110>"
            ]
          },
          "metadata": {},
          "execution_count": 77
        },
        {
          "output_type": "display_data",
          "data": {
            "image/png": "[encoded data removed]",
            "text/plain": [
              "<Figure size 432x288 with 2 Axes>"
            ]
          },
          "metadata": {
            "needs_background": "light"
          }
        }
      ]
    },
    {
      "cell_type": "code",
      "metadata": {
        "id": "PlJwd47cAj79"
      },
      "source": [
        ""
      ],
      "execution_count": 69,
      "outputs": []
    }
  ]
}