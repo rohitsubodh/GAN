{
  "nbformat": 4,
  "nbformat_minor": 0,
  "metadata": {
    "colab": {
      "name": "Untitled8.ipynb",
      "provenance": [],
      "include_colab_link": true
    },
    "kernelspec": {
      "name": "python3",
      "display_name": "Python 3"
    },
    "language_info": {
      "name": "python"
    },
    "accelerator": "GPU"
  },
  "cells": [
    {
      "cell_type": "markdown",
      "metadata": {
        "id": "view-in-github",
        "colab_type": "text"
      },
      "source": [
        "<a href=\"https://colab.research.google.com/github/rohitsubodh/GAN/blob/main/Untitled8_150epoch.ipynb\" target=\"_parent\"><img src=\"https://colab.research.google.com/assets/colab-badge.svg\" alt=\"Open In Colab\"/></a>"
      ]
    },
    {
      "cell_type": "code",
      "metadata": {
        "id": "cMHBuO0wos-j"
      },
      "source": [
        "\n",
        "import tensorflow as tf\n",
        "import keras\n",
        "import numpy as np\n",
        "from keras import models\n",
        "from keras import layers\n",
        "from keras.wrappers.scikit_learn import KerasClassifier\n",
        "from sklearn.model_selection import cross_val_score\n",
        "from sklearn.datasets import make_classification\n",
        "from matplotlib import pyplot\n",
        "import numpy as np\n",
        "import matplotlib.pyplot as plt\n",
        "import pandas as pd\n",
        "from sklearn import preprocessing\n",
        "from keras.models import Sequential,Model\n",
        "from keras.layers import Dense, Dropout,Input\n",
        "from keras.layers import Embedding,LeakyReLU\n",
        "from keras.layers import Conv1D, GlobalAveragePooling1D, MaxPooling1D, Flatten, LocallyConnected1D, BatchNormalization\n",
        "import scipy.signal\n",
        "from sklearn.decomposition import PCA, KernelPCA"
      ],
      "execution_count": 124,
      "outputs": []
    },
    {
      "cell_type": "code",
      "metadata": {
        "id": "Hi8fcclmpFNY"
      },
      "source": [
        "data = pd.read_excel('/content/PPG_new.xlsx',sheet_name='0-1')\n",
        "target = pd.read_excel('/content/PPG_new.xlsx',sheet_name='target 0-1')"
      ],
      "execution_count": 125,
      "outputs": []
    },
    {
      "cell_type": "code",
      "metadata": {
        "colab": {
          "base_uri": "https://localhost:8080/"
        },
        "id": "mUhak2l_B-rq",
        "outputId": "3380d6cc-f988-477a-aa29-09a782ea6a26"
      },
      "source": [
        "data.shape"
      ],
      "execution_count": 126,
      "outputs": [
        {
          "output_type": "execute_result",
          "data": {
            "text/plain": [
              "(495, 2100)"
            ]
          },
          "metadata": {},
          "execution_count": 126
        }
      ]
    },
    {
      "cell_type": "code",
      "metadata": {
        "colab": {
          "base_uri": "https://localhost:8080/",
          "height": 265
        },
        "id": "q1Q3Q3FepFW2",
        "outputId": "f97affd2-fc77-40bd-f0e6-32378186daa3"
      },
      "source": [
        "x= data.iloc[0,:]\n",
        "plt.plot(x)\n",
        "plt.show\n",
        "data1=data"
      ],
      "execution_count": 127,
      "outputs": [
        {
          "output_type": "display_data",
          "data": {
            "image/png": "[encoded data removed]",
            "text/plain": [
              "<Figure size 432x288 with 1 Axes>"
            ]
          },
          "metadata": {
            "needs_background": "light"
          }
        }
      ]
    },
    {
      "cell_type": "code",
      "metadata": {
        "colab": {
          "base_uri": "https://localhost:8080/",
          "height": 282
        },
        "id": "SRcZU0-ppFaK",
        "outputId": "59edfbce-3c28-4734-9307-c918fd5568a8"
      },
      "source": [
        "# Applying median filter\n",
        "data=scipy.signal.medfilt(data)\n",
        "data\n",
        "x= data[0,:]\n",
        "plt.plot(x)\n",
        "plt.show"
      ],
      "execution_count": 128,
      "outputs": [
        {
          "output_type": "execute_result",
          "data": {
            "text/plain": [
              "<function matplotlib.pyplot.show>"
            ]
          },
          "metadata": {},
          "execution_count": 128
        },
        {
          "output_type": "display_data",
          "data": {
            "image/png": "[encoded data removed]",
            "text/plain": [
              "<Figure size 432x288 with 1 Axes>"
            ]
          },
          "metadata": {
            "needs_background": "light"
          }
        }
      ]
    },
    {
      "cell_type": "code",
      "metadata": {
        "colab": {
          "base_uri": "https://localhost:8080/"
        },
        "id": "Rr2cHwXGpFc9",
        "outputId": "25b373d5-72b6-434d-bf72-106957ce7bab"
      },
      "source": [
        "# Design of low pass chebyshev filter\n",
        "sos= scipy.signal.cheby2(4, 10, 25, 'low', fs=1000, output='sos')\n",
        "sos"
      ],
      "execution_count": 129,
      "outputs": [
        {
          "output_type": "execute_result",
          "data": {
            "text/plain": [
              "array([[ 0.26741176, -0.49141861,  0.26741176,  1.        , -1.6346899 ,\n",
              "         0.69069827],\n",
              "       [ 1.        , -1.97118242,  1.        ,  1.        , -1.92658177,\n",
              "         0.94891457]])"
            ]
          },
          "metadata": {},
          "execution_count": 129
        }
      ]
    },
    {
      "cell_type": "code",
      "metadata": {
        "colab": {
          "base_uri": "https://localhost:8080/",
          "height": 282
        },
        "id": "V2M-vdahpFfz",
        "outputId": "4643b56d-01d3-4501-f45b-d57ee0bbf130"
      },
      "source": [
        "data= scipy.signal.sosfilt(sos, data) # applying chebyshev filter\n",
        "x= data[0,:]\n",
        "plt.plot(x)\n",
        "plt.show"
      ],
      "execution_count": 130,
      "outputs": [
        {
          "output_type": "execute_result",
          "data": {
            "text/plain": [
              "<function matplotlib.pyplot.show>"
            ]
          },
          "metadata": {},
          "execution_count": 130
        },
        {
          "output_type": "display_data",
          "data": {
            "image/png": "[encoded data removed]",
            "text/plain": [
              "<Figure size 432x288 with 1 Axes>"
            ]
          },
          "metadata": {
            "needs_background": "light"
          }
        }
      ]
    },
    {
      "cell_type": "code",
      "metadata": {
        "colab": {
          "base_uri": "https://localhost:8080/",
          "height": 282
        },
        "id": "dbCRU494pFiq",
        "outputId": "9882a6cf-9173-49c9-e64f-614b18b2080f"
      },
      "source": [
        "# Applying backward forward filter\n",
        "b, a = scipy.signal.butter(8, 0.125) # filter design\n",
        "\n",
        "data = scipy.signal.filtfilt(b, a, data, method=\"gust\")\n",
        "\n",
        "x= data[0,:]\n",
        "plt.plot(x)\n",
        "plt.show"
      ],
      "execution_count": 131,
      "outputs": [
        {
          "output_type": "execute_result",
          "data": {
            "text/plain": [
              "<function matplotlib.pyplot.show>"
            ]
          },
          "metadata": {},
          "execution_count": 131
        },
        {
          "output_type": "display_data",
          "data": {
            "image/png": "[encoded data removed]",
            "text/plain": [
              "<Figure size 432x288 with 1 Axes>"
            ]
          },
          "metadata": {
            "needs_background": "light"
          }
        }
      ]
    },
    {
      "cell_type": "code",
      "metadata": {
        "id": "Wp6SpBPGqCqY",
        "outputId": "59a0fa5d-3fe7-469e-de44-f15ecba71a52",
        "colab": {
          "base_uri": "https://localhost:8080/"
        }
      },
      "source": [
        "data1=data\n",
        "kpca=KernelPCA(kernel=\"rbf\",fit_inverse_transform=True, gamma=10)\n",
        "data=kpca.fit_transform(data)\n",
        "data.shape"
      ],
      "execution_count": 132,
      "outputs": [
        {
          "output_type": "execute_result",
          "data": {
            "text/plain": [
              "(495, 494)"
            ]
          },
          "metadata": {},
          "execution_count": 132
        }
      ]
    },
    {
      "cell_type": "code",
      "metadata": {
        "id": "DBkGZsxyKhz2",
        "outputId": "3fd2fca4-eb7f-4e76-d1bf-0f96828d939f",
        "colab": {
          "base_uri": "https://localhost:8080/",
          "height": 282
        }
      },
      "source": [
        "x= data[0,:]\n",
        "plt.plot(x)\n",
        "plt.show"
      ],
      "execution_count": 133,
      "outputs": [
        {
          "output_type": "execute_result",
          "data": {
            "text/plain": [
              "<function matplotlib.pyplot.show>"
            ]
          },
          "metadata": {},
          "execution_count": 133
        },
        {
          "output_type": "display_data",
          "data": {
            "image/png": "[encoded data removed]",
            "text/plain": [
              "<Figure size 432x288 with 1 Axes>"
            ]
          },
          "metadata": {
            "needs_background": "light"
          }
        }
      ]
    },
    {
      "cell_type": "code",
      "metadata": {
        "id": "aT_bUQPBpFlu"
      },
      "source": [
        "from sklearn.model_selection import train_test_split\n",
        "xTrain1, xTest1, yTrain1, yTest1 = train_test_split(data, target, test_size = 0.3, random_state = 42)"
      ],
      "execution_count": 134,
      "outputs": []
    },
    {
      "cell_type": "code",
      "metadata": {
        "id": "K0ct8stEpFor"
      },
      "source": [
        "xTrain11 = np.expand_dims(xTrain1, axis=2)\n",
        "yTrain11 = tf.keras.utils.to_categorical(yTrain1, num_classes=2)\n",
        "xTest11 =  np.expand_dims(xTest1, axis=2)\n",
        "yTest11 = tf.keras.utils.to_categorical(yTest1, num_classes=2)"
      ],
      "execution_count": 135,
      "outputs": []
    },
    {
      "cell_type": "code",
      "metadata": {
        "id": "egKDUU6zpFr2"
      },
      "source": [
        "input_shape = (494, 1)\n"
      ],
      "execution_count": 136,
      "outputs": []
    },
    {
      "cell_type": "code",
      "metadata": {
        "id": "xJxQ1yvCpFur",
        "outputId": "6be35b01-4941-49cd-fb60-768213069645",
        "colab": {
          "base_uri": "https://localhost:8080/"
        }
      },
      "source": [
        "\n",
        "#CNN Model\n",
        "\n",
        "model = Sequential()\n",
        "model.add(Conv1D(32, 3, activation='relu', input_shape=input_shape[0:]))\n",
        "model.add(BatchNormalization())\n",
        "model.add(LeakyReLU(alpha=0.1))\n",
        "model.add(Conv1D(64, 3, activation='relu', name=\"my_intermediate_layer\"))\n",
        "model.add(MaxPooling1D(3))\n",
        "model.add(BatchNormalization())\n",
        "model.add(LeakyReLU(alpha=0.1))\n",
        "model.add(Conv1D(128, 3, activation='relu'))\n",
        "model.add(BatchNormalization())\n",
        "model.add(LeakyReLU(alpha=0.1))\n",
        "model.add(Conv1D(256, 3, activation='relu'))\n",
        "model.add(GlobalAveragePooling1D())\n",
        "model.add(Dropout(0.5))\n",
        "model.add(Dense(100, name=\"dense\"))\n",
        "model.add(Dense(2, activation='softmax', name=\"dense1\"))\n",
        "model.compile(loss='categorical_crossentropy',\n",
        "                    optimizer='adam',\n",
        "                    metrics=['accuracy'])\n",
        "model.summary()"
      ],
      "execution_count": 137,
      "outputs": [
        {
          "output_type": "stream",
          "text": [
            "Model: \"sequential_6\"\n",
            "_________________________________________________________________\n",
            "Layer (type)                 Output Shape              Param #   \n",
            "=================================================================\n",
            "conv1d_14 (Conv1D)           (None, 492, 32)           128       \n",
            "_________________________________________________________________\n",
            "batch_normalization_18 (Batc (None, 492, 32)           128       \n",
            "_________________________________________________________________\n",
            "leaky_re_lu_14 (LeakyReLU)   (None, 492, 32)           0         \n",
            "_________________________________________________________________\n",
            "my_intermediate_layer (Conv1 (None, 490, 64)           6208      \n",
            "_________________________________________________________________\n",
            "max_pooling1d_6 (MaxPooling1 (None, 163, 64)           0         \n",
            "_________________________________________________________________\n",
            "batch_normalization_19 (Batc (None, 163, 64)           256       \n",
            "_________________________________________________________________\n",
            "leaky_re_lu_15 (LeakyReLU)   (None, 163, 64)           0         \n",
            "_________________________________________________________________\n",
            "conv1d_15 (Conv1D)           (None, 161, 128)          24704     \n",
            "_________________________________________________________________\n",
            "batch_normalization_20 (Batc (None, 161, 128)          512       \n",
            "_________________________________________________________________\n",
            "leaky_re_lu_16 (LeakyReLU)   (None, 161, 128)          0         \n",
            "_________________________________________________________________\n",
            "conv1d_16 (Conv1D)           (None, 159, 256)          98560     \n",
            "_________________________________________________________________\n",
            "global_average_pooling1d_6 ( (None, 256)               0         \n",
            "_________________________________________________________________\n",
            "dropout_6 (Dropout)          (None, 256)               0         \n",
            "_________________________________________________________________\n",
            "dense (Dense)                (None, 100)               25700     \n",
            "_________________________________________________________________\n",
            "dense1 (Dense)               (None, 2)                 202       \n",
            "=================================================================\n",
            "Total params: 156,398\n",
            "Trainable params: 155,950\n",
            "Non-trainable params: 448\n",
            "_________________________________________________________________\n"
          ],
          "name": "stdout"
        }
      ]
    },
    {
      "cell_type": "code",
      "metadata": {
        "colab": {
          "base_uri": "https://localhost:8080/"
        },
        "id": "dpRAWw9cpFyD",
        "outputId": "b138ea4d-e6f3-4f4b-9f19-7be07a54e0e4"
      },
      "source": [
        "from keras.callbacks import EarlyStopping\n",
        "#set early stopping monitor so the model stops training when it won't improve anymore\n",
        "early_stopping_monitor = EarlyStopping(patience=500)\n",
        "\n",
        "# train model\n",
        "history=model.fit(xTrain11, yTrain11, validation_data = (xTest11, yTest11), epochs=150, batch_size=16)\n"
      ],
      "execution_count": 138,
      "outputs": [
        {
          "output_type": "stream",
          "text": [
            "Epoch 1/150\n",
            "22/22 [==============================] - 1s 20ms/step - loss: 0.8010 - accuracy: 0.5145 - val_loss: 0.6942 - val_accuracy: 0.4899\n",
            "Epoch 2/150\n",
            "22/22 [==============================] - 0s 11ms/step - loss: 0.6195 - accuracy: 0.6618 - val_loss: 0.6974 - val_accuracy: 0.4899\n",
            "Epoch 3/150\n",
            "22/22 [==============================] - 0s 8ms/step - loss: 0.6305 - accuracy: 0.6301 - val_loss: 0.7032 - val_accuracy: 0.4899\n",
            "Epoch 4/150\n",
            "22/22 [==============================] - 0s 8ms/step - loss: 0.6205 - accuracy: 0.6734 - val_loss: 0.7200 - val_accuracy: 0.4899\n",
            "Epoch 5/150\n",
            "22/22 [==============================] - 0s 8ms/step - loss: 0.5804 - accuracy: 0.6879 - val_loss: 0.7166 - val_accuracy: 0.4899\n",
            "Epoch 6/150\n",
            "22/22 [==============================] - 0s 11ms/step - loss: 0.5584 - accuracy: 0.7254 - val_loss: 0.7500 - val_accuracy: 0.4899\n",
            "Epoch 7/150\n",
            "22/22 [==============================] - 0s 8ms/step - loss: 0.5444 - accuracy: 0.7081 - val_loss: 0.7559 - val_accuracy: 0.4899\n",
            "Epoch 8/150\n",
            "22/22 [==============================] - 0s 8ms/step - loss: 0.5631 - accuracy: 0.6705 - val_loss: 0.7699 - val_accuracy: 0.4899\n",
            "Epoch 9/150\n",
            "22/22 [==============================] - 0s 8ms/step - loss: 0.5454 - accuracy: 0.7254 - val_loss: 0.7997 - val_accuracy: 0.4899\n",
            "Epoch 10/150\n",
            "22/22 [==============================] - 0s 9ms/step - loss: 0.5430 - accuracy: 0.7543 - val_loss: 0.8530 - val_accuracy: 0.4899\n",
            "Epoch 11/150\n",
            "22/22 [==============================] - 0s 8ms/step - loss: 0.5164 - accuracy: 0.7428 - val_loss: 0.9130 - val_accuracy: 0.4899\n",
            "Epoch 12/150\n",
            "22/22 [==============================] - 0s 10ms/step - loss: 0.5133 - accuracy: 0.7428 - val_loss: 0.9700 - val_accuracy: 0.4899\n",
            "Epoch 13/150\n",
            "22/22 [==============================] - 0s 9ms/step - loss: 0.4814 - accuracy: 0.7775 - val_loss: 0.9939 - val_accuracy: 0.4899\n",
            "Epoch 14/150\n",
            "22/22 [==============================] - 0s 8ms/step - loss: 0.4208 - accuracy: 0.8179 - val_loss: 1.2409 - val_accuracy: 0.4899\n",
            "Epoch 15/150\n",
            "22/22 [==============================] - 0s 8ms/step - loss: 0.4362 - accuracy: 0.7890 - val_loss: 1.3268 - val_accuracy: 0.4899\n",
            "Epoch 16/150\n",
            "22/22 [==============================] - 0s 8ms/step - loss: 0.3995 - accuracy: 0.8150 - val_loss: 1.6468 - val_accuracy: 0.4899\n",
            "Epoch 17/150\n",
            "22/22 [==============================] - 0s 9ms/step - loss: 0.3572 - accuracy: 0.8353 - val_loss: 1.6429 - val_accuracy: 0.4899\n",
            "Epoch 18/150\n",
            "22/22 [==============================] - 0s 7ms/step - loss: 0.3683 - accuracy: 0.8295 - val_loss: 1.6115 - val_accuracy: 0.4899\n",
            "Epoch 19/150\n",
            "22/22 [==============================] - 0s 7ms/step - loss: 0.2881 - accuracy: 0.8786 - val_loss: 2.6027 - val_accuracy: 0.4899\n",
            "Epoch 20/150\n",
            "22/22 [==============================] - 0s 9ms/step - loss: 0.2571 - accuracy: 0.8844 - val_loss: 2.1317 - val_accuracy: 0.4899\n",
            "Epoch 21/150\n",
            "22/22 [==============================] - 0s 9ms/step - loss: 0.2454 - accuracy: 0.8960 - val_loss: 3.0978 - val_accuracy: 0.4899\n",
            "Epoch 22/150\n",
            "22/22 [==============================] - 0s 9ms/step - loss: 0.1937 - accuracy: 0.9191 - val_loss: 3.8220 - val_accuracy: 0.4899\n",
            "Epoch 23/150\n",
            "22/22 [==============================] - 0s 7ms/step - loss: 0.1669 - accuracy: 0.9364 - val_loss: 5.0683 - val_accuracy: 0.4899\n",
            "Epoch 24/150\n",
            "22/22 [==============================] - 0s 7ms/step - loss: 0.1976 - accuracy: 0.9220 - val_loss: 1.8578 - val_accuracy: 0.5034\n",
            "Epoch 25/150\n",
            "22/22 [==============================] - 0s 9ms/step - loss: 0.2340 - accuracy: 0.9104 - val_loss: 0.6066 - val_accuracy: 0.6510\n",
            "Epoch 26/150\n",
            "22/22 [==============================] - 0s 10ms/step - loss: 0.1512 - accuracy: 0.9422 - val_loss: 1.0664 - val_accuracy: 0.6846\n",
            "Epoch 27/150\n",
            "22/22 [==============================] - 0s 9ms/step - loss: 0.1227 - accuracy: 0.9566 - val_loss: 2.1989 - val_accuracy: 0.6376\n",
            "Epoch 28/150\n",
            "22/22 [==============================] - 0s 9ms/step - loss: 0.0922 - accuracy: 0.9711 - val_loss: 5.6667 - val_accuracy: 0.4899\n",
            "Epoch 29/150\n",
            "22/22 [==============================] - 0s 8ms/step - loss: 0.0800 - accuracy: 0.9653 - val_loss: 1.4919 - val_accuracy: 0.6174\n",
            "Epoch 30/150\n",
            "22/22 [==============================] - 0s 9ms/step - loss: 0.1175 - accuracy: 0.9595 - val_loss: 0.9559 - val_accuracy: 0.7248\n",
            "Epoch 31/150\n",
            "22/22 [==============================] - 0s 9ms/step - loss: 0.1088 - accuracy: 0.9566 - val_loss: 6.3244 - val_accuracy: 0.5168\n",
            "Epoch 32/150\n",
            "22/22 [==============================] - 0s 8ms/step - loss: 0.0585 - accuracy: 0.9798 - val_loss: 1.0149 - val_accuracy: 0.6980\n",
            "Epoch 33/150\n",
            "22/22 [==============================] - 0s 7ms/step - loss: 0.0447 - accuracy: 0.9827 - val_loss: 2.4905 - val_accuracy: 0.6980\n",
            "Epoch 34/150\n",
            "22/22 [==============================] - 0s 7ms/step - loss: 0.1301 - accuracy: 0.9566 - val_loss: 7.6663 - val_accuracy: 0.4899\n",
            "Epoch 35/150\n",
            "22/22 [==============================] - 0s 7ms/step - loss: 0.2269 - accuracy: 0.9104 - val_loss: 1.7591 - val_accuracy: 0.6107\n",
            "Epoch 36/150\n",
            "22/22 [==============================] - 0s 7ms/step - loss: 0.0962 - accuracy: 0.9653 - val_loss: 2.6482 - val_accuracy: 0.5705\n",
            "Epoch 37/150\n",
            "22/22 [==============================] - 0s 8ms/step - loss: 0.1060 - accuracy: 0.9711 - val_loss: 12.0687 - val_accuracy: 0.4966\n",
            "Epoch 38/150\n",
            "22/22 [==============================] - 0s 9ms/step - loss: 0.0904 - accuracy: 0.9769 - val_loss: 10.1713 - val_accuracy: 0.4966\n",
            "Epoch 39/150\n",
            "22/22 [==============================] - 0s 8ms/step - loss: 0.0811 - accuracy: 0.9769 - val_loss: 7.3186 - val_accuracy: 0.5369\n",
            "Epoch 40/150\n",
            "22/22 [==============================] - 0s 8ms/step - loss: 0.0387 - accuracy: 0.9913 - val_loss: 11.1456 - val_accuracy: 0.5101\n",
            "Epoch 41/150\n",
            "22/22 [==============================] - 0s 10ms/step - loss: 0.0379 - accuracy: 0.9884 - val_loss: 2.7294 - val_accuracy: 0.6779\n",
            "Epoch 42/150\n",
            "22/22 [==============================] - 0s 10ms/step - loss: 0.0167 - accuracy: 0.9971 - val_loss: 4.0823 - val_accuracy: 0.5570\n",
            "Epoch 43/150\n",
            "22/22 [==============================] - 0s 10ms/step - loss: 0.0153 - accuracy: 0.9971 - val_loss: 2.4845 - val_accuracy: 0.6779\n",
            "Epoch 44/150\n",
            "22/22 [==============================] - 0s 7ms/step - loss: 0.0115 - accuracy: 1.0000 - val_loss: 2.0465 - val_accuracy: 0.7248\n",
            "Epoch 45/150\n",
            "22/22 [==============================] - 0s 8ms/step - loss: 0.0199 - accuracy: 0.9942 - val_loss: 1.5537 - val_accuracy: 0.7383\n",
            "Epoch 46/150\n",
            "22/22 [==============================] - 0s 9ms/step - loss: 0.0477 - accuracy: 0.9740 - val_loss: 1.2877 - val_accuracy: 0.6376\n",
            "Epoch 47/150\n",
            "22/22 [==============================] - 0s 8ms/step - loss: 0.0270 - accuracy: 0.9913 - val_loss: 1.7308 - val_accuracy: 0.6913\n",
            "Epoch 48/150\n",
            "22/22 [==============================] - 0s 8ms/step - loss: 0.0094 - accuracy: 1.0000 - val_loss: 3.4760 - val_accuracy: 0.6779\n",
            "Epoch 49/150\n",
            "22/22 [==============================] - 0s 7ms/step - loss: 0.0070 - accuracy: 1.0000 - val_loss: 2.7648 - val_accuracy: 0.6980\n",
            "Epoch 50/150\n",
            "22/22 [==============================] - 0s 7ms/step - loss: 0.0082 - accuracy: 0.9942 - val_loss: 2.7298 - val_accuracy: 0.7114\n",
            "Epoch 51/150\n",
            "22/22 [==============================] - 0s 8ms/step - loss: 0.0105 - accuracy: 0.9971 - val_loss: 3.2456 - val_accuracy: 0.6376\n",
            "Epoch 52/150\n",
            "22/22 [==============================] - 0s 7ms/step - loss: 0.0311 - accuracy: 0.9913 - val_loss: 2.2553 - val_accuracy: 0.6309\n",
            "Epoch 53/150\n",
            "22/22 [==============================] - 0s 7ms/step - loss: 0.0721 - accuracy: 0.9798 - val_loss: 1.1953 - val_accuracy: 0.7315\n",
            "Epoch 54/150\n",
            "22/22 [==============================] - 0s 10ms/step - loss: 0.0219 - accuracy: 0.9971 - val_loss: 2.5861 - val_accuracy: 0.7114\n",
            "Epoch 55/150\n",
            "22/22 [==============================] - 0s 7ms/step - loss: 0.0811 - accuracy: 0.9798 - val_loss: 33.5866 - val_accuracy: 0.4899\n",
            "Epoch 56/150\n",
            "22/22 [==============================] - 0s 7ms/step - loss: 0.3082 - accuracy: 0.8960 - val_loss: 7.2513 - val_accuracy: 0.6779\n",
            "Epoch 57/150\n",
            "22/22 [==============================] - 0s 9ms/step - loss: 0.2481 - accuracy: 0.9075 - val_loss: 1.2830 - val_accuracy: 0.5436\n",
            "Epoch 58/150\n",
            "22/22 [==============================] - 0s 9ms/step - loss: 0.0623 - accuracy: 0.9884 - val_loss: 1.3776 - val_accuracy: 0.6309\n",
            "Epoch 59/150\n",
            "22/22 [==============================] - 0s 8ms/step - loss: 0.0577 - accuracy: 0.9855 - val_loss: 1.8544 - val_accuracy: 0.5973\n",
            "Epoch 60/150\n",
            "22/22 [==============================] - 0s 8ms/step - loss: 0.0481 - accuracy: 0.9855 - val_loss: 1.3949 - val_accuracy: 0.6711\n",
            "Epoch 61/150\n",
            "22/22 [==============================] - 0s 8ms/step - loss: 0.0179 - accuracy: 1.0000 - val_loss: 1.4658 - val_accuracy: 0.6644\n",
            "Epoch 62/150\n",
            "22/22 [==============================] - 0s 9ms/step - loss: 0.0172 - accuracy: 0.9942 - val_loss: 1.8731 - val_accuracy: 0.6846\n",
            "Epoch 63/150\n",
            "22/22 [==============================] - 0s 7ms/step - loss: 0.0076 - accuracy: 1.0000 - val_loss: 1.6986 - val_accuracy: 0.7047\n",
            "Epoch 64/150\n",
            "22/22 [==============================] - 0s 9ms/step - loss: 0.0094 - accuracy: 0.9971 - val_loss: 1.5999 - val_accuracy: 0.7248\n",
            "Epoch 65/150\n",
            "22/22 [==============================] - 0s 8ms/step - loss: 0.0096 - accuracy: 0.9971 - val_loss: 1.8577 - val_accuracy: 0.7047\n",
            "Epoch 66/150\n",
            "22/22 [==============================] - 0s 8ms/step - loss: 0.0078 - accuracy: 0.9971 - val_loss: 1.7756 - val_accuracy: 0.6846\n",
            "Epoch 67/150\n",
            "22/22 [==============================] - 0s 10ms/step - loss: 0.0060 - accuracy: 1.0000 - val_loss: 1.6516 - val_accuracy: 0.6711\n",
            "Epoch 68/150\n",
            "22/22 [==============================] - 0s 8ms/step - loss: 0.0095 - accuracy: 1.0000 - val_loss: 1.4855 - val_accuracy: 0.6779\n",
            "Epoch 69/150\n",
            "22/22 [==============================] - 0s 8ms/step - loss: 0.0029 - accuracy: 1.0000 - val_loss: 1.3397 - val_accuracy: 0.7181\n",
            "Epoch 70/150\n",
            "22/22 [==============================] - 0s 8ms/step - loss: 0.0020 - accuracy: 1.0000 - val_loss: 1.4318 - val_accuracy: 0.6980\n",
            "Epoch 71/150\n",
            "22/22 [==============================] - 0s 8ms/step - loss: 0.0039 - accuracy: 1.0000 - val_loss: 1.5453 - val_accuracy: 0.6913\n",
            "Epoch 72/150\n",
            "22/22 [==============================] - 0s 9ms/step - loss: 0.0039 - accuracy: 1.0000 - val_loss: 1.4228 - val_accuracy: 0.6846\n",
            "Epoch 73/150\n",
            "22/22 [==============================] - 0s 8ms/step - loss: 0.0016 - accuracy: 1.0000 - val_loss: 1.5328 - val_accuracy: 0.6913\n",
            "Epoch 74/150\n",
            "22/22 [==============================] - 0s 7ms/step - loss: 8.3991e-04 - accuracy: 1.0000 - val_loss: 1.4928 - val_accuracy: 0.7114\n",
            "Epoch 75/150\n",
            "22/22 [==============================] - 0s 8ms/step - loss: 0.0016 - accuracy: 1.0000 - val_loss: 1.5490 - val_accuracy: 0.6846\n",
            "Epoch 76/150\n",
            "22/22 [==============================] - 0s 8ms/step - loss: 9.9766e-04 - accuracy: 1.0000 - val_loss: 1.5881 - val_accuracy: 0.6779\n",
            "Epoch 77/150\n",
            "22/22 [==============================] - 0s 8ms/step - loss: 0.0012 - accuracy: 1.0000 - val_loss: 1.6370 - val_accuracy: 0.6711\n",
            "Epoch 78/150\n",
            "22/22 [==============================] - 0s 8ms/step - loss: 0.0012 - accuracy: 1.0000 - val_loss: 1.6356 - val_accuracy: 0.6846\n",
            "Epoch 79/150\n",
            "22/22 [==============================] - 0s 8ms/step - loss: 5.3447e-04 - accuracy: 1.0000 - val_loss: 1.7156 - val_accuracy: 0.7047\n",
            "Epoch 80/150\n",
            "22/22 [==============================] - 0s 8ms/step - loss: 0.0015 - accuracy: 1.0000 - val_loss: 1.6862 - val_accuracy: 0.7114\n",
            "Epoch 81/150\n",
            "22/22 [==============================] - 0s 7ms/step - loss: 0.0017 - accuracy: 1.0000 - val_loss: 1.6684 - val_accuracy: 0.6980\n",
            "Epoch 82/150\n",
            "22/22 [==============================] - 0s 10ms/step - loss: 7.6444e-04 - accuracy: 1.0000 - val_loss: 1.8471 - val_accuracy: 0.7181\n",
            "Epoch 83/150\n",
            "22/22 [==============================] - 0s 8ms/step - loss: 7.4735e-04 - accuracy: 1.0000 - val_loss: 1.7779 - val_accuracy: 0.7114\n",
            "Epoch 84/150\n",
            "22/22 [==============================] - 0s 7ms/step - loss: 9.4184e-04 - accuracy: 1.0000 - val_loss: 1.7582 - val_accuracy: 0.7114\n",
            "Epoch 85/150\n",
            "22/22 [==============================] - 0s 7ms/step - loss: 0.0041 - accuracy: 0.9971 - val_loss: 2.0548 - val_accuracy: 0.7047\n",
            "Epoch 86/150\n",
            "22/22 [==============================] - 0s 8ms/step - loss: 0.0147 - accuracy: 0.9971 - val_loss: 3.9473 - val_accuracy: 0.6779\n",
            "Epoch 87/150\n",
            "22/22 [==============================] - 0s 9ms/step - loss: 0.0280 - accuracy: 0.9884 - val_loss: 3.1001 - val_accuracy: 0.6846\n",
            "Epoch 88/150\n",
            "22/22 [==============================] - 0s 8ms/step - loss: 0.1235 - accuracy: 0.9711 - val_loss: 11.7749 - val_accuracy: 0.6711\n",
            "Epoch 89/150\n",
            "22/22 [==============================] - 0s 9ms/step - loss: 0.1245 - accuracy: 0.9595 - val_loss: 3.2407 - val_accuracy: 0.5839\n",
            "Epoch 90/150\n",
            "22/22 [==============================] - 0s 7ms/step - loss: 0.0853 - accuracy: 0.9653 - val_loss: 1.7396 - val_accuracy: 0.7181\n",
            "Epoch 91/150\n",
            "22/22 [==============================] - 0s 9ms/step - loss: 0.0323 - accuracy: 0.9884 - val_loss: 2.1142 - val_accuracy: 0.6913\n",
            "Epoch 92/150\n",
            "22/22 [==============================] - 0s 7ms/step - loss: 0.0159 - accuracy: 0.9971 - val_loss: 1.7132 - val_accuracy: 0.6242\n",
            "Epoch 93/150\n",
            "22/22 [==============================] - 0s 8ms/step - loss: 0.0094 - accuracy: 0.9971 - val_loss: 1.6227 - val_accuracy: 0.7114\n",
            "Epoch 94/150\n",
            "22/22 [==============================] - 0s 7ms/step - loss: 0.0229 - accuracy: 0.9884 - val_loss: 1.5638 - val_accuracy: 0.7383\n",
            "Epoch 95/150\n",
            "22/22 [==============================] - 0s 7ms/step - loss: 0.0950 - accuracy: 0.9653 - val_loss: 4.6516 - val_accuracy: 0.6376\n",
            "Epoch 96/150\n",
            "22/22 [==============================] - 0s 7ms/step - loss: 0.0820 - accuracy: 0.9711 - val_loss: 12.2739 - val_accuracy: 0.6711\n",
            "Epoch 97/150\n",
            "22/22 [==============================] - 0s 8ms/step - loss: 0.0477 - accuracy: 0.9827 - val_loss: 3.2264 - val_accuracy: 0.7114\n",
            "Epoch 98/150\n",
            "22/22 [==============================] - 0s 8ms/step - loss: 0.0366 - accuracy: 0.9884 - val_loss: 1.8651 - val_accuracy: 0.6779\n",
            "Epoch 99/150\n",
            "22/22 [==============================] - 0s 8ms/step - loss: 0.0356 - accuracy: 0.9884 - val_loss: 4.6700 - val_accuracy: 0.6309\n",
            "Epoch 100/150\n",
            "22/22 [==============================] - 0s 8ms/step - loss: 0.0461 - accuracy: 0.9942 - val_loss: 42.7428 - val_accuracy: 0.4899\n",
            "Epoch 101/150\n",
            "22/22 [==============================] - 0s 8ms/step - loss: 0.0796 - accuracy: 0.9624 - val_loss: 18.5372 - val_accuracy: 0.5570\n",
            "Epoch 102/150\n",
            "22/22 [==============================] - 0s 8ms/step - loss: 0.0400 - accuracy: 0.9855 - val_loss: 10.3549 - val_accuracy: 0.5772\n",
            "Epoch 103/150\n",
            "22/22 [==============================] - 0s 7ms/step - loss: 0.0635 - accuracy: 0.9740 - val_loss: 12.2671 - val_accuracy: 0.5302\n",
            "Epoch 104/150\n",
            "22/22 [==============================] - 0s 8ms/step - loss: 0.0230 - accuracy: 0.9942 - val_loss: 9.8629 - val_accuracy: 0.5772\n",
            "Epoch 105/150\n",
            "22/22 [==============================] - 0s 10ms/step - loss: 0.0064 - accuracy: 1.0000 - val_loss: 13.3096 - val_accuracy: 0.5235\n",
            "Epoch 106/150\n",
            "22/22 [==============================] - 0s 9ms/step - loss: 0.0095 - accuracy: 0.9971 - val_loss: 6.6955 - val_accuracy: 0.6040\n",
            "Epoch 107/150\n",
            "22/22 [==============================] - 0s 8ms/step - loss: 0.0101 - accuracy: 0.9942 - val_loss: 11.5863 - val_accuracy: 0.5369\n",
            "Epoch 108/150\n",
            "22/22 [==============================] - 0s 7ms/step - loss: 0.0026 - accuracy: 1.0000 - val_loss: 6.6921 - val_accuracy: 0.5839\n",
            "Epoch 109/150\n",
            "22/22 [==============================] - 0s 9ms/step - loss: 0.0026 - accuracy: 1.0000 - val_loss: 2.8333 - val_accuracy: 0.6779\n",
            "Epoch 110/150\n",
            "22/22 [==============================] - 0s 10ms/step - loss: 0.0030 - accuracy: 1.0000 - val_loss: 2.7952 - val_accuracy: 0.6779\n",
            "Epoch 111/150\n",
            "22/22 [==============================] - 0s 8ms/step - loss: 0.0068 - accuracy: 1.0000 - val_loss: 1.4420 - val_accuracy: 0.7047\n",
            "Epoch 112/150\n",
            "22/22 [==============================] - 0s 7ms/step - loss: 0.0047 - accuracy: 0.9971 - val_loss: 2.1040 - val_accuracy: 0.6510\n",
            "Epoch 113/150\n",
            "22/22 [==============================] - 0s 9ms/step - loss: 0.0036 - accuracy: 1.0000 - val_loss: 1.4047 - val_accuracy: 0.7383\n",
            "Epoch 114/150\n",
            "22/22 [==============================] - 0s 8ms/step - loss: 0.0011 - accuracy: 1.0000 - val_loss: 1.4280 - val_accuracy: 0.7383\n",
            "Epoch 115/150\n",
            "22/22 [==============================] - 0s 8ms/step - loss: 3.5794e-04 - accuracy: 1.0000 - val_loss: 1.5185 - val_accuracy: 0.7450\n",
            "Epoch 116/150\n",
            "22/22 [==============================] - 0s 10ms/step - loss: 0.0013 - accuracy: 1.0000 - val_loss: 1.5455 - val_accuracy: 0.7315\n",
            "Epoch 117/150\n",
            "22/22 [==============================] - 0s 8ms/step - loss: 0.0077 - accuracy: 0.9942 - val_loss: 1.7100 - val_accuracy: 0.6711\n",
            "Epoch 118/150\n",
            "22/22 [==============================] - 0s 9ms/step - loss: 0.0105 - accuracy: 0.9971 - val_loss: 1.6821 - val_accuracy: 0.7114\n",
            "Epoch 119/150\n",
            "22/22 [==============================] - 0s 7ms/step - loss: 0.0068 - accuracy: 0.9971 - val_loss: 3.3231 - val_accuracy: 0.6913\n",
            "Epoch 120/150\n",
            "22/22 [==============================] - 0s 9ms/step - loss: 0.0062 - accuracy: 0.9971 - val_loss: 1.5682 - val_accuracy: 0.7248\n",
            "Epoch 121/150\n",
            "22/22 [==============================] - 0s 10ms/step - loss: 0.0082 - accuracy: 0.9971 - val_loss: 3.1244 - val_accuracy: 0.6309\n",
            "Epoch 122/150\n",
            "22/22 [==============================] - 0s 9ms/step - loss: 0.0108 - accuracy: 0.9971 - val_loss: 1.4376 - val_accuracy: 0.7114\n",
            "Epoch 123/150\n",
            "22/22 [==============================] - 0s 8ms/step - loss: 0.0029 - accuracy: 1.0000 - val_loss: 2.6014 - val_accuracy: 0.7047\n",
            "Epoch 124/150\n",
            "22/22 [==============================] - 0s 8ms/step - loss: 0.0039 - accuracy: 1.0000 - val_loss: 2.8006 - val_accuracy: 0.7248\n",
            "Epoch 125/150\n",
            "22/22 [==============================] - 0s 10ms/step - loss: 0.0162 - accuracy: 0.9913 - val_loss: 1.2179 - val_accuracy: 0.6980\n",
            "Epoch 126/150\n",
            "22/22 [==============================] - 0s 8ms/step - loss: 0.0055 - accuracy: 1.0000 - val_loss: 1.0831 - val_accuracy: 0.6913\n",
            "Epoch 127/150\n",
            "22/22 [==============================] - 0s 8ms/step - loss: 0.0036 - accuracy: 1.0000 - val_loss: 1.3482 - val_accuracy: 0.7383\n",
            "Epoch 128/150\n",
            "22/22 [==============================] - 0s 8ms/step - loss: 0.0013 - accuracy: 1.0000 - val_loss: 1.6722 - val_accuracy: 0.7114\n",
            "Epoch 129/150\n",
            "22/22 [==============================] - 0s 7ms/step - loss: 0.0012 - accuracy: 1.0000 - val_loss: 1.7869 - val_accuracy: 0.7047\n",
            "Epoch 130/150\n",
            "22/22 [==============================] - 0s 9ms/step - loss: 7.5989e-04 - accuracy: 1.0000 - val_loss: 1.8808 - val_accuracy: 0.7047\n",
            "Epoch 131/150\n",
            "22/22 [==============================] - 0s 8ms/step - loss: 6.5515e-04 - accuracy: 1.0000 - val_loss: 1.9142 - val_accuracy: 0.7047\n",
            "Epoch 132/150\n",
            "22/22 [==============================] - 0s 10ms/step - loss: 0.0011 - accuracy: 1.0000 - val_loss: 2.0151 - val_accuracy: 0.7248\n",
            "Epoch 133/150\n",
            "22/22 [==============================] - 0s 9ms/step - loss: 7.4697e-04 - accuracy: 1.0000 - val_loss: 1.8947 - val_accuracy: 0.7181\n",
            "Epoch 134/150\n",
            "22/22 [==============================] - 0s 8ms/step - loss: 3.1952e-04 - accuracy: 1.0000 - val_loss: 1.8869 - val_accuracy: 0.7114\n",
            "Epoch 135/150\n",
            "22/22 [==============================] - 0s 9ms/step - loss: 3.2617e-04 - accuracy: 1.0000 - val_loss: 1.8327 - val_accuracy: 0.7047\n",
            "Epoch 136/150\n",
            "22/22 [==============================] - 0s 8ms/step - loss: 6.3647e-04 - accuracy: 1.0000 - val_loss: 1.8850 - val_accuracy: 0.6980\n",
            "Epoch 137/150\n",
            "22/22 [==============================] - 0s 8ms/step - loss: 0.0081 - accuracy: 0.9971 - val_loss: 1.9035 - val_accuracy: 0.6510\n",
            "Epoch 138/150\n",
            "22/22 [==============================] - 0s 8ms/step - loss: 0.0018 - accuracy: 1.0000 - val_loss: 2.3324 - val_accuracy: 0.6779\n",
            "Epoch 139/150\n",
            "22/22 [==============================] - 0s 8ms/step - loss: 0.0070 - accuracy: 1.0000 - val_loss: 3.4880 - val_accuracy: 0.6980\n",
            "Epoch 140/150\n",
            "22/22 [==============================] - 0s 10ms/step - loss: 0.0146 - accuracy: 0.9971 - val_loss: 2.0640 - val_accuracy: 0.7181\n",
            "Epoch 141/150\n",
            "22/22 [==============================] - 0s 9ms/step - loss: 0.0664 - accuracy: 0.9884 - val_loss: 18.9781 - val_accuracy: 0.5101\n",
            "Epoch 142/150\n",
            "22/22 [==============================] - 0s 8ms/step - loss: 0.1297 - accuracy: 0.9538 - val_loss: 10.8636 - val_accuracy: 0.5168\n",
            "Epoch 143/150\n",
            "22/22 [==============================] - 0s 8ms/step - loss: 0.0835 - accuracy: 0.9711 - val_loss: 75.4965 - val_accuracy: 0.5101\n",
            "Epoch 144/150\n",
            "22/22 [==============================] - 0s 7ms/step - loss: 0.0609 - accuracy: 0.9798 - val_loss: 9.4774 - val_accuracy: 0.6577\n",
            "Epoch 145/150\n",
            "22/22 [==============================] - 0s 7ms/step - loss: 0.0931 - accuracy: 0.9682 - val_loss: 10.2019 - val_accuracy: 0.6846\n",
            "Epoch 146/150\n",
            "22/22 [==============================] - 0s 8ms/step - loss: 0.0928 - accuracy: 0.9769 - val_loss: 2.3187 - val_accuracy: 0.7047\n",
            "Epoch 147/150\n",
            "22/22 [==============================] - 0s 8ms/step - loss: 0.0360 - accuracy: 0.9855 - val_loss: 1.5183 - val_accuracy: 0.5705\n",
            "Epoch 148/150\n",
            "22/22 [==============================] - 0s 8ms/step - loss: 0.0335 - accuracy: 0.9855 - val_loss: 0.9739 - val_accuracy: 0.7114\n",
            "Epoch 149/150\n",
            "22/22 [==============================] - 0s 8ms/step - loss: 0.0250 - accuracy: 0.9913 - val_loss: 2.0788 - val_accuracy: 0.7248\n",
            "Epoch 150/150\n",
            "22/22 [==============================] - 0s 9ms/step - loss: 0.0129 - accuracy: 1.0000 - val_loss: 1.6643 - val_accuracy: 0.7383\n"
          ],
          "name": "stdout"
        }
      ]
    },
    {
      "cell_type": "code",
      "metadata": {
        "colab": {
          "base_uri": "https://localhost:8080/",
          "height": 295
        },
        "id": "SKqzztQDpF01",
        "outputId": "d4295017-5f58-4d06-c523-b14d553294a5"
      },
      "source": [
        "import os\n",
        "import seaborn as sns\n",
        "#plot the training and validation accuracy and loss at each epoch\n",
        "loss = history.history['loss']\n",
        "val_loss = history.history['val_loss']\n",
        "epochs = range(1, len(loss) + 1)\n",
        "plt.plot(epochs, loss, 'y', label='Training loss')\n",
        "plt.plot(epochs, val_loss, 'r', label='Validation loss')\n",
        "plt.title('Training and validation loss')\n",
        "plt.xlabel('Epochs')\n",
        "plt.ylabel('Loss')\n",
        "plt.legend()\n",
        "plt.show()"
      ],
      "execution_count": 139,
      "outputs": [
        {
          "output_type": "display_data",
          "data": {
            "image/png": "[encoded data removed]",
            "text/plain": [
              "<Figure size 432x288 with 1 Axes>"
            ]
          },
          "metadata": {
            "needs_background": "light"
          }
        }
      ]
    },
    {
      "cell_type": "code",
      "metadata": {
        "colab": {
          "base_uri": "https://localhost:8080/",
          "height": 295
        },
        "id": "9mpZlD41pF4A",
        "outputId": "4953d3e0-d549-4e2b-c012-f1b2321b466e"
      },
      "source": [
        "acc = history.history['accuracy']\n",
        "val_acc = history.history['val_accuracy']\n",
        "plt.plot(epochs, acc, 'y', label='Training acc')\n",
        "plt.plot(epochs, val_acc, 'r', label='Validation acc')\n",
        "plt.title('Training and validation accuracy')\n",
        "plt.xlabel('Epochs')\n",
        "plt.ylabel('Accuracy')\n",
        "plt.legend()\n",
        "plt.show()"
      ],
      "execution_count": 140,
      "outputs": [
        {
          "output_type": "display_data",
          "data": {
            "image/png": "[encoded data removed]",
            "text/plain": [
              "<Figure size 432x288 with 1 Axes>"
            ]
          },
          "metadata": {
            "needs_background": "light"
          }
        }
      ]
    },
    {
      "cell_type": "code",
      "metadata": {
        "colab": {
          "base_uri": "https://localhost:8080/",
          "height": 332
        },
        "id": "D-PzHWUjpF7H",
        "outputId": "0505648f-b779-4766-e292-1786991e605b"
      },
      "source": [
        "prediction_NN = model.predict(xTest11)\n",
        "prediction_NN = np.argmax(prediction_NN, axis=-1)\n",
        "#Print overall accuracy\n",
        "from sklearn import metrics\n",
        "print (\"Accuracy = \", metrics.accuracy_score(yTest1, prediction_NN))\n",
        "#Confusion Matrix - verify accuracy of each class\n",
        "from sklearn.metrics import confusion_matrix\n",
        "cm = confusion_matrix(yTest1, prediction_NN)\n",
        "print(cm)\n",
        "sns.heatmap(cm, annot=True)"
      ],
      "execution_count": 142,
      "outputs": [
        {
          "output_type": "stream",
          "text": [
            "Accuracy =  0.738255033557047\n",
            "[[47 26]\n",
            " [13 63]]\n"
          ],
          "name": "stdout"
        },
        {
          "output_type": "execute_result",
          "data": {
            "text/plain": [
              "<matplotlib.axes._subplots.AxesSubplot at 0x7f881f4de810>"
            ]
          },
          "metadata": {},
          "execution_count": 142
        },
        {
          "output_type": "display_data",
          "data": {
            "image/png": "[encoded data removed]",
            "text/plain": [
              "<Figure size 432x288 with 2 Axes>"
            ]
          },
          "metadata": {
            "needs_background": "light"
          }
        }
      ]
    },
    {
      "cell_type": "code",
      "metadata": {
        "id": "XprhGXdtMZi1"
      },
      "source": [
        ""
      ],
      "execution_count": null,
      "outputs": []
    }
  ]
}