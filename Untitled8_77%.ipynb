{
  "nbformat": 4,
  "nbformat_minor": 0,
  "metadata": {
    "colab": {
      "name": "Untitled8.ipynb",
      "provenance": [],
      "include_colab_link": true
    },
    "kernelspec": {
      "name": "python3",
      "display_name": "Python 3"
    },
    "language_info": {
      "name": "python"
    },
    "accelerator": "GPU"
  },
  "cells": [
    {
      "cell_type": "markdown",
      "metadata": {
        "id": "view-in-github",
        "colab_type": "text"
      },
      "source": [
        "<a href=\"https://colab.research.google.com/github/rohitsubodh/GAN/blob/main/Untitled8_77%25.ipynb\" target=\"_parent\"><img src=\"https://colab.research.google.com/assets/colab-badge.svg\" alt=\"Open In Colab\"/></a>"
      ]
    },
    {
      "cell_type": "code",
      "metadata": {
        "id": "cMHBuO0wos-j"
      },
      "source": [
        "\n",
        "import tensorflow as tf\n",
        "import keras\n",
        "import numpy as np\n",
        "from keras import models\n",
        "from keras import layers\n",
        "from keras.wrappers.scikit_learn import KerasClassifier\n",
        "from sklearn.model_selection import cross_val_score\n",
        "from sklearn.datasets import make_classification\n",
        "from matplotlib import pyplot\n",
        "import numpy as np\n",
        "import matplotlib.pyplot as plt\n",
        "import pandas as pd\n",
        "from sklearn import preprocessing\n",
        "from keras.models import Sequential,Model\n",
        "from keras.layers import Dense, Dropout,Input\n",
        "from keras.layers import Embedding,LeakyReLU\n",
        "from keras.layers import Conv1D, GlobalAveragePooling1D, MaxPooling1D, Flatten, LocallyConnected1D, BatchNormalization\n",
        "import scipy.signal\n",
        "from sklearn.decomposition import PCA, KernelPCA"
      ],
      "execution_count": 124,
      "outputs": []
    },
    {
      "cell_type": "code",
      "metadata": {
        "id": "Hi8fcclmpFNY"
      },
      "source": [
        "data = pd.read_excel('/content/PPG_new.xlsx',sheet_name='0-1')\n",
        "target = pd.read_excel('/content/PPG_new.xlsx',sheet_name='target 0-1')"
      ],
      "execution_count": 125,
      "outputs": []
    },
    {
      "cell_type": "code",
      "metadata": {
        "colab": {
          "base_uri": "https://localhost:8080/"
        },
        "id": "mUhak2l_B-rq",
        "outputId": "3380d6cc-f988-477a-aa29-09a782ea6a26"
      },
      "source": [
        "data.shape"
      ],
      "execution_count": 126,
      "outputs": [
        {
          "output_type": "execute_result",
          "data": {
            "text/plain": [
              "(495, 2100)"
            ]
          },
          "metadata": {},
          "execution_count": 126
        }
      ]
    },
    {
      "cell_type": "code",
      "metadata": {
        "colab": {
          "base_uri": "https://localhost:8080/",
          "height": 265
        },
        "id": "q1Q3Q3FepFW2",
        "outputId": "f97affd2-fc77-40bd-f0e6-32378186daa3"
      },
      "source": [
        "x= data.iloc[0,:]\n",
        "plt.plot(x)\n",
        "plt.show\n",
        "data1=data"
      ],
      "execution_count": 127,
      "outputs": [
        {
          "output_type": "display_data",
          "data": {
            "image/png": "[encoded data removed]",
            "text/plain": [
              "<Figure size 432x288 with 1 Axes>"
            ]
          },
          "metadata": {
            "needs_background": "light"
          }
        }
      ]
    },
    {
      "cell_type": "code",
      "metadata": {
        "colab": {
          "base_uri": "https://localhost:8080/",
          "height": 282
        },
        "id": "SRcZU0-ppFaK",
        "outputId": "59edfbce-3c28-4734-9307-c918fd5568a8"
      },
      "source": [
        "# Applying median filter\n",
        "data=scipy.signal.medfilt(data)\n",
        "data\n",
        "x= data[0,:]\n",
        "plt.plot(x)\n",
        "plt.show"
      ],
      "execution_count": 128,
      "outputs": [
        {
          "output_type": "execute_result",
          "data": {
            "text/plain": [
              "<function matplotlib.pyplot.show>"
            ]
          },
          "metadata": {},
          "execution_count": 128
        },
        {
          "output_type": "display_data",
          "data": {
            "image/png": "[encoded data removed]",
            "text/plain": [
              "<Figure size 432x288 with 1 Axes>"
            ]
          },
          "metadata": {
            "needs_background": "light"
          }
        }
      ]
    },
    {
      "cell_type": "code",
      "metadata": {
        "colab": {
          "base_uri": "https://localhost:8080/"
        },
        "id": "Rr2cHwXGpFc9",
        "outputId": "25b373d5-72b6-434d-bf72-106957ce7bab"
      },
      "source": [
        "# Design of low pass chebyshev filter\n",
        "sos= scipy.signal.cheby2(4, 10, 25, 'low', fs=1000, output='sos')\n",
        "sos"
      ],
      "execution_count": 129,
      "outputs": [
        {
          "output_type": "execute_result",
          "data": {
            "text/plain": [
              "array([[ 0.26741176, -0.49141861,  0.26741176,  1.        , -1.6346899 ,\n",
              "         0.69069827],\n",
              "       [ 1.        , -1.97118242,  1.        ,  1.        , -1.92658177,\n",
              "         0.94891457]])"
            ]
          },
          "metadata": {},
          "execution_count": 129
        }
      ]
    },
    {
      "cell_type": "code",
      "metadata": {
        "colab": {
          "base_uri": "https://localhost:8080/",
          "height": 282
        },
        "id": "V2M-vdahpFfz",
        "outputId": "4643b56d-01d3-4501-f45b-d57ee0bbf130"
      },
      "source": [
        "data= scipy.signal.sosfilt(sos, data) # applying chebyshev filter\n",
        "x= data[0,:]\n",
        "plt.plot(x)\n",
        "plt.show"
      ],
      "execution_count": 130,
      "outputs": [
        {
          "output_type": "execute_result",
          "data": {
            "text/plain": [
              "<function matplotlib.pyplot.show>"
            ]
          },
          "metadata": {},
          "execution_count": 130
        },
        {
          "output_type": "display_data",
          "data": {
            "image/png": "[encoded data removed]",
            "text/plain": [
              "<Figure size 432x288 with 1 Axes>"
            ]
          },
          "metadata": {
            "needs_background": "light"
          }
        }
      ]
    },
    {
      "cell_type": "code",
      "metadata": {
        "colab": {
          "base_uri": "https://localhost:8080/",
          "height": 282
        },
        "id": "dbCRU494pFiq",
        "outputId": "9882a6cf-9173-49c9-e64f-614b18b2080f"
      },
      "source": [
        "# Applying backward forward filter\n",
        "b, a = scipy.signal.butter(8, 0.125) # filter design\n",
        "\n",
        "data = scipy.signal.filtfilt(b, a, data, method=\"gust\")\n",
        "\n",
        "x= data[0,:]\n",
        "plt.plot(x)\n",
        "plt.show"
      ],
      "execution_count": 131,
      "outputs": [
        {
          "output_type": "execute_result",
          "data": {
            "text/plain": [
              "<function matplotlib.pyplot.show>"
            ]
          },
          "metadata": {},
          "execution_count": 131
        },
        {
          "output_type": "display_data",
          "data": {
            "image/png": "[encoded data removed]",
            "text/plain": [
              "<Figure size 432x288 with 1 Axes>"
            ]
          },
          "metadata": {
            "needs_background": "light"
          }
        }
      ]
    },
    {
      "cell_type": "code",
      "metadata": {
        "id": "Wp6SpBPGqCqY",
        "colab": {
          "base_uri": "https://localhost:8080/"
        },
        "outputId": "59a0fa5d-3fe7-469e-de44-f15ecba71a52"
      },
      "source": [
        "data1=data\n",
        "kpca=KernelPCA(kernel=\"rbf\",fit_inverse_transform=True, gamma=10)\n",
        "data=kpca.fit_transform(data)\n",
        "data.shape"
      ],
      "execution_count": 132,
      "outputs": [
        {
          "output_type": "execute_result",
          "data": {
            "text/plain": [
              "(495, 494)"
            ]
          },
          "metadata": {},
          "execution_count": 132
        }
      ]
    },
    {
      "cell_type": "code",
      "metadata": {
        "colab": {
          "base_uri": "https://localhost:8080/",
          "height": 282
        },
        "id": "DBkGZsxyKhz2",
        "outputId": "3fd2fca4-eb7f-4e76-d1bf-0f96828d939f"
      },
      "source": [
        "x= data[0,:]\n",
        "plt.plot(x)\n",
        "plt.show"
      ],
      "execution_count": 133,
      "outputs": [
        {
          "output_type": "execute_result",
          "data": {
            "text/plain": [
              "<function matplotlib.pyplot.show>"
            ]
          },
          "metadata": {},
          "execution_count": 133
        },
        {
          "output_type": "display_data",
          "data": {
            "image/png": "[encoded data removed]",
            "text/plain": [
              "<Figure size 432x288 with 1 Axes>"
            ]
          },
          "metadata": {
            "needs_background": "light"
          }
        }
      ]
    },
    {
      "cell_type": "code",
      "metadata": {
        "id": "aT_bUQPBpFlu"
      },
      "source": [
        "from sklearn.model_selection import train_test_split\n",
        "xTrain1, xTest1, yTrain1, yTest1 = train_test_split(data, target, test_size = 0.3, random_state = 42)"
      ],
      "execution_count": 134,
      "outputs": []
    },
    {
      "cell_type": "code",
      "metadata": {
        "id": "K0ct8stEpFor"
      },
      "source": [
        "xTrain11 = np.expand_dims(xTrain1, axis=2)\n",
        "yTrain11 = tf.keras.utils.to_categorical(yTrain1, num_classes=2)\n",
        "xTest11 =  np.expand_dims(xTest1, axis=2)\n",
        "yTest11 = tf.keras.utils.to_categorical(yTest1, num_classes=2)"
      ],
      "execution_count": 135,
      "outputs": []
    },
    {
      "cell_type": "code",
      "metadata": {
        "id": "egKDUU6zpFr2"
      },
      "source": [
        "input_shape = (494, 1)\n"
      ],
      "execution_count": 136,
      "outputs": []
    },
    {
      "cell_type": "code",
      "metadata": {
        "id": "xJxQ1yvCpFur",
        "colab": {
          "base_uri": "https://localhost:8080/"
        },
        "outputId": "45ce560d-a8ea-4a76-f56a-07cff4164c71"
      },
      "source": [
        "\n",
        "#CNN Model\n",
        "\n",
        "model = Sequential()\n",
        "model.add(Conv1D(32, 3, activation='relu', input_shape=input_shape[0:]))\n",
        "model.add(BatchNormalization())\n",
        "model.add(LeakyReLU(alpha=0.1))\n",
        "model.add(Conv1D(64, 3, activation='relu', name=\"my_intermediate_layer\"))\n",
        "model.add(MaxPooling1D(3))\n",
        "model.add(BatchNormalization())\n",
        "model.add(LeakyReLU(alpha=0.1))\n",
        "model.add(Conv1D(128, 3, activation='relu'))\n",
        "model.add(BatchNormalization())\n",
        "model.add(LeakyReLU(alpha=0.1))\n",
        "model.add(Conv1D(256, 3, activation='relu'))\n",
        "model.add(GlobalAveragePooling1D())\n",
        "model.add(Dropout(0.5))\n",
        "model.add(Dense(100, name=\"dense\"))\n",
        "model.add(Dense(2, activation='softmax', name=\"dense1\"))\n",
        "model.compile(loss='categorical_crossentropy',\n",
        "                    optimizer='adam',\n",
        "                    metrics=['accuracy'])\n",
        "model.summary()"
      ],
      "execution_count": 218,
      "outputs": [
        {
          "output_type": "stream",
          "text": [
            "Model: \"sequential_11\"\n",
            "_________________________________________________________________\n",
            "Layer (type)                 Output Shape              Param #   \n",
            "=================================================================\n",
            "conv1d_25 (Conv1D)           (None, 492, 32)           128       \n",
            "_________________________________________________________________\n",
            "batch_normalization_33 (Batc (None, 492, 32)           128       \n",
            "_________________________________________________________________\n",
            "leaky_re_lu_25 (LeakyReLU)   (None, 492, 32)           0         \n",
            "_________________________________________________________________\n",
            "my_intermediate_layer (Conv1 (None, 490, 64)           6208      \n",
            "_________________________________________________________________\n",
            "max_pooling1d_11 (MaxPooling (None, 163, 64)           0         \n",
            "_________________________________________________________________\n",
            "batch_normalization_34 (Batc (None, 163, 64)           256       \n",
            "_________________________________________________________________\n",
            "leaky_re_lu_26 (LeakyReLU)   (None, 163, 64)           0         \n",
            "_________________________________________________________________\n",
            "conv1d_26 (Conv1D)           (None, 161, 128)          24704     \n",
            "_________________________________________________________________\n",
            "batch_normalization_35 (Batc (None, 161, 128)          512       \n",
            "_________________________________________________________________\n",
            "leaky_re_lu_27 (LeakyReLU)   (None, 161, 128)          0         \n",
            "_________________________________________________________________\n",
            "conv1d_27 (Conv1D)           (None, 159, 256)          98560     \n",
            "_________________________________________________________________\n",
            "global_average_pooling1d_11  (None, 256)               0         \n",
            "_________________________________________________________________\n",
            "dropout_11 (Dropout)         (None, 256)               0         \n",
            "_________________________________________________________________\n",
            "dense (Dense)                (None, 100)               25700     \n",
            "_________________________________________________________________\n",
            "dense1 (Dense)               (None, 2)                 202       \n",
            "=================================================================\n",
            "Total params: 156,398\n",
            "Trainable params: 155,950\n",
            "Non-trainable params: 448\n",
            "_________________________________________________________________\n"
          ],
          "name": "stdout"
        }
      ]
    },
    {
      "cell_type": "code",
      "metadata": {
        "colab": {
          "base_uri": "https://localhost:8080/"
        },
        "id": "dpRAWw9cpFyD",
        "outputId": "4779028c-7a68-4d9e-f9d8-ef1b70de4957"
      },
      "source": [
        "from keras.callbacks import EarlyStopping\n",
        "#set early stopping monitor so the model stops training when it won't improve anymore\n",
        "early_stopping_monitor = EarlyStopping(patience=500)\n",
        "\n",
        "# train model\n",
        "history=model.fit(xTrain11, yTrain11, validation_data = (xTest11, yTest11), epochs=200, batch_size=16)\n"
      ],
      "execution_count": 219,
      "outputs": [
        {
          "output_type": "stream",
          "text": [
            "Epoch 1/200\n",
            "22/22 [==============================] - 1s 19ms/step - loss: 0.7230 - accuracy: 0.5723 - val_loss: 0.6992 - val_accuracy: 0.4899\n",
            "Epoch 2/200\n",
            "22/22 [==============================] - 0s 9ms/step - loss: 0.6254 - accuracy: 0.6590 - val_loss: 0.7081 - val_accuracy: 0.4899\n",
            "Epoch 3/200\n",
            "22/22 [==============================] - 0s 10ms/step - loss: 0.6485 - accuracy: 0.6358 - val_loss: 0.7348 - val_accuracy: 0.4899\n",
            "Epoch 4/200\n",
            "22/22 [==============================] - 0s 10ms/step - loss: 0.5813 - accuracy: 0.6994 - val_loss: 0.7564 - val_accuracy: 0.4899\n",
            "Epoch 5/200\n",
            "22/22 [==============================] - 0s 8ms/step - loss: 0.5709 - accuracy: 0.7225 - val_loss: 0.7997 - val_accuracy: 0.4899\n",
            "Epoch 6/200\n",
            "22/22 [==============================] - 0s 9ms/step - loss: 0.5562 - accuracy: 0.7168 - val_loss: 0.7848 - val_accuracy: 0.4899\n",
            "Epoch 7/200\n",
            "22/22 [==============================] - 0s 8ms/step - loss: 0.5658 - accuracy: 0.7023 - val_loss: 0.7866 - val_accuracy: 0.4899\n",
            "Epoch 8/200\n",
            "22/22 [==============================] - 0s 8ms/step - loss: 0.5483 - accuracy: 0.7197 - val_loss: 0.7996 - val_accuracy: 0.4899\n",
            "Epoch 9/200\n",
            "22/22 [==============================] - 0s 7ms/step - loss: 0.5383 - accuracy: 0.7457 - val_loss: 0.7962 - val_accuracy: 0.4899\n",
            "Epoch 10/200\n",
            "22/22 [==============================] - 0s 7ms/step - loss: 0.5342 - accuracy: 0.6994 - val_loss: 0.8043 - val_accuracy: 0.4899\n",
            "Epoch 11/200\n",
            "22/22 [==============================] - 0s 9ms/step - loss: 0.5841 - accuracy: 0.6792 - val_loss: 0.8080 - val_accuracy: 0.4899\n",
            "Epoch 12/200\n",
            "22/22 [==============================] - 0s 9ms/step - loss: 0.4796 - accuracy: 0.7486 - val_loss: 0.8517 - val_accuracy: 0.4899\n",
            "Epoch 13/200\n",
            "22/22 [==============================] - 0s 8ms/step - loss: 0.5037 - accuracy: 0.7543 - val_loss: 0.8934 - val_accuracy: 0.4899\n",
            "Epoch 14/200\n",
            "22/22 [==============================] - 0s 7ms/step - loss: 0.5000 - accuracy: 0.7659 - val_loss: 0.9114 - val_accuracy: 0.4899\n",
            "Epoch 15/200\n",
            "22/22 [==============================] - 0s 9ms/step - loss: 0.4732 - accuracy: 0.7746 - val_loss: 0.9155 - val_accuracy: 0.4899\n",
            "Epoch 16/200\n",
            "22/22 [==============================] - 0s 9ms/step - loss: 0.4375 - accuracy: 0.7977 - val_loss: 1.0126 - val_accuracy: 0.4899\n",
            "Epoch 17/200\n",
            "22/22 [==============================] - 0s 7ms/step - loss: 0.4444 - accuracy: 0.7746 - val_loss: 1.0901 - val_accuracy: 0.4899\n",
            "Epoch 18/200\n",
            "22/22 [==============================] - 0s 9ms/step - loss: 0.3929 - accuracy: 0.8121 - val_loss: 1.1086 - val_accuracy: 0.4899\n",
            "Epoch 19/200\n",
            "22/22 [==============================] - 0s 9ms/step - loss: 0.3832 - accuracy: 0.8382 - val_loss: 1.1163 - val_accuracy: 0.4899\n",
            "Epoch 20/200\n",
            "22/22 [==============================] - 0s 8ms/step - loss: 0.3604 - accuracy: 0.8179 - val_loss: 1.2663 - val_accuracy: 0.4899\n",
            "Epoch 21/200\n",
            "22/22 [==============================] - 0s 9ms/step - loss: 0.3309 - accuracy: 0.8699 - val_loss: 0.9811 - val_accuracy: 0.4899\n",
            "Epoch 22/200\n",
            "22/22 [==============================] - 0s 8ms/step - loss: 0.3001 - accuracy: 0.8844 - val_loss: 0.9717 - val_accuracy: 0.5034\n",
            "Epoch 23/200\n",
            "22/22 [==============================] - 0s 8ms/step - loss: 0.3114 - accuracy: 0.8815 - val_loss: 0.8798 - val_accuracy: 0.5369\n",
            "Epoch 24/200\n",
            "22/22 [==============================] - 0s 8ms/step - loss: 0.2604 - accuracy: 0.8960 - val_loss: 0.9148 - val_accuracy: 0.5369\n",
            "Epoch 25/200\n",
            "22/22 [==============================] - 0s 8ms/step - loss: 0.2471 - accuracy: 0.8960 - val_loss: 1.4504 - val_accuracy: 0.5034\n",
            "Epoch 26/200\n",
            "22/22 [==============================] - 0s 10ms/step - loss: 0.3051 - accuracy: 0.8757 - val_loss: 0.9291 - val_accuracy: 0.6443\n",
            "Epoch 27/200\n",
            "22/22 [==============================] - 0s 9ms/step - loss: 0.2411 - accuracy: 0.8902 - val_loss: 1.1770 - val_accuracy: 0.4966\n",
            "Epoch 28/200\n",
            "22/22 [==============================] - 0s 8ms/step - loss: 0.2967 - accuracy: 0.8699 - val_loss: 1.0810 - val_accuracy: 0.6846\n",
            "Epoch 29/200\n",
            "22/22 [==============================] - 0s 9ms/step - loss: 0.2382 - accuracy: 0.9162 - val_loss: 0.7646 - val_accuracy: 0.7047\n",
            "Epoch 30/200\n",
            "22/22 [==============================] - 0s 9ms/step - loss: 0.1878 - accuracy: 0.9220 - val_loss: 0.7043 - val_accuracy: 0.6779\n",
            "Epoch 31/200\n",
            "22/22 [==============================] - 0s 8ms/step - loss: 0.1650 - accuracy: 0.9306 - val_loss: 0.5893 - val_accuracy: 0.7315\n",
            "Epoch 32/200\n",
            "22/22 [==============================] - 0s 9ms/step - loss: 0.1848 - accuracy: 0.9133 - val_loss: 0.6666 - val_accuracy: 0.6846\n",
            "Epoch 33/200\n",
            "22/22 [==============================] - 0s 8ms/step - loss: 0.1492 - accuracy: 0.9451 - val_loss: 1.0145 - val_accuracy: 0.5906\n",
            "Epoch 34/200\n",
            "22/22 [==============================] - 0s 7ms/step - loss: 0.1305 - accuracy: 0.9624 - val_loss: 0.8687 - val_accuracy: 0.6309\n",
            "Epoch 35/200\n",
            "22/22 [==============================] - 0s 9ms/step - loss: 0.0732 - accuracy: 0.9740 - val_loss: 1.0786 - val_accuracy: 0.7383\n",
            "Epoch 36/200\n",
            "22/22 [==============================] - 0s 8ms/step - loss: 0.0976 - accuracy: 0.9538 - val_loss: 0.7461 - val_accuracy: 0.7584\n",
            "Epoch 37/200\n",
            "22/22 [==============================] - 0s 9ms/step - loss: 0.0535 - accuracy: 0.9913 - val_loss: 0.6998 - val_accuracy: 0.7383\n",
            "Epoch 38/200\n",
            "22/22 [==============================] - 0s 9ms/step - loss: 0.0360 - accuracy: 0.9942 - val_loss: 0.9345 - val_accuracy: 0.6980\n",
            "Epoch 39/200\n",
            "22/22 [==============================] - 0s 8ms/step - loss: 0.0443 - accuracy: 0.9798 - val_loss: 1.0561 - val_accuracy: 0.6779\n",
            "Epoch 40/200\n",
            "22/22 [==============================] - 0s 7ms/step - loss: 0.0408 - accuracy: 0.9855 - val_loss: 2.0190 - val_accuracy: 0.6309\n",
            "Epoch 41/200\n",
            "22/22 [==============================] - 0s 9ms/step - loss: 0.0570 - accuracy: 0.9798 - val_loss: 3.7050 - val_accuracy: 0.5302\n",
            "Epoch 42/200\n",
            "22/22 [==============================] - 0s 7ms/step - loss: 0.2320 - accuracy: 0.9364 - val_loss: 0.8712 - val_accuracy: 0.6779\n",
            "Epoch 43/200\n",
            "22/22 [==============================] - 0s 7ms/step - loss: 0.1128 - accuracy: 0.9566 - val_loss: 1.6396 - val_accuracy: 0.6510\n",
            "Epoch 44/200\n",
            "22/22 [==============================] - 0s 8ms/step - loss: 0.0721 - accuracy: 0.9798 - val_loss: 3.6013 - val_accuracy: 0.5839\n",
            "Epoch 45/200\n",
            "22/22 [==============================] - 0s 7ms/step - loss: 0.1161 - accuracy: 0.9538 - val_loss: 22.0746 - val_accuracy: 0.5101\n",
            "Epoch 46/200\n",
            "22/22 [==============================] - 0s 7ms/step - loss: 0.1338 - accuracy: 0.9595 - val_loss: 1.5428 - val_accuracy: 0.6980\n",
            "Epoch 47/200\n",
            "22/22 [==============================] - 0s 8ms/step - loss: 0.0751 - accuracy: 0.9711 - val_loss: 3.2070 - val_accuracy: 0.5906\n",
            "Epoch 48/200\n",
            "22/22 [==============================] - 0s 7ms/step - loss: 0.0793 - accuracy: 0.9711 - val_loss: 3.2806 - val_accuracy: 0.6510\n",
            "Epoch 49/200\n",
            "22/22 [==============================] - 0s 7ms/step - loss: 0.0722 - accuracy: 0.9682 - val_loss: 4.3059 - val_accuracy: 0.5973\n",
            "Epoch 50/200\n",
            "22/22 [==============================] - 0s 7ms/step - loss: 0.0657 - accuracy: 0.9798 - val_loss: 1.1936 - val_accuracy: 0.7047\n",
            "Epoch 51/200\n",
            "22/22 [==============================] - 0s 9ms/step - loss: 0.0560 - accuracy: 0.9855 - val_loss: 0.9465 - val_accuracy: 0.7315\n",
            "Epoch 52/200\n",
            "22/22 [==============================] - 0s 8ms/step - loss: 0.0173 - accuracy: 0.9971 - val_loss: 2.5663 - val_accuracy: 0.6577\n",
            "Epoch 53/200\n",
            "22/22 [==============================] - 0s 7ms/step - loss: 0.0189 - accuracy: 0.9913 - val_loss: 1.2145 - val_accuracy: 0.7181\n",
            "Epoch 54/200\n",
            "22/22 [==============================] - 0s 7ms/step - loss: 0.0088 - accuracy: 1.0000 - val_loss: 2.0514 - val_accuracy: 0.6779\n",
            "Epoch 55/200\n",
            "22/22 [==============================] - 0s 9ms/step - loss: 0.0074 - accuracy: 1.0000 - val_loss: 0.9734 - val_accuracy: 0.7651\n",
            "Epoch 56/200\n",
            "22/22 [==============================] - 0s 7ms/step - loss: 0.0072 - accuracy: 1.0000 - val_loss: 0.9405 - val_accuracy: 0.7315\n",
            "Epoch 57/200\n",
            "22/22 [==============================] - 0s 9ms/step - loss: 0.0076 - accuracy: 1.0000 - val_loss: 1.3358 - val_accuracy: 0.7315\n",
            "Epoch 58/200\n",
            "22/22 [==============================] - 0s 7ms/step - loss: 0.0054 - accuracy: 1.0000 - val_loss: 1.2202 - val_accuracy: 0.7114\n",
            "Epoch 59/200\n",
            "22/22 [==============================] - 0s 7ms/step - loss: 0.0288 - accuracy: 0.9913 - val_loss: 1.6663 - val_accuracy: 0.6980\n",
            "Epoch 60/200\n",
            "22/22 [==============================] - 0s 7ms/step - loss: 0.0132 - accuracy: 1.0000 - val_loss: 1.1915 - val_accuracy: 0.7181\n",
            "Epoch 61/200\n",
            "22/22 [==============================] - 0s 7ms/step - loss: 0.0202 - accuracy: 0.9884 - val_loss: 3.0974 - val_accuracy: 0.6779\n",
            "Epoch 62/200\n",
            "22/22 [==============================] - 0s 8ms/step - loss: 0.0154 - accuracy: 0.9971 - val_loss: 1.5287 - val_accuracy: 0.7718\n",
            "Epoch 63/200\n",
            "22/22 [==============================] - 0s 9ms/step - loss: 0.0799 - accuracy: 0.9827 - val_loss: 4.0576 - val_accuracy: 0.6376\n",
            "Epoch 64/200\n",
            "22/22 [==============================] - 0s 9ms/step - loss: 0.0626 - accuracy: 0.9798 - val_loss: 3.7579 - val_accuracy: 0.6577\n",
            "Epoch 65/200\n",
            "22/22 [==============================] - 0s 8ms/step - loss: 0.1771 - accuracy: 0.9422 - val_loss: 2.4290 - val_accuracy: 0.6846\n",
            "Epoch 66/200\n",
            "22/22 [==============================] - 0s 7ms/step - loss: 0.3261 - accuracy: 0.9075 - val_loss: 5.9786 - val_accuracy: 0.5101\n",
            "Epoch 67/200\n",
            "22/22 [==============================] - 0s 9ms/step - loss: 0.1981 - accuracy: 0.9306 - val_loss: 43.5637 - val_accuracy: 0.5101\n",
            "Epoch 68/200\n",
            "22/22 [==============================] - 0s 7ms/step - loss: 0.1087 - accuracy: 0.9538 - val_loss: 52.5350 - val_accuracy: 0.5101\n",
            "Epoch 69/200\n",
            "22/22 [==============================] - 0s 8ms/step - loss: 0.0826 - accuracy: 0.9682 - val_loss: 47.5298 - val_accuracy: 0.5101\n",
            "Epoch 70/200\n",
            "22/22 [==============================] - 0s 7ms/step - loss: 0.1269 - accuracy: 0.9595 - val_loss: 35.0914 - val_accuracy: 0.5101\n",
            "Epoch 71/200\n",
            "22/22 [==============================] - 0s 7ms/step - loss: 0.0405 - accuracy: 0.9855 - val_loss: 8.3777 - val_accuracy: 0.5168\n",
            "Epoch 72/200\n",
            "22/22 [==============================] - 0s 9ms/step - loss: 0.0253 - accuracy: 0.9971 - val_loss: 5.3800 - val_accuracy: 0.5369\n",
            "Epoch 73/200\n",
            "22/22 [==============================] - 0s 10ms/step - loss: 0.0127 - accuracy: 0.9971 - val_loss: 5.1532 - val_accuracy: 0.5705\n",
            "Epoch 74/200\n",
            "22/22 [==============================] - 0s 9ms/step - loss: 0.0233 - accuracy: 0.9942 - val_loss: 2.1282 - val_accuracy: 0.6644\n",
            "Epoch 75/200\n",
            "22/22 [==============================] - 0s 8ms/step - loss: 0.0274 - accuracy: 0.9913 - val_loss: 1.7403 - val_accuracy: 0.7181\n",
            "Epoch 76/200\n",
            "22/22 [==============================] - 0s 9ms/step - loss: 0.0160 - accuracy: 0.9942 - val_loss: 1.0982 - val_accuracy: 0.7450\n",
            "Epoch 77/200\n",
            "22/22 [==============================] - 0s 8ms/step - loss: 0.0204 - accuracy: 0.9942 - val_loss: 1.4209 - val_accuracy: 0.7450\n",
            "Epoch 78/200\n",
            "22/22 [==============================] - 0s 8ms/step - loss: 0.0089 - accuracy: 1.0000 - val_loss: 1.1570 - val_accuracy: 0.7651\n",
            "Epoch 79/200\n",
            "22/22 [==============================] - 0s 10ms/step - loss: 0.0090 - accuracy: 0.9971 - val_loss: 1.8557 - val_accuracy: 0.6913\n",
            "Epoch 80/200\n",
            "22/22 [==============================] - 0s 8ms/step - loss: 0.0360 - accuracy: 0.9827 - val_loss: 2.8019 - val_accuracy: 0.6644\n",
            "Epoch 81/200\n",
            "22/22 [==============================] - 0s 9ms/step - loss: 0.0175 - accuracy: 0.9971 - val_loss: 1.7750 - val_accuracy: 0.7047\n",
            "Epoch 82/200\n",
            "22/22 [==============================] - 0s 8ms/step - loss: 0.0262 - accuracy: 0.9971 - val_loss: 1.4152 - val_accuracy: 0.7315\n",
            "Epoch 83/200\n",
            "22/22 [==============================] - 0s 8ms/step - loss: 0.0182 - accuracy: 0.9971 - val_loss: 3.4148 - val_accuracy: 0.6510\n",
            "Epoch 84/200\n",
            "22/22 [==============================] - 0s 8ms/step - loss: 0.0532 - accuracy: 0.9827 - val_loss: 6.2086 - val_accuracy: 0.6040\n",
            "Epoch 85/200\n",
            "22/22 [==============================] - 0s 8ms/step - loss: 0.1098 - accuracy: 0.9653 - val_loss: 17.5189 - val_accuracy: 0.5638\n",
            "Epoch 86/200\n",
            "22/22 [==============================] - 0s 10ms/step - loss: 0.0821 - accuracy: 0.9711 - val_loss: 8.2456 - val_accuracy: 0.5101\n",
            "Epoch 87/200\n",
            "22/22 [==============================] - 0s 9ms/step - loss: 0.0646 - accuracy: 0.9740 - val_loss: 1.8943 - val_accuracy: 0.7181\n",
            "Epoch 88/200\n",
            "22/22 [==============================] - 0s 8ms/step - loss: 0.0257 - accuracy: 0.9913 - val_loss: 2.8301 - val_accuracy: 0.6779\n",
            "Epoch 89/200\n",
            "22/22 [==============================] - 0s 8ms/step - loss: 0.0073 - accuracy: 1.0000 - val_loss: 2.6157 - val_accuracy: 0.6577\n",
            "Epoch 90/200\n",
            "22/22 [==============================] - 0s 9ms/step - loss: 0.0047 - accuracy: 1.0000 - val_loss: 3.1162 - val_accuracy: 0.6376\n",
            "Epoch 91/200\n",
            "22/22 [==============================] - 0s 8ms/step - loss: 0.0045 - accuracy: 1.0000 - val_loss: 3.4968 - val_accuracy: 0.6309\n",
            "Epoch 92/200\n",
            "22/22 [==============================] - 0s 10ms/step - loss: 0.0040 - accuracy: 1.0000 - val_loss: 1.7229 - val_accuracy: 0.7248\n",
            "Epoch 93/200\n",
            "22/22 [==============================] - 0s 8ms/step - loss: 0.0028 - accuracy: 1.0000 - val_loss: 1.6205 - val_accuracy: 0.7315\n",
            "Epoch 94/200\n",
            "22/22 [==============================] - 0s 8ms/step - loss: 0.0024 - accuracy: 1.0000 - val_loss: 1.3366 - val_accuracy: 0.7584\n",
            "Epoch 95/200\n",
            "22/22 [==============================] - 0s 8ms/step - loss: 0.0013 - accuracy: 1.0000 - val_loss: 1.3226 - val_accuracy: 0.7651\n",
            "Epoch 96/200\n",
            "22/22 [==============================] - 0s 9ms/step - loss: 0.0018 - accuracy: 1.0000 - val_loss: 1.5305 - val_accuracy: 0.7584\n",
            "Epoch 97/200\n",
            "22/22 [==============================] - 0s 8ms/step - loss: 0.0016 - accuracy: 1.0000 - val_loss: 1.5306 - val_accuracy: 0.7517\n",
            "Epoch 98/200\n",
            "22/22 [==============================] - 0s 9ms/step - loss: 0.0024 - accuracy: 1.0000 - val_loss: 1.3313 - val_accuracy: 0.7718\n",
            "Epoch 99/200\n",
            "22/22 [==============================] - 0s 9ms/step - loss: 9.1487e-04 - accuracy: 1.0000 - val_loss: 1.7245 - val_accuracy: 0.7315\n",
            "Epoch 100/200\n",
            "22/22 [==============================] - 0s 8ms/step - loss: 8.2118e-04 - accuracy: 1.0000 - val_loss: 1.5085 - val_accuracy: 0.7584\n",
            "Epoch 101/200\n",
            "22/22 [==============================] - 0s 10ms/step - loss: 0.0071 - accuracy: 0.9971 - val_loss: 5.3864 - val_accuracy: 0.6174\n",
            "Epoch 102/200\n",
            "22/22 [==============================] - 0s 9ms/step - loss: 0.0370 - accuracy: 0.9884 - val_loss: 11.7594 - val_accuracy: 0.5302\n",
            "Epoch 103/200\n",
            "22/22 [==============================] - 0s 8ms/step - loss: 0.0447 - accuracy: 0.9855 - val_loss: 3.5743 - val_accuracy: 0.7114\n",
            "Epoch 104/200\n",
            "22/22 [==============================] - 0s 8ms/step - loss: 0.0494 - accuracy: 0.9884 - val_loss: 8.8885 - val_accuracy: 0.5973\n",
            "Epoch 105/200\n",
            "22/22 [==============================] - 0s 8ms/step - loss: 0.0514 - accuracy: 0.9827 - val_loss: 11.4285 - val_accuracy: 0.5638\n",
            "Epoch 106/200\n",
            "22/22 [==============================] - 0s 9ms/step - loss: 0.0452 - accuracy: 0.9884 - val_loss: 6.8508 - val_accuracy: 0.6174\n",
            "Epoch 107/200\n",
            "22/22 [==============================] - 0s 8ms/step - loss: 0.0327 - accuracy: 0.9884 - val_loss: 4.9324 - val_accuracy: 0.6980\n",
            "Epoch 108/200\n",
            "22/22 [==============================] - 0s 9ms/step - loss: 0.0412 - accuracy: 0.9855 - val_loss: 5.3705 - val_accuracy: 0.6376\n",
            "Epoch 109/200\n",
            "22/22 [==============================] - 0s 10ms/step - loss: 0.0191 - accuracy: 0.9971 - val_loss: 2.3162 - val_accuracy: 0.7584\n",
            "Epoch 110/200\n",
            "22/22 [==============================] - 0s 9ms/step - loss: 0.0061 - accuracy: 1.0000 - val_loss: 2.3768 - val_accuracy: 0.6913\n",
            "Epoch 111/200\n",
            "22/22 [==============================] - 0s 9ms/step - loss: 0.0072 - accuracy: 0.9971 - val_loss: 10.6317 - val_accuracy: 0.5638\n",
            "Epoch 112/200\n",
            "22/22 [==============================] - 0s 8ms/step - loss: 0.0024 - accuracy: 1.0000 - val_loss: 6.3113 - val_accuracy: 0.6443\n",
            "Epoch 113/200\n",
            "22/22 [==============================] - 0s 8ms/step - loss: 0.0040 - accuracy: 1.0000 - val_loss: 2.4874 - val_accuracy: 0.7718\n",
            "Epoch 114/200\n",
            "22/22 [==============================] - 0s 10ms/step - loss: 0.0013 - accuracy: 1.0000 - val_loss: 1.9989 - val_accuracy: 0.7383\n",
            "Epoch 115/200\n",
            "22/22 [==============================] - 0s 8ms/step - loss: 0.0019 - accuracy: 1.0000 - val_loss: 1.8045 - val_accuracy: 0.7181\n",
            "Epoch 116/200\n",
            "22/22 [==============================] - 0s 9ms/step - loss: 0.0013 - accuracy: 1.0000 - val_loss: 1.8087 - val_accuracy: 0.7181\n",
            "Epoch 117/200\n",
            "22/22 [==============================] - 0s 8ms/step - loss: 0.0012 - accuracy: 1.0000 - val_loss: 1.6360 - val_accuracy: 0.7047\n",
            "Epoch 118/200\n",
            "22/22 [==============================] - 0s 8ms/step - loss: 0.0038 - accuracy: 0.9971 - val_loss: 1.6750 - val_accuracy: 0.7383\n",
            "Epoch 119/200\n",
            "22/22 [==============================] - 0s 9ms/step - loss: 0.0029 - accuracy: 0.9971 - val_loss: 5.1563 - val_accuracy: 0.6443\n",
            "Epoch 120/200\n",
            "22/22 [==============================] - 0s 8ms/step - loss: 0.0229 - accuracy: 0.9971 - val_loss: 2.1645 - val_accuracy: 0.7383\n",
            "Epoch 121/200\n",
            "22/22 [==============================] - 0s 10ms/step - loss: 0.0129 - accuracy: 0.9971 - val_loss: 1.8685 - val_accuracy: 0.7315\n",
            "Epoch 122/200\n",
            "22/22 [==============================] - 0s 7ms/step - loss: 0.0099 - accuracy: 0.9971 - val_loss: 1.4656 - val_accuracy: 0.7450\n",
            "Epoch 123/200\n",
            "22/22 [==============================] - 0s 8ms/step - loss: 0.0027 - accuracy: 1.0000 - val_loss: 1.2904 - val_accuracy: 0.7785\n",
            "Epoch 124/200\n",
            "22/22 [==============================] - 0s 8ms/step - loss: 4.9761e-04 - accuracy: 1.0000 - val_loss: 1.4789 - val_accuracy: 0.7248\n",
            "Epoch 125/200\n",
            "22/22 [==============================] - 0s 9ms/step - loss: 0.0015 - accuracy: 1.0000 - val_loss: 1.2951 - val_accuracy: 0.7852\n",
            "Epoch 126/200\n",
            "22/22 [==============================] - 0s 8ms/step - loss: 6.6777e-04 - accuracy: 1.0000 - val_loss: 1.3207 - val_accuracy: 0.7852\n",
            "Epoch 127/200\n",
            "22/22 [==============================] - 0s 7ms/step - loss: 0.0159 - accuracy: 0.9913 - val_loss: 2.0133 - val_accuracy: 0.6980\n",
            "Epoch 128/200\n",
            "22/22 [==============================] - 0s 9ms/step - loss: 0.0258 - accuracy: 0.9942 - val_loss: 1.4372 - val_accuracy: 0.7383\n",
            "Epoch 129/200\n",
            "22/22 [==============================] - 0s 8ms/step - loss: 0.0789 - accuracy: 0.9798 - val_loss: 5.0218 - val_accuracy: 0.6846\n",
            "Epoch 130/200\n",
            "22/22 [==============================] - 0s 8ms/step - loss: 0.1661 - accuracy: 0.9595 - val_loss: 9.5688 - val_accuracy: 0.6779\n",
            "Epoch 131/200\n",
            "22/22 [==============================] - 0s 8ms/step - loss: 0.0852 - accuracy: 0.9740 - val_loss: 2.9199 - val_accuracy: 0.7114\n",
            "Epoch 132/200\n",
            "22/22 [==============================] - 0s 9ms/step - loss: 0.0782 - accuracy: 0.9653 - val_loss: 2.7591 - val_accuracy: 0.7114\n",
            "Epoch 133/200\n",
            "22/22 [==============================] - 0s 8ms/step - loss: 0.0256 - accuracy: 0.9913 - val_loss: 3.3731 - val_accuracy: 0.7114\n",
            "Epoch 134/200\n",
            "22/22 [==============================] - 0s 10ms/step - loss: 0.0962 - accuracy: 0.9711 - val_loss: 4.4444 - val_accuracy: 0.6577\n",
            "Epoch 135/200\n",
            "22/22 [==============================] - 0s 9ms/step - loss: 0.0708 - accuracy: 0.9798 - val_loss: 4.1486 - val_accuracy: 0.6913\n",
            "Epoch 136/200\n",
            "22/22 [==============================] - 0s 8ms/step - loss: 0.0420 - accuracy: 0.9855 - val_loss: 3.8522 - val_accuracy: 0.6242\n",
            "Epoch 137/200\n",
            "22/22 [==============================] - 0s 8ms/step - loss: 0.0108 - accuracy: 0.9971 - val_loss: 3.5741 - val_accuracy: 0.6779\n",
            "Epoch 138/200\n",
            "22/22 [==============================] - 0s 7ms/step - loss: 0.0063 - accuracy: 1.0000 - val_loss: 2.5864 - val_accuracy: 0.7047\n",
            "Epoch 139/200\n",
            "22/22 [==============================] - 0s 8ms/step - loss: 0.0141 - accuracy: 0.9942 - val_loss: 3.2907 - val_accuracy: 0.6846\n",
            "Epoch 140/200\n",
            "22/22 [==============================] - 0s 8ms/step - loss: 0.0053 - accuracy: 1.0000 - val_loss: 3.7012 - val_accuracy: 0.6779\n",
            "Epoch 141/200\n",
            "22/22 [==============================] - 0s 9ms/step - loss: 0.0084 - accuracy: 0.9971 - val_loss: 1.4115 - val_accuracy: 0.7651\n",
            "Epoch 142/200\n",
            "22/22 [==============================] - 0s 7ms/step - loss: 0.0025 - accuracy: 1.0000 - val_loss: 1.1934 - val_accuracy: 0.7450\n",
            "Epoch 143/200\n",
            "22/22 [==============================] - 0s 8ms/step - loss: 0.0034 - accuracy: 1.0000 - val_loss: 1.1445 - val_accuracy: 0.7584\n",
            "Epoch 144/200\n",
            "22/22 [==============================] - 0s 8ms/step - loss: 0.0028 - accuracy: 1.0000 - val_loss: 1.2017 - val_accuracy: 0.7718\n",
            "Epoch 145/200\n",
            "22/22 [==============================] - 0s 8ms/step - loss: 0.0016 - accuracy: 1.0000 - val_loss: 1.2118 - val_accuracy: 0.7651\n",
            "Epoch 146/200\n",
            "22/22 [==============================] - 0s 8ms/step - loss: 0.0014 - accuracy: 1.0000 - val_loss: 1.3949 - val_accuracy: 0.7517\n",
            "Epoch 147/200\n",
            "22/22 [==============================] - 0s 9ms/step - loss: 8.1152e-04 - accuracy: 1.0000 - val_loss: 1.6338 - val_accuracy: 0.7517\n",
            "Epoch 148/200\n",
            "22/22 [==============================] - 0s 9ms/step - loss: 0.0012 - accuracy: 1.0000 - val_loss: 1.5623 - val_accuracy: 0.7517\n",
            "Epoch 149/200\n",
            "22/22 [==============================] - 0s 8ms/step - loss: 9.7319e-04 - accuracy: 1.0000 - val_loss: 1.5991 - val_accuracy: 0.7584\n",
            "Epoch 150/200\n",
            "22/22 [==============================] - 0s 8ms/step - loss: 4.9782e-04 - accuracy: 1.0000 - val_loss: 1.6183 - val_accuracy: 0.7651\n",
            "Epoch 151/200\n",
            "22/22 [==============================] - 0s 9ms/step - loss: 6.3434e-04 - accuracy: 1.0000 - val_loss: 1.5420 - val_accuracy: 0.7651\n",
            "Epoch 152/200\n",
            "22/22 [==============================] - 0s 8ms/step - loss: 3.0350e-04 - accuracy: 1.0000 - val_loss: 1.6398 - val_accuracy: 0.7450\n",
            "Epoch 153/200\n",
            "22/22 [==============================] - 0s 10ms/step - loss: 6.0060e-04 - accuracy: 1.0000 - val_loss: 1.6451 - val_accuracy: 0.7450\n",
            "Epoch 154/200\n",
            "22/22 [==============================] - 0s 8ms/step - loss: 3.3806e-04 - accuracy: 1.0000 - val_loss: 1.6049 - val_accuracy: 0.7517\n",
            "Epoch 155/200\n",
            "22/22 [==============================] - 0s 8ms/step - loss: 0.0019 - accuracy: 1.0000 - val_loss: 2.0482 - val_accuracy: 0.7450\n",
            "Epoch 156/200\n",
            "22/22 [==============================] - 0s 8ms/step - loss: 9.4646e-04 - accuracy: 1.0000 - val_loss: 2.4663 - val_accuracy: 0.7114\n",
            "Epoch 157/200\n",
            "22/22 [==============================] - 0s 8ms/step - loss: 7.6269e-04 - accuracy: 1.0000 - val_loss: 2.0676 - val_accuracy: 0.7450\n",
            "Epoch 158/200\n",
            "22/22 [==============================] - 0s 8ms/step - loss: 3.6215e-04 - accuracy: 1.0000 - val_loss: 1.8178 - val_accuracy: 0.7517\n",
            "Epoch 159/200\n",
            "22/22 [==============================] - 0s 10ms/step - loss: 2.5288e-04 - accuracy: 1.0000 - val_loss: 1.6558 - val_accuracy: 0.7315\n",
            "Epoch 160/200\n",
            "22/22 [==============================] - 0s 8ms/step - loss: 1.5862e-04 - accuracy: 1.0000 - val_loss: 1.5933 - val_accuracy: 0.7584\n",
            "Epoch 161/200\n",
            "22/22 [==============================] - 0s 8ms/step - loss: 3.9608e-04 - accuracy: 1.0000 - val_loss: 1.5785 - val_accuracy: 0.7651\n",
            "Epoch 162/200\n",
            "22/22 [==============================] - 0s 8ms/step - loss: 7.0513e-04 - accuracy: 1.0000 - val_loss: 1.7327 - val_accuracy: 0.7450\n",
            "Epoch 163/200\n",
            "22/22 [==============================] - 0s 8ms/step - loss: 2.0811e-04 - accuracy: 1.0000 - val_loss: 1.7308 - val_accuracy: 0.7450\n",
            "Epoch 164/200\n",
            "22/22 [==============================] - 0s 9ms/step - loss: 4.3675e-04 - accuracy: 1.0000 - val_loss: 1.4189 - val_accuracy: 0.7651\n",
            "Epoch 165/200\n",
            "22/22 [==============================] - 0s 10ms/step - loss: 3.7828e-04 - accuracy: 1.0000 - val_loss: 1.4565 - val_accuracy: 0.7651\n",
            "Epoch 166/200\n",
            "22/22 [==============================] - 0s 9ms/step - loss: 5.7604e-04 - accuracy: 1.0000 - val_loss: 1.3868 - val_accuracy: 0.7785\n",
            "Epoch 167/200\n",
            "22/22 [==============================] - 0s 9ms/step - loss: 2.0257e-04 - accuracy: 1.0000 - val_loss: 1.3368 - val_accuracy: 0.7785\n",
            "Epoch 168/200\n",
            "22/22 [==============================] - 0s 10ms/step - loss: 2.1634e-04 - accuracy: 1.0000 - val_loss: 1.3689 - val_accuracy: 0.7785\n",
            "Epoch 169/200\n",
            "22/22 [==============================] - 0s 8ms/step - loss: 0.0020 - accuracy: 1.0000 - val_loss: 1.1820 - val_accuracy: 0.7718\n",
            "Epoch 170/200\n",
            "22/22 [==============================] - 0s 8ms/step - loss: 0.0130 - accuracy: 0.9971 - val_loss: 1.0291 - val_accuracy: 0.7517\n",
            "Epoch 171/200\n",
            "22/22 [==============================] - 0s 8ms/step - loss: 0.0030 - accuracy: 1.0000 - val_loss: 1.1641 - val_accuracy: 0.7584\n",
            "Epoch 172/200\n",
            "22/22 [==============================] - 0s 10ms/step - loss: 9.6580e-04 - accuracy: 1.0000 - val_loss: 1.3523 - val_accuracy: 0.7852\n",
            "Epoch 173/200\n",
            "22/22 [==============================] - 0s 8ms/step - loss: 9.8723e-04 - accuracy: 1.0000 - val_loss: 1.4778 - val_accuracy: 0.7517\n",
            "Epoch 174/200\n",
            "22/22 [==============================] - 0s 8ms/step - loss: 7.7066e-04 - accuracy: 1.0000 - val_loss: 1.5578 - val_accuracy: 0.7383\n",
            "Epoch 175/200\n",
            "22/22 [==============================] - 0s 8ms/step - loss: 1.5726e-04 - accuracy: 1.0000 - val_loss: 1.6307 - val_accuracy: 0.7383\n",
            "Epoch 176/200\n",
            "22/22 [==============================] - 0s 10ms/step - loss: 3.9146e-04 - accuracy: 1.0000 - val_loss: 1.6991 - val_accuracy: 0.7450\n",
            "Epoch 177/200\n",
            "22/22 [==============================] - 0s 9ms/step - loss: 9.8150e-04 - accuracy: 1.0000 - val_loss: 1.7666 - val_accuracy: 0.7517\n",
            "Epoch 178/200\n",
            "22/22 [==============================] - 0s 8ms/step - loss: 4.1966e-04 - accuracy: 1.0000 - val_loss: 1.5607 - val_accuracy: 0.7584\n",
            "Epoch 179/200\n",
            "22/22 [==============================] - 0s 8ms/step - loss: 0.0676 - accuracy: 0.9884 - val_loss: 2.6161 - val_accuracy: 0.7181\n",
            "Epoch 180/200\n",
            "22/22 [==============================] - 0s 10ms/step - loss: 0.1478 - accuracy: 0.9653 - val_loss: 7.6076 - val_accuracy: 0.6510\n",
            "Epoch 181/200\n",
            "22/22 [==============================] - 0s 10ms/step - loss: 0.1847 - accuracy: 0.9393 - val_loss: 1.5902 - val_accuracy: 0.6846\n",
            "Epoch 182/200\n",
            "22/22 [==============================] - 0s 8ms/step - loss: 0.2020 - accuracy: 0.9335 - val_loss: 13.2720 - val_accuracy: 0.5101\n",
            "Epoch 183/200\n",
            "22/22 [==============================] - 0s 8ms/step - loss: 0.0934 - accuracy: 0.9624 - val_loss: 19.8067 - val_accuracy: 0.5235\n",
            "Epoch 184/200\n",
            "22/22 [==============================] - 0s 9ms/step - loss: 0.0353 - accuracy: 0.9913 - val_loss: 6.2261 - val_accuracy: 0.6510\n",
            "Epoch 185/200\n",
            "22/22 [==============================] - 0s 8ms/step - loss: 0.0168 - accuracy: 0.9971 - val_loss: 4.6534 - val_accuracy: 0.6779\n",
            "Epoch 186/200\n",
            "22/22 [==============================] - 0s 9ms/step - loss: 0.0315 - accuracy: 0.9827 - val_loss: 5.0539 - val_accuracy: 0.6443\n",
            "Epoch 187/200\n",
            "22/22 [==============================] - 0s 8ms/step - loss: 0.0105 - accuracy: 1.0000 - val_loss: 4.1875 - val_accuracy: 0.6846\n",
            "Epoch 188/200\n",
            "22/22 [==============================] - 0s 8ms/step - loss: 0.0055 - accuracy: 0.9971 - val_loss: 3.8236 - val_accuracy: 0.6846\n",
            "Epoch 189/200\n",
            "22/22 [==============================] - 0s 9ms/step - loss: 0.0039 - accuracy: 1.0000 - val_loss: 2.5949 - val_accuracy: 0.6913\n",
            "Epoch 190/200\n",
            "22/22 [==============================] - 0s 8ms/step - loss: 0.0019 - accuracy: 1.0000 - val_loss: 2.2601 - val_accuracy: 0.6913\n",
            "Epoch 191/200\n",
            "22/22 [==============================] - 0s 8ms/step - loss: 0.0028 - accuracy: 1.0000 - val_loss: 1.4788 - val_accuracy: 0.7248\n",
            "Epoch 192/200\n",
            "22/22 [==============================] - 0s 8ms/step - loss: 0.0014 - accuracy: 1.0000 - val_loss: 1.3962 - val_accuracy: 0.7248\n",
            "Epoch 193/200\n",
            "22/22 [==============================] - 0s 10ms/step - loss: 0.0037 - accuracy: 1.0000 - val_loss: 1.2884 - val_accuracy: 0.7248\n",
            "Epoch 194/200\n",
            "22/22 [==============================] - 0s 10ms/step - loss: 0.0022 - accuracy: 1.0000 - val_loss: 1.1851 - val_accuracy: 0.7315\n",
            "Epoch 195/200\n",
            "22/22 [==============================] - 0s 10ms/step - loss: 0.0013 - accuracy: 1.0000 - val_loss: 1.4184 - val_accuracy: 0.7248\n",
            "Epoch 196/200\n",
            "22/22 [==============================] - 0s 10ms/step - loss: 0.0015 - accuracy: 1.0000 - val_loss: 1.4578 - val_accuracy: 0.7651\n",
            "Epoch 197/200\n",
            "22/22 [==============================] - 0s 10ms/step - loss: 7.9334e-04 - accuracy: 1.0000 - val_loss: 1.4325 - val_accuracy: 0.7450\n",
            "Epoch 198/200\n",
            "22/22 [==============================] - 0s 11ms/step - loss: 0.0019 - accuracy: 1.0000 - val_loss: 1.5667 - val_accuracy: 0.7383\n",
            "Epoch 199/200\n",
            "22/22 [==============================] - 0s 8ms/step - loss: 0.0013 - accuracy: 1.0000 - val_loss: 1.5794 - val_accuracy: 0.7584\n",
            "Epoch 200/200\n",
            "22/22 [==============================] - 0s 9ms/step - loss: 4.7021e-04 - accuracy: 1.0000 - val_loss: 1.4477 - val_accuracy: 0.7718\n"
          ],
          "name": "stdout"
        }
      ]
    },
    {
      "cell_type": "code",
      "metadata": {
        "colab": {
          "base_uri": "https://localhost:8080/",
          "height": 295
        },
        "id": "SKqzztQDpF01",
        "outputId": "97ecb077-6ec5-462b-af6c-7a76921a5efe"
      },
      "source": [
        "import os\n",
        "import seaborn as sns\n",
        "#plot the training and validation accuracy and loss at each epoch\n",
        "loss = history.history['loss']\n",
        "val_loss = history.history['val_loss']\n",
        "epochs = range(1, len(loss) + 1)\n",
        "plt.plot(epochs, loss, 'y', label='Training loss')\n",
        "plt.plot(epochs, val_loss, 'r', label='Validation loss')\n",
        "plt.title('Training and validation loss')\n",
        "plt.xlabel('Epochs')\n",
        "plt.ylabel('Loss')\n",
        "plt.legend()\n",
        "plt.show()"
      ],
      "execution_count": 220,
      "outputs": [
        {
          "output_type": "display_data",
          "data": {
            "image/png": "[encoded data removed]",
            "text/plain": [
              "<Figure size 432x288 with 1 Axes>"
            ]
          },
          "metadata": {
            "needs_background": "light"
          }
        }
      ]
    },
    {
      "cell_type": "code",
      "metadata": {
        "colab": {
          "base_uri": "https://localhost:8080/",
          "height": 295
        },
        "id": "9mpZlD41pF4A",
        "outputId": "4b2f6eef-bd1a-4bd8-841b-a19ddf1846d6"
      },
      "source": [
        "acc = history.history['accuracy']\n",
        "val_acc = history.history['val_accuracy']\n",
        "plt.plot(epochs, acc, 'y', label='Training acc')\n",
        "plt.plot(epochs, val_acc, 'r', label='Validation acc')\n",
        "plt.title('Training and validation accuracy')\n",
        "plt.xlabel('Epochs')\n",
        "plt.ylabel('Accuracy')\n",
        "plt.legend()\n",
        "plt.show()"
      ],
      "execution_count": 221,
      "outputs": [
        {
          "output_type": "display_data",
          "data": {
            "image/png": "[encoded data removed]",
            "text/plain": [
              "<Figure size 432x288 with 1 Axes>"
            ]
          },
          "metadata": {
            "needs_background": "light"
          }
        }
      ]
    },
    {
      "cell_type": "code",
      "metadata": {
        "colab": {
          "base_uri": "https://localhost:8080/",
          "height": 332
        },
        "id": "D-PzHWUjpF7H",
        "outputId": "e4c5eb9f-d7a9-4f68-edfe-ac7f2861910a"
      },
      "source": [
        "prediction_NN = model.predict(xTest11)\n",
        "prediction_NN = np.argmax(prediction_NN, axis=-1)\n",
        "#Print overall accuracy\n",
        "from sklearn import metrics\n",
        "print (\"Accuracy = \", metrics.accuracy_score(yTest1, prediction_NN))\n",
        "#Confusion Matrix - verify accuracy of each class\n",
        "from sklearn.metrics import confusion_matrix\n",
        "cm = confusion_matrix(yTest1, prediction_NN)\n",
        "print(cm)\n",
        "sns.heatmap(cm, annot=True)"
      ],
      "execution_count": 222,
      "outputs": [
        {
          "output_type": "stream",
          "text": [
            "Accuracy =  0.7718120805369127\n",
            "[[47 26]\n",
            " [ 8 68]]\n"
          ],
          "name": "stdout"
        },
        {
          "output_type": "execute_result",
          "data": {
            "text/plain": [
              "<matplotlib.axes._subplots.AxesSubplot at 0x7f87ca09ee10>"
            ]
          },
          "metadata": {},
          "execution_count": 222
        },
        {
          "output_type": "display_data",
          "data": {
            "image/png": "[encoded data removed]",
            "text/plain": [
              "<Figure size 432x288 with 2 Axes>"
            ]
          },
          "metadata": {
            "needs_background": "light"
          }
        }
      ]
    },
    {
      "cell_type": "code",
      "metadata": {
        "colab": {
          "base_uri": "https://localhost:8080/"
        },
        "id": "XprhGXdtMZi1",
        "outputId": "c9f0f47a-723d-400a-b4f9-3645fbac1d8b"
      },
      "source": [
        "# CNN Model\n",
        "\n",
        "new_model = Sequential()\n",
        "new_model.add(Conv1D(32, 3, activation='relu', input_shape=input_shape[0:]))\n",
        "new_model.add(BatchNormalization())\n",
        "new_model.add(LeakyReLU(alpha=0.1))\n",
        "new_model.add(Conv1D(64, 3, activation='relu', name=\"my_intermediate_layer\"))\n",
        "new_model.add(MaxPooling1D(3))\n",
        "new_model.add(BatchNormalization())\n",
        "new_model.add(LeakyReLU(alpha=0.1))\n",
        "new_model.add(Conv1D(128, 3, activation='relu'))\n",
        "new_model.add(BatchNormalization())\n",
        "# model.add(LeakyReLU(alpha=0.1))\n",
        "# model.add(Conv1D(256, 3, activation='relu'))\n",
        "new_model.add(GlobalAveragePooling1D())\n",
        "new_model.add(Dropout(0.5))\n",
        "new_model.add(Dense(100, name=\"dense\"))\n",
        "new_model.add(Dense(2, activation='softmax', name=\"dense1\"))\n",
        "new_model.compile(loss='categorical_crossentropy',\n",
        "                    optimizer='adam',\n",
        "                    metrics=['accuracy'])\n",
        "new_model.summary()"
      ],
      "execution_count": 209,
      "outputs": [
        {
          "output_type": "stream",
          "text": [
            "Model: \"sequential_10\"\n",
            "_________________________________________________________________\n",
            "Layer (type)                 Output Shape              Param #   \n",
            "=================================================================\n",
            "conv1d_23 (Conv1D)           (None, 492, 32)           128       \n",
            "_________________________________________________________________\n",
            "batch_normalization_30 (Batc (None, 492, 32)           128       \n",
            "_________________________________________________________________\n",
            "leaky_re_lu_23 (LeakyReLU)   (None, 492, 32)           0         \n",
            "_________________________________________________________________\n",
            "my_intermediate_layer (Conv1 (None, 490, 64)           6208      \n",
            "_________________________________________________________________\n",
            "max_pooling1d_10 (MaxPooling (None, 163, 64)           0         \n",
            "_________________________________________________________________\n",
            "batch_normalization_31 (Batc (None, 163, 64)           256       \n",
            "_________________________________________________________________\n",
            "leaky_re_lu_24 (LeakyReLU)   (None, 163, 64)           0         \n",
            "_________________________________________________________________\n",
            "conv1d_24 (Conv1D)           (None, 161, 128)          24704     \n",
            "_________________________________________________________________\n",
            "batch_normalization_32 (Batc (None, 161, 128)          512       \n",
            "_________________________________________________________________\n",
            "global_average_pooling1d_10  (None, 128)               0         \n",
            "_________________________________________________________________\n",
            "dropout_10 (Dropout)         (None, 128)               0         \n",
            "_________________________________________________________________\n",
            "dense (Dense)                (None, 100)               12900     \n",
            "_________________________________________________________________\n",
            "dense1 (Dense)               (None, 2)                 202       \n",
            "=================================================================\n",
            "Total params: 45,038\n",
            "Trainable params: 44,590\n",
            "Non-trainable params: 448\n",
            "_________________________________________________________________\n"
          ],
          "name": "stdout"
        }
      ]
    },
    {
      "cell_type": "code",
      "metadata": {
        "id": "7cKJFuSMNb3s",
        "outputId": "a3d6d96f-3c3c-456d-e4bd-e46a42982818",
        "colab": {
          "base_uri": "https://localhost:8080/"
        }
      },
      "source": [
        "from keras.callbacks import EarlyStopping\n",
        "#set early stopping monitor so the model stops training when it won't improve anymore\n",
        "early_stopping_monitor = EarlyStopping(patience=500)\n",
        "\n",
        "# train model\n",
        "history=new_model.fit(xTrain11, yTrain11, validation_data = (xTest11, yTest11), epochs=200, batch_size=22)\n"
      ],
      "execution_count": 210,
      "outputs": [
        {
          "output_type": "stream",
          "text": [
            "Epoch 1/200\n",
            "16/16 [==============================] - 1s 19ms/step - loss: 0.6271 - accuracy: 0.6387 - val_loss: 0.6959 - val_accuracy: 0.4899\n",
            "Epoch 2/200\n",
            "16/16 [==============================] - 0s 8ms/step - loss: 0.5840 - accuracy: 0.6994 - val_loss: 0.7177 - val_accuracy: 0.4899\n",
            "Epoch 3/200\n",
            "16/16 [==============================] - 0s 8ms/step - loss: 0.5637 - accuracy: 0.7197 - val_loss: 0.7595 - val_accuracy: 0.4899\n",
            "Epoch 4/200\n",
            "16/16 [==============================] - 0s 8ms/step - loss: 0.5262 - accuracy: 0.7370 - val_loss: 0.7717 - val_accuracy: 0.4899\n",
            "Epoch 5/200\n",
            "16/16 [==============================] - 0s 7ms/step - loss: 0.5293 - accuracy: 0.7457 - val_loss: 0.8409 - val_accuracy: 0.4899\n",
            "Epoch 6/200\n",
            "16/16 [==============================] - 0s 7ms/step - loss: 0.5337 - accuracy: 0.7110 - val_loss: 0.7578 - val_accuracy: 0.4899\n",
            "Epoch 7/200\n",
            "16/16 [==============================] - 0s 7ms/step - loss: 0.5088 - accuracy: 0.7399 - val_loss: 0.8178 - val_accuracy: 0.4899\n",
            "Epoch 8/200\n",
            "16/16 [==============================] - 0s 7ms/step - loss: 0.5237 - accuracy: 0.7110 - val_loss: 0.8817 - val_accuracy: 0.4899\n",
            "Epoch 9/200\n",
            "16/16 [==============================] - 0s 8ms/step - loss: 0.5182 - accuracy: 0.7543 - val_loss: 0.8409 - val_accuracy: 0.4899\n",
            "Epoch 10/200\n",
            "16/16 [==============================] - 0s 7ms/step - loss: 0.5218 - accuracy: 0.7428 - val_loss: 0.8298 - val_accuracy: 0.4899\n",
            "Epoch 11/200\n",
            "16/16 [==============================] - 0s 7ms/step - loss: 0.4768 - accuracy: 0.7832 - val_loss: 0.8604 - val_accuracy: 0.4899\n",
            "Epoch 12/200\n",
            "16/16 [==============================] - 0s 8ms/step - loss: 0.5030 - accuracy: 0.7514 - val_loss: 1.0061 - val_accuracy: 0.4899\n",
            "Epoch 13/200\n",
            "16/16 [==============================] - 0s 7ms/step - loss: 0.4780 - accuracy: 0.7514 - val_loss: 0.9431 - val_accuracy: 0.4899\n",
            "Epoch 14/200\n",
            "16/16 [==============================] - 0s 7ms/step - loss: 0.4372 - accuracy: 0.7861 - val_loss: 0.9490 - val_accuracy: 0.4899\n",
            "Epoch 15/200\n",
            "16/16 [==============================] - 0s 7ms/step - loss: 0.4142 - accuracy: 0.8006 - val_loss: 1.1145 - val_accuracy: 0.4899\n",
            "Epoch 16/200\n",
            "16/16 [==============================] - 0s 7ms/step - loss: 0.3834 - accuracy: 0.8237 - val_loss: 0.9278 - val_accuracy: 0.4899\n",
            "Epoch 17/200\n",
            "16/16 [==============================] - 0s 7ms/step - loss: 0.3880 - accuracy: 0.8179 - val_loss: 1.3118 - val_accuracy: 0.4899\n",
            "Epoch 18/200\n",
            "16/16 [==============================] - 0s 7ms/step - loss: 0.4188 - accuracy: 0.8150 - val_loss: 1.2189 - val_accuracy: 0.4899\n",
            "Epoch 19/200\n",
            "16/16 [==============================] - 0s 7ms/step - loss: 0.3819 - accuracy: 0.8382 - val_loss: 1.1215 - val_accuracy: 0.4899\n",
            "Epoch 20/200\n",
            "16/16 [==============================] - 0s 7ms/step - loss: 0.3506 - accuracy: 0.8642 - val_loss: 1.2465 - val_accuracy: 0.4899\n",
            "Epoch 21/200\n",
            "16/16 [==============================] - 0s 7ms/step - loss: 0.4060 - accuracy: 0.8179 - val_loss: 1.3698 - val_accuracy: 0.4899\n",
            "Epoch 22/200\n",
            "16/16 [==============================] - 0s 7ms/step - loss: 0.4181 - accuracy: 0.8035 - val_loss: 1.8716 - val_accuracy: 0.4899\n",
            "Epoch 23/200\n",
            "16/16 [==============================] - 0s 7ms/step - loss: 0.3300 - accuracy: 0.8699 - val_loss: 2.0088 - val_accuracy: 0.4899\n",
            "Epoch 24/200\n",
            "16/16 [==============================] - 0s 7ms/step - loss: 0.2997 - accuracy: 0.8728 - val_loss: 1.6753 - val_accuracy: 0.4899\n",
            "Epoch 25/200\n",
            "16/16 [==============================] - 0s 7ms/step - loss: 0.2786 - accuracy: 0.8728 - val_loss: 1.8697 - val_accuracy: 0.4899\n",
            "Epoch 26/200\n",
            "16/16 [==============================] - 0s 7ms/step - loss: 0.2209 - accuracy: 0.9220 - val_loss: 1.9037 - val_accuracy: 0.4899\n",
            "Epoch 27/200\n",
            "16/16 [==============================] - 0s 7ms/step - loss: 0.2256 - accuracy: 0.9046 - val_loss: 2.9590 - val_accuracy: 0.4899\n",
            "Epoch 28/200\n",
            "16/16 [==============================] - 0s 7ms/step - loss: 0.2806 - accuracy: 0.8902 - val_loss: 3.3427 - val_accuracy: 0.4899\n",
            "Epoch 29/200\n",
            "16/16 [==============================] - 0s 7ms/step - loss: 0.2505 - accuracy: 0.9046 - val_loss: 2.9195 - val_accuracy: 0.4899\n",
            "Epoch 30/200\n",
            "16/16 [==============================] - 0s 7ms/step - loss: 0.2380 - accuracy: 0.8988 - val_loss: 1.7095 - val_accuracy: 0.5369\n",
            "Epoch 31/200\n",
            "16/16 [==============================] - 0s 7ms/step - loss: 0.2508 - accuracy: 0.8931 - val_loss: 1.7469 - val_accuracy: 0.4966\n",
            "Epoch 32/200\n",
            "16/16 [==============================] - 0s 7ms/step - loss: 0.1756 - accuracy: 0.9335 - val_loss: 2.7227 - val_accuracy: 0.4899\n",
            "Epoch 33/200\n",
            "16/16 [==============================] - 0s 7ms/step - loss: 0.1706 - accuracy: 0.9306 - val_loss: 2.2578 - val_accuracy: 0.5101\n",
            "Epoch 34/200\n",
            "16/16 [==============================] - 0s 7ms/step - loss: 0.1563 - accuracy: 0.9422 - val_loss: 1.2863 - val_accuracy: 0.5638\n",
            "Epoch 35/200\n",
            "16/16 [==============================] - 0s 8ms/step - loss: 0.1645 - accuracy: 0.9451 - val_loss: 2.0848 - val_accuracy: 0.4966\n",
            "Epoch 36/200\n",
            "16/16 [==============================] - 0s 7ms/step - loss: 0.1989 - accuracy: 0.9104 - val_loss: 1.1524 - val_accuracy: 0.5772\n",
            "Epoch 37/200\n",
            "16/16 [==============================] - 0s 8ms/step - loss: 0.2264 - accuracy: 0.9104 - val_loss: 2.8651 - val_accuracy: 0.5235\n",
            "Epoch 38/200\n",
            "16/16 [==============================] - 0s 7ms/step - loss: 0.2049 - accuracy: 0.9162 - val_loss: 2.6441 - val_accuracy: 0.5235\n",
            "Epoch 39/200\n",
            "16/16 [==============================] - 0s 7ms/step - loss: 0.1816 - accuracy: 0.9277 - val_loss: 2.3878 - val_accuracy: 0.5638\n",
            "Epoch 40/200\n",
            "16/16 [==============================] - 0s 7ms/step - loss: 0.1802 - accuracy: 0.9422 - val_loss: 3.2488 - val_accuracy: 0.4899\n",
            "Epoch 41/200\n",
            "16/16 [==============================] - 0s 7ms/step - loss: 0.1351 - accuracy: 0.9480 - val_loss: 3.2278 - val_accuracy: 0.5101\n",
            "Epoch 42/200\n",
            "16/16 [==============================] - 0s 7ms/step - loss: 0.1259 - accuracy: 0.9624 - val_loss: 1.3459 - val_accuracy: 0.6174\n",
            "Epoch 43/200\n",
            "16/16 [==============================] - 0s 7ms/step - loss: 0.1209 - accuracy: 0.9566 - val_loss: 1.9156 - val_accuracy: 0.6174\n",
            "Epoch 44/200\n",
            "16/16 [==============================] - 0s 7ms/step - loss: 0.0679 - accuracy: 0.9769 - val_loss: 1.2253 - val_accuracy: 0.6510\n",
            "Epoch 45/200\n",
            "16/16 [==============================] - 0s 7ms/step - loss: 0.0968 - accuracy: 0.9682 - val_loss: 1.3614 - val_accuracy: 0.6711\n",
            "Epoch 46/200\n",
            "16/16 [==============================] - 0s 7ms/step - loss: 0.1017 - accuracy: 0.9595 - val_loss: 2.5414 - val_accuracy: 0.6107\n",
            "Epoch 47/200\n",
            "16/16 [==============================] - 0s 7ms/step - loss: 0.0971 - accuracy: 0.9769 - val_loss: 3.8344 - val_accuracy: 0.5839\n",
            "Epoch 48/200\n",
            "16/16 [==============================] - 0s 7ms/step - loss: 0.0957 - accuracy: 0.9740 - val_loss: 2.5161 - val_accuracy: 0.6040\n",
            "Epoch 49/200\n",
            "16/16 [==============================] - 0s 7ms/step - loss: 0.0888 - accuracy: 0.9769 - val_loss: 2.5344 - val_accuracy: 0.6309\n",
            "Epoch 50/200\n",
            "16/16 [==============================] - 0s 7ms/step - loss: 0.1565 - accuracy: 0.9451 - val_loss: 1.8252 - val_accuracy: 0.6376\n",
            "Epoch 51/200\n",
            "16/16 [==============================] - 0s 7ms/step - loss: 0.1056 - accuracy: 0.9566 - val_loss: 3.2066 - val_accuracy: 0.5101\n",
            "Epoch 52/200\n",
            "16/16 [==============================] - 0s 8ms/step - loss: 0.1171 - accuracy: 0.9451 - val_loss: 2.8250 - val_accuracy: 0.5772\n",
            "Epoch 53/200\n",
            "16/16 [==============================] - 0s 7ms/step - loss: 0.1749 - accuracy: 0.9509 - val_loss: 1.0205 - val_accuracy: 0.7181\n",
            "Epoch 54/200\n",
            "16/16 [==============================] - 0s 7ms/step - loss: 0.1273 - accuracy: 0.9624 - val_loss: 6.9691 - val_accuracy: 0.5503\n",
            "Epoch 55/200\n",
            "16/16 [==============================] - 0s 7ms/step - loss: 0.1654 - accuracy: 0.9306 - val_loss: 3.3963 - val_accuracy: 0.6309\n",
            "Epoch 56/200\n",
            "16/16 [==============================] - 0s 7ms/step - loss: 0.1054 - accuracy: 0.9682 - val_loss: 4.8465 - val_accuracy: 0.5235\n",
            "Epoch 57/200\n",
            "16/16 [==============================] - 0s 7ms/step - loss: 0.1091 - accuracy: 0.9624 - val_loss: 1.3917 - val_accuracy: 0.6174\n",
            "Epoch 58/200\n",
            "16/16 [==============================] - 0s 7ms/step - loss: 0.0667 - accuracy: 0.9798 - val_loss: 1.8549 - val_accuracy: 0.6443\n",
            "Epoch 59/200\n",
            "16/16 [==============================] - 0s 8ms/step - loss: 0.0910 - accuracy: 0.9624 - val_loss: 2.3589 - val_accuracy: 0.6107\n",
            "Epoch 60/200\n",
            "16/16 [==============================] - 0s 8ms/step - loss: 0.0867 - accuracy: 0.9682 - val_loss: 1.7191 - val_accuracy: 0.6577\n",
            "Epoch 61/200\n",
            "16/16 [==============================] - 0s 7ms/step - loss: 0.0781 - accuracy: 0.9740 - val_loss: 2.4625 - val_accuracy: 0.6577\n",
            "Epoch 62/200\n",
            "16/16 [==============================] - 0s 7ms/step - loss: 0.0629 - accuracy: 0.9769 - val_loss: 1.7019 - val_accuracy: 0.6779\n",
            "Epoch 63/200\n",
            "16/16 [==============================] - 0s 7ms/step - loss: 0.1073 - accuracy: 0.9595 - val_loss: 2.3487 - val_accuracy: 0.6577\n",
            "Epoch 64/200\n",
            "16/16 [==============================] - 0s 7ms/step - loss: 0.1310 - accuracy: 0.9595 - val_loss: 3.2870 - val_accuracy: 0.6779\n",
            "Epoch 65/200\n",
            "16/16 [==============================] - 0s 7ms/step - loss: 0.0859 - accuracy: 0.9740 - val_loss: 2.0404 - val_accuracy: 0.6980\n",
            "Epoch 66/200\n",
            "16/16 [==============================] - 0s 7ms/step - loss: 0.0952 - accuracy: 0.9509 - val_loss: 3.3080 - val_accuracy: 0.6242\n",
            "Epoch 67/200\n",
            "16/16 [==============================] - 0s 7ms/step - loss: 0.0439 - accuracy: 0.9884 - val_loss: 3.2499 - val_accuracy: 0.6980\n",
            "Epoch 68/200\n",
            "16/16 [==============================] - 0s 7ms/step - loss: 0.0559 - accuracy: 0.9798 - val_loss: 3.1128 - val_accuracy: 0.6711\n",
            "Epoch 69/200\n",
            "16/16 [==============================] - 0s 8ms/step - loss: 0.1128 - accuracy: 0.9595 - val_loss: 2.6885 - val_accuracy: 0.6846\n",
            "Epoch 70/200\n",
            "16/16 [==============================] - 0s 7ms/step - loss: 0.0678 - accuracy: 0.9740 - val_loss: 1.4493 - val_accuracy: 0.7181\n",
            "Epoch 71/200\n",
            "16/16 [==============================] - 0s 7ms/step - loss: 0.0851 - accuracy: 0.9624 - val_loss: 4.2434 - val_accuracy: 0.5369\n",
            "Epoch 72/200\n",
            "16/16 [==============================] - 0s 7ms/step - loss: 0.0713 - accuracy: 0.9653 - val_loss: 2.0149 - val_accuracy: 0.6510\n",
            "Epoch 73/200\n",
            "16/16 [==============================] - 0s 7ms/step - loss: 0.0766 - accuracy: 0.9682 - val_loss: 6.1039 - val_accuracy: 0.5638\n",
            "Epoch 74/200\n",
            "16/16 [==============================] - 0s 7ms/step - loss: 0.0569 - accuracy: 0.9827 - val_loss: 4.9531 - val_accuracy: 0.5705\n",
            "Epoch 75/200\n",
            "16/16 [==============================] - 0s 8ms/step - loss: 0.0355 - accuracy: 0.9884 - val_loss: 2.8341 - val_accuracy: 0.6510\n",
            "Epoch 76/200\n",
            "16/16 [==============================] - 0s 7ms/step - loss: 0.0650 - accuracy: 0.9855 - val_loss: 2.3086 - val_accuracy: 0.5705\n",
            "Epoch 77/200\n",
            "16/16 [==============================] - 0s 7ms/step - loss: 0.0927 - accuracy: 0.9653 - val_loss: 2.7123 - val_accuracy: 0.5638\n",
            "Epoch 78/200\n",
            "16/16 [==============================] - 0s 8ms/step - loss: 0.0350 - accuracy: 0.9884 - val_loss: 1.6469 - val_accuracy: 0.7047\n",
            "Epoch 79/200\n",
            "16/16 [==============================] - 0s 7ms/step - loss: 0.0915 - accuracy: 0.9624 - val_loss: 2.0928 - val_accuracy: 0.6510\n",
            "Epoch 80/200\n",
            "16/16 [==============================] - 0s 7ms/step - loss: 0.1047 - accuracy: 0.9509 - val_loss: 4.6728 - val_accuracy: 0.5772\n",
            "Epoch 81/200\n",
            "16/16 [==============================] - 0s 7ms/step - loss: 0.0844 - accuracy: 0.9624 - val_loss: 4.2621 - val_accuracy: 0.5839\n",
            "Epoch 82/200\n",
            "16/16 [==============================] - 0s 7ms/step - loss: 0.0625 - accuracy: 0.9798 - val_loss: 4.6116 - val_accuracy: 0.5436\n",
            "Epoch 83/200\n",
            "16/16 [==============================] - 0s 7ms/step - loss: 0.0696 - accuracy: 0.9711 - val_loss: 1.3775 - val_accuracy: 0.6980\n",
            "Epoch 84/200\n",
            "16/16 [==============================] - 0s 7ms/step - loss: 0.1384 - accuracy: 0.9451 - val_loss: 1.5533 - val_accuracy: 0.6846\n",
            "Epoch 85/200\n",
            "16/16 [==============================] - 0s 7ms/step - loss: 0.0528 - accuracy: 0.9827 - val_loss: 3.7249 - val_accuracy: 0.5436\n",
            "Epoch 86/200\n",
            "16/16 [==============================] - 0s 7ms/step - loss: 0.0799 - accuracy: 0.9740 - val_loss: 2.0599 - val_accuracy: 0.6644\n",
            "Epoch 87/200\n",
            "16/16 [==============================] - 0s 7ms/step - loss: 0.0683 - accuracy: 0.9682 - val_loss: 4.3839 - val_accuracy: 0.5503\n",
            "Epoch 88/200\n",
            "16/16 [==============================] - 0s 7ms/step - loss: 0.0458 - accuracy: 0.9798 - val_loss: 7.3780 - val_accuracy: 0.5034\n",
            "Epoch 89/200\n",
            "16/16 [==============================] - 0s 7ms/step - loss: 0.0569 - accuracy: 0.9798 - val_loss: 6.4282 - val_accuracy: 0.5034\n",
            "Epoch 90/200\n",
            "16/16 [==============================] - 0s 7ms/step - loss: 0.0608 - accuracy: 0.9798 - val_loss: 3.9905 - val_accuracy: 0.6040\n",
            "Epoch 91/200\n",
            "16/16 [==============================] - 0s 7ms/step - loss: 0.0179 - accuracy: 1.0000 - val_loss: 3.2033 - val_accuracy: 0.6309\n",
            "Epoch 92/200\n",
            "16/16 [==============================] - 0s 7ms/step - loss: 0.0684 - accuracy: 0.9711 - val_loss: 1.5286 - val_accuracy: 0.6577\n",
            "Epoch 93/200\n",
            "16/16 [==============================] - 0s 7ms/step - loss: 0.0360 - accuracy: 0.9827 - val_loss: 2.8928 - val_accuracy: 0.5772\n",
            "Epoch 94/200\n",
            "16/16 [==============================] - 0s 7ms/step - loss: 0.0333 - accuracy: 0.9884 - val_loss: 2.9499 - val_accuracy: 0.6913\n",
            "Epoch 95/200\n",
            "16/16 [==============================] - 0s 7ms/step - loss: 0.0143 - accuracy: 1.0000 - val_loss: 3.4815 - val_accuracy: 0.6443\n",
            "Epoch 96/200\n",
            "16/16 [==============================] - 0s 7ms/step - loss: 0.0214 - accuracy: 0.9942 - val_loss: 4.6547 - val_accuracy: 0.5973\n",
            "Epoch 97/200\n",
            "16/16 [==============================] - 0s 7ms/step - loss: 0.0303 - accuracy: 0.9827 - val_loss: 2.2061 - val_accuracy: 0.6644\n",
            "Epoch 98/200\n",
            "16/16 [==============================] - 0s 8ms/step - loss: 0.0265 - accuracy: 0.9884 - val_loss: 1.7616 - val_accuracy: 0.7248\n",
            "Epoch 99/200\n",
            "16/16 [==============================] - 0s 7ms/step - loss: 0.0332 - accuracy: 0.9913 - val_loss: 2.5371 - val_accuracy: 0.6040\n",
            "Epoch 100/200\n",
            "16/16 [==============================] - 0s 7ms/step - loss: 0.0219 - accuracy: 0.9913 - val_loss: 2.3645 - val_accuracy: 0.6913\n",
            "Epoch 101/200\n",
            "16/16 [==============================] - 0s 7ms/step - loss: 0.0746 - accuracy: 0.9798 - val_loss: 2.7802 - val_accuracy: 0.5839\n",
            "Epoch 102/200\n",
            "16/16 [==============================] - 0s 7ms/step - loss: 0.0742 - accuracy: 0.9740 - val_loss: 5.3030 - val_accuracy: 0.5570\n",
            "Epoch 103/200\n",
            "16/16 [==============================] - 0s 8ms/step - loss: 0.0562 - accuracy: 0.9798 - val_loss: 1.7719 - val_accuracy: 0.6577\n",
            "Epoch 104/200\n",
            "16/16 [==============================] - 0s 7ms/step - loss: 0.0884 - accuracy: 0.9653 - val_loss: 1.2024 - val_accuracy: 0.6577\n",
            "Epoch 105/200\n",
            "16/16 [==============================] - 0s 7ms/step - loss: 0.0256 - accuracy: 0.9913 - val_loss: 13.7879 - val_accuracy: 0.5101\n",
            "Epoch 106/200\n",
            "16/16 [==============================] - 0s 8ms/step - loss: 0.0779 - accuracy: 0.9769 - val_loss: 5.6559 - val_accuracy: 0.5436\n",
            "Epoch 107/200\n",
            "16/16 [==============================] - 0s 7ms/step - loss: 0.0295 - accuracy: 0.9913 - val_loss: 1.5226 - val_accuracy: 0.6846\n",
            "Epoch 108/200\n",
            "16/16 [==============================] - 0s 7ms/step - loss: 0.1731 - accuracy: 0.9364 - val_loss: 2.6871 - val_accuracy: 0.6577\n",
            "Epoch 109/200\n",
            "16/16 [==============================] - 0s 7ms/step - loss: 0.0468 - accuracy: 0.9827 - val_loss: 4.1179 - val_accuracy: 0.6376\n",
            "Epoch 110/200\n",
            "16/16 [==============================] - 0s 8ms/step - loss: 0.0315 - accuracy: 0.9884 - val_loss: 4.7222 - val_accuracy: 0.7047\n",
            "Epoch 111/200\n",
            "16/16 [==============================] - 0s 8ms/step - loss: 0.0278 - accuracy: 0.9913 - val_loss: 2.2762 - val_accuracy: 0.7181\n",
            "Epoch 112/200\n",
            "16/16 [==============================] - 0s 7ms/step - loss: 0.0781 - accuracy: 0.9653 - val_loss: 5.3342 - val_accuracy: 0.6376\n",
            "Epoch 113/200\n",
            "16/16 [==============================] - 0s 7ms/step - loss: 0.0258 - accuracy: 0.9971 - val_loss: 8.8358 - val_accuracy: 0.5705\n",
            "Epoch 114/200\n",
            "16/16 [==============================] - 0s 7ms/step - loss: 0.0389 - accuracy: 0.9884 - val_loss: 3.9579 - val_accuracy: 0.6711\n",
            "Epoch 115/200\n",
            "16/16 [==============================] - 0s 7ms/step - loss: 0.0255 - accuracy: 0.9884 - val_loss: 2.7700 - val_accuracy: 0.5973\n",
            "Epoch 116/200\n",
            "16/16 [==============================] - 0s 7ms/step - loss: 0.0443 - accuracy: 0.9798 - val_loss: 4.2569 - val_accuracy: 0.5839\n",
            "Epoch 117/200\n",
            "16/16 [==============================] - 0s 7ms/step - loss: 0.0223 - accuracy: 0.9971 - val_loss: 2.6837 - val_accuracy: 0.6577\n",
            "Epoch 118/200\n",
            "16/16 [==============================] - 0s 7ms/step - loss: 0.0267 - accuracy: 0.9913 - val_loss: 2.9095 - val_accuracy: 0.5638\n",
            "Epoch 119/200\n",
            "16/16 [==============================] - 0s 7ms/step - loss: 0.0367 - accuracy: 0.9855 - val_loss: 1.3880 - val_accuracy: 0.6980\n",
            "Epoch 120/200\n",
            "16/16 [==============================] - 0s 8ms/step - loss: 0.0231 - accuracy: 0.9913 - val_loss: 1.9723 - val_accuracy: 0.7114\n",
            "Epoch 121/200\n",
            "16/16 [==============================] - 0s 8ms/step - loss: 0.0182 - accuracy: 0.9942 - val_loss: 1.6437 - val_accuracy: 0.6846\n",
            "Epoch 122/200\n",
            "16/16 [==============================] - 0s 7ms/step - loss: 0.0092 - accuracy: 0.9971 - val_loss: 3.2803 - val_accuracy: 0.6644\n",
            "Epoch 123/200\n",
            "16/16 [==============================] - 0s 8ms/step - loss: 0.0908 - accuracy: 0.9740 - val_loss: 0.9839 - val_accuracy: 0.7248\n",
            "Epoch 124/200\n",
            "16/16 [==============================] - 0s 8ms/step - loss: 0.0825 - accuracy: 0.9827 - val_loss: 1.4425 - val_accuracy: 0.6174\n",
            "Epoch 125/200\n",
            "16/16 [==============================] - 0s 7ms/step - loss: 0.0155 - accuracy: 0.9942 - val_loss: 2.7899 - val_accuracy: 0.6510\n",
            "Epoch 126/200\n",
            "16/16 [==============================] - 0s 7ms/step - loss: 0.0935 - accuracy: 0.9682 - val_loss: 6.1374 - val_accuracy: 0.6174\n",
            "Epoch 127/200\n",
            "16/16 [==============================] - 0s 7ms/step - loss: 0.0926 - accuracy: 0.9682 - val_loss: 3.9521 - val_accuracy: 0.6443\n",
            "Epoch 128/200\n",
            "16/16 [==============================] - 0s 8ms/step - loss: 0.0643 - accuracy: 0.9740 - val_loss: 3.2032 - val_accuracy: 0.5772\n",
            "Epoch 129/200\n",
            "16/16 [==============================] - 0s 7ms/step - loss: 0.0176 - accuracy: 0.9942 - val_loss: 1.9091 - val_accuracy: 0.7315\n",
            "Epoch 130/200\n",
            "16/16 [==============================] - 0s 7ms/step - loss: 0.0447 - accuracy: 0.9798 - val_loss: 1.9212 - val_accuracy: 0.6644\n",
            "Epoch 131/200\n",
            "16/16 [==============================] - 0s 7ms/step - loss: 0.0506 - accuracy: 0.9827 - val_loss: 3.8019 - val_accuracy: 0.5973\n",
            "Epoch 132/200\n",
            "16/16 [==============================] - 0s 7ms/step - loss: 0.0186 - accuracy: 0.9942 - val_loss: 3.0719 - val_accuracy: 0.6309\n",
            "Epoch 133/200\n",
            "16/16 [==============================] - 0s 8ms/step - loss: 0.0107 - accuracy: 1.0000 - val_loss: 2.8053 - val_accuracy: 0.6510\n",
            "Epoch 134/200\n",
            "16/16 [==============================] - 0s 8ms/step - loss: 0.0365 - accuracy: 0.9855 - val_loss: 2.8913 - val_accuracy: 0.6443\n",
            "Epoch 135/200\n",
            "16/16 [==============================] - 0s 8ms/step - loss: 0.0215 - accuracy: 0.9942 - val_loss: 3.6228 - val_accuracy: 0.6577\n",
            "Epoch 136/200\n",
            "16/16 [==============================] - 0s 7ms/step - loss: 0.0296 - accuracy: 0.9855 - val_loss: 5.0453 - val_accuracy: 0.6242\n",
            "Epoch 137/200\n",
            "16/16 [==============================] - 0s 8ms/step - loss: 0.0279 - accuracy: 0.9913 - val_loss: 8.4205 - val_accuracy: 0.5570\n",
            "Epoch 138/200\n",
            "16/16 [==============================] - 0s 7ms/step - loss: 0.0239 - accuracy: 0.9942 - val_loss: 7.3664 - val_accuracy: 0.5638\n",
            "Epoch 139/200\n",
            "16/16 [==============================] - 0s 7ms/step - loss: 0.0224 - accuracy: 0.9884 - val_loss: 4.0220 - val_accuracy: 0.6577\n",
            "Epoch 140/200\n",
            "16/16 [==============================] - 0s 7ms/step - loss: 0.0126 - accuracy: 0.9971 - val_loss: 3.6673 - val_accuracy: 0.6577\n",
            "Epoch 141/200\n",
            "16/16 [==============================] - 0s 7ms/step - loss: 0.0186 - accuracy: 0.9942 - val_loss: 2.3256 - val_accuracy: 0.7248\n",
            "Epoch 142/200\n",
            "16/16 [==============================] - 0s 7ms/step - loss: 0.0328 - accuracy: 0.9884 - val_loss: 2.9206 - val_accuracy: 0.6779\n",
            "Epoch 143/200\n",
            "16/16 [==============================] - 0s 7ms/step - loss: 0.0560 - accuracy: 0.9855 - val_loss: 5.3202 - val_accuracy: 0.6174\n",
            "Epoch 144/200\n",
            "16/16 [==============================] - 0s 8ms/step - loss: 0.0212 - accuracy: 0.9855 - val_loss: 3.5180 - val_accuracy: 0.6510\n",
            "Epoch 145/200\n",
            "16/16 [==============================] - 0s 7ms/step - loss: 0.0163 - accuracy: 0.9913 - val_loss: 5.1038 - val_accuracy: 0.5772\n",
            "Epoch 146/200\n",
            "16/16 [==============================] - 0s 8ms/step - loss: 0.0311 - accuracy: 0.9884 - val_loss: 1.3712 - val_accuracy: 0.7450\n",
            "Epoch 147/200\n",
            "16/16 [==============================] - 0s 8ms/step - loss: 0.0278 - accuracy: 0.9942 - val_loss: 4.5713 - val_accuracy: 0.5638\n",
            "Epoch 148/200\n",
            "16/16 [==============================] - 0s 8ms/step - loss: 0.0113 - accuracy: 1.0000 - val_loss: 5.9521 - val_accuracy: 0.5168\n",
            "Epoch 149/200\n",
            "16/16 [==============================] - 0s 8ms/step - loss: 0.0081 - accuracy: 1.0000 - val_loss: 4.3514 - val_accuracy: 0.5302\n",
            "Epoch 150/200\n",
            "16/16 [==============================] - 0s 7ms/step - loss: 0.0127 - accuracy: 0.9971 - val_loss: 2.7953 - val_accuracy: 0.5839\n",
            "Epoch 151/200\n",
            "16/16 [==============================] - 0s 7ms/step - loss: 0.0379 - accuracy: 0.9827 - val_loss: 1.5422 - val_accuracy: 0.7450\n",
            "Epoch 152/200\n",
            "16/16 [==============================] - 0s 8ms/step - loss: 0.0175 - accuracy: 0.9884 - val_loss: 1.6296 - val_accuracy: 0.7315\n",
            "Epoch 153/200\n",
            "16/16 [==============================] - 0s 7ms/step - loss: 0.0220 - accuracy: 0.9942 - val_loss: 5.0900 - val_accuracy: 0.6510\n",
            "Epoch 154/200\n",
            "16/16 [==============================] - 0s 7ms/step - loss: 0.0719 - accuracy: 0.9769 - val_loss: 3.9927 - val_accuracy: 0.6510\n",
            "Epoch 155/200\n",
            "16/16 [==============================] - 0s 8ms/step - loss: 0.0844 - accuracy: 0.9653 - val_loss: 6.3095 - val_accuracy: 0.6443\n",
            "Epoch 156/200\n",
            "16/16 [==============================] - 0s 8ms/step - loss: 0.1091 - accuracy: 0.9653 - val_loss: 7.3080 - val_accuracy: 0.6443\n",
            "Epoch 157/200\n",
            "16/16 [==============================] - 0s 8ms/step - loss: 0.0728 - accuracy: 0.9798 - val_loss: 2.8303 - val_accuracy: 0.6040\n",
            "Epoch 158/200\n",
            "16/16 [==============================] - 0s 8ms/step - loss: 0.1869 - accuracy: 0.9335 - val_loss: 3.4962 - val_accuracy: 0.5570\n",
            "Epoch 159/200\n",
            "16/16 [==============================] - 0s 8ms/step - loss: 0.2465 - accuracy: 0.9249 - val_loss: 4.7373 - val_accuracy: 0.5973\n",
            "Epoch 160/200\n",
            "16/16 [==============================] - 0s 7ms/step - loss: 0.0569 - accuracy: 0.9798 - val_loss: 2.9869 - val_accuracy: 0.6309\n",
            "Epoch 161/200\n",
            "16/16 [==============================] - 0s 7ms/step - loss: 0.0673 - accuracy: 0.9682 - val_loss: 5.0305 - val_accuracy: 0.5705\n",
            "Epoch 162/200\n",
            "16/16 [==============================] - 0s 7ms/step - loss: 0.0404 - accuracy: 0.9884 - val_loss: 7.9412 - val_accuracy: 0.4899\n",
            "Epoch 163/200\n",
            "16/16 [==============================] - 0s 7ms/step - loss: 0.0609 - accuracy: 0.9769 - val_loss: 8.4933 - val_accuracy: 0.5570\n",
            "Epoch 164/200\n",
            "16/16 [==============================] - 0s 7ms/step - loss: 0.0165 - accuracy: 0.9971 - val_loss: 8.3844 - val_accuracy: 0.5503\n",
            "Epoch 165/200\n",
            "16/16 [==============================] - 0s 8ms/step - loss: 0.0282 - accuracy: 0.9884 - val_loss: 5.3575 - val_accuracy: 0.5772\n",
            "Epoch 166/200\n",
            "16/16 [==============================] - 0s 8ms/step - loss: 0.0296 - accuracy: 0.9884 - val_loss: 2.8793 - val_accuracy: 0.6510\n",
            "Epoch 167/200\n",
            "16/16 [==============================] - 0s 7ms/step - loss: 0.0112 - accuracy: 0.9971 - val_loss: 2.4445 - val_accuracy: 0.6711\n",
            "Epoch 168/200\n",
            "16/16 [==============================] - 0s 8ms/step - loss: 0.0308 - accuracy: 0.9855 - val_loss: 2.2102 - val_accuracy: 0.6644\n",
            "Epoch 169/200\n",
            "16/16 [==============================] - 0s 8ms/step - loss: 0.0477 - accuracy: 0.9855 - val_loss: 1.2996 - val_accuracy: 0.7383\n",
            "Epoch 170/200\n",
            "16/16 [==============================] - 0s 7ms/step - loss: 0.0282 - accuracy: 0.9913 - val_loss: 2.1866 - val_accuracy: 0.6242\n",
            "Epoch 171/200\n",
            "16/16 [==============================] - 0s 7ms/step - loss: 0.0380 - accuracy: 0.9855 - val_loss: 3.3025 - val_accuracy: 0.6577\n",
            "Epoch 172/200\n",
            "16/16 [==============================] - 0s 7ms/step - loss: 0.0052 - accuracy: 1.0000 - val_loss: 1.8138 - val_accuracy: 0.7047\n",
            "Epoch 173/200\n",
            "16/16 [==============================] - 0s 7ms/step - loss: 0.0137 - accuracy: 1.0000 - val_loss: 1.3707 - val_accuracy: 0.7047\n",
            "Epoch 174/200\n",
            "16/16 [==============================] - 0s 8ms/step - loss: 0.0271 - accuracy: 0.9884 - val_loss: 2.0322 - val_accuracy: 0.6242\n",
            "Epoch 175/200\n",
            "16/16 [==============================] - 0s 8ms/step - loss: 0.0214 - accuracy: 0.9913 - val_loss: 2.6612 - val_accuracy: 0.6577\n",
            "Epoch 176/200\n",
            "16/16 [==============================] - 0s 8ms/step - loss: 0.0172 - accuracy: 0.9971 - val_loss: 1.8970 - val_accuracy: 0.6913\n",
            "Epoch 177/200\n",
            "16/16 [==============================] - 0s 8ms/step - loss: 0.0068 - accuracy: 1.0000 - val_loss: 1.8553 - val_accuracy: 0.7114\n",
            "Epoch 178/200\n",
            "16/16 [==============================] - 0s 7ms/step - loss: 0.0181 - accuracy: 0.9971 - val_loss: 1.8193 - val_accuracy: 0.6711\n",
            "Epoch 179/200\n",
            "16/16 [==============================] - 0s 8ms/step - loss: 0.0182 - accuracy: 0.9913 - val_loss: 2.0353 - val_accuracy: 0.6107\n",
            "Epoch 180/200\n",
            "16/16 [==============================] - 0s 7ms/step - loss: 0.0260 - accuracy: 0.9884 - val_loss: 1.4653 - val_accuracy: 0.6711\n",
            "Epoch 181/200\n",
            "16/16 [==============================] - 0s 8ms/step - loss: 0.0125 - accuracy: 1.0000 - val_loss: 1.9727 - val_accuracy: 0.6107\n",
            "Epoch 182/200\n",
            "16/16 [==============================] - 0s 8ms/step - loss: 0.0078 - accuracy: 1.0000 - val_loss: 4.4238 - val_accuracy: 0.5570\n",
            "Epoch 183/200\n",
            "16/16 [==============================] - 0s 8ms/step - loss: 0.0029 - accuracy: 1.0000 - val_loss: 4.4681 - val_accuracy: 0.5638\n",
            "Epoch 184/200\n",
            "16/16 [==============================] - 0s 8ms/step - loss: 0.0014 - accuracy: 1.0000 - val_loss: 3.3292 - val_accuracy: 0.5839\n",
            "Epoch 185/200\n",
            "16/16 [==============================] - 0s 8ms/step - loss: 0.0110 - accuracy: 0.9942 - val_loss: 3.5319 - val_accuracy: 0.6040\n",
            "Epoch 186/200\n",
            "16/16 [==============================] - 0s 8ms/step - loss: 0.0035 - accuracy: 1.0000 - val_loss: 3.4047 - val_accuracy: 0.6174\n",
            "Epoch 187/200\n",
            "16/16 [==============================] - 0s 7ms/step - loss: 0.0084 - accuracy: 0.9971 - val_loss: 1.6273 - val_accuracy: 0.7383\n",
            "Epoch 188/200\n",
            "16/16 [==============================] - 0s 7ms/step - loss: 0.0078 - accuracy: 0.9971 - val_loss: 1.4147 - val_accuracy: 0.7315\n",
            "Epoch 189/200\n",
            "16/16 [==============================] - 0s 8ms/step - loss: 0.0075 - accuracy: 0.9971 - val_loss: 1.7968 - val_accuracy: 0.6980\n",
            "Epoch 190/200\n",
            "16/16 [==============================] - 0s 8ms/step - loss: 0.0115 - accuracy: 0.9971 - val_loss: 2.1388 - val_accuracy: 0.7047\n",
            "Epoch 191/200\n",
            "16/16 [==============================] - 0s 7ms/step - loss: 0.0182 - accuracy: 0.9942 - val_loss: 2.4942 - val_accuracy: 0.7181\n",
            "Epoch 192/200\n",
            "16/16 [==============================] - 0s 7ms/step - loss: 0.0079 - accuracy: 1.0000 - val_loss: 4.2120 - val_accuracy: 0.5705\n",
            "Epoch 193/200\n",
            "16/16 [==============================] - 0s 8ms/step - loss: 0.0090 - accuracy: 0.9971 - val_loss: 4.2488 - val_accuracy: 0.5772\n",
            "Epoch 194/200\n",
            "16/16 [==============================] - 0s 9ms/step - loss: 0.0205 - accuracy: 0.9884 - val_loss: 2.1735 - val_accuracy: 0.6577\n",
            "Epoch 195/200\n",
            "16/16 [==============================] - 0s 7ms/step - loss: 0.0141 - accuracy: 0.9942 - val_loss: 2.8007 - val_accuracy: 0.5973\n",
            "Epoch 196/200\n",
            "16/16 [==============================] - 0s 8ms/step - loss: 0.0168 - accuracy: 0.9942 - val_loss: 1.4809 - val_accuracy: 0.6711\n",
            "Epoch 197/200\n",
            "16/16 [==============================] - 0s 8ms/step - loss: 0.0349 - accuracy: 0.9913 - val_loss: 1.1810 - val_accuracy: 0.7181\n",
            "Epoch 198/200\n",
            "16/16 [==============================] - 0s 7ms/step - loss: 0.0262 - accuracy: 0.9884 - val_loss: 2.0622 - val_accuracy: 0.6107\n",
            "Epoch 199/200\n",
            "16/16 [==============================] - 0s 7ms/step - loss: 0.0041 - accuracy: 1.0000 - val_loss: 5.3896 - val_accuracy: 0.5638\n",
            "Epoch 200/200\n",
            "16/16 [==============================] - 0s 7ms/step - loss: 0.0560 - accuracy: 0.9884 - val_loss: 2.3826 - val_accuracy: 0.7248\n"
          ],
          "name": "stdout"
        }
      ]
    },
    {
      "cell_type": "code",
      "metadata": {
        "id": "4JKxHqsXOMV2",
        "outputId": "208278ea-8484-45ac-e9e4-423110a26efa",
        "colab": {
          "base_uri": "https://localhost:8080/",
          "height": 295
        }
      },
      "source": [
        "import os\n",
        "import seaborn as sns\n",
        "#plot the training and validation accuracy and loss at each epoch\n",
        "loss = history.history['loss']\n",
        "val_loss = history.history['val_loss']\n",
        "epochs = range(1, len(loss) + 1)\n",
        "plt.plot(epochs, loss, 'y', label='Training loss')\n",
        "plt.plot(epochs, val_loss, 'r', label='Validation loss')\n",
        "plt.title('Training and validation loss')\n",
        "plt.xlabel('Epochs')\n",
        "plt.ylabel('Loss')\n",
        "plt.legend()\n",
        "plt.show()"
      ],
      "execution_count": 211,
      "outputs": [
        {
          "output_type": "display_data",
          "data": {
            "image/png": "[encoded data removed]",
            "text/plain": [
              "<Figure size 432x288 with 1 Axes>"
            ]
          },
          "metadata": {
            "needs_background": "light"
          }
        }
      ]
    },
    {
      "cell_type": "code",
      "metadata": {
        "id": "EPBtMyUBNpiA",
        "outputId": "7a1324d1-1bd8-4e15-d71e-ca9af4a22fe0",
        "colab": {
          "base_uri": "https://localhost:8080/",
          "height": 295
        }
      },
      "source": [
        "acc = history.history['accuracy']\n",
        "val_acc = history.history['val_accuracy']\n",
        "plt.plot(epochs, acc, 'y', label='Training acc')\n",
        "plt.plot(epochs, val_acc, 'r', label='Validation acc')\n",
        "plt.title('Training and validation accuracy')\n",
        "plt.xlabel('Epochs')\n",
        "plt.ylabel('Accuracy')\n",
        "plt.legend()\n",
        "plt.show()"
      ],
      "execution_count": 212,
      "outputs": [
        {
          "output_type": "display_data",
          "data": {
            "image/png": "[encoded data removed]",
            "text/plain": [
              "<Figure size 432x288 with 1 Axes>"
            ]
          },
          "metadata": {
            "needs_background": "light"
          }
        }
      ]
    },
    {
      "cell_type": "code",
      "metadata": {
        "id": "JzZa2GcEN1Q3",
        "outputId": "5e67a6d4-d76c-4b07-d565-094858afecba",
        "colab": {
          "base_uri": "https://localhost:8080/",
          "height": 332
        }
      },
      "source": [
        "prediction_NN = new_model.predict(xTest11)\n",
        "prediction_NN = np.argmax(prediction_NN, axis=-1)\n",
        "#Print overall accuracy\n",
        "from sklearn import metrics\n",
        "print (\"Accuracy = \", metrics.accuracy_score(yTest1, prediction_NN))\n",
        "#Confusion Matrix - verify accuracy of each class\n",
        "from sklearn.metrics import confusion_matrix\n",
        "cm = confusion_matrix(yTest1, prediction_NN)\n",
        "print(cm)\n",
        "sns.heatmap(cm, annot=True)"
      ],
      "execution_count": 213,
      "outputs": [
        {
          "output_type": "stream",
          "text": [
            "Accuracy =  0.7248322147651006\n",
            "[[36 37]\n",
            " [ 4 72]]\n"
          ],
          "name": "stdout"
        },
        {
          "output_type": "execute_result",
          "data": {
            "text/plain": [
              "<matplotlib.axes._subplots.AxesSubplot at 0x7f8828cefb10>"
            ]
          },
          "metadata": {},
          "execution_count": 213
        },
        {
          "output_type": "display_data",
          "data": {
            "image/png": "[encoded data removed]",
            "text/plain": [
              "<Figure size 432x288 with 2 Axes>"
            ]
          },
          "metadata": {
            "needs_background": "light"
          }
        }
      ]
    },
    {
      "cell_type": "code",
      "metadata": {
        "id": "FcIUzt86N5VB"
      },
      "source": [
        ""
      ],
      "execution_count": 213,
      "outputs": []
    }
  ]
}