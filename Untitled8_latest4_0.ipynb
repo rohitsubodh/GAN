{
  "nbformat": 4,
  "nbformat_minor": 0,
  "metadata": {
    "colab": {
      "name": "Untitled8.ipynb",
      "provenance": [],
      "include_colab_link": true
    },
    "kernelspec": {
      "name": "python3",
      "display_name": "Python 3"
    },
    "language_info": {
      "name": "python"
    },
    "accelerator": "GPU"
  },
  "cells": [
    {
      "cell_type": "markdown",
      "metadata": {
        "id": "view-in-github",
        "colab_type": "text"
      },
      "source": [
        "<a href=\"https://colab.research.google.com/github/rohitsubodh/GAN/blob/main/Untitled8_latest4_0.ipynb\" target=\"_parent\"><img src=\"https://colab.research.google.com/assets/colab-badge.svg\" alt=\"Open In Colab\"/></a>"
      ]
    },
    {
      "cell_type": "code",
      "metadata": {
        "id": "cMHBuO0wos-j"
      },
      "source": [
        "\n",
        "import tensorflow as tf\n",
        "import keras\n",
        "import numpy as np\n",
        "from keras import models\n",
        "from keras import layers\n",
        "from keras.wrappers.scikit_learn import KerasClassifier\n",
        "from sklearn.model_selection import cross_val_score\n",
        "from sklearn.datasets import make_classification\n",
        "from matplotlib import pyplot\n",
        "import numpy as np\n",
        "import matplotlib.pyplot as plt\n",
        "import pandas as pd\n",
        "from sklearn import preprocessing\n",
        "from keras.models import Sequential,Model\n",
        "from keras.layers import Dense, Dropout,Input\n",
        "from keras.layers import Embedding,LeakyReLU\n",
        "from keras.layers import Conv1D, GlobalAveragePooling1D, MaxPooling1D, Flatten, LocallyConnected1D, BatchNormalization\n",
        "import scipy.signal\n",
        "from sklearn.decomposition import PCA, KernelPCA"
      ],
      "execution_count": 43,
      "outputs": []
    },
    {
      "cell_type": "code",
      "metadata": {
        "id": "Hi8fcclmpFNY"
      },
      "source": [
        "data = pd.read_excel('/content/PPG_new.xlsx',sheet_name='0-1')\n",
        "target = pd.read_excel('/content/PPG_new.xlsx',sheet_name='target 0-1')"
      ],
      "execution_count": 44,
      "outputs": []
    },
    {
      "cell_type": "code",
      "metadata": {
        "colab": {
          "base_uri": "https://localhost:8080/"
        },
        "id": "mUhak2l_B-rq",
        "outputId": "dea40db3-da91-4b50-90c8-29c8828e160a"
      },
      "source": [
        "data.shape"
      ],
      "execution_count": 45,
      "outputs": [
        {
          "output_type": "execute_result",
          "data": {
            "text/plain": [
              "(495, 2100)"
            ]
          },
          "metadata": {},
          "execution_count": 45
        }
      ]
    },
    {
      "cell_type": "code",
      "metadata": {
        "colab": {
          "base_uri": "https://localhost:8080/",
          "height": 265
        },
        "id": "q1Q3Q3FepFW2",
        "outputId": "e6b73802-4b08-4799-e5a6-94c304095e66"
      },
      "source": [
        "x= data.iloc[0,:]\n",
        "plt.plot(x)\n",
        "plt.show\n",
        "data1=data"
      ],
      "execution_count": 46,
      "outputs": [
        {
          "output_type": "display_data",
          "data": {
            "image/png": "[encoded data removed]",
            "text/plain": [
              "<Figure size 432x288 with 1 Axes>"
            ]
          },
          "metadata": {
            "needs_background": "light"
          }
        }
      ]
    },
    {
      "cell_type": "code",
      "metadata": {
        "colab": {
          "base_uri": "https://localhost:8080/",
          "height": 282
        },
        "id": "SRcZU0-ppFaK",
        "outputId": "6de6ada9-325d-4e1c-e4ad-9dd081f19656"
      },
      "source": [
        "# Applying median filter\n",
        "data=scipy.signal.medfilt(data)\n",
        "data\n",
        "x= data[0,:]\n",
        "plt.plot(x)\n",
        "plt.show"
      ],
      "execution_count": 47,
      "outputs": [
        {
          "output_type": "execute_result",
          "data": {
            "text/plain": [
              "<function matplotlib.pyplot.show>"
            ]
          },
          "metadata": {},
          "execution_count": 47
        },
        {
          "output_type": "display_data",
          "data": {
            "image/png": "[encoded data removed]",
            "text/plain": [
              "<Figure size 432x288 with 1 Axes>"
            ]
          },
          "metadata": {
            "needs_background": "light"
          }
        }
      ]
    },
    {
      "cell_type": "code",
      "metadata": {
        "colab": {
          "base_uri": "https://localhost:8080/"
        },
        "id": "Rr2cHwXGpFc9",
        "outputId": "958f7036-1775-4f74-c61e-7e2d43823771"
      },
      "source": [
        "# Design of low pass chebyshev filter\n",
        "sos= scipy.signal.cheby2(4, 10, 25, 'low', fs=1000, output='sos')\n",
        "sos"
      ],
      "execution_count": 48,
      "outputs": [
        {
          "output_type": "execute_result",
          "data": {
            "text/plain": [
              "array([[ 0.26741176, -0.49141861,  0.26741176,  1.        , -1.6346899 ,\n",
              "         0.69069827],\n",
              "       [ 1.        , -1.97118242,  1.        ,  1.        , -1.92658177,\n",
              "         0.94891457]])"
            ]
          },
          "metadata": {},
          "execution_count": 48
        }
      ]
    },
    {
      "cell_type": "code",
      "metadata": {
        "colab": {
          "base_uri": "https://localhost:8080/",
          "height": 282
        },
        "id": "V2M-vdahpFfz",
        "outputId": "42763fb2-28b5-4bee-8119-6f826d6738a6"
      },
      "source": [
        "data= scipy.signal.sosfilt(sos, data) # applying chebyshev filter\n",
        "x= data[0,:]\n",
        "plt.plot(x)\n",
        "plt.show"
      ],
      "execution_count": 49,
      "outputs": [
        {
          "output_type": "execute_result",
          "data": {
            "text/plain": [
              "<function matplotlib.pyplot.show>"
            ]
          },
          "metadata": {},
          "execution_count": 49
        },
        {
          "output_type": "display_data",
          "data": {
            "image/png": "[encoded data removed]",
            "text/plain": [
              "<Figure size 432x288 with 1 Axes>"
            ]
          },
          "metadata": {
            "needs_background": "light"
          }
        }
      ]
    },
    {
      "cell_type": "code",
      "metadata": {
        "colab": {
          "base_uri": "https://localhost:8080/",
          "height": 282
        },
        "id": "dbCRU494pFiq",
        "outputId": "0069d75c-44a9-456d-d01c-0ac091846b3f"
      },
      "source": [
        "# Applying backward forward filter\n",
        "b, a = scipy.signal.butter(8, 0.125) # filter design\n",
        "\n",
        "data = scipy.signal.filtfilt(b, a, data, method=\"gust\")\n",
        "\n",
        "x= data[0,:]\n",
        "plt.plot(x)\n",
        "plt.show"
      ],
      "execution_count": 50,
      "outputs": [
        {
          "output_type": "execute_result",
          "data": {
            "text/plain": [
              "<function matplotlib.pyplot.show>"
            ]
          },
          "metadata": {},
          "execution_count": 50
        },
        {
          "output_type": "display_data",
          "data": {
            "image/png": "[encoded data removed]",
            "text/plain": [
              "<Figure size 432x288 with 1 Axes>"
            ]
          },
          "metadata": {
            "needs_background": "light"
          }
        }
      ]
    },
    {
      "cell_type": "code",
      "metadata": {
        "id": "Wp6SpBPGqCqY",
        "colab": {
          "base_uri": "https://localhost:8080/"
        },
        "outputId": "4057fe65-a97d-4bf5-b0eb-3a27f0881d47"
      },
      "source": [
        "data1=data\n",
        "kpca=KernelPCA(kernel=\"rbf\",fit_inverse_transform=True, gamma=10)\n",
        "data=kpca.fit_transform(data)\n",
        "data.shape"
      ],
      "execution_count": 51,
      "outputs": [
        {
          "output_type": "execute_result",
          "data": {
            "text/plain": [
              "(495, 494)"
            ]
          },
          "metadata": {},
          "execution_count": 51
        }
      ]
    },
    {
      "cell_type": "code",
      "metadata": {
        "colab": {
          "base_uri": "https://localhost:8080/",
          "height": 282
        },
        "id": "GWoHtut-eico",
        "outputId": "c1874536-b866-481f-d9a2-387009881b01"
      },
      "source": [
        "x= data[0,:]\n",
        "plt.plot(x)\n",
        "plt.show"
      ],
      "execution_count": 52,
      "outputs": [
        {
          "output_type": "execute_result",
          "data": {
            "text/plain": [
              "<function matplotlib.pyplot.show>"
            ]
          },
          "metadata": {},
          "execution_count": 52
        },
        {
          "output_type": "display_data",
          "data": {
            "image/png": "[encoded data removed]",
            "text/plain": [
              "<Figure size 432x288 with 1 Axes>"
            ]
          },
          "metadata": {
            "needs_background": "light"
          }
        }
      ]
    },
    {
      "cell_type": "code",
      "metadata": {
        "id": "aT_bUQPBpFlu"
      },
      "source": [
        "from sklearn.model_selection import train_test_split\n",
        "xTrain1, xTest1, yTrain1, yTest1 = train_test_split(data, target, test_size = 0.3, random_state = 0)"
      ],
      "execution_count": 53,
      "outputs": []
    },
    {
      "cell_type": "code",
      "metadata": {
        "id": "K0ct8stEpFor"
      },
      "source": [
        "xTrain11 = np.expand_dims(xTrain1, axis=2)\n",
        "yTrain11 = tf.keras.utils.to_categorical(yTrain1, num_classes=2)\n",
        "xTest11 =  np.expand_dims(xTest1, axis=2)\n",
        "yTest11 = tf.keras.utils.to_categorical(yTest1, num_classes=2)"
      ],
      "execution_count": 54,
      "outputs": []
    },
    {
      "cell_type": "code",
      "metadata": {
        "id": "egKDUU6zpFr2"
      },
      "source": [
        "input_shape = (494, 1)\n"
      ],
      "execution_count": 55,
      "outputs": []
    },
    {
      "cell_type": "code",
      "metadata": {
        "id": "xJxQ1yvCpFur",
        "colab": {
          "base_uri": "https://localhost:8080/"
        },
        "outputId": "79e913e3-d1f5-4737-99ae-9f5490e552cc"
      },
      "source": [
        "\n",
        "#CNN Model\n",
        "\n",
        "model = Sequential()\n",
        "model.add(Conv1D(32, 3, activation='relu', input_shape=input_shape[0:]))\n",
        "model.add(BatchNormalization())\n",
        "model.add(LeakyReLU(alpha=0.1))\n",
        "model.add(Conv1D(64, 3, activation='relu', name=\"my_intermediate_layer\"))\n",
        "model.add(MaxPooling1D(3))\n",
        "model.add(BatchNormalization())\n",
        "model.add(LeakyReLU(alpha=0.1))\n",
        "model.add(Conv1D(128, 3, activation='relu'))\n",
        "model.add(BatchNormalization())\n",
        "model.add(LeakyReLU(alpha=0.1))\n",
        "model.add(Conv1D(256, 3, activation='relu'))\n",
        "model.add(GlobalAveragePooling1D())\n",
        "model.add(Dropout(0.5))\n",
        "model.add(Dense(100, name=\"dense\"))\n",
        "model.add(Dense(2, activation='softmax', name=\"dense1\"))\n",
        "model.compile(loss='categorical_crossentropy',\n",
        "                    optimizer='adam',\n",
        "                    metrics=['accuracy'])\n",
        "model.summary()"
      ],
      "execution_count": 56,
      "outputs": [
        {
          "output_type": "stream",
          "text": [
            "Model: \"sequential_2\"\n",
            "_________________________________________________________________\n",
            "Layer (type)                 Output Shape              Param #   \n",
            "=================================================================\n",
            "conv1d_6 (Conv1D)            (None, 492, 32)           128       \n",
            "_________________________________________________________________\n",
            "batch_normalization_6 (Batch (None, 492, 32)           128       \n",
            "_________________________________________________________________\n",
            "leaky_re_lu_6 (LeakyReLU)    (None, 492, 32)           0         \n",
            "_________________________________________________________________\n",
            "my_intermediate_layer (Conv1 (None, 490, 64)           6208      \n",
            "_________________________________________________________________\n",
            "max_pooling1d_2 (MaxPooling1 (None, 163, 64)           0         \n",
            "_________________________________________________________________\n",
            "batch_normalization_7 (Batch (None, 163, 64)           256       \n",
            "_________________________________________________________________\n",
            "leaky_re_lu_7 (LeakyReLU)    (None, 163, 64)           0         \n",
            "_________________________________________________________________\n",
            "conv1d_7 (Conv1D)            (None, 161, 128)          24704     \n",
            "_________________________________________________________________\n",
            "batch_normalization_8 (Batch (None, 161, 128)          512       \n",
            "_________________________________________________________________\n",
            "leaky_re_lu_8 (LeakyReLU)    (None, 161, 128)          0         \n",
            "_________________________________________________________________\n",
            "conv1d_8 (Conv1D)            (None, 159, 256)          98560     \n",
            "_________________________________________________________________\n",
            "global_average_pooling1d_2 ( (None, 256)               0         \n",
            "_________________________________________________________________\n",
            "dropout_2 (Dropout)          (None, 256)               0         \n",
            "_________________________________________________________________\n",
            "dense (Dense)                (None, 100)               25700     \n",
            "_________________________________________________________________\n",
            "dense1 (Dense)               (None, 2)                 202       \n",
            "=================================================================\n",
            "Total params: 156,398\n",
            "Trainable params: 155,950\n",
            "Non-trainable params: 448\n",
            "_________________________________________________________________\n"
          ],
          "name": "stdout"
        }
      ]
    },
    {
      "cell_type": "code",
      "metadata": {
        "colab": {
          "base_uri": "https://localhost:8080/"
        },
        "id": "dpRAWw9cpFyD",
        "outputId": "9cc89366-9cd5-4141-8b85-614452cd5335"
      },
      "source": [
        "from keras.callbacks import EarlyStopping\n",
        "#set early stopping monitor so the model stops training when it won't improve anymore\n",
        "early_stopping_monitor = EarlyStopping(patience=500)\n",
        "\n",
        "#train model\n",
        "history=model.fit(xTrain11, yTrain11, validation_data = (xTest11, yTest11), epochs=150, batch_size=16)\n"
      ],
      "execution_count": 57,
      "outputs": [
        {
          "output_type": "stream",
          "text": [
            "Epoch 1/150\n",
            "22/22 [==============================] - 2s 31ms/step - loss: 0.7278 - accuracy: 0.5462 - val_loss: 0.6986 - val_accuracy: 0.4698\n",
            "Epoch 2/150\n",
            "22/22 [==============================] - 0s 16ms/step - loss: 0.6623 - accuracy: 0.6561 - val_loss: 0.7062 - val_accuracy: 0.4698\n",
            "Epoch 3/150\n",
            "22/22 [==============================] - 0s 17ms/step - loss: 0.6001 - accuracy: 0.6445 - val_loss: 0.7086 - val_accuracy: 0.4698\n",
            "Epoch 4/150\n",
            "22/22 [==============================] - 0s 16ms/step - loss: 0.5860 - accuracy: 0.7197 - val_loss: 0.7166 - val_accuracy: 0.4698\n",
            "Epoch 5/150\n",
            "22/22 [==============================] - 0s 15ms/step - loss: 0.5907 - accuracy: 0.7081 - val_loss: 0.7236 - val_accuracy: 0.4698\n",
            "Epoch 6/150\n",
            "22/22 [==============================] - 0s 15ms/step - loss: 0.6060 - accuracy: 0.6618 - val_loss: 0.7373 - val_accuracy: 0.4698\n",
            "Epoch 7/150\n",
            "22/22 [==============================] - 0s 16ms/step - loss: 0.6316 - accuracy: 0.6590 - val_loss: 0.7352 - val_accuracy: 0.4698\n",
            "Epoch 8/150\n",
            "22/22 [==============================] - 0s 15ms/step - loss: 0.5770 - accuracy: 0.6994 - val_loss: 0.7416 - val_accuracy: 0.4698\n",
            "Epoch 9/150\n",
            "22/22 [==============================] - 0s 15ms/step - loss: 0.5677 - accuracy: 0.7052 - val_loss: 0.7356 - val_accuracy: 0.4698\n",
            "Epoch 10/150\n",
            "22/22 [==============================] - 0s 15ms/step - loss: 0.5737 - accuracy: 0.6965 - val_loss: 0.7428 - val_accuracy: 0.4698\n",
            "Epoch 11/150\n",
            "22/22 [==============================] - 0s 15ms/step - loss: 0.5201 - accuracy: 0.7486 - val_loss: 0.7595 - val_accuracy: 0.4698\n",
            "Epoch 12/150\n",
            "22/22 [==============================] - 0s 15ms/step - loss: 0.5251 - accuracy: 0.7428 - val_loss: 0.7856 - val_accuracy: 0.4698\n",
            "Epoch 13/150\n",
            "22/22 [==============================] - 0s 16ms/step - loss: 0.5191 - accuracy: 0.7283 - val_loss: 0.8051 - val_accuracy: 0.4698\n",
            "Epoch 14/150\n",
            "22/22 [==============================] - 0s 16ms/step - loss: 0.5226 - accuracy: 0.7486 - val_loss: 0.8396 - val_accuracy: 0.4698\n",
            "Epoch 15/150\n",
            "22/22 [==============================] - 0s 16ms/step - loss: 0.5131 - accuracy: 0.7341 - val_loss: 0.8228 - val_accuracy: 0.4698\n",
            "Epoch 16/150\n",
            "22/22 [==============================] - 0s 16ms/step - loss: 0.4793 - accuracy: 0.7543 - val_loss: 0.8065 - val_accuracy: 0.4698\n",
            "Epoch 17/150\n",
            "22/22 [==============================] - 0s 16ms/step - loss: 0.4440 - accuracy: 0.7717 - val_loss: 0.8746 - val_accuracy: 0.4698\n",
            "Epoch 18/150\n",
            "22/22 [==============================] - 0s 15ms/step - loss: 0.4386 - accuracy: 0.8064 - val_loss: 0.9135 - val_accuracy: 0.4698\n",
            "Epoch 19/150\n",
            "22/22 [==============================] - 0s 15ms/step - loss: 0.4644 - accuracy: 0.7832 - val_loss: 1.0193 - val_accuracy: 0.4698\n",
            "Epoch 20/150\n",
            "22/22 [==============================] - 0s 15ms/step - loss: 0.4757 - accuracy: 0.7717 - val_loss: 0.9609 - val_accuracy: 0.4698\n",
            "Epoch 21/150\n",
            "22/22 [==============================] - 0s 15ms/step - loss: 0.3732 - accuracy: 0.8266 - val_loss: 1.0718 - val_accuracy: 0.4698\n",
            "Epoch 22/150\n",
            "22/22 [==============================] - 0s 15ms/step - loss: 0.3556 - accuracy: 0.8555 - val_loss: 1.0051 - val_accuracy: 0.4698\n",
            "Epoch 23/150\n",
            "22/22 [==============================] - 0s 15ms/step - loss: 0.3657 - accuracy: 0.8468 - val_loss: 0.8274 - val_accuracy: 0.4832\n",
            "Epoch 24/150\n",
            "22/22 [==============================] - 0s 15ms/step - loss: 0.3834 - accuracy: 0.8295 - val_loss: 0.8441 - val_accuracy: 0.4698\n",
            "Epoch 25/150\n",
            "22/22 [==============================] - 0s 16ms/step - loss: 0.4140 - accuracy: 0.8208 - val_loss: 0.6513 - val_accuracy: 0.5839\n",
            "Epoch 26/150\n",
            "22/22 [==============================] - 0s 15ms/step - loss: 0.2953 - accuracy: 0.8786 - val_loss: 0.5897 - val_accuracy: 0.6846\n",
            "Epoch 27/150\n",
            "22/22 [==============================] - 0s 15ms/step - loss: 0.2370 - accuracy: 0.9046 - val_loss: 0.6897 - val_accuracy: 0.6711\n",
            "Epoch 28/150\n",
            "22/22 [==============================] - 0s 15ms/step - loss: 0.2233 - accuracy: 0.9220 - val_loss: 1.0284 - val_accuracy: 0.6711\n",
            "Epoch 29/150\n",
            "22/22 [==============================] - 0s 15ms/step - loss: 0.2095 - accuracy: 0.9162 - val_loss: 0.8561 - val_accuracy: 0.6577\n",
            "Epoch 30/150\n",
            "22/22 [==============================] - 0s 16ms/step - loss: 0.2474 - accuracy: 0.9075 - val_loss: 1.7819 - val_accuracy: 0.6711\n",
            "Epoch 31/150\n",
            "22/22 [==============================] - 0s 15ms/step - loss: 0.1584 - accuracy: 0.9451 - val_loss: 0.9057 - val_accuracy: 0.6577\n",
            "Epoch 32/150\n",
            "22/22 [==============================] - 0s 15ms/step - loss: 0.1538 - accuracy: 0.9335 - val_loss: 0.7822 - val_accuracy: 0.7248\n",
            "Epoch 33/150\n",
            "22/22 [==============================] - 0s 16ms/step - loss: 0.1573 - accuracy: 0.9220 - val_loss: 1.3370 - val_accuracy: 0.7047\n",
            "Epoch 34/150\n",
            "22/22 [==============================] - 0s 16ms/step - loss: 0.2893 - accuracy: 0.8931 - val_loss: 1.0133 - val_accuracy: 0.6779\n",
            "Epoch 35/150\n",
            "22/22 [==============================] - 0s 15ms/step - loss: 0.1674 - accuracy: 0.9162 - val_loss: 1.2871 - val_accuracy: 0.6711\n",
            "Epoch 36/150\n",
            "22/22 [==============================] - 0s 15ms/step - loss: 0.1478 - accuracy: 0.9364 - val_loss: 1.5177 - val_accuracy: 0.6242\n",
            "Epoch 37/150\n",
            "22/22 [==============================] - 0s 15ms/step - loss: 0.0930 - accuracy: 0.9711 - val_loss: 1.6203 - val_accuracy: 0.6174\n",
            "Epoch 38/150\n",
            "22/22 [==============================] - 0s 16ms/step - loss: 0.0626 - accuracy: 0.9798 - val_loss: 1.2900 - val_accuracy: 0.6846\n",
            "Epoch 39/150\n",
            "22/22 [==============================] - 0s 15ms/step - loss: 0.0730 - accuracy: 0.9711 - val_loss: 1.4550 - val_accuracy: 0.6577\n",
            "Epoch 40/150\n",
            "22/22 [==============================] - 0s 16ms/step - loss: 0.1049 - accuracy: 0.9538 - val_loss: 4.7531 - val_accuracy: 0.5302\n",
            "Epoch 41/150\n",
            "22/22 [==============================] - 0s 15ms/step - loss: 0.1161 - accuracy: 0.9480 - val_loss: 0.8627 - val_accuracy: 0.6980\n",
            "Epoch 42/150\n",
            "22/22 [==============================] - 0s 17ms/step - loss: 0.1548 - accuracy: 0.9538 - val_loss: 1.5247 - val_accuracy: 0.6779\n",
            "Epoch 43/150\n",
            "22/22 [==============================] - 0s 15ms/step - loss: 0.0602 - accuracy: 0.9855 - val_loss: 1.8296 - val_accuracy: 0.6577\n",
            "Epoch 44/150\n",
            "22/22 [==============================] - 0s 16ms/step - loss: 0.0260 - accuracy: 0.9971 - val_loss: 1.7641 - val_accuracy: 0.6913\n",
            "Epoch 45/150\n",
            "22/22 [==============================] - 0s 16ms/step - loss: 0.0245 - accuracy: 0.9942 - val_loss: 1.7599 - val_accuracy: 0.7114\n",
            "Epoch 46/150\n",
            "22/22 [==============================] - 0s 15ms/step - loss: 0.0317 - accuracy: 0.9855 - val_loss: 2.6437 - val_accuracy: 0.6644\n",
            "Epoch 47/150\n",
            "22/22 [==============================] - 0s 16ms/step - loss: 0.0998 - accuracy: 0.9653 - val_loss: 3.0076 - val_accuracy: 0.6174\n",
            "Epoch 48/150\n",
            "22/22 [==============================] - 0s 15ms/step - loss: 0.1303 - accuracy: 0.9509 - val_loss: 3.4578 - val_accuracy: 0.6242\n",
            "Epoch 49/150\n",
            "22/22 [==============================] - 0s 15ms/step - loss: 0.1340 - accuracy: 0.9480 - val_loss: 3.4722 - val_accuracy: 0.6309\n",
            "Epoch 50/150\n",
            "22/22 [==============================] - 0s 16ms/step - loss: 0.0590 - accuracy: 0.9769 - val_loss: 6.5614 - val_accuracy: 0.6242\n",
            "Epoch 51/150\n",
            "22/22 [==============================] - 0s 16ms/step - loss: 0.0646 - accuracy: 0.9769 - val_loss: 3.1526 - val_accuracy: 0.7114\n",
            "Epoch 52/150\n",
            "22/22 [==============================] - 0s 15ms/step - loss: 0.0242 - accuracy: 0.9942 - val_loss: 1.6035 - val_accuracy: 0.7181\n",
            "Epoch 53/150\n",
            "22/22 [==============================] - 0s 15ms/step - loss: 0.0280 - accuracy: 0.9942 - val_loss: 3.0212 - val_accuracy: 0.6443\n",
            "Epoch 54/150\n",
            "22/22 [==============================] - 0s 16ms/step - loss: 0.0128 - accuracy: 0.9971 - val_loss: 1.8050 - val_accuracy: 0.7114\n",
            "Epoch 55/150\n",
            "22/22 [==============================] - 0s 15ms/step - loss: 0.0094 - accuracy: 1.0000 - val_loss: 1.3343 - val_accuracy: 0.7181\n",
            "Epoch 56/150\n",
            "22/22 [==============================] - 0s 15ms/step - loss: 0.0161 - accuracy: 0.9913 - val_loss: 2.7648 - val_accuracy: 0.6980\n",
            "Epoch 57/150\n",
            "22/22 [==============================] - 0s 15ms/step - loss: 0.0220 - accuracy: 0.9884 - val_loss: 2.5981 - val_accuracy: 0.6443\n",
            "Epoch 58/150\n",
            "22/22 [==============================] - 0s 15ms/step - loss: 0.0263 - accuracy: 0.9942 - val_loss: 5.1050 - val_accuracy: 0.5772\n",
            "Epoch 59/150\n",
            "22/22 [==============================] - 0s 15ms/step - loss: 0.0654 - accuracy: 0.9769 - val_loss: 2.6778 - val_accuracy: 0.6040\n",
            "Epoch 60/150\n",
            "22/22 [==============================] - 0s 17ms/step - loss: 0.0461 - accuracy: 0.9942 - val_loss: 2.9331 - val_accuracy: 0.6779\n",
            "Epoch 61/150\n",
            "22/22 [==============================] - 0s 14ms/step - loss: 0.0334 - accuracy: 0.9884 - val_loss: 1.2984 - val_accuracy: 0.7584\n",
            "Epoch 62/150\n",
            "22/22 [==============================] - 0s 16ms/step - loss: 0.0316 - accuracy: 0.9913 - val_loss: 3.7507 - val_accuracy: 0.6174\n",
            "Epoch 63/150\n",
            "22/22 [==============================] - 0s 15ms/step - loss: 0.0354 - accuracy: 0.9827 - val_loss: 1.7940 - val_accuracy: 0.6846\n",
            "Epoch 64/150\n",
            "22/22 [==============================] - 0s 15ms/step - loss: 0.0226 - accuracy: 0.9971 - val_loss: 1.7519 - val_accuracy: 0.7181\n",
            "Epoch 65/150\n",
            "22/22 [==============================] - 0s 16ms/step - loss: 0.0094 - accuracy: 1.0000 - val_loss: 1.5395 - val_accuracy: 0.7383\n",
            "Epoch 66/150\n",
            "22/22 [==============================] - 0s 16ms/step - loss: 0.0171 - accuracy: 0.9913 - val_loss: 1.5209 - val_accuracy: 0.7248\n",
            "Epoch 67/150\n",
            "22/22 [==============================] - 0s 15ms/step - loss: 0.0038 - accuracy: 1.0000 - val_loss: 1.7545 - val_accuracy: 0.7450\n",
            "Epoch 68/150\n",
            "22/22 [==============================] - 0s 15ms/step - loss: 0.0185 - accuracy: 0.9942 - val_loss: 2.1103 - val_accuracy: 0.6711\n",
            "Epoch 69/150\n",
            "22/22 [==============================] - 0s 16ms/step - loss: 0.0319 - accuracy: 0.9884 - val_loss: 1.8661 - val_accuracy: 0.7718\n",
            "Epoch 70/150\n",
            "22/22 [==============================] - 0s 16ms/step - loss: 0.1386 - accuracy: 0.9480 - val_loss: 9.7563 - val_accuracy: 0.5302\n",
            "Epoch 71/150\n",
            "22/22 [==============================] - 0s 15ms/step - loss: 0.1034 - accuracy: 0.9538 - val_loss: 2.2054 - val_accuracy: 0.6711\n",
            "Epoch 72/150\n",
            "22/22 [==============================] - 0s 15ms/step - loss: 0.1657 - accuracy: 0.9277 - val_loss: 1.2507 - val_accuracy: 0.6913\n",
            "Epoch 73/150\n",
            "22/22 [==============================] - 0s 15ms/step - loss: 0.0570 - accuracy: 0.9827 - val_loss: 1.1374 - val_accuracy: 0.6644\n",
            "Epoch 74/150\n",
            "22/22 [==============================] - 0s 15ms/step - loss: 0.0742 - accuracy: 0.9653 - val_loss: 1.0072 - val_accuracy: 0.7383\n",
            "Epoch 75/150\n",
            "22/22 [==============================] - 0s 16ms/step - loss: 0.0272 - accuracy: 0.9942 - val_loss: 1.1176 - val_accuracy: 0.7315\n",
            "Epoch 76/150\n",
            "22/22 [==============================] - 0s 15ms/step - loss: 0.0092 - accuracy: 1.0000 - val_loss: 1.3142 - val_accuracy: 0.7450\n",
            "Epoch 77/150\n",
            "22/22 [==============================] - 0s 15ms/step - loss: 0.0146 - accuracy: 0.9942 - val_loss: 1.2452 - val_accuracy: 0.7651\n",
            "Epoch 78/150\n",
            "22/22 [==============================] - 0s 17ms/step - loss: 0.0084 - accuracy: 0.9971 - val_loss: 1.3837 - val_accuracy: 0.7181\n",
            "Epoch 79/150\n",
            "22/22 [==============================] - 0s 15ms/step - loss: 0.0210 - accuracy: 0.9971 - val_loss: 2.8983 - val_accuracy: 0.6711\n",
            "Epoch 80/150\n",
            "22/22 [==============================] - 0s 15ms/step - loss: 0.0361 - accuracy: 0.9884 - val_loss: 1.7094 - val_accuracy: 0.6443\n",
            "Epoch 81/150\n",
            "22/22 [==============================] - 0s 15ms/step - loss: 0.0317 - accuracy: 0.9913 - val_loss: 2.1037 - val_accuracy: 0.6443\n",
            "Epoch 82/150\n",
            "22/22 [==============================] - 0s 15ms/step - loss: 0.0216 - accuracy: 0.9942 - val_loss: 2.9547 - val_accuracy: 0.6644\n",
            "Epoch 83/150\n",
            "22/22 [==============================] - 0s 15ms/step - loss: 0.0154 - accuracy: 0.9942 - val_loss: 6.7927 - val_accuracy: 0.6309\n",
            "Epoch 84/150\n",
            "22/22 [==============================] - 0s 15ms/step - loss: 0.0142 - accuracy: 0.9971 - val_loss: 3.6645 - val_accuracy: 0.7114\n",
            "Epoch 85/150\n",
            "22/22 [==============================] - 0s 16ms/step - loss: 0.0026 - accuracy: 1.0000 - val_loss: 2.2492 - val_accuracy: 0.7450\n",
            "Epoch 86/150\n",
            "22/22 [==============================] - 0s 16ms/step - loss: 0.0052 - accuracy: 1.0000 - val_loss: 2.4576 - val_accuracy: 0.7248\n",
            "Epoch 87/150\n",
            "22/22 [==============================] - 0s 15ms/step - loss: 0.0038 - accuracy: 1.0000 - val_loss: 2.6598 - val_accuracy: 0.7315\n",
            "Epoch 88/150\n",
            "22/22 [==============================] - 0s 16ms/step - loss: 0.0026 - accuracy: 1.0000 - val_loss: 3.0813 - val_accuracy: 0.7114\n",
            "Epoch 89/150\n",
            "22/22 [==============================] - 0s 15ms/step - loss: 0.0019 - accuracy: 1.0000 - val_loss: 2.8934 - val_accuracy: 0.7248\n",
            "Epoch 90/150\n",
            "22/22 [==============================] - 0s 15ms/step - loss: 0.0016 - accuracy: 1.0000 - val_loss: 1.6441 - val_accuracy: 0.7651\n",
            "Epoch 91/150\n",
            "22/22 [==============================] - 0s 15ms/step - loss: 0.0011 - accuracy: 1.0000 - val_loss: 1.6236 - val_accuracy: 0.7517\n",
            "Epoch 92/150\n",
            "22/22 [==============================] - 0s 15ms/step - loss: 0.0079 - accuracy: 0.9971 - val_loss: 1.4346 - val_accuracy: 0.8054\n",
            "Epoch 93/150\n",
            "22/22 [==============================] - 0s 16ms/step - loss: 0.0363 - accuracy: 0.9798 - val_loss: 1.6499 - val_accuracy: 0.7852\n",
            "Epoch 94/150\n",
            "22/22 [==============================] - 0s 16ms/step - loss: 0.0094 - accuracy: 0.9971 - val_loss: 2.3761 - val_accuracy: 0.6510\n",
            "Epoch 95/150\n",
            "22/22 [==============================] - 0s 15ms/step - loss: 0.0191 - accuracy: 0.9942 - val_loss: 1.9744 - val_accuracy: 0.7450\n",
            "Epoch 96/150\n",
            "22/22 [==============================] - 0s 17ms/step - loss: 0.0187 - accuracy: 0.9942 - val_loss: 2.1733 - val_accuracy: 0.6846\n",
            "Epoch 97/150\n",
            "22/22 [==============================] - 0s 15ms/step - loss: 0.0288 - accuracy: 0.9884 - val_loss: 4.7452 - val_accuracy: 0.6040\n",
            "Epoch 98/150\n",
            "22/22 [==============================] - 0s 15ms/step - loss: 0.0380 - accuracy: 0.9913 - val_loss: 3.9514 - val_accuracy: 0.6376\n",
            "Epoch 99/150\n",
            "22/22 [==============================] - 0s 15ms/step - loss: 0.0342 - accuracy: 0.9798 - val_loss: 2.3461 - val_accuracy: 0.6846\n",
            "Epoch 100/150\n",
            "22/22 [==============================] - 0s 16ms/step - loss: 0.0444 - accuracy: 0.9827 - val_loss: 2.5072 - val_accuracy: 0.6443\n",
            "Epoch 101/150\n",
            "22/22 [==============================] - 0s 15ms/step - loss: 0.0215 - accuracy: 0.9884 - val_loss: 6.4216 - val_accuracy: 0.5503\n",
            "Epoch 102/150\n",
            "22/22 [==============================] - 0s 15ms/step - loss: 0.0921 - accuracy: 0.9653 - val_loss: 6.8880 - val_accuracy: 0.5503\n",
            "Epoch 103/150\n",
            "22/22 [==============================] - 0s 16ms/step - loss: 0.0835 - accuracy: 0.9711 - val_loss: 2.5451 - val_accuracy: 0.5570\n",
            "Epoch 104/150\n",
            "22/22 [==============================] - 0s 16ms/step - loss: 0.0569 - accuracy: 0.9769 - val_loss: 14.5367 - val_accuracy: 0.5302\n",
            "Epoch 105/150\n",
            "22/22 [==============================] - 0s 16ms/step - loss: 0.0813 - accuracy: 0.9682 - val_loss: 34.3373 - val_accuracy: 0.5302\n",
            "Epoch 106/150\n",
            "22/22 [==============================] - 0s 16ms/step - loss: 0.1138 - accuracy: 0.9538 - val_loss: 5.8549 - val_accuracy: 0.5503\n",
            "Epoch 107/150\n",
            "22/22 [==============================] - 0s 16ms/step - loss: 0.1083 - accuracy: 0.9595 - val_loss: 7.1837 - val_accuracy: 0.5302\n",
            "Epoch 108/150\n",
            "22/22 [==============================] - 0s 15ms/step - loss: 0.0277 - accuracy: 0.9913 - val_loss: 6.7136 - val_accuracy: 0.5570\n",
            "Epoch 109/150\n",
            "22/22 [==============================] - 0s 15ms/step - loss: 0.0116 - accuracy: 0.9971 - val_loss: 2.2631 - val_accuracy: 0.6644\n",
            "Epoch 110/150\n",
            "22/22 [==============================] - 0s 15ms/step - loss: 0.0125 - accuracy: 0.9971 - val_loss: 1.7759 - val_accuracy: 0.6846\n",
            "Epoch 111/150\n",
            "22/22 [==============================] - 0s 15ms/step - loss: 0.0112 - accuracy: 0.9971 - val_loss: 2.8335 - val_accuracy: 0.6577\n",
            "Epoch 112/150\n",
            "22/22 [==============================] - 0s 15ms/step - loss: 0.0041 - accuracy: 1.0000 - val_loss: 4.0289 - val_accuracy: 0.5906\n",
            "Epoch 113/150\n",
            "22/22 [==============================] - 0s 16ms/step - loss: 0.0049 - accuracy: 1.0000 - val_loss: 3.0731 - val_accuracy: 0.6779\n",
            "Epoch 114/150\n",
            "22/22 [==============================] - 0s 15ms/step - loss: 0.0040 - accuracy: 1.0000 - val_loss: 5.2607 - val_accuracy: 0.6174\n",
            "Epoch 115/150\n",
            "22/22 [==============================] - 0s 16ms/step - loss: 0.0014 - accuracy: 1.0000 - val_loss: 5.7953 - val_accuracy: 0.5973\n",
            "Epoch 116/150\n",
            "22/22 [==============================] - 0s 16ms/step - loss: 0.0015 - accuracy: 1.0000 - val_loss: 4.5314 - val_accuracy: 0.6376\n",
            "Epoch 117/150\n",
            "22/22 [==============================] - 0s 15ms/step - loss: 8.1093e-04 - accuracy: 1.0000 - val_loss: 3.6099 - val_accuracy: 0.6174\n",
            "Epoch 118/150\n",
            "22/22 [==============================] - 0s 15ms/step - loss: 0.0015 - accuracy: 1.0000 - val_loss: 3.0947 - val_accuracy: 0.6376\n",
            "Epoch 119/150\n",
            "22/22 [==============================] - 0s 16ms/step - loss: 7.2750e-04 - accuracy: 1.0000 - val_loss: 2.8546 - val_accuracy: 0.6510\n",
            "Epoch 120/150\n",
            "22/22 [==============================] - 0s 15ms/step - loss: 0.0011 - accuracy: 1.0000 - val_loss: 2.5100 - val_accuracy: 0.6711\n",
            "Epoch 121/150\n",
            "22/22 [==============================] - 0s 15ms/step - loss: 8.3216e-04 - accuracy: 1.0000 - val_loss: 2.0228 - val_accuracy: 0.7383\n",
            "Epoch 122/150\n",
            "22/22 [==============================] - 0s 15ms/step - loss: 6.0291e-04 - accuracy: 1.0000 - val_loss: 1.9409 - val_accuracy: 0.7248\n",
            "Epoch 123/150\n",
            "22/22 [==============================] - 0s 15ms/step - loss: 5.6898e-04 - accuracy: 1.0000 - val_loss: 1.9010 - val_accuracy: 0.7584\n",
            "Epoch 124/150\n",
            "22/22 [==============================] - 0s 15ms/step - loss: 2.7647e-04 - accuracy: 1.0000 - val_loss: 1.9002 - val_accuracy: 0.7584\n",
            "Epoch 125/150\n",
            "22/22 [==============================] - 0s 15ms/step - loss: 7.6168e-04 - accuracy: 1.0000 - val_loss: 1.9205 - val_accuracy: 0.7584\n",
            "Epoch 126/150\n",
            "22/22 [==============================] - 0s 15ms/step - loss: 8.1955e-04 - accuracy: 1.0000 - val_loss: 1.9881 - val_accuracy: 0.7450\n",
            "Epoch 127/150\n",
            "22/22 [==============================] - 0s 15ms/step - loss: 0.0016 - accuracy: 1.0000 - val_loss: 2.3284 - val_accuracy: 0.7181\n",
            "Epoch 128/150\n",
            "22/22 [==============================] - 0s 16ms/step - loss: 6.8930e-04 - accuracy: 1.0000 - val_loss: 2.1733 - val_accuracy: 0.7315\n",
            "Epoch 129/150\n",
            "22/22 [==============================] - 0s 15ms/step - loss: 4.9278e-04 - accuracy: 1.0000 - val_loss: 2.0922 - val_accuracy: 0.7517\n",
            "Epoch 130/150\n",
            "22/22 [==============================] - 0s 15ms/step - loss: 0.0031 - accuracy: 0.9971 - val_loss: 1.9957 - val_accuracy: 0.6577\n",
            "Epoch 131/150\n",
            "22/22 [==============================] - 0s 15ms/step - loss: 0.0075 - accuracy: 0.9971 - val_loss: 2.8968 - val_accuracy: 0.6644\n",
            "Epoch 132/150\n",
            "22/22 [==============================] - 0s 16ms/step - loss: 0.0039 - accuracy: 1.0000 - val_loss: 6.9157 - val_accuracy: 0.6107\n",
            "Epoch 133/150\n",
            "22/22 [==============================] - 0s 16ms/step - loss: 0.0024 - accuracy: 1.0000 - val_loss: 6.3876 - val_accuracy: 0.5772\n",
            "Epoch 134/150\n",
            "22/22 [==============================] - 0s 16ms/step - loss: 0.0012 - accuracy: 1.0000 - val_loss: 4.6885 - val_accuracy: 0.6242\n",
            "Epoch 135/150\n",
            "22/22 [==============================] - 0s 15ms/step - loss: 0.0025 - accuracy: 1.0000 - val_loss: 2.5781 - val_accuracy: 0.6577\n",
            "Epoch 136/150\n",
            "22/22 [==============================] - 0s 15ms/step - loss: 0.0011 - accuracy: 1.0000 - val_loss: 2.4401 - val_accuracy: 0.6913\n",
            "Epoch 137/150\n",
            "22/22 [==============================] - 0s 16ms/step - loss: 7.8439e-04 - accuracy: 1.0000 - val_loss: 3.0658 - val_accuracy: 0.6510\n",
            "Epoch 138/150\n",
            "22/22 [==============================] - 0s 16ms/step - loss: 7.9595e-04 - accuracy: 1.0000 - val_loss: 2.9188 - val_accuracy: 0.6913\n",
            "Epoch 139/150\n",
            "22/22 [==============================] - 0s 15ms/step - loss: 3.4574e-04 - accuracy: 1.0000 - val_loss: 2.6569 - val_accuracy: 0.6980\n",
            "Epoch 140/150\n",
            "22/22 [==============================] - 0s 17ms/step - loss: 0.0018 - accuracy: 1.0000 - val_loss: 1.9303 - val_accuracy: 0.7450\n",
            "Epoch 141/150\n",
            "22/22 [==============================] - 0s 15ms/step - loss: 0.0038 - accuracy: 0.9971 - val_loss: 1.8707 - val_accuracy: 0.7114\n",
            "Epoch 142/150\n",
            "22/22 [==============================] - 0s 15ms/step - loss: 4.9486e-04 - accuracy: 1.0000 - val_loss: 1.9485 - val_accuracy: 0.7181\n",
            "Epoch 143/150\n",
            "22/22 [==============================] - 0s 16ms/step - loss: 5.9312e-04 - accuracy: 1.0000 - val_loss: 1.9784 - val_accuracy: 0.7248\n",
            "Epoch 144/150\n",
            "22/22 [==============================] - 0s 15ms/step - loss: 3.0336e-04 - accuracy: 1.0000 - val_loss: 2.0324 - val_accuracy: 0.7315\n",
            "Epoch 145/150\n",
            "22/22 [==============================] - 0s 16ms/step - loss: 5.2658e-04 - accuracy: 1.0000 - val_loss: 2.0688 - val_accuracy: 0.7450\n",
            "Epoch 146/150\n",
            "22/22 [==============================] - 0s 16ms/step - loss: 2.5905e-04 - accuracy: 1.0000 - val_loss: 2.1062 - val_accuracy: 0.7450\n",
            "Epoch 147/150\n",
            "22/22 [==============================] - 0s 15ms/step - loss: 4.8814e-04 - accuracy: 1.0000 - val_loss: 2.0778 - val_accuracy: 0.7248\n",
            "Epoch 148/150\n",
            "22/22 [==============================] - 0s 16ms/step - loss: 1.5667e-04 - accuracy: 1.0000 - val_loss: 2.0907 - val_accuracy: 0.7315\n",
            "Epoch 149/150\n",
            "22/22 [==============================] - 0s 15ms/step - loss: 2.4154e-04 - accuracy: 1.0000 - val_loss: 2.1137 - val_accuracy: 0.7315\n",
            "Epoch 150/150\n",
            "22/22 [==============================] - 0s 17ms/step - loss: 6.3238e-04 - accuracy: 1.0000 - val_loss: 2.2538 - val_accuracy: 0.7114\n"
          ],
          "name": "stdout"
        }
      ]
    },
    {
      "cell_type": "code",
      "metadata": {
        "colab": {
          "base_uri": "https://localhost:8080/",
          "height": 295
        },
        "id": "SKqzztQDpF01",
        "outputId": "abc8ec3c-1f4c-4600-a5b6-f216f9a7a21b"
      },
      "source": [
        "import os\n",
        "import seaborn as sns\n",
        "#plot the training and validation accuracy and loss at each epoch\n",
        "loss = history.history['loss']\n",
        "val_loss = history.history['val_loss']\n",
        "epochs = range(1, len(loss) + 1)\n",
        "plt.plot(epochs, loss, 'y', label='Training loss')\n",
        "plt.plot(epochs, val_loss, 'r', label='Validation loss')\n",
        "plt.title('Training and validation loss')\n",
        "plt.xlabel('Epochs')\n",
        "plt.ylabel('Loss')\n",
        "plt.legend()\n",
        "plt.show()"
      ],
      "execution_count": 58,
      "outputs": [
        {
          "output_type": "display_data",
          "data": {
            "image/png": "[encoded data removed]",
            "text/plain": [
              "<Figure size 432x288 with 1 Axes>"
            ]
          },
          "metadata": {
            "needs_background": "light"
          }
        }
      ]
    },
    {
      "cell_type": "code",
      "metadata": {
        "colab": {
          "base_uri": "https://localhost:8080/",
          "height": 295
        },
        "id": "9mpZlD41pF4A",
        "outputId": "76df0c62-a116-47ba-d2c8-46b7fc973be6"
      },
      "source": [
        "acc = history.history['accuracy']\n",
        "val_acc = history.history['val_accuracy']\n",
        "plt.plot(epochs, acc, 'y', label='Training acc')\n",
        "plt.plot(epochs, val_acc, 'r', label='Validation acc')\n",
        "plt.title('Training and validation accuracy')\n",
        "plt.xlabel('Epochs')\n",
        "plt.ylabel('Accuracy')\n",
        "plt.legend()\n",
        "plt.show()"
      ],
      "execution_count": 59,
      "outputs": [
        {
          "output_type": "display_data",
          "data": {
            "image/png": "[encoded data removed]",
            "text/plain": [
              "<Figure size 432x288 with 1 Axes>"
            ]
          },
          "metadata": {
            "needs_background": "light"
          }
        }
      ]
    },
    {
      "cell_type": "code",
      "metadata": {
        "colab": {
          "base_uri": "https://localhost:8080/",
          "height": 332
        },
        "id": "D-PzHWUjpF7H",
        "outputId": "97c737c4-62bb-4344-f3a9-3130e85c2b37"
      },
      "source": [
        "prediction_NN = model.predict(xTest11)\n",
        "prediction_NN = np.argmax(prediction_NN, axis=-1)\n",
        "#Print overall accuracy\n",
        "from sklearn import metrics\n",
        "print (\"Accuracy = \", metrics.accuracy_score(yTest1, prediction_NN))\n",
        "#Confusion Matrix - verify accuracy of each class\n",
        "from sklearn.metrics import confusion_matrix\n",
        "cm = confusion_matrix(yTest1, prediction_NN)\n",
        "print(cm)\n",
        "sns.heatmap(cm, annot=True)"
      ],
      "execution_count": 60,
      "outputs": [
        {
          "output_type": "stream",
          "text": [
            "Accuracy =  0.7114093959731543\n",
            "[[49 21]\n",
            " [22 57]]\n"
          ],
          "name": "stdout"
        },
        {
          "output_type": "execute_result",
          "data": {
            "text/plain": [
              "<matplotlib.axes._subplots.AxesSubplot at 0x7f9abd1b69d0>"
            ]
          },
          "metadata": {},
          "execution_count": 60
        },
        {
          "output_type": "display_data",
          "data": {
            "image/png": "[encoded data removed]",
            "text/plain": [
              "<Figure size 432x288 with 2 Axes>"
            ]
          },
          "metadata": {
            "needs_background": "light"
          }
        }
      ]
    },
    {
      "cell_type": "code",
      "metadata": {
        "colab": {
          "base_uri": "https://localhost:8080/"
        },
        "id": "kRN2ooNbfptj",
        "outputId": "770e12c0-c91d-4a95-fecd-ca081d05a4c0"
      },
      "source": [
        "from keras.callbacks import EarlyStopping\n",
        "#set early stopping monitor so the model stops training when it won't improve anymore\n",
        "early_stopping_monitor = EarlyStopping(patience=500)\n",
        "\n",
        "#train model\n",
        "history=model.fit(xTrain11, yTrain11, validation_data = (xTest11, yTest11), epochs=50, batch_size=16)\n"
      ],
      "execution_count": 61,
      "outputs": [
        {
          "output_type": "stream",
          "text": [
            "Epoch 1/50\n",
            "22/22 [==============================] - 0s 18ms/step - loss: 3.0604e-04 - accuracy: 1.0000 - val_loss: 2.7281 - val_accuracy: 0.7315\n",
            "Epoch 2/50\n",
            "22/22 [==============================] - 0s 15ms/step - loss: 0.0017 - accuracy: 1.0000 - val_loss: 4.1830 - val_accuracy: 0.6980\n",
            "Epoch 3/50\n",
            "22/22 [==============================] - 0s 15ms/step - loss: 2.7542e-04 - accuracy: 1.0000 - val_loss: 3.3061 - val_accuracy: 0.7181\n",
            "Epoch 4/50\n",
            "22/22 [==============================] - 0s 16ms/step - loss: 2.5844e-04 - accuracy: 1.0000 - val_loss: 2.8815 - val_accuracy: 0.7248\n",
            "Epoch 5/50\n",
            "22/22 [==============================] - 0s 15ms/step - loss: 2.1586e-04 - accuracy: 1.0000 - val_loss: 2.6627 - val_accuracy: 0.7315\n",
            "Epoch 6/50\n",
            "22/22 [==============================] - 0s 16ms/step - loss: 4.4356e-05 - accuracy: 1.0000 - val_loss: 2.5193 - val_accuracy: 0.7248\n",
            "Epoch 7/50\n",
            "22/22 [==============================] - 0s 16ms/step - loss: 9.3324e-05 - accuracy: 1.0000 - val_loss: 2.4833 - val_accuracy: 0.7315\n",
            "Epoch 8/50\n",
            "22/22 [==============================] - 0s 15ms/step - loss: 9.4390e-05 - accuracy: 1.0000 - val_loss: 2.4491 - val_accuracy: 0.7450\n",
            "Epoch 9/50\n",
            "22/22 [==============================] - 0s 16ms/step - loss: 1.4316e-04 - accuracy: 1.0000 - val_loss: 2.4643 - val_accuracy: 0.7517\n",
            "Epoch 10/50\n",
            "22/22 [==============================] - 0s 15ms/step - loss: 8.1603e-04 - accuracy: 1.0000 - val_loss: 2.2801 - val_accuracy: 0.7517\n",
            "Epoch 11/50\n",
            "22/22 [==============================] - 0s 16ms/step - loss: 2.8964e-04 - accuracy: 1.0000 - val_loss: 2.2665 - val_accuracy: 0.7651\n",
            "Epoch 12/50\n",
            "22/22 [==============================] - 0s 15ms/step - loss: 2.3281e-04 - accuracy: 1.0000 - val_loss: 2.2804 - val_accuracy: 0.7383\n",
            "Epoch 13/50\n",
            "22/22 [==============================] - 0s 15ms/step - loss: 1.3595e-04 - accuracy: 1.0000 - val_loss: 2.3714 - val_accuracy: 0.7383\n",
            "Epoch 14/50\n",
            "22/22 [==============================] - 0s 15ms/step - loss: 1.9530e-04 - accuracy: 1.0000 - val_loss: 2.3560 - val_accuracy: 0.7248\n",
            "Epoch 15/50\n",
            "22/22 [==============================] - 0s 16ms/step - loss: 2.3481e-04 - accuracy: 1.0000 - val_loss: 2.3943 - val_accuracy: 0.7315\n",
            "Epoch 16/50\n",
            "22/22 [==============================] - 0s 15ms/step - loss: 8.1192e-05 - accuracy: 1.0000 - val_loss: 2.3704 - val_accuracy: 0.7248\n",
            "Epoch 17/50\n",
            "22/22 [==============================] - 0s 15ms/step - loss: 1.5711e-04 - accuracy: 1.0000 - val_loss: 2.3741 - val_accuracy: 0.7315\n",
            "Epoch 18/50\n",
            "22/22 [==============================] - 0s 14ms/step - loss: 7.9403e-05 - accuracy: 1.0000 - val_loss: 2.3968 - val_accuracy: 0.7383\n",
            "Epoch 19/50\n",
            "22/22 [==============================] - 0s 15ms/step - loss: 8.7268e-05 - accuracy: 1.0000 - val_loss: 2.3857 - val_accuracy: 0.7383\n",
            "Epoch 20/50\n",
            "22/22 [==============================] - 0s 15ms/step - loss: 7.6591e-05 - accuracy: 1.0000 - val_loss: 2.3925 - val_accuracy: 0.7450\n",
            "Epoch 21/50\n",
            "22/22 [==============================] - 0s 15ms/step - loss: 2.4230e-04 - accuracy: 1.0000 - val_loss: 2.4350 - val_accuracy: 0.7450\n",
            "Epoch 22/50\n",
            "22/22 [==============================] - 0s 15ms/step - loss: 1.5897e-04 - accuracy: 1.0000 - val_loss: 2.4628 - val_accuracy: 0.7383\n",
            "Epoch 23/50\n",
            "22/22 [==============================] - 0s 15ms/step - loss: 1.2307e-04 - accuracy: 1.0000 - val_loss: 2.4634 - val_accuracy: 0.7450\n",
            "Epoch 24/50\n",
            "22/22 [==============================] - 0s 15ms/step - loss: 0.0058 - accuracy: 0.9971 - val_loss: 6.7700 - val_accuracy: 0.5705\n",
            "Epoch 25/50\n",
            "22/22 [==============================] - 0s 14ms/step - loss: 0.1408 - accuracy: 0.9595 - val_loss: 30.1815 - val_accuracy: 0.5302\n",
            "Epoch 26/50\n",
            "22/22 [==============================] - 0s 16ms/step - loss: 0.1847 - accuracy: 0.9393 - val_loss: 61.8164 - val_accuracy: 0.5302\n",
            "Epoch 27/50\n",
            "22/22 [==============================] - 0s 15ms/step - loss: 0.1013 - accuracy: 0.9624 - val_loss: 75.5188 - val_accuracy: 0.5302\n",
            "Epoch 28/50\n",
            "22/22 [==============================] - 0s 15ms/step - loss: 0.1151 - accuracy: 0.9509 - val_loss: 62.2007 - val_accuracy: 0.5302\n",
            "Epoch 29/50\n",
            "22/22 [==============================] - 0s 14ms/step - loss: 0.1012 - accuracy: 0.9740 - val_loss: 3.1147 - val_accuracy: 0.6242\n",
            "Epoch 30/50\n",
            "22/22 [==============================] - 0s 16ms/step - loss: 0.0739 - accuracy: 0.9769 - val_loss: 2.6495 - val_accuracy: 0.6174\n",
            "Epoch 31/50\n",
            "22/22 [==============================] - 0s 14ms/step - loss: 0.0294 - accuracy: 0.9913 - val_loss: 5.3111 - val_accuracy: 0.5906\n",
            "Epoch 32/50\n",
            "22/22 [==============================] - 0s 15ms/step - loss: 0.0098 - accuracy: 1.0000 - val_loss: 7.0736 - val_accuracy: 0.5772\n",
            "Epoch 33/50\n",
            "22/22 [==============================] - 0s 14ms/step - loss: 0.0068 - accuracy: 1.0000 - val_loss: 4.7873 - val_accuracy: 0.6443\n",
            "Epoch 34/50\n",
            "22/22 [==============================] - 0s 14ms/step - loss: 0.0034 - accuracy: 1.0000 - val_loss: 4.2798 - val_accuracy: 0.6443\n",
            "Epoch 35/50\n",
            "22/22 [==============================] - 0s 15ms/step - loss: 0.0014 - accuracy: 1.0000 - val_loss: 3.9575 - val_accuracy: 0.6376\n",
            "Epoch 36/50\n",
            "22/22 [==============================] - 0s 14ms/step - loss: 8.4780e-04 - accuracy: 1.0000 - val_loss: 3.2046 - val_accuracy: 0.6510\n",
            "Epoch 37/50\n",
            "22/22 [==============================] - 0s 14ms/step - loss: 0.0010 - accuracy: 1.0000 - val_loss: 2.3991 - val_accuracy: 0.6913\n",
            "Epoch 38/50\n",
            "22/22 [==============================] - 0s 15ms/step - loss: 6.0653e-04 - accuracy: 1.0000 - val_loss: 2.0806 - val_accuracy: 0.7383\n",
            "Epoch 39/50\n",
            "22/22 [==============================] - 0s 14ms/step - loss: 0.0015 - accuracy: 1.0000 - val_loss: 1.9753 - val_accuracy: 0.7315\n",
            "Epoch 40/50\n",
            "22/22 [==============================] - 0s 14ms/step - loss: 0.0011 - accuracy: 1.0000 - val_loss: 2.2397 - val_accuracy: 0.7181\n",
            "Epoch 41/50\n",
            "22/22 [==============================] - 0s 15ms/step - loss: 9.8605e-04 - accuracy: 1.0000 - val_loss: 2.1516 - val_accuracy: 0.7181\n",
            "Epoch 42/50\n",
            "22/22 [==============================] - 0s 15ms/step - loss: 0.0017 - accuracy: 1.0000 - val_loss: 1.9408 - val_accuracy: 0.7047\n",
            "Epoch 43/50\n",
            "22/22 [==============================] - 0s 14ms/step - loss: 7.3828e-04 - accuracy: 1.0000 - val_loss: 1.9233 - val_accuracy: 0.6779\n",
            "Epoch 44/50\n",
            "22/22 [==============================] - 0s 14ms/step - loss: 7.9473e-04 - accuracy: 1.0000 - val_loss: 1.9148 - val_accuracy: 0.6913\n",
            "Epoch 45/50\n",
            "22/22 [==============================] - 0s 15ms/step - loss: 9.9647e-04 - accuracy: 1.0000 - val_loss: 1.9404 - val_accuracy: 0.7248\n",
            "Epoch 46/50\n",
            "22/22 [==============================] - 0s 14ms/step - loss: 4.8109e-04 - accuracy: 1.0000 - val_loss: 1.9775 - val_accuracy: 0.7315\n",
            "Epoch 47/50\n",
            "22/22 [==============================] - 0s 15ms/step - loss: 3.8498e-04 - accuracy: 1.0000 - val_loss: 1.9911 - val_accuracy: 0.7383\n",
            "Epoch 48/50\n",
            "22/22 [==============================] - 0s 16ms/step - loss: 0.0040 - accuracy: 1.0000 - val_loss: 2.2826 - val_accuracy: 0.7114\n",
            "Epoch 49/50\n",
            "22/22 [==============================] - 0s 15ms/step - loss: 5.2217e-04 - accuracy: 1.0000 - val_loss: 1.9651 - val_accuracy: 0.7584\n",
            "Epoch 50/50\n",
            "22/22 [==============================] - 0s 14ms/step - loss: 0.0066 - accuracy: 0.9971 - val_loss: 1.8108 - val_accuracy: 0.7315\n"
          ],
          "name": "stdout"
        }
      ]
    },
    {
      "cell_type": "code",
      "metadata": {
        "colab": {
          "base_uri": "https://localhost:8080/",
          "height": 332
        },
        "id": "tPwbNe9QgPqb",
        "outputId": "27491626-ddec-4dd6-be3d-e9df2fc6fc0b"
      },
      "source": [
        "prediction_NN = model.predict(xTest11)\n",
        "prediction_NN = np.argmax(prediction_NN, axis=-1)\n",
        "#Print overall accuracy\n",
        "from sklearn import metrics\n",
        "print (\"Accuracy = \", metrics.accuracy_score(yTest1, prediction_NN))\n",
        "#Confusion Matrix - verify accuracy of each class\n",
        "from sklearn.metrics import confusion_matrix\n",
        "cm = confusion_matrix(yTest1, prediction_NN)\n",
        "print(cm)\n",
        "sns.heatmap(cm, annot=True)"
      ],
      "execution_count": 62,
      "outputs": [
        {
          "output_type": "stream",
          "text": [
            "Accuracy =  0.7315436241610739\n",
            "[[43 27]\n",
            " [13 66]]\n"
          ],
          "name": "stdout"
        },
        {
          "output_type": "execute_result",
          "data": {
            "text/plain": [
              "<matplotlib.axes._subplots.AxesSubplot at 0x7f9abc38f2d0>"
            ]
          },
          "metadata": {},
          "execution_count": 62
        },
        {
          "output_type": "display_data",
          "data": {
            "image/png": "[encoded data removed]",
            "text/plain": [
              "<Figure size 432x288 with 2 Axes>"
            ]
          },
          "metadata": {
            "needs_background": "light"
          }
        }
      ]
    },
    {
      "cell_type": "code",
      "metadata": {
        "colab": {
          "base_uri": "https://localhost:8080/",
          "height": 1000
        },
        "id": "nF_cw4JwgWhO",
        "outputId": "5b77a6b2-0dc2-4d93-9f04-a8c8549a883c"
      },
      "source": [
        "from keras.callbacks import EarlyStopping\n",
        "#set early stopping monitor so the model stops training when it won't improve anymore\n",
        "early_stopping_monitor = EarlyStopping(patience=500)\n",
        "\n",
        "#train model\n",
        "history=model.fit(xTrain11, yTrain11, validation_data = (xTest11, yTest11), epochs=50, batch_size=16)\n",
        "\n",
        "prediction_NN = model.predict(xTest11)\n",
        "prediction_NN = np.argmax(prediction_NN, axis=-1)\n",
        "#Print overall accuracy\n",
        "from sklearn import metrics\n",
        "print (\"Accuracy = \", metrics.accuracy_score(yTest1, prediction_NN))\n",
        "#Confusion Matrix - verify accuracy of each class\n",
        "from sklearn.metrics import confusion_matrix\n",
        "cm = confusion_matrix(yTest1, prediction_NN)\n",
        "print(cm)\n",
        "sns.heatmap(cm, annot=True)\n"
      ],
      "execution_count": 63,
      "outputs": [
        {
          "output_type": "stream",
          "text": [
            "Epoch 1/50\n",
            "22/22 [==============================] - 0s 16ms/step - loss: 0.0015 - accuracy: 1.0000 - val_loss: 1.6003 - val_accuracy: 0.7383\n",
            "Epoch 2/50\n",
            "22/22 [==============================] - 0s 15ms/step - loss: 0.0035 - accuracy: 0.9971 - val_loss: 3.2513 - val_accuracy: 0.6309\n",
            "Epoch 3/50\n",
            "22/22 [==============================] - 0s 14ms/step - loss: 0.0067 - accuracy: 0.9971 - val_loss: 1.5990 - val_accuracy: 0.7315\n",
            "Epoch 4/50\n",
            "22/22 [==============================] - 0s 14ms/step - loss: 0.0073 - accuracy: 0.9971 - val_loss: 2.9280 - val_accuracy: 0.7047\n",
            "Epoch 5/50\n",
            "22/22 [==============================] - 0s 15ms/step - loss: 0.0019 - accuracy: 1.0000 - val_loss: 2.2483 - val_accuracy: 0.7517\n",
            "Epoch 6/50\n",
            "22/22 [==============================] - 0s 14ms/step - loss: 0.0012 - accuracy: 1.0000 - val_loss: 2.2989 - val_accuracy: 0.7517\n",
            "Epoch 7/50\n",
            "22/22 [==============================] - 0s 16ms/step - loss: 0.0054 - accuracy: 0.9971 - val_loss: 2.5619 - val_accuracy: 0.7584\n",
            "Epoch 8/50\n",
            "22/22 [==============================] - 0s 15ms/step - loss: 0.1070 - accuracy: 0.9798 - val_loss: 2.1263 - val_accuracy: 0.6242\n",
            "Epoch 9/50\n",
            "22/22 [==============================] - 0s 15ms/step - loss: 0.0564 - accuracy: 0.9711 - val_loss: 2.2730 - val_accuracy: 0.6980\n",
            "Epoch 10/50\n",
            "22/22 [==============================] - 0s 14ms/step - loss: 0.1527 - accuracy: 0.9624 - val_loss: 4.7105 - val_accuracy: 0.6980\n",
            "Epoch 11/50\n",
            "22/22 [==============================] - 0s 14ms/step - loss: 0.0386 - accuracy: 0.9855 - val_loss: 12.1044 - val_accuracy: 0.5570\n",
            "Epoch 12/50\n",
            "22/22 [==============================] - 0s 15ms/step - loss: 0.0324 - accuracy: 0.9913 - val_loss: 7.6182 - val_accuracy: 0.5705\n",
            "Epoch 13/50\n",
            "22/22 [==============================] - 0s 14ms/step - loss: 0.0412 - accuracy: 0.9884 - val_loss: 19.5639 - val_accuracy: 0.5302\n",
            "Epoch 14/50\n",
            "22/22 [==============================] - 0s 14ms/step - loss: 0.0243 - accuracy: 0.9913 - val_loss: 22.3968 - val_accuracy: 0.5302\n",
            "Epoch 15/50\n",
            "22/22 [==============================] - 0s 15ms/step - loss: 0.0197 - accuracy: 0.9942 - val_loss: 8.6228 - val_accuracy: 0.5369\n",
            "Epoch 16/50\n",
            "22/22 [==============================] - 0s 14ms/step - loss: 0.0149 - accuracy: 0.9942 - val_loss: 11.3489 - val_accuracy: 0.5369\n",
            "Epoch 17/50\n",
            "22/22 [==============================] - 0s 16ms/step - loss: 0.0303 - accuracy: 0.9884 - val_loss: 1.9519 - val_accuracy: 0.7114\n",
            "Epoch 18/50\n",
            "22/22 [==============================] - 0s 16ms/step - loss: 0.0729 - accuracy: 0.9798 - val_loss: 3.0259 - val_accuracy: 0.6376\n",
            "Epoch 19/50\n",
            "22/22 [==============================] - 0s 15ms/step - loss: 0.0307 - accuracy: 0.9942 - val_loss: 1.4770 - val_accuracy: 0.6980\n",
            "Epoch 20/50\n",
            "22/22 [==============================] - 0s 15ms/step - loss: 0.0251 - accuracy: 0.9855 - val_loss: 1.8323 - val_accuracy: 0.5906\n",
            "Epoch 21/50\n",
            "22/22 [==============================] - 0s 15ms/step - loss: 0.0503 - accuracy: 0.9855 - val_loss: 1.4946 - val_accuracy: 0.6980\n",
            "Epoch 22/50\n",
            "22/22 [==============================] - 0s 14ms/step - loss: 0.0319 - accuracy: 0.9855 - val_loss: 2.5119 - val_accuracy: 0.5436\n",
            "Epoch 23/50\n",
            "22/22 [==============================] - 0s 15ms/step - loss: 0.0242 - accuracy: 0.9913 - val_loss: 6.3782 - val_accuracy: 0.4899\n",
            "Epoch 24/50\n",
            "22/22 [==============================] - 0s 14ms/step - loss: 0.0090 - accuracy: 0.9942 - val_loss: 11.2698 - val_accuracy: 0.4832\n",
            "Epoch 25/50\n",
            "22/22 [==============================] - 0s 15ms/step - loss: 0.0161 - accuracy: 0.9942 - val_loss: 4.4338 - val_accuracy: 0.5705\n",
            "Epoch 26/50\n",
            "22/22 [==============================] - 0s 14ms/step - loss: 0.0018 - accuracy: 1.0000 - val_loss: 3.9768 - val_accuracy: 0.5705\n",
            "Epoch 27/50\n",
            "22/22 [==============================] - 0s 15ms/step - loss: 0.0074 - accuracy: 0.9971 - val_loss: 2.9264 - val_accuracy: 0.5973\n",
            "Epoch 28/50\n",
            "22/22 [==============================] - 0s 15ms/step - loss: 0.0034 - accuracy: 1.0000 - val_loss: 3.0984 - val_accuracy: 0.6107\n",
            "Epoch 29/50\n",
            "22/22 [==============================] - 0s 15ms/step - loss: 9.4481e-04 - accuracy: 1.0000 - val_loss: 2.9626 - val_accuracy: 0.6242\n",
            "Epoch 30/50\n",
            "22/22 [==============================] - 0s 14ms/step - loss: 0.0175 - accuracy: 0.9942 - val_loss: 1.6412 - val_accuracy: 0.7584\n",
            "Epoch 31/50\n",
            "22/22 [==============================] - 0s 14ms/step - loss: 0.0038 - accuracy: 1.0000 - val_loss: 2.2974 - val_accuracy: 0.6644\n",
            "Epoch 32/50\n",
            "22/22 [==============================] - 0s 15ms/step - loss: 0.0017 - accuracy: 1.0000 - val_loss: 1.9978 - val_accuracy: 0.6913\n",
            "Epoch 33/50\n",
            "22/22 [==============================] - 0s 14ms/step - loss: 0.0037 - accuracy: 1.0000 - val_loss: 1.7128 - val_accuracy: 0.6577\n",
            "Epoch 34/50\n",
            "22/22 [==============================] - 0s 15ms/step - loss: 5.9819e-04 - accuracy: 1.0000 - val_loss: 1.7019 - val_accuracy: 0.6577\n",
            "Epoch 35/50\n",
            "22/22 [==============================] - 0s 15ms/step - loss: 6.0186e-04 - accuracy: 1.0000 - val_loss: 1.7641 - val_accuracy: 0.6846\n",
            "Epoch 36/50\n",
            "22/22 [==============================] - 0s 15ms/step - loss: 5.5822e-04 - accuracy: 1.0000 - val_loss: 1.7891 - val_accuracy: 0.7114\n",
            "Epoch 37/50\n",
            "22/22 [==============================] - 0s 15ms/step - loss: 6.4773e-04 - accuracy: 1.0000 - val_loss: 1.9437 - val_accuracy: 0.7315\n",
            "Epoch 38/50\n",
            "22/22 [==============================] - 0s 15ms/step - loss: 0.0015 - accuracy: 1.0000 - val_loss: 1.9916 - val_accuracy: 0.7315\n",
            "Epoch 39/50\n",
            "22/22 [==============================] - 0s 15ms/step - loss: 3.0641e-04 - accuracy: 1.0000 - val_loss: 2.1183 - val_accuracy: 0.7248\n",
            "Epoch 40/50\n",
            "22/22 [==============================] - 0s 15ms/step - loss: 2.4532e-04 - accuracy: 1.0000 - val_loss: 2.1644 - val_accuracy: 0.7315\n",
            "Epoch 41/50\n",
            "22/22 [==============================] - 0s 15ms/step - loss: 0.0042 - accuracy: 0.9971 - val_loss: 3.3624 - val_accuracy: 0.6510\n",
            "Epoch 42/50\n",
            "22/22 [==============================] - 0s 15ms/step - loss: 0.0075 - accuracy: 0.9942 - val_loss: 1.7471 - val_accuracy: 0.6577\n",
            "Epoch 43/50\n",
            "22/22 [==============================] - 0s 15ms/step - loss: 0.0300 - accuracy: 0.9971 - val_loss: 3.3140 - val_accuracy: 0.6443\n",
            "Epoch 44/50\n",
            "22/22 [==============================] - 0s 16ms/step - loss: 0.0222 - accuracy: 0.9913 - val_loss: 8.7824 - val_accuracy: 0.5906\n",
            "Epoch 45/50\n",
            "22/22 [==============================] - 0s 15ms/step - loss: 0.0350 - accuracy: 0.9913 - val_loss: 2.9021 - val_accuracy: 0.6577\n",
            "Epoch 46/50\n",
            "22/22 [==============================] - 0s 15ms/step - loss: 0.0318 - accuracy: 0.9913 - val_loss: 4.0300 - val_accuracy: 0.6376\n",
            "Epoch 47/50\n",
            "22/22 [==============================] - 0s 16ms/step - loss: 0.0243 - accuracy: 0.9884 - val_loss: 2.3953 - val_accuracy: 0.6443\n",
            "Epoch 48/50\n",
            "22/22 [==============================] - 0s 15ms/step - loss: 0.0365 - accuracy: 0.9884 - val_loss: 5.2249 - val_accuracy: 0.6309\n",
            "Epoch 49/50\n",
            "22/22 [==============================] - 0s 15ms/step - loss: 0.1114 - accuracy: 0.9740 - val_loss: 18.8518 - val_accuracy: 0.5302\n",
            "Epoch 50/50\n",
            "22/22 [==============================] - 0s 15ms/step - loss: 0.0361 - accuracy: 0.9855 - val_loss: 65.3639 - val_accuracy: 0.5302\n",
            "Accuracy =  0.5302013422818792\n",
            "[[ 0 70]\n",
            " [ 0 79]]\n"
          ],
          "name": "stdout"
        },
        {
          "output_type": "execute_result",
          "data": {
            "text/plain": [
              "<matplotlib.axes._subplots.AxesSubplot at 0x7f9abf134550>"
            ]
          },
          "metadata": {},
          "execution_count": 63
        },
        {
          "output_type": "display_data",
          "data": {
            "image/png": "[encoded data removed]",
            "text/plain": [
              "<Figure size 432x288 with 2 Axes>"
            ]
          },
          "metadata": {
            "needs_background": "light"
          }
        }
      ]
    },
    {
      "cell_type": "code",
      "metadata": {
        "id": "zF_XUwmMg2TP"
      },
      "source": [
        ""
      ],
      "execution_count": 63,
      "outputs": []
    }
  ]
}