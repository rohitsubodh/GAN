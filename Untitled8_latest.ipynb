{
  "nbformat": 4,
  "nbformat_minor": 0,
  "metadata": {
    "colab": {
      "name": "Untitled8.ipynb",
      "provenance": [],
      "include_colab_link": true
    },
    "kernelspec": {
      "name": "python3",
      "display_name": "Python 3"
    },
    "language_info": {
      "name": "python"
    },
    "accelerator": "GPU"
  },
  "cells": [
    {
      "cell_type": "markdown",
      "metadata": {
        "id": "view-in-github",
        "colab_type": "text"
      },
      "source": [
        "<a href=\"https://colab.research.google.com/github/rohitsubodh/GAN/blob/main/Untitled8_latest.ipynb\" target=\"_parent\"><img src=\"https://colab.research.google.com/assets/colab-badge.svg\" alt=\"Open In Colab\"/></a>"
      ]
    },
    {
      "cell_type": "code",
      "metadata": {
        "id": "cMHBuO0wos-j"
      },
      "source": [
        "\n",
        "import tensorflow as tf\n",
        "import keras\n",
        "import numpy as np\n",
        "from keras import models\n",
        "from keras import layers\n",
        "from keras.wrappers.scikit_learn import KerasClassifier\n",
        "from sklearn.model_selection import cross_val_score\n",
        "from sklearn.datasets import make_classification\n",
        "from matplotlib import pyplot\n",
        "import numpy as np\n",
        "import matplotlib.pyplot as plt\n",
        "import pandas as pd\n",
        "from sklearn import preprocessing\n",
        "from keras.models import Sequential,Model\n",
        "from keras.layers import Dense, Dropout,Input\n",
        "from keras.layers import Embedding,LeakyReLU\n",
        "from keras.layers import Conv1D, GlobalAveragePooling1D, MaxPooling1D, Flatten, LocallyConnected1D, BatchNormalization\n",
        "import scipy.signal\n",
        "from sklearn.decomposition import PCA, KernelPCA"
      ],
      "execution_count": 1,
      "outputs": []
    },
    {
      "cell_type": "code",
      "metadata": {
        "id": "Hi8fcclmpFNY"
      },
      "source": [
        "data = pd.read_excel('/content/PPG_new.xlsx',sheet_name='0-1')\n",
        "target = pd.read_excel('/content/PPG_new.xlsx',sheet_name='target 0-1')"
      ],
      "execution_count": 2,
      "outputs": []
    },
    {
      "cell_type": "code",
      "metadata": {
        "colab": {
          "base_uri": "https://localhost:8080/"
        },
        "id": "mUhak2l_B-rq",
        "outputId": "341017ed-ae5a-4e72-b29f-c2e8298677fe"
      },
      "source": [
        "data.shape"
      ],
      "execution_count": 4,
      "outputs": [
        {
          "output_type": "execute_result",
          "data": {
            "text/plain": [
              "(495, 2100)"
            ]
          },
          "metadata": {},
          "execution_count": 4
        }
      ]
    },
    {
      "cell_type": "code",
      "metadata": {
        "colab": {
          "base_uri": "https://localhost:8080/",
          "height": 265
        },
        "id": "q1Q3Q3FepFW2",
        "outputId": "b704cb74-bd89-4a07-e581-2da3312f3f6f"
      },
      "source": [
        "x= data.iloc[0,:]\n",
        "plt.plot(x)\n",
        "plt.show\n",
        "data1=data"
      ],
      "execution_count": 5,
      "outputs": [
        {
          "output_type": "display_data",
          "data": {
            "image/png": "[encoded data removed]",
            "text/plain": [
              "<Figure size 432x288 with 1 Axes>"
            ]
          },
          "metadata": {
            "needs_background": "light"
          }
        }
      ]
    },
    {
      "cell_type": "code",
      "metadata": {
        "colab": {
          "base_uri": "https://localhost:8080/",
          "height": 282
        },
        "id": "SRcZU0-ppFaK",
        "outputId": "8e4ff224-03b9-4f4f-a300-591d7dcb76c7"
      },
      "source": [
        "# Applying median filter\n",
        "data=scipy.signal.medfilt(data)\n",
        "data\n",
        "x= data[0,:]\n",
        "plt.plot(x)\n",
        "plt.show"
      ],
      "execution_count": 6,
      "outputs": [
        {
          "output_type": "execute_result",
          "data": {
            "text/plain": [
              "<function matplotlib.pyplot.show>"
            ]
          },
          "metadata": {},
          "execution_count": 6
        },
        {
          "output_type": "display_data",
          "data": {
            "image/png": "[encoded data removed]",
            "text/plain": [
              "<Figure size 432x288 with 1 Axes>"
            ]
          },
          "metadata": {
            "needs_background": "light"
          }
        }
      ]
    },
    {
      "cell_type": "code",
      "metadata": {
        "colab": {
          "base_uri": "https://localhost:8080/"
        },
        "id": "Rr2cHwXGpFc9",
        "outputId": "38703efc-1e21-44c4-cd4a-7775c388d47d"
      },
      "source": [
        "# Design of low pass chebyshev filter\n",
        "sos= scipy.signal.cheby2(4, 10, 25, 'low', fs=1000, output='sos')\n",
        "sos"
      ],
      "execution_count": 7,
      "outputs": [
        {
          "output_type": "execute_result",
          "data": {
            "text/plain": [
              "array([[ 0.26741176, -0.49141861,  0.26741176,  1.        , -1.6346899 ,\n",
              "         0.69069827],\n",
              "       [ 1.        , -1.97118242,  1.        ,  1.        , -1.92658177,\n",
              "         0.94891457]])"
            ]
          },
          "metadata": {},
          "execution_count": 7
        }
      ]
    },
    {
      "cell_type": "code",
      "metadata": {
        "colab": {
          "base_uri": "https://localhost:8080/",
          "height": 282
        },
        "id": "V2M-vdahpFfz",
        "outputId": "2cc1e96f-de7f-4619-a318-4d7dd90cd835"
      },
      "source": [
        "data= scipy.signal.sosfilt(sos, data) # applying chebyshev filter\n",
        "x= data[0,:]\n",
        "plt.plot(x)\n",
        "plt.show"
      ],
      "execution_count": 8,
      "outputs": [
        {
          "output_type": "execute_result",
          "data": {
            "text/plain": [
              "<function matplotlib.pyplot.show>"
            ]
          },
          "metadata": {},
          "execution_count": 8
        },
        {
          "output_type": "display_data",
          "data": {
            "image/png": "[encoded data removed]",
            "text/plain": [
              "<Figure size 432x288 with 1 Axes>"
            ]
          },
          "metadata": {
            "needs_background": "light"
          }
        }
      ]
    },
    {
      "cell_type": "code",
      "metadata": {
        "colab": {
          "base_uri": "https://localhost:8080/",
          "height": 282
        },
        "id": "dbCRU494pFiq",
        "outputId": "fc824114-7bb4-4beb-a460-71fd958903f5"
      },
      "source": [
        "# Applying backward forward filter\n",
        "b, a = scipy.signal.butter(8, 0.125) # filter design\n",
        "\n",
        "data = scipy.signal.filtfilt(b, a, data, method=\"gust\")\n",
        "\n",
        "x= data[0,:]\n",
        "plt.plot(x)\n",
        "plt.show"
      ],
      "execution_count": 9,
      "outputs": [
        {
          "output_type": "execute_result",
          "data": {
            "text/plain": [
              "<function matplotlib.pyplot.show>"
            ]
          },
          "metadata": {},
          "execution_count": 9
        },
        {
          "output_type": "display_data",
          "data": {
            "image/png": "[encoded data removed]",
            "text/plain": [
              "<Figure size 432x288 with 1 Axes>"
            ]
          },
          "metadata": {
            "needs_background": "light"
          }
        }
      ]
    },
    {
      "cell_type": "code",
      "metadata": {
        "id": "Wp6SpBPGqCqY",
        "outputId": "7862bb58-6e0e-468c-bb30-814b5ed19de4",
        "colab": {
          "base_uri": "https://localhost:8080/"
        }
      },
      "source": [
        "data1=data\n",
        "kpca=KernelPCA(kernel=\"rbf\",fit_inverse_transform=True, gamma=10)\n",
        "data=kpca.fit_transform(data)\n",
        "data.shape"
      ],
      "execution_count": 10,
      "outputs": [
        {
          "output_type": "execute_result",
          "data": {
            "text/plain": [
              "(495, 494)"
            ]
          },
          "metadata": {},
          "execution_count": 10
        }
      ]
    },
    {
      "cell_type": "code",
      "metadata": {
        "id": "GWoHtut-eico",
        "outputId": "635ea285-835c-40b0-f150-d7aecb878e93",
        "colab": {
          "base_uri": "https://localhost:8080/",
          "height": 282
        }
      },
      "source": [
        "x= data[0,:]\n",
        "plt.plot(x)\n",
        "plt.show"
      ],
      "execution_count": 11,
      "outputs": [
        {
          "output_type": "execute_result",
          "data": {
            "text/plain": [
              "<function matplotlib.pyplot.show>"
            ]
          },
          "metadata": {},
          "execution_count": 11
        },
        {
          "output_type": "display_data",
          "data": {
            "image/png": "[encoded data removed]",
            "text/plain": [
              "<Figure size 432x288 with 1 Axes>"
            ]
          },
          "metadata": {
            "needs_background": "light"
          }
        }
      ]
    },
    {
      "cell_type": "code",
      "metadata": {
        "id": "aT_bUQPBpFlu"
      },
      "source": [
        "from sklearn.model_selection import train_test_split\n",
        "xTrain1, xTest1, yTrain1, yTest1 = train_test_split(data, target, test_size = 0.3, random_state = 42)"
      ],
      "execution_count": 12,
      "outputs": []
    },
    {
      "cell_type": "code",
      "metadata": {
        "id": "K0ct8stEpFor"
      },
      "source": [
        "xTrain11 = np.expand_dims(xTrain1, axis=2)\n",
        "yTrain11 = tf.keras.utils.to_categorical(yTrain1, num_classes=2)\n",
        "xTest11 =  np.expand_dims(xTest1, axis=2)\n",
        "yTest11 = tf.keras.utils.to_categorical(yTest1, num_classes=2)"
      ],
      "execution_count": 13,
      "outputs": []
    },
    {
      "cell_type": "code",
      "metadata": {
        "id": "egKDUU6zpFr2"
      },
      "source": [
        "input_shape = (494, 1)\n"
      ],
      "execution_count": 14,
      "outputs": []
    },
    {
      "cell_type": "code",
      "metadata": {
        "id": "xJxQ1yvCpFur",
        "outputId": "99a90bb4-d53c-4363-cf70-763316e173be",
        "colab": {
          "base_uri": "https://localhost:8080/"
        }
      },
      "source": [
        "\n",
        "#CNN Model\n",
        "\n",
        "model = Sequential()\n",
        "model.add(Conv1D(32, 3, activation='relu', input_shape=input_shape[0:]))\n",
        "model.add(BatchNormalization())\n",
        "model.add(LeakyReLU(alpha=0.1))\n",
        "model.add(Conv1D(64, 3, activation='relu', name=\"my_intermediate_layer\"))\n",
        "model.add(MaxPooling1D(3))\n",
        "model.add(BatchNormalization())\n",
        "model.add(LeakyReLU(alpha=0.1))\n",
        "model.add(Conv1D(128, 3, activation='relu'))\n",
        "model.add(BatchNormalization())\n",
        "model.add(LeakyReLU(alpha=0.1))\n",
        "model.add(Conv1D(256, 3, activation='relu'))\n",
        "model.add(GlobalAveragePooling1D())\n",
        "model.add(Dropout(0.5))\n",
        "model.add(Dense(100, name=\"dense\"))\n",
        "model.add(Dense(2, activation='softmax', name=\"dense1\"))\n",
        "model.compile(loss='categorical_crossentropy',\n",
        "                    optimizer='adam',\n",
        "                    metrics=['accuracy'])\n",
        "model.summary()"
      ],
      "execution_count": 15,
      "outputs": [
        {
          "output_type": "stream",
          "text": [
            "Model: \"sequential\"\n",
            "_________________________________________________________________\n",
            "Layer (type)                 Output Shape              Param #   \n",
            "=================================================================\n",
            "conv1d (Conv1D)              (None, 492, 32)           128       \n",
            "_________________________________________________________________\n",
            "batch_normalization (BatchNo (None, 492, 32)           128       \n",
            "_________________________________________________________________\n",
            "leaky_re_lu (LeakyReLU)      (None, 492, 32)           0         \n",
            "_________________________________________________________________\n",
            "my_intermediate_layer (Conv1 (None, 490, 64)           6208      \n",
            "_________________________________________________________________\n",
            "max_pooling1d (MaxPooling1D) (None, 163, 64)           0         \n",
            "_________________________________________________________________\n",
            "batch_normalization_1 (Batch (None, 163, 64)           256       \n",
            "_________________________________________________________________\n",
            "leaky_re_lu_1 (LeakyReLU)    (None, 163, 64)           0         \n",
            "_________________________________________________________________\n",
            "conv1d_1 (Conv1D)            (None, 161, 128)          24704     \n",
            "_________________________________________________________________\n",
            "batch_normalization_2 (Batch (None, 161, 128)          512       \n",
            "_________________________________________________________________\n",
            "leaky_re_lu_2 (LeakyReLU)    (None, 161, 128)          0         \n",
            "_________________________________________________________________\n",
            "conv1d_2 (Conv1D)            (None, 159, 256)          98560     \n",
            "_________________________________________________________________\n",
            "global_average_pooling1d (Gl (None, 256)               0         \n",
            "_________________________________________________________________\n",
            "dropout (Dropout)            (None, 256)               0         \n",
            "_________________________________________________________________\n",
            "dense (Dense)                (None, 100)               25700     \n",
            "_________________________________________________________________\n",
            "dense1 (Dense)               (None, 2)                 202       \n",
            "=================================================================\n",
            "Total params: 156,398\n",
            "Trainable params: 155,950\n",
            "Non-trainable params: 448\n",
            "_________________________________________________________________\n"
          ],
          "name": "stdout"
        }
      ]
    },
    {
      "cell_type": "code",
      "metadata": {
        "colab": {
          "base_uri": "https://localhost:8080/"
        },
        "id": "dpRAWw9cpFyD",
        "outputId": "be47d95c-0474-439c-bf7c-aba8e5632cf0"
      },
      "source": [
        "from keras.callbacks import EarlyStopping\n",
        "#set early stopping monitor so the model stops training when it won't improve anymore\n",
        "early_stopping_monitor = EarlyStopping(patience=500)\n",
        "\n",
        "#train model\n",
        "history=model.fit(xTrain11, yTrain11, validation_data = (xTest11, yTest11), epochs=150, batch_size=16)\n"
      ],
      "execution_count": 18,
      "outputs": [
        {
          "output_type": "stream",
          "text": [
            "Epoch 1/150\n",
            "22/22 [==============================] - 31s 50ms/step - loss: 0.7235 - accuracy: 0.5694 - val_loss: 0.6970 - val_accuracy: 0.4899\n",
            "Epoch 2/150\n",
            "22/22 [==============================] - 0s 17ms/step - loss: 0.7315 - accuracy: 0.6012 - val_loss: 0.7033 - val_accuracy: 0.4899\n",
            "Epoch 3/150\n",
            "22/22 [==============================] - 0s 16ms/step - loss: 0.5909 - accuracy: 0.6734 - val_loss: 0.7127 - val_accuracy: 0.4899\n",
            "Epoch 4/150\n",
            "22/22 [==============================] - 0s 16ms/step - loss: 0.5907 - accuracy: 0.6734 - val_loss: 0.7285 - val_accuracy: 0.4899\n",
            "Epoch 5/150\n",
            "22/22 [==============================] - 0s 16ms/step - loss: 0.5929 - accuracy: 0.6908 - val_loss: 0.7374 - val_accuracy: 0.4899\n",
            "Epoch 6/150\n",
            "22/22 [==============================] - 0s 16ms/step - loss: 0.5536 - accuracy: 0.7023 - val_loss: 0.7534 - val_accuracy: 0.4899\n",
            "Epoch 7/150\n",
            "22/22 [==============================] - 0s 16ms/step - loss: 0.5493 - accuracy: 0.6965 - val_loss: 0.7871 - val_accuracy: 0.4899\n",
            "Epoch 8/150\n",
            "22/22 [==============================] - 0s 16ms/step - loss: 0.5311 - accuracy: 0.7168 - val_loss: 0.7854 - val_accuracy: 0.4899\n",
            "Epoch 9/150\n",
            "22/22 [==============================] - 0s 15ms/step - loss: 0.5295 - accuracy: 0.7457 - val_loss: 0.8064 - val_accuracy: 0.4899\n",
            "Epoch 10/150\n",
            "22/22 [==============================] - 0s 15ms/step - loss: 0.5083 - accuracy: 0.7370 - val_loss: 0.8731 - val_accuracy: 0.4899\n",
            "Epoch 11/150\n",
            "22/22 [==============================] - 0s 15ms/step - loss: 0.5350 - accuracy: 0.7225 - val_loss: 0.8882 - val_accuracy: 0.4899\n",
            "Epoch 12/150\n",
            "22/22 [==============================] - 0s 17ms/step - loss: 0.4898 - accuracy: 0.7659 - val_loss: 0.9516 - val_accuracy: 0.4899\n",
            "Epoch 13/150\n",
            "22/22 [==============================] - 0s 15ms/step - loss: 0.4205 - accuracy: 0.8064 - val_loss: 1.0668 - val_accuracy: 0.4899\n",
            "Epoch 14/150\n",
            "22/22 [==============================] - 0s 16ms/step - loss: 0.4942 - accuracy: 0.7717 - val_loss: 1.1130 - val_accuracy: 0.4899\n",
            "Epoch 15/150\n",
            "22/22 [==============================] - 0s 15ms/step - loss: 0.4400 - accuracy: 0.7832 - val_loss: 1.2705 - val_accuracy: 0.4899\n",
            "Epoch 16/150\n",
            "22/22 [==============================] - 0s 15ms/step - loss: 0.3970 - accuracy: 0.8237 - val_loss: 1.4527 - val_accuracy: 0.4899\n",
            "Epoch 17/150\n",
            "22/22 [==============================] - 0s 15ms/step - loss: 0.3612 - accuracy: 0.8439 - val_loss: 1.5348 - val_accuracy: 0.4899\n",
            "Epoch 18/150\n",
            "22/22 [==============================] - 0s 15ms/step - loss: 0.3452 - accuracy: 0.8497 - val_loss: 1.6253 - val_accuracy: 0.4899\n",
            "Epoch 19/150\n",
            "22/22 [==============================] - 0s 15ms/step - loss: 0.3151 - accuracy: 0.8295 - val_loss: 1.6386 - val_accuracy: 0.4899\n",
            "Epoch 20/150\n",
            "22/22 [==============================] - 0s 15ms/step - loss: 0.3414 - accuracy: 0.8526 - val_loss: 1.6149 - val_accuracy: 0.4899\n",
            "Epoch 21/150\n",
            "22/22 [==============================] - 0s 15ms/step - loss: 0.2295 - accuracy: 0.9191 - val_loss: 1.5480 - val_accuracy: 0.4899\n",
            "Epoch 22/150\n",
            "22/22 [==============================] - 0s 14ms/step - loss: 0.1925 - accuracy: 0.9277 - val_loss: 1.6514 - val_accuracy: 0.4899\n",
            "Epoch 23/150\n",
            "22/22 [==============================] - 0s 16ms/step - loss: 0.2364 - accuracy: 0.9017 - val_loss: 1.3128 - val_accuracy: 0.5034\n",
            "Epoch 24/150\n",
            "22/22 [==============================] - 0s 15ms/step - loss: 0.3282 - accuracy: 0.8555 - val_loss: 1.8571 - val_accuracy: 0.4899\n",
            "Epoch 25/150\n",
            "22/22 [==============================] - 0s 15ms/step - loss: 0.2946 - accuracy: 0.8642 - val_loss: 2.2484 - val_accuracy: 0.4899\n",
            "Epoch 26/150\n",
            "22/22 [==============================] - 0s 16ms/step - loss: 0.2207 - accuracy: 0.8988 - val_loss: 2.1704 - val_accuracy: 0.4899\n",
            "Epoch 27/150\n",
            "22/22 [==============================] - 0s 15ms/step - loss: 0.1625 - accuracy: 0.9393 - val_loss: 2.1498 - val_accuracy: 0.5168\n",
            "Epoch 28/150\n",
            "22/22 [==============================] - 0s 16ms/step - loss: 0.1330 - accuracy: 0.9480 - val_loss: 1.6124 - val_accuracy: 0.5503\n",
            "Epoch 29/150\n",
            "22/22 [==============================] - 0s 15ms/step - loss: 0.1968 - accuracy: 0.9335 - val_loss: 0.9901 - val_accuracy: 0.5772\n",
            "Epoch 30/150\n",
            "22/22 [==============================] - 0s 15ms/step - loss: 0.1354 - accuracy: 0.9538 - val_loss: 0.6160 - val_accuracy: 0.7651\n",
            "Epoch 31/150\n",
            "22/22 [==============================] - 0s 15ms/step - loss: 0.0938 - accuracy: 0.9711 - val_loss: 2.7065 - val_accuracy: 0.5436\n",
            "Epoch 32/150\n",
            "22/22 [==============================] - 0s 16ms/step - loss: 0.0722 - accuracy: 0.9740 - val_loss: 5.4223 - val_accuracy: 0.5168\n",
            "Epoch 33/150\n",
            "22/22 [==============================] - 0s 14ms/step - loss: 0.0948 - accuracy: 0.9566 - val_loss: 1.7796 - val_accuracy: 0.6913\n",
            "Epoch 34/150\n",
            "22/22 [==============================] - 0s 16ms/step - loss: 0.0836 - accuracy: 0.9740 - val_loss: 2.0694 - val_accuracy: 0.6510\n",
            "Epoch 35/150\n",
            "22/22 [==============================] - 0s 15ms/step - loss: 0.0571 - accuracy: 0.9855 - val_loss: 1.1116 - val_accuracy: 0.7383\n",
            "Epoch 36/150\n",
            "22/22 [==============================] - 0s 15ms/step - loss: 0.1174 - accuracy: 0.9595 - val_loss: 1.1590 - val_accuracy: 0.6577\n",
            "Epoch 37/150\n",
            "22/22 [==============================] - 0s 15ms/step - loss: 0.0815 - accuracy: 0.9740 - val_loss: 2.1124 - val_accuracy: 0.6644\n",
            "Epoch 38/150\n",
            "22/22 [==============================] - 0s 18ms/step - loss: 0.0929 - accuracy: 0.9682 - val_loss: 3.1939 - val_accuracy: 0.6644\n",
            "Epoch 39/150\n",
            "22/22 [==============================] - 0s 15ms/step - loss: 0.0836 - accuracy: 0.9711 - val_loss: 2.3754 - val_accuracy: 0.6443\n",
            "Epoch 40/150\n",
            "22/22 [==============================] - 0s 15ms/step - loss: 0.0657 - accuracy: 0.9682 - val_loss: 2.8980 - val_accuracy: 0.6846\n",
            "Epoch 41/150\n",
            "22/22 [==============================] - 0s 16ms/step - loss: 0.1153 - accuracy: 0.9509 - val_loss: 6.6186 - val_accuracy: 0.4966\n",
            "Epoch 42/150\n",
            "22/22 [==============================] - 0s 15ms/step - loss: 0.0967 - accuracy: 0.9653 - val_loss: 0.8302 - val_accuracy: 0.6779\n",
            "Epoch 43/150\n",
            "22/22 [==============================] - 0s 15ms/step - loss: 0.0734 - accuracy: 0.9827 - val_loss: 4.8661 - val_accuracy: 0.5034\n",
            "Epoch 44/150\n",
            "22/22 [==============================] - 0s 15ms/step - loss: 0.0715 - accuracy: 0.9711 - val_loss: 5.3803 - val_accuracy: 0.5906\n",
            "Epoch 45/150\n",
            "22/22 [==============================] - 0s 16ms/step - loss: 0.0749 - accuracy: 0.9769 - val_loss: 5.8567 - val_accuracy: 0.5034\n",
            "Epoch 46/150\n",
            "22/22 [==============================] - 0s 15ms/step - loss: 0.0982 - accuracy: 0.9653 - val_loss: 3.8374 - val_accuracy: 0.6510\n",
            "Epoch 47/150\n",
            "22/22 [==============================] - 0s 16ms/step - loss: 0.0549 - accuracy: 0.9855 - val_loss: 4.6737 - val_accuracy: 0.6510\n",
            "Epoch 48/150\n",
            "22/22 [==============================] - 0s 15ms/step - loss: 0.0298 - accuracy: 0.9942 - val_loss: 8.4619 - val_accuracy: 0.5101\n",
            "Epoch 49/150\n",
            "22/22 [==============================] - 0s 15ms/step - loss: 0.0317 - accuracy: 0.9942 - val_loss: 5.2795 - val_accuracy: 0.6040\n",
            "Epoch 50/150\n",
            "22/22 [==============================] - 0s 16ms/step - loss: 0.0330 - accuracy: 0.9884 - val_loss: 1.9556 - val_accuracy: 0.7114\n",
            "Epoch 51/150\n",
            "22/22 [==============================] - 0s 16ms/step - loss: 0.0287 - accuracy: 0.9942 - val_loss: 1.2899 - val_accuracy: 0.6846\n",
            "Epoch 52/150\n",
            "22/22 [==============================] - 0s 17ms/step - loss: 0.0158 - accuracy: 0.9942 - val_loss: 1.8611 - val_accuracy: 0.7315\n",
            "Epoch 53/150\n",
            "22/22 [==============================] - 0s 15ms/step - loss: 0.0055 - accuracy: 1.0000 - val_loss: 1.8171 - val_accuracy: 0.7450\n",
            "Epoch 54/150\n",
            "22/22 [==============================] - 0s 15ms/step - loss: 0.0038 - accuracy: 1.0000 - val_loss: 2.1818 - val_accuracy: 0.7114\n",
            "Epoch 55/150\n",
            "22/22 [==============================] - 0s 15ms/step - loss: 0.0033 - accuracy: 1.0000 - val_loss: 2.5104 - val_accuracy: 0.7047\n",
            "Epoch 56/150\n",
            "22/22 [==============================] - 0s 15ms/step - loss: 0.0042 - accuracy: 1.0000 - val_loss: 2.4457 - val_accuracy: 0.7248\n",
            "Epoch 57/150\n",
            "22/22 [==============================] - 0s 15ms/step - loss: 0.0092 - accuracy: 0.9971 - val_loss: 3.3828 - val_accuracy: 0.6913\n",
            "Epoch 58/150\n",
            "22/22 [==============================] - 0s 15ms/step - loss: 0.0148 - accuracy: 0.9942 - val_loss: 2.4274 - val_accuracy: 0.6846\n",
            "Epoch 59/150\n",
            "22/22 [==============================] - 0s 15ms/step - loss: 0.0216 - accuracy: 0.9913 - val_loss: 2.1757 - val_accuracy: 0.6913\n",
            "Epoch 60/150\n",
            "22/22 [==============================] - 0s 15ms/step - loss: 0.0242 - accuracy: 0.9855 - val_loss: 1.1061 - val_accuracy: 0.7181\n",
            "Epoch 61/150\n",
            "22/22 [==============================] - 0s 15ms/step - loss: 0.0095 - accuracy: 0.9971 - val_loss: 1.2321 - val_accuracy: 0.7584\n",
            "Epoch 62/150\n",
            "22/22 [==============================] - 0s 15ms/step - loss: 0.0235 - accuracy: 0.9913 - val_loss: 1.8487 - val_accuracy: 0.7383\n",
            "Epoch 63/150\n",
            "22/22 [==============================] - 0s 15ms/step - loss: 0.0329 - accuracy: 0.9855 - val_loss: 2.2077 - val_accuracy: 0.6376\n",
            "Epoch 64/150\n",
            "22/22 [==============================] - 0s 15ms/step - loss: 0.0455 - accuracy: 0.9855 - val_loss: 1.3218 - val_accuracy: 0.6443\n",
            "Epoch 65/150\n",
            "22/22 [==============================] - 0s 16ms/step - loss: 0.0385 - accuracy: 0.9827 - val_loss: 4.3269 - val_accuracy: 0.5973\n",
            "Epoch 66/150\n",
            "22/22 [==============================] - 0s 15ms/step - loss: 0.0881 - accuracy: 0.9711 - val_loss: 3.5038 - val_accuracy: 0.6846\n",
            "Epoch 67/150\n",
            "22/22 [==============================] - 0s 15ms/step - loss: 0.1049 - accuracy: 0.9566 - val_loss: 1.4074 - val_accuracy: 0.7047\n",
            "Epoch 68/150\n",
            "22/22 [==============================] - 0s 15ms/step - loss: 0.1034 - accuracy: 0.9538 - val_loss: 7.8764 - val_accuracy: 0.6174\n",
            "Epoch 69/150\n",
            "22/22 [==============================] - 0s 14ms/step - loss: 0.2851 - accuracy: 0.9104 - val_loss: 18.1670 - val_accuracy: 0.5034\n",
            "Epoch 70/150\n",
            "22/22 [==============================] - 0s 16ms/step - loss: 0.1132 - accuracy: 0.9509 - val_loss: 14.3672 - val_accuracy: 0.4899\n",
            "Epoch 71/150\n",
            "22/22 [==============================] - 0s 16ms/step - loss: 0.0647 - accuracy: 0.9740 - val_loss: 12.3458 - val_accuracy: 0.5034\n",
            "Epoch 72/150\n",
            "22/22 [==============================] - 0s 17ms/step - loss: 0.1030 - accuracy: 0.9769 - val_loss: 3.8897 - val_accuracy: 0.6846\n",
            "Epoch 73/150\n",
            "22/22 [==============================] - 0s 15ms/step - loss: 0.0491 - accuracy: 0.9855 - val_loss: 4.6870 - val_accuracy: 0.5973\n",
            "Epoch 74/150\n",
            "22/22 [==============================] - 0s 15ms/step - loss: 0.0407 - accuracy: 0.9855 - val_loss: 3.0347 - val_accuracy: 0.6577\n",
            "Epoch 75/150\n",
            "22/22 [==============================] - 0s 15ms/step - loss: 0.0319 - accuracy: 0.9913 - val_loss: 5.3437 - val_accuracy: 0.5906\n",
            "Epoch 76/150\n",
            "22/22 [==============================] - 0s 16ms/step - loss: 0.0243 - accuracy: 0.9913 - val_loss: 5.9684 - val_accuracy: 0.5839\n",
            "Epoch 77/150\n",
            "22/22 [==============================] - 0s 15ms/step - loss: 0.0084 - accuracy: 1.0000 - val_loss: 3.8209 - val_accuracy: 0.6443\n",
            "Epoch 78/150\n",
            "22/22 [==============================] - 0s 16ms/step - loss: 0.0065 - accuracy: 1.0000 - val_loss: 3.1261 - val_accuracy: 0.6779\n",
            "Epoch 79/150\n",
            "22/22 [==============================] - 0s 16ms/step - loss: 0.0043 - accuracy: 1.0000 - val_loss: 2.6403 - val_accuracy: 0.7114\n",
            "Epoch 80/150\n",
            "22/22 [==============================] - 0s 15ms/step - loss: 0.0027 - accuracy: 1.0000 - val_loss: 2.9925 - val_accuracy: 0.7114\n",
            "Epoch 81/150\n",
            "22/22 [==============================] - 0s 16ms/step - loss: 0.0018 - accuracy: 1.0000 - val_loss: 2.5695 - val_accuracy: 0.7047\n",
            "Epoch 82/150\n",
            "22/22 [==============================] - 0s 16ms/step - loss: 0.0064 - accuracy: 1.0000 - val_loss: 2.1257 - val_accuracy: 0.7248\n",
            "Epoch 83/150\n",
            "22/22 [==============================] - 0s 15ms/step - loss: 0.0029 - accuracy: 1.0000 - val_loss: 2.2696 - val_accuracy: 0.6846\n",
            "Epoch 84/150\n",
            "22/22 [==============================] - 0s 16ms/step - loss: 0.0022 - accuracy: 1.0000 - val_loss: 2.3730 - val_accuracy: 0.6980\n",
            "Epoch 85/150\n",
            "22/22 [==============================] - 0s 16ms/step - loss: 0.0023 - accuracy: 1.0000 - val_loss: 1.4929 - val_accuracy: 0.7114\n",
            "Epoch 86/150\n",
            "22/22 [==============================] - 0s 16ms/step - loss: 0.0017 - accuracy: 1.0000 - val_loss: 1.5705 - val_accuracy: 0.7248\n",
            "Epoch 87/150\n",
            "22/22 [==============================] - 0s 16ms/step - loss: 9.9482e-04 - accuracy: 1.0000 - val_loss: 1.6265 - val_accuracy: 0.7248\n",
            "Epoch 88/150\n",
            "22/22 [==============================] - 0s 15ms/step - loss: 0.0017 - accuracy: 1.0000 - val_loss: 1.6773 - val_accuracy: 0.7248\n",
            "Epoch 89/150\n",
            "22/22 [==============================] - 0s 16ms/step - loss: 0.0020 - accuracy: 1.0000 - val_loss: 1.4375 - val_accuracy: 0.7248\n",
            "Epoch 90/150\n",
            "22/22 [==============================] - 0s 15ms/step - loss: 0.0014 - accuracy: 1.0000 - val_loss: 1.5991 - val_accuracy: 0.7315\n",
            "Epoch 91/150\n",
            "22/22 [==============================] - 0s 17ms/step - loss: 8.2892e-04 - accuracy: 1.0000 - val_loss: 1.5957 - val_accuracy: 0.7315\n",
            "Epoch 92/150\n",
            "22/22 [==============================] - 0s 16ms/step - loss: 0.0022 - accuracy: 1.0000 - val_loss: 1.5194 - val_accuracy: 0.7181\n",
            "Epoch 93/150\n",
            "22/22 [==============================] - 0s 15ms/step - loss: 6.0053e-04 - accuracy: 1.0000 - val_loss: 1.4997 - val_accuracy: 0.7248\n",
            "Epoch 94/150\n",
            "22/22 [==============================] - 0s 16ms/step - loss: 0.0013 - accuracy: 1.0000 - val_loss: 1.5077 - val_accuracy: 0.7383\n",
            "Epoch 95/150\n",
            "22/22 [==============================] - 0s 17ms/step - loss: 9.1956e-04 - accuracy: 1.0000 - val_loss: 1.5616 - val_accuracy: 0.7181\n",
            "Epoch 96/150\n",
            "22/22 [==============================] - 0s 15ms/step - loss: 5.2673e-04 - accuracy: 1.0000 - val_loss: 1.6612 - val_accuracy: 0.7315\n",
            "Epoch 97/150\n",
            "22/22 [==============================] - 0s 16ms/step - loss: 0.0014 - accuracy: 1.0000 - val_loss: 1.2717 - val_accuracy: 0.7181\n",
            "Epoch 98/150\n",
            "22/22 [==============================] - 0s 15ms/step - loss: 0.0026 - accuracy: 1.0000 - val_loss: 2.3682 - val_accuracy: 0.7383\n",
            "Epoch 99/150\n",
            "22/22 [==============================] - 0s 16ms/step - loss: 0.0026 - accuracy: 1.0000 - val_loss: 1.4239 - val_accuracy: 0.7517\n",
            "Epoch 100/150\n",
            "22/22 [==============================] - 0s 17ms/step - loss: 6.1303e-04 - accuracy: 1.0000 - val_loss: 1.4246 - val_accuracy: 0.7651\n",
            "Epoch 101/150\n",
            "22/22 [==============================] - 0s 17ms/step - loss: 8.7014e-04 - accuracy: 1.0000 - val_loss: 1.6610 - val_accuracy: 0.7450\n",
            "Epoch 102/150\n",
            "22/22 [==============================] - 0s 16ms/step - loss: 0.0017 - accuracy: 1.0000 - val_loss: 2.0518 - val_accuracy: 0.7181\n",
            "Epoch 103/150\n",
            "22/22 [==============================] - 0s 16ms/step - loss: 8.1076e-04 - accuracy: 1.0000 - val_loss: 1.8910 - val_accuracy: 0.7450\n",
            "Epoch 104/150\n",
            "22/22 [==============================] - 0s 16ms/step - loss: 3.0064e-04 - accuracy: 1.0000 - val_loss: 1.8922 - val_accuracy: 0.7584\n",
            "Epoch 105/150\n",
            "22/22 [==============================] - 0s 16ms/step - loss: 2.6619e-04 - accuracy: 1.0000 - val_loss: 1.9418 - val_accuracy: 0.7584\n",
            "Epoch 106/150\n",
            "22/22 [==============================] - 0s 15ms/step - loss: 2.9898e-04 - accuracy: 1.0000 - val_loss: 1.8218 - val_accuracy: 0.7651\n",
            "Epoch 107/150\n",
            "22/22 [==============================] - 0s 16ms/step - loss: 2.6097e-04 - accuracy: 1.0000 - val_loss: 1.8216 - val_accuracy: 0.7517\n",
            "Epoch 108/150\n",
            "22/22 [==============================] - 0s 16ms/step - loss: 9.4980e-04 - accuracy: 1.0000 - val_loss: 1.9119 - val_accuracy: 0.7584\n",
            "Epoch 109/150\n",
            "22/22 [==============================] - 0s 15ms/step - loss: 5.0585e-04 - accuracy: 1.0000 - val_loss: 1.9033 - val_accuracy: 0.7248\n",
            "Epoch 110/150\n",
            "22/22 [==============================] - 0s 16ms/step - loss: 0.0018 - accuracy: 1.0000 - val_loss: 2.2641 - val_accuracy: 0.7315\n",
            "Epoch 111/150\n",
            "22/22 [==============================] - 0s 15ms/step - loss: 0.0072 - accuracy: 0.9971 - val_loss: 1.8461 - val_accuracy: 0.7517\n",
            "Epoch 112/150\n",
            "22/22 [==============================] - 0s 16ms/step - loss: 0.0217 - accuracy: 0.9884 - val_loss: 17.5172 - val_accuracy: 0.5101\n",
            "Epoch 113/150\n",
            "22/22 [==============================] - 0s 16ms/step - loss: 0.1167 - accuracy: 0.9711 - val_loss: 4.4753 - val_accuracy: 0.5839\n",
            "Epoch 114/150\n",
            "22/22 [==============================] - 0s 16ms/step - loss: 0.0606 - accuracy: 0.9769 - val_loss: 3.6304 - val_accuracy: 0.5772\n",
            "Epoch 115/150\n",
            "22/22 [==============================] - 0s 16ms/step - loss: 0.0097 - accuracy: 0.9971 - val_loss: 11.4543 - val_accuracy: 0.5101\n",
            "Epoch 116/150\n",
            "22/22 [==============================] - 0s 16ms/step - loss: 0.0078 - accuracy: 1.0000 - val_loss: 2.2219 - val_accuracy: 0.6980\n",
            "Epoch 117/150\n",
            "22/22 [==============================] - 0s 16ms/step - loss: 0.0095 - accuracy: 0.9971 - val_loss: 1.6942 - val_accuracy: 0.7450\n",
            "Epoch 118/150\n",
            "22/22 [==============================] - 0s 15ms/step - loss: 0.0135 - accuracy: 0.9971 - val_loss: 2.8003 - val_accuracy: 0.6711\n",
            "Epoch 119/150\n",
            "22/22 [==============================] - 0s 16ms/step - loss: 0.1594 - accuracy: 0.9682 - val_loss: 5.3727 - val_accuracy: 0.6577\n",
            "Epoch 120/150\n",
            "22/22 [==============================] - 0s 16ms/step - loss: 0.1785 - accuracy: 0.9335 - val_loss: 7.7708 - val_accuracy: 0.5772\n",
            "Epoch 121/150\n",
            "22/22 [==============================] - 0s 15ms/step - loss: 0.0865 - accuracy: 0.9711 - val_loss: 5.6203 - val_accuracy: 0.6376\n",
            "Epoch 122/150\n",
            "22/22 [==============================] - 0s 16ms/step - loss: 0.0492 - accuracy: 0.9769 - val_loss: 4.7585 - val_accuracy: 0.6376\n",
            "Epoch 123/150\n",
            "22/22 [==============================] - 0s 15ms/step - loss: 0.0192 - accuracy: 0.9942 - val_loss: 5.6141 - val_accuracy: 0.6174\n",
            "Epoch 124/150\n",
            "22/22 [==============================] - 0s 15ms/step - loss: 0.0130 - accuracy: 0.9971 - val_loss: 3.0340 - val_accuracy: 0.7248\n",
            "Epoch 125/150\n",
            "22/22 [==============================] - 0s 15ms/step - loss: 0.0059 - accuracy: 1.0000 - val_loss: 2.5064 - val_accuracy: 0.7248\n",
            "Epoch 126/150\n",
            "22/22 [==============================] - 0s 16ms/step - loss: 0.0111 - accuracy: 0.9971 - val_loss: 1.7366 - val_accuracy: 0.7315\n",
            "Epoch 127/150\n",
            "22/22 [==============================] - 0s 16ms/step - loss: 0.0106 - accuracy: 0.9971 - val_loss: 3.2291 - val_accuracy: 0.6174\n",
            "Epoch 128/150\n",
            "22/22 [==============================] - 0s 16ms/step - loss: 0.0151 - accuracy: 0.9971 - val_loss: 3.1343 - val_accuracy: 0.6846\n",
            "Epoch 129/150\n",
            "22/22 [==============================] - 0s 16ms/step - loss: 0.0171 - accuracy: 0.9942 - val_loss: 3.1430 - val_accuracy: 0.6846\n",
            "Epoch 130/150\n",
            "22/22 [==============================] - 0s 16ms/step - loss: 0.0046 - accuracy: 1.0000 - val_loss: 3.4025 - val_accuracy: 0.6846\n",
            "Epoch 131/150\n",
            "22/22 [==============================] - 0s 17ms/step - loss: 0.0041 - accuracy: 1.0000 - val_loss: 3.4587 - val_accuracy: 0.7114\n",
            "Epoch 132/150\n",
            "22/22 [==============================] - 0s 15ms/step - loss: 0.0167 - accuracy: 0.9971 - val_loss: 1.1573 - val_accuracy: 0.7450\n",
            "Epoch 133/150\n",
            "22/22 [==============================] - 0s 15ms/step - loss: 0.0244 - accuracy: 0.9884 - val_loss: 4.5779 - val_accuracy: 0.5369\n",
            "Epoch 134/150\n",
            "22/22 [==============================] - 0s 15ms/step - loss: 0.0192 - accuracy: 0.9913 - val_loss: 9.3798 - val_accuracy: 0.5168\n",
            "Epoch 135/150\n",
            "22/22 [==============================] - 0s 17ms/step - loss: 0.0184 - accuracy: 0.9913 - val_loss: 5.3323 - val_accuracy: 0.5034\n",
            "Epoch 136/150\n",
            "22/22 [==============================] - 0s 16ms/step - loss: 0.0532 - accuracy: 0.9855 - val_loss: 5.8520 - val_accuracy: 0.6174\n",
            "Epoch 137/150\n",
            "22/22 [==============================] - 0s 16ms/step - loss: 0.0218 - accuracy: 0.9913 - val_loss: 3.3984 - val_accuracy: 0.6376\n",
            "Epoch 138/150\n",
            "22/22 [==============================] - 0s 16ms/step - loss: 0.0041 - accuracy: 1.0000 - val_loss: 5.0190 - val_accuracy: 0.6309\n",
            "Epoch 139/150\n",
            "22/22 [==============================] - 0s 15ms/step - loss: 0.0025 - accuracy: 1.0000 - val_loss: 4.4427 - val_accuracy: 0.6242\n",
            "Epoch 140/150\n",
            "22/22 [==============================] - 0s 15ms/step - loss: 0.0055 - accuracy: 0.9971 - val_loss: 3.2292 - val_accuracy: 0.6510\n",
            "Epoch 141/150\n",
            "22/22 [==============================] - 0s 16ms/step - loss: 0.0040 - accuracy: 1.0000 - val_loss: 2.9894 - val_accuracy: 0.7181\n",
            "Epoch 142/150\n",
            "22/22 [==============================] - 0s 16ms/step - loss: 0.0030 - accuracy: 1.0000 - val_loss: 2.0747 - val_accuracy: 0.7450\n",
            "Epoch 143/150\n",
            "22/22 [==============================] - 0s 16ms/step - loss: 0.0010 - accuracy: 1.0000 - val_loss: 1.9492 - val_accuracy: 0.7450\n",
            "Epoch 144/150\n",
            "22/22 [==============================] - 0s 16ms/step - loss: 0.0010 - accuracy: 1.0000 - val_loss: 1.9419 - val_accuracy: 0.7450\n",
            "Epoch 145/150\n",
            "22/22 [==============================] - 0s 15ms/step - loss: 0.0013 - accuracy: 1.0000 - val_loss: 2.0125 - val_accuracy: 0.7450\n",
            "Epoch 146/150\n",
            "22/22 [==============================] - 0s 16ms/step - loss: 0.0106 - accuracy: 0.9971 - val_loss: 2.2858 - val_accuracy: 0.6242\n",
            "Epoch 147/150\n",
            "22/22 [==============================] - 0s 15ms/step - loss: 0.0297 - accuracy: 0.9884 - val_loss: 2.3978 - val_accuracy: 0.6980\n",
            "Epoch 148/150\n",
            "22/22 [==============================] - 0s 15ms/step - loss: 0.0443 - accuracy: 0.9855 - val_loss: 10.8171 - val_accuracy: 0.5973\n",
            "Epoch 149/150\n",
            "22/22 [==============================] - 0s 15ms/step - loss: 0.0904 - accuracy: 0.9624 - val_loss: 8.8834 - val_accuracy: 0.6107\n",
            "Epoch 150/150\n",
            "22/22 [==============================] - 0s 15ms/step - loss: 0.1297 - accuracy: 0.9595 - val_loss: 5.3833 - val_accuracy: 0.5369\n"
          ],
          "name": "stdout"
        }
      ]
    },
    {
      "cell_type": "code",
      "metadata": {
        "colab": {
          "base_uri": "https://localhost:8080/",
          "height": 295
        },
        "id": "SKqzztQDpF01",
        "outputId": "e4045560-9550-4565-ebfa-d5424507ca2b"
      },
      "source": [
        "import os\n",
        "import seaborn as sns\n",
        "#plot the training and validation accuracy and loss at each epoch\n",
        "loss = history.history['loss']\n",
        "val_loss = history.history['val_loss']\n",
        "epochs = range(1, len(loss) + 1)\n",
        "plt.plot(epochs, loss, 'y', label='Training loss')\n",
        "plt.plot(epochs, val_loss, 'r', label='Validation loss')\n",
        "plt.title('Training and validation loss')\n",
        "plt.xlabel('Epochs')\n",
        "plt.ylabel('Loss')\n",
        "plt.legend()\n",
        "plt.show()"
      ],
      "execution_count": 19,
      "outputs": [
        {
          "output_type": "display_data",
          "data": {
            "image/png": "[encoded data removed]",
            "text/plain": [
              "<Figure size 432x288 with 1 Axes>"
            ]
          },
          "metadata": {
            "needs_background": "light"
          }
        }
      ]
    },
    {
      "cell_type": "code",
      "metadata": {
        "colab": {
          "base_uri": "https://localhost:8080/",
          "height": 295
        },
        "id": "9mpZlD41pF4A",
        "outputId": "732a6e07-17af-4bad-bfdc-c1f5117742c4"
      },
      "source": [
        "acc = history.history['accuracy']\n",
        "val_acc = history.history['val_accuracy']\n",
        "plt.plot(epochs, acc, 'y', label='Training acc')\n",
        "plt.plot(epochs, val_acc, 'r', label='Validation acc')\n",
        "plt.title('Training and validation accuracy')\n",
        "plt.xlabel('Epochs')\n",
        "plt.ylabel('Accuracy')\n",
        "plt.legend()\n",
        "plt.show()"
      ],
      "execution_count": 20,
      "outputs": [
        {
          "output_type": "display_data",
          "data": {
            "image/png": "[encoded data removed]",
            "text/plain": [
              "<Figure size 432x288 with 1 Axes>"
            ]
          },
          "metadata": {
            "needs_background": "light"
          }
        }
      ]
    },
    {
      "cell_type": "code",
      "metadata": {
        "colab": {
          "base_uri": "https://localhost:8080/",
          "height": 332
        },
        "id": "D-PzHWUjpF7H",
        "outputId": "2b7d4e6a-3d82-458a-9c8e-3fdedd1a7b3b"
      },
      "source": [
        "prediction_NN = model.predict(xTest11)\n",
        "prediction_NN = np.argmax(prediction_NN, axis=-1)\n",
        "#Print overall accuracy\n",
        "from sklearn import metrics\n",
        "print (\"Accuracy = \", metrics.accuracy_score(yTest1, prediction_NN))\n",
        "#Confusion Matrix - verify accuracy of each class\n",
        "from sklearn.metrics import confusion_matrix\n",
        "cm = confusion_matrix(yTest1, prediction_NN)\n",
        "print(cm)\n",
        "sns.heatmap(cm, annot=True)"
      ],
      "execution_count": 21,
      "outputs": [
        {
          "output_type": "stream",
          "text": [
            "Accuracy =  0.5369127516778524\n",
            "[[ 5 68]\n",
            " [ 1 75]]\n"
          ],
          "name": "stdout"
        },
        {
          "output_type": "execute_result",
          "data": {
            "text/plain": [
              "<matplotlib.axes._subplots.AxesSubplot at 0x7f19419cdd90>"
            ]
          },
          "metadata": {},
          "execution_count": 21
        },
        {
          "output_type": "display_data",
          "data": {
            "image/png": "[encoded data removed]",
            "text/plain": [
              "<Figure size 432x288 with 2 Axes>"
            ]
          },
          "metadata": {
            "needs_background": "light"
          }
        }
      ]
    },
    {
      "cell_type": "code",
      "metadata": {
        "id": "kRN2ooNbfptj",
        "outputId": "42a8fab9-59de-4fcc-de60-649ffe395d21",
        "colab": {
          "base_uri": "https://localhost:8080/"
        }
      },
      "source": [
        "from keras.callbacks import EarlyStopping\n",
        "#set early stopping monitor so the model stops training when it won't improve anymore\n",
        "early_stopping_monitor = EarlyStopping(patience=500)\n",
        "\n",
        "#train model\n",
        "history=model.fit(xTrain11, yTrain11, validation_data = (xTest11, yTest11), epochs=50, batch_size=16)\n"
      ],
      "execution_count": 22,
      "outputs": [
        {
          "output_type": "stream",
          "text": [
            "Epoch 1/50\n",
            "22/22 [==============================] - 0s 19ms/step - loss: 0.0378 - accuracy: 0.9913 - val_loss: 13.1273 - val_accuracy: 0.5101\n",
            "Epoch 2/50\n",
            "22/22 [==============================] - 0s 15ms/step - loss: 0.0099 - accuracy: 0.9971 - val_loss: 12.3399 - val_accuracy: 0.5101\n",
            "Epoch 3/50\n",
            "22/22 [==============================] - 0s 16ms/step - loss: 0.0086 - accuracy: 0.9971 - val_loss: 6.7023 - val_accuracy: 0.5570\n",
            "Epoch 4/50\n",
            "22/22 [==============================] - 0s 15ms/step - loss: 0.0113 - accuracy: 0.9971 - val_loss: 4.6347 - val_accuracy: 0.6309\n",
            "Epoch 5/50\n",
            "22/22 [==============================] - 0s 15ms/step - loss: 0.0127 - accuracy: 0.9971 - val_loss: 8.3658 - val_accuracy: 0.5503\n",
            "Epoch 6/50\n",
            "22/22 [==============================] - 0s 16ms/step - loss: 0.0095 - accuracy: 0.9971 - val_loss: 4.6683 - val_accuracy: 0.6577\n",
            "Epoch 7/50\n",
            "22/22 [==============================] - 0s 15ms/step - loss: 0.0317 - accuracy: 0.9827 - val_loss: 7.4589 - val_accuracy: 0.6443\n",
            "Epoch 8/50\n",
            "22/22 [==============================] - 0s 15ms/step - loss: 0.0363 - accuracy: 0.9827 - val_loss: 5.2280 - val_accuracy: 0.6779\n",
            "Epoch 9/50\n",
            "22/22 [==============================] - 0s 15ms/step - loss: 0.0098 - accuracy: 0.9971 - val_loss: 5.6612 - val_accuracy: 0.6174\n",
            "Epoch 10/50\n",
            "22/22 [==============================] - 0s 15ms/step - loss: 0.0511 - accuracy: 0.9855 - val_loss: 3.0936 - val_accuracy: 0.6846\n",
            "Epoch 11/50\n",
            "22/22 [==============================] - 0s 16ms/step - loss: 0.0146 - accuracy: 0.9971 - val_loss: 2.8954 - val_accuracy: 0.6577\n",
            "Epoch 12/50\n",
            "22/22 [==============================] - 0s 15ms/step - loss: 0.0191 - accuracy: 0.9942 - val_loss: 2.2452 - val_accuracy: 0.6913\n",
            "Epoch 13/50\n",
            "22/22 [==============================] - 0s 15ms/step - loss: 0.0444 - accuracy: 0.9827 - val_loss: 7.2241 - val_accuracy: 0.6309\n",
            "Epoch 14/50\n",
            "22/22 [==============================] - 0s 15ms/step - loss: 0.1681 - accuracy: 0.9566 - val_loss: 7.8154 - val_accuracy: 0.5772\n",
            "Epoch 15/50\n",
            "22/22 [==============================] - 0s 15ms/step - loss: 0.1170 - accuracy: 0.9653 - val_loss: 5.4815 - val_accuracy: 0.5034\n",
            "Epoch 16/50\n",
            "22/22 [==============================] - 0s 15ms/step - loss: 0.0448 - accuracy: 0.9913 - val_loss: 1.9511 - val_accuracy: 0.6040\n",
            "Epoch 17/50\n",
            "22/22 [==============================] - 0s 14ms/step - loss: 0.0292 - accuracy: 0.9884 - val_loss: 2.0375 - val_accuracy: 0.5973\n",
            "Epoch 18/50\n",
            "22/22 [==============================] - 0s 16ms/step - loss: 0.0255 - accuracy: 0.9942 - val_loss: 2.5057 - val_accuracy: 0.6107\n",
            "Epoch 19/50\n",
            "22/22 [==============================] - 0s 14ms/step - loss: 0.0068 - accuracy: 1.0000 - val_loss: 2.8340 - val_accuracy: 0.6443\n",
            "Epoch 20/50\n",
            "22/22 [==============================] - 0s 16ms/step - loss: 0.0039 - accuracy: 1.0000 - val_loss: 5.1023 - val_accuracy: 0.6577\n",
            "Epoch 21/50\n",
            "22/22 [==============================] - 0s 14ms/step - loss: 0.0018 - accuracy: 1.0000 - val_loss: 5.5108 - val_accuracy: 0.6242\n",
            "Epoch 22/50\n",
            "22/22 [==============================] - 0s 16ms/step - loss: 0.0017 - accuracy: 1.0000 - val_loss: 3.0486 - val_accuracy: 0.6644\n",
            "Epoch 23/50\n",
            "22/22 [==============================] - 0s 15ms/step - loss: 7.8319e-04 - accuracy: 1.0000 - val_loss: 2.2128 - val_accuracy: 0.6980\n",
            "Epoch 24/50\n",
            "22/22 [==============================] - 0s 15ms/step - loss: 8.0043e-04 - accuracy: 1.0000 - val_loss: 2.0439 - val_accuracy: 0.7181\n",
            "Epoch 25/50\n",
            "22/22 [==============================] - 0s 15ms/step - loss: 9.2531e-04 - accuracy: 1.0000 - val_loss: 2.0364 - val_accuracy: 0.7114\n",
            "Epoch 26/50\n",
            "22/22 [==============================] - 0s 14ms/step - loss: 3.7401e-04 - accuracy: 1.0000 - val_loss: 1.9870 - val_accuracy: 0.7047\n",
            "Epoch 27/50\n",
            "22/22 [==============================] - 0s 15ms/step - loss: 6.6660e-04 - accuracy: 1.0000 - val_loss: 1.9297 - val_accuracy: 0.7047\n",
            "Epoch 28/50\n",
            "22/22 [==============================] - 0s 15ms/step - loss: 4.3050e-04 - accuracy: 1.0000 - val_loss: 1.9187 - val_accuracy: 0.7114\n",
            "Epoch 29/50\n",
            "22/22 [==============================] - 0s 14ms/step - loss: 6.9686e-04 - accuracy: 1.0000 - val_loss: 1.8781 - val_accuracy: 0.7047\n",
            "Epoch 30/50\n",
            "22/22 [==============================] - 0s 15ms/step - loss: 7.3453e-04 - accuracy: 1.0000 - val_loss: 1.8530 - val_accuracy: 0.7114\n",
            "Epoch 31/50\n",
            "22/22 [==============================] - 0s 14ms/step - loss: 7.9645e-04 - accuracy: 1.0000 - val_loss: 1.8421 - val_accuracy: 0.7114\n",
            "Epoch 32/50\n",
            "22/22 [==============================] - 0s 14ms/step - loss: 0.0014 - accuracy: 1.0000 - val_loss: 1.6087 - val_accuracy: 0.7047\n",
            "Epoch 33/50\n",
            "22/22 [==============================] - 0s 14ms/step - loss: 6.4190e-04 - accuracy: 1.0000 - val_loss: 1.6922 - val_accuracy: 0.6913\n",
            "Epoch 34/50\n",
            "22/22 [==============================] - 0s 15ms/step - loss: 1.8807e-04 - accuracy: 1.0000 - val_loss: 1.7569 - val_accuracy: 0.6913\n",
            "Epoch 35/50\n",
            "22/22 [==============================] - 0s 15ms/step - loss: 2.2597e-04 - accuracy: 1.0000 - val_loss: 1.8070 - val_accuracy: 0.7114\n",
            "Epoch 36/50\n",
            "22/22 [==============================] - 0s 15ms/step - loss: 3.3096e-04 - accuracy: 1.0000 - val_loss: 1.8386 - val_accuracy: 0.7047\n",
            "Epoch 37/50\n",
            "22/22 [==============================] - 0s 15ms/step - loss: 3.9458e-04 - accuracy: 1.0000 - val_loss: 1.9015 - val_accuracy: 0.7315\n",
            "Epoch 38/50\n",
            "22/22 [==============================] - 0s 14ms/step - loss: 3.5555e-04 - accuracy: 1.0000 - val_loss: 1.9378 - val_accuracy: 0.7181\n",
            "Epoch 39/50\n",
            "22/22 [==============================] - 0s 14ms/step - loss: 3.5889e-04 - accuracy: 1.0000 - val_loss: 1.9349 - val_accuracy: 0.7181\n",
            "Epoch 40/50\n",
            "22/22 [==============================] - 0s 14ms/step - loss: 2.9525e-04 - accuracy: 1.0000 - val_loss: 1.9658 - val_accuracy: 0.7047\n",
            "Epoch 41/50\n",
            "22/22 [==============================] - 0s 15ms/step - loss: 2.8974e-04 - accuracy: 1.0000 - val_loss: 2.0177 - val_accuracy: 0.7114\n",
            "Epoch 42/50\n",
            "22/22 [==============================] - 0s 15ms/step - loss: 1.2078e-04 - accuracy: 1.0000 - val_loss: 2.0628 - val_accuracy: 0.7114\n",
            "Epoch 43/50\n",
            "22/22 [==============================] - 0s 15ms/step - loss: 1.7159e-04 - accuracy: 1.0000 - val_loss: 2.0761 - val_accuracy: 0.7114\n",
            "Epoch 44/50\n",
            "22/22 [==============================] - 0s 16ms/step - loss: 2.3921e-04 - accuracy: 1.0000 - val_loss: 2.0799 - val_accuracy: 0.7114\n",
            "Epoch 45/50\n",
            "22/22 [==============================] - 0s 14ms/step - loss: 2.5443e-04 - accuracy: 1.0000 - val_loss: 2.0942 - val_accuracy: 0.7114\n",
            "Epoch 46/50\n",
            "22/22 [==============================] - 0s 14ms/step - loss: 1.4030e-04 - accuracy: 1.0000 - val_loss: 2.1024 - val_accuracy: 0.7181\n",
            "Epoch 47/50\n",
            "22/22 [==============================] - 0s 15ms/step - loss: 2.5392e-04 - accuracy: 1.0000 - val_loss: 2.1494 - val_accuracy: 0.7248\n",
            "Epoch 48/50\n",
            "22/22 [==============================] - 0s 16ms/step - loss: 4.2909e-04 - accuracy: 1.0000 - val_loss: 2.0119 - val_accuracy: 0.7181\n",
            "Epoch 49/50\n",
            "22/22 [==============================] - 0s 14ms/step - loss: 5.2932e-04 - accuracy: 1.0000 - val_loss: 2.0446 - val_accuracy: 0.7114\n",
            "Epoch 50/50\n",
            "22/22 [==============================] - 0s 16ms/step - loss: 1.7678e-04 - accuracy: 1.0000 - val_loss: 2.1246 - val_accuracy: 0.7315\n"
          ],
          "name": "stdout"
        }
      ]
    },
    {
      "cell_type": "code",
      "metadata": {
        "id": "tPwbNe9QgPqb",
        "outputId": "b3727eb9-3216-492a-ed1e-7072f1675d03",
        "colab": {
          "base_uri": "https://localhost:8080/",
          "height": 332
        }
      },
      "source": [
        "prediction_NN = model.predict(xTest11)\n",
        "prediction_NN = np.argmax(prediction_NN, axis=-1)\n",
        "#Print overall accuracy\n",
        "from sklearn import metrics\n",
        "print (\"Accuracy = \", metrics.accuracy_score(yTest1, prediction_NN))\n",
        "#Confusion Matrix - verify accuracy of each class\n",
        "from sklearn.metrics import confusion_matrix\n",
        "cm = confusion_matrix(yTest1, prediction_NN)\n",
        "print(cm)\n",
        "sns.heatmap(cm, annot=True)"
      ],
      "execution_count": 23,
      "outputs": [
        {
          "output_type": "stream",
          "text": [
            "Accuracy =  0.7315436241610739\n",
            "[[50 23]\n",
            " [17 59]]\n"
          ],
          "name": "stdout"
        },
        {
          "output_type": "execute_result",
          "data": {
            "text/plain": [
              "<matplotlib.axes._subplots.AxesSubplot at 0x7f1940868dd0>"
            ]
          },
          "metadata": {},
          "execution_count": 23
        },
        {
          "output_type": "display_data",
          "data": {
            "image/png": "[encoded data removed]",
            "text/plain": [
              "<Figure size 432x288 with 2 Axes>"
            ]
          },
          "metadata": {
            "needs_background": "light"
          }
        }
      ]
    },
    {
      "cell_type": "code",
      "metadata": {
        "id": "nF_cw4JwgWhO",
        "outputId": "e27f93c8-ffb3-4e6f-dfba-529e37bc3e99",
        "colab": {
          "base_uri": "https://localhost:8080/",
          "height": 1000
        }
      },
      "source": [
        "from keras.callbacks import EarlyStopping\n",
        "#set early stopping monitor so the model stops training when it won't improve anymore\n",
        "early_stopping_monitor = EarlyStopping(patience=500)\n",
        "\n",
        "#train model\n",
        "history=model.fit(xTrain11, yTrain11, validation_data = (xTest11, yTest11), epochs=50, batch_size=16)\n",
        "\n",
        "prediction_NN = model.predict(xTest11)\n",
        "prediction_NN = np.argmax(prediction_NN, axis=-1)\n",
        "#Print overall accuracy\n",
        "from sklearn import metrics\n",
        "print (\"Accuracy = \", metrics.accuracy_score(yTest1, prediction_NN))\n",
        "#Confusion Matrix - verify accuracy of each class\n",
        "from sklearn.metrics import confusion_matrix\n",
        "cm = confusion_matrix(yTest1, prediction_NN)\n",
        "print(cm)\n",
        "sns.heatmap(cm, annot=True)\n"
      ],
      "execution_count": 24,
      "outputs": [
        {
          "output_type": "stream",
          "text": [
            "Epoch 1/50\n",
            "22/22 [==============================] - 0s 18ms/step - loss: 7.9611e-04 - accuracy: 1.0000 - val_loss: 2.1745 - val_accuracy: 0.7181\n",
            "Epoch 2/50\n",
            "22/22 [==============================] - 0s 16ms/step - loss: 2.5920e-04 - accuracy: 1.0000 - val_loss: 2.2040 - val_accuracy: 0.7181\n",
            "Epoch 3/50\n",
            "22/22 [==============================] - 0s 16ms/step - loss: 0.0010 - accuracy: 1.0000 - val_loss: 2.8968 - val_accuracy: 0.7181\n",
            "Epoch 4/50\n",
            "22/22 [==============================] - 0s 15ms/step - loss: 8.9604e-04 - accuracy: 1.0000 - val_loss: 3.0050 - val_accuracy: 0.7248\n",
            "Epoch 5/50\n",
            "22/22 [==============================] - 0s 15ms/step - loss: 2.2373e-04 - accuracy: 1.0000 - val_loss: 2.7966 - val_accuracy: 0.6980\n",
            "Epoch 6/50\n",
            "22/22 [==============================] - 0s 15ms/step - loss: 1.0802e-04 - accuracy: 1.0000 - val_loss: 2.7193 - val_accuracy: 0.6980\n",
            "Epoch 7/50\n",
            "22/22 [==============================] - 0s 15ms/step - loss: 3.8031e-04 - accuracy: 1.0000 - val_loss: 2.6255 - val_accuracy: 0.7114\n",
            "Epoch 8/50\n",
            "22/22 [==============================] - 0s 15ms/step - loss: 5.9251e-04 - accuracy: 1.0000 - val_loss: 2.3241 - val_accuracy: 0.6779\n",
            "Epoch 9/50\n",
            "22/22 [==============================] - 0s 14ms/step - loss: 2.5495e-04 - accuracy: 1.0000 - val_loss: 2.2397 - val_accuracy: 0.6846\n",
            "Epoch 10/50\n",
            "22/22 [==============================] - 0s 15ms/step - loss: 4.0379e-04 - accuracy: 1.0000 - val_loss: 2.1992 - val_accuracy: 0.6980\n",
            "Epoch 11/50\n",
            "22/22 [==============================] - 0s 16ms/step - loss: 1.8343e-04 - accuracy: 1.0000 - val_loss: 2.2411 - val_accuracy: 0.7047\n",
            "Epoch 12/50\n",
            "22/22 [==============================] - 0s 16ms/step - loss: 8.2342e-05 - accuracy: 1.0000 - val_loss: 2.2694 - val_accuracy: 0.7114\n",
            "Epoch 13/50\n",
            "22/22 [==============================] - 0s 15ms/step - loss: 2.2693e-04 - accuracy: 1.0000 - val_loss: 2.3526 - val_accuracy: 0.7047\n",
            "Epoch 14/50\n",
            "22/22 [==============================] - 0s 14ms/step - loss: 1.9604e-04 - accuracy: 1.0000 - val_loss: 2.3871 - val_accuracy: 0.7114\n",
            "Epoch 15/50\n",
            "22/22 [==============================] - 0s 14ms/step - loss: 1.5790e-04 - accuracy: 1.0000 - val_loss: 2.3712 - val_accuracy: 0.7114\n",
            "Epoch 16/50\n",
            "22/22 [==============================] - 0s 14ms/step - loss: 1.4381e-04 - accuracy: 1.0000 - val_loss: 2.3691 - val_accuracy: 0.7181\n",
            "Epoch 17/50\n",
            "22/22 [==============================] - 0s 15ms/step - loss: 1.5357e-04 - accuracy: 1.0000 - val_loss: 2.3786 - val_accuracy: 0.7114\n",
            "Epoch 18/50\n",
            "22/22 [==============================] - 0s 14ms/step - loss: 9.7872e-04 - accuracy: 1.0000 - val_loss: 2.3227 - val_accuracy: 0.6980\n",
            "Epoch 19/50\n",
            "22/22 [==============================] - 0s 15ms/step - loss: 6.9527e-05 - accuracy: 1.0000 - val_loss: 2.6624 - val_accuracy: 0.6913\n",
            "Epoch 20/50\n",
            "22/22 [==============================] - 0s 15ms/step - loss: 2.0045e-04 - accuracy: 1.0000 - val_loss: 2.4687 - val_accuracy: 0.6846\n",
            "Epoch 21/50\n",
            "22/22 [==============================] - 0s 14ms/step - loss: 1.9868e-04 - accuracy: 1.0000 - val_loss: 2.1309 - val_accuracy: 0.6846\n",
            "Epoch 22/50\n",
            "22/22 [==============================] - 0s 15ms/step - loss: 2.2305e-04 - accuracy: 1.0000 - val_loss: 2.1153 - val_accuracy: 0.6846\n",
            "Epoch 23/50\n",
            "22/22 [==============================] - 0s 15ms/step - loss: 2.7880e-04 - accuracy: 1.0000 - val_loss: 2.1691 - val_accuracy: 0.7114\n",
            "Epoch 24/50\n",
            "22/22 [==============================] - 0s 15ms/step - loss: 1.1011e-04 - accuracy: 1.0000 - val_loss: 2.2242 - val_accuracy: 0.7248\n",
            "Epoch 25/50\n",
            "22/22 [==============================] - 0s 14ms/step - loss: 8.4440e-05 - accuracy: 1.0000 - val_loss: 2.2585 - val_accuracy: 0.7248\n",
            "Epoch 26/50\n",
            "22/22 [==============================] - 0s 15ms/step - loss: 1.1268e-04 - accuracy: 1.0000 - val_loss: 2.3008 - val_accuracy: 0.7248\n",
            "Epoch 27/50\n",
            "22/22 [==============================] - 0s 14ms/step - loss: 1.3277e-04 - accuracy: 1.0000 - val_loss: 2.3318 - val_accuracy: 0.7248\n",
            "Epoch 28/50\n",
            "22/22 [==============================] - 0s 14ms/step - loss: 7.5183e-05 - accuracy: 1.0000 - val_loss: 2.3530 - val_accuracy: 0.7181\n",
            "Epoch 29/50\n",
            "22/22 [==============================] - 0s 17ms/step - loss: 7.3795e-05 - accuracy: 1.0000 - val_loss: 2.3634 - val_accuracy: 0.7181\n",
            "Epoch 30/50\n",
            "22/22 [==============================] - 0s 14ms/step - loss: 1.6027e-04 - accuracy: 1.0000 - val_loss: 2.3946 - val_accuracy: 0.7181\n",
            "Epoch 31/50\n",
            "22/22 [==============================] - 0s 15ms/step - loss: 1.1693e-04 - accuracy: 1.0000 - val_loss: 2.4422 - val_accuracy: 0.7181\n",
            "Epoch 32/50\n",
            "22/22 [==============================] - 0s 15ms/step - loss: 4.9523e-05 - accuracy: 1.0000 - val_loss: 2.4865 - val_accuracy: 0.7181\n",
            "Epoch 33/50\n",
            "22/22 [==============================] - 0s 15ms/step - loss: 9.6568e-05 - accuracy: 1.0000 - val_loss: 2.4585 - val_accuracy: 0.7181\n",
            "Epoch 34/50\n",
            "22/22 [==============================] - 0s 14ms/step - loss: 4.4883e-04 - accuracy: 1.0000 - val_loss: 2.4497 - val_accuracy: 0.7181\n",
            "Epoch 35/50\n",
            "22/22 [==============================] - 0s 16ms/step - loss: 2.4407e-04 - accuracy: 1.0000 - val_loss: 2.3956 - val_accuracy: 0.7047\n",
            "Epoch 36/50\n",
            "22/22 [==============================] - 0s 16ms/step - loss: 5.5109e-04 - accuracy: 1.0000 - val_loss: 2.2443 - val_accuracy: 0.7047\n",
            "Epoch 37/50\n",
            "22/22 [==============================] - 0s 15ms/step - loss: 2.0730e-04 - accuracy: 1.0000 - val_loss: 2.2493 - val_accuracy: 0.7114\n",
            "Epoch 38/50\n",
            "22/22 [==============================] - 0s 15ms/step - loss: 1.7271e-04 - accuracy: 1.0000 - val_loss: 2.2519 - val_accuracy: 0.6980\n",
            "Epoch 39/50\n",
            "22/22 [==============================] - 0s 15ms/step - loss: 2.1703e-04 - accuracy: 1.0000 - val_loss: 2.2297 - val_accuracy: 0.6980\n",
            "Epoch 40/50\n",
            "22/22 [==============================] - 0s 14ms/step - loss: 5.1418e-05 - accuracy: 1.0000 - val_loss: 2.2737 - val_accuracy: 0.6980\n",
            "Epoch 41/50\n",
            "22/22 [==============================] - 0s 16ms/step - loss: 1.5026e-04 - accuracy: 1.0000 - val_loss: 2.3134 - val_accuracy: 0.6980\n",
            "Epoch 42/50\n",
            "22/22 [==============================] - 0s 15ms/step - loss: 7.7715e-04 - accuracy: 1.0000 - val_loss: 2.9646 - val_accuracy: 0.7315\n",
            "Epoch 43/50\n",
            "22/22 [==============================] - 0s 15ms/step - loss: 1.3071e-04 - accuracy: 1.0000 - val_loss: 3.9023 - val_accuracy: 0.7181\n",
            "Epoch 44/50\n",
            "22/22 [==============================] - 0s 16ms/step - loss: 5.8131e-05 - accuracy: 1.0000 - val_loss: 3.6663 - val_accuracy: 0.7181\n",
            "Epoch 45/50\n",
            "22/22 [==============================] - 0s 15ms/step - loss: 0.0015 - accuracy: 1.0000 - val_loss: 4.2713 - val_accuracy: 0.6980\n",
            "Epoch 46/50\n",
            "22/22 [==============================] - 0s 15ms/step - loss: 0.0062 - accuracy: 1.0000 - val_loss: 2.7807 - val_accuracy: 0.6644\n",
            "Epoch 47/50\n",
            "22/22 [==============================] - 0s 15ms/step - loss: 6.9375e-04 - accuracy: 1.0000 - val_loss: 2.6052 - val_accuracy: 0.6577\n",
            "Epoch 48/50\n",
            "22/22 [==============================] - 0s 15ms/step - loss: 7.8591e-04 - accuracy: 1.0000 - val_loss: 3.2459 - val_accuracy: 0.6846\n",
            "Epoch 49/50\n",
            "22/22 [==============================] - 0s 15ms/step - loss: 4.1678e-04 - accuracy: 1.0000 - val_loss: 3.6034 - val_accuracy: 0.6913\n",
            "Epoch 50/50\n",
            "22/22 [==============================] - 0s 14ms/step - loss: 1.7631e-04 - accuracy: 1.0000 - val_loss: 3.4057 - val_accuracy: 0.6980\n",
            "Accuracy =  0.697986577181208\n",
            "[[43 30]\n",
            " [15 61]]\n"
          ],
          "name": "stdout"
        },
        {
          "output_type": "execute_result",
          "data": {
            "text/plain": [
              "<matplotlib.axes._subplots.AxesSubplot at 0x7f193f980110>"
            ]
          },
          "metadata": {},
          "execution_count": 24
        },
        {
          "output_type": "display_data",
          "data": {
            "image/png": "[encoded data removed]",
            "text/plain": [
              "<Figure size 432x288 with 2 Axes>"
            ]
          },
          "metadata": {
            "needs_background": "light"
          }
        }
      ]
    },
    {
      "cell_type": "code",
      "metadata": {
        "id": "zF_XUwmMg2TP"
      },
      "source": [
        ""
      ],
      "execution_count": null,
      "outputs": []
    }
  ]
}