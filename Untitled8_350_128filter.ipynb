{
  "nbformat": 4,
  "nbformat_minor": 0,
  "metadata": {
    "colab": {
      "name": "Untitled8.ipynb",
      "provenance": [],
      "include_colab_link": true
    },
    "kernelspec": {
      "name": "python3",
      "display_name": "Python 3"
    },
    "language_info": {
      "name": "python"
    },
    "accelerator": "GPU"
  },
  "cells": [
    {
      "cell_type": "markdown",
      "metadata": {
        "id": "view-in-github",
        "colab_type": "text"
      },
      "source": [
        "<a href=\"https://colab.research.google.com/github/rohitsubodh/GAN/blob/main/Untitled8_350_128filter.ipynb\" target=\"_parent\"><img src=\"https://colab.research.google.com/assets/colab-badge.svg\" alt=\"Open In Colab\"/></a>"
      ]
    },
    {
      "cell_type": "code",
      "metadata": {
        "id": "cMHBuO0wos-j"
      },
      "source": [
        "\n",
        "import tensorflow as tf\n",
        "import keras\n",
        "import numpy as np\n",
        "from keras import models\n",
        "from keras import layers\n",
        "from keras.wrappers.scikit_learn import KerasClassifier\n",
        "from sklearn.model_selection import cross_val_score\n",
        "from sklearn.datasets import make_classification\n",
        "from matplotlib import pyplot\n",
        "import numpy as np\n",
        "import matplotlib.pyplot as plt\n",
        "import pandas as pd\n",
        "from sklearn import preprocessing\n",
        "from keras.models import Sequential\n",
        "from keras.layers import Dense, Dropout,Input\n",
        "from keras.layers import Embedding,LeakyReLU\n",
        "from keras.layers import Conv1D, GlobalAveragePooling1D, MaxPooling1D, Flatten, LocallyConnected1D, BatchNormalization\n",
        "import scipy.signal\n",
        "from sklearn.decomposition import PCA, KernelPCA"
      ],
      "execution_count": 51,
      "outputs": []
    },
    {
      "cell_type": "code",
      "metadata": {
        "id": "Hi8fcclmpFNY"
      },
      "source": [
        "data = pd.read_excel('/content/PPG_new.xlsx',sheet_name='0-1')\n",
        "target = pd.read_excel('/content/PPG_new.xlsx',sheet_name='target 0-1')"
      ],
      "execution_count": 52,
      "outputs": []
    },
    {
      "cell_type": "code",
      "metadata": {
        "colab": {
          "base_uri": "https://localhost:8080/"
        },
        "id": "mUhak2l_B-rq",
        "outputId": "152c2716-1185-4992-90aa-069c182f5fd6"
      },
      "source": [
        "data.shape"
      ],
      "execution_count": 53,
      "outputs": [
        {
          "output_type": "execute_result",
          "data": {
            "text/plain": [
              "(495, 2100)"
            ]
          },
          "metadata": {},
          "execution_count": 53
        }
      ]
    },
    {
      "cell_type": "code",
      "metadata": {
        "colab": {
          "base_uri": "https://localhost:8080/",
          "height": 265
        },
        "id": "q1Q3Q3FepFW2",
        "outputId": "10c76b26-5c2a-4aec-9e1f-b97e51450680"
      },
      "source": [
        "x= data.iloc[0,:]\n",
        "plt.plot(x)\n",
        "plt.show\n",
        "data12=data"
      ],
      "execution_count": 54,
      "outputs": [
        {
          "output_type": "display_data",
          "data": {
            "image/png": "[encoded data removed]",
            "text/plain": [
              "<Figure size 432x288 with 1 Axes>"
            ]
          },
          "metadata": {
            "needs_background": "light"
          }
        }
      ]
    },
    {
      "cell_type": "code",
      "metadata": {
        "colab": {
          "base_uri": "https://localhost:8080/",
          "height": 282
        },
        "id": "SRcZU0-ppFaK",
        "outputId": "5830c6f1-c8cb-48f7-987f-333dfb6d4eef"
      },
      "source": [
        "# Applying median filter\n",
        "data=data\n",
        "data=scipy.signal.medfilt(data)\n",
        "data\n",
        "x= data[0,:]\n",
        "plt.plot(x)\n",
        "plt.show"
      ],
      "execution_count": 55,
      "outputs": [
        {
          "output_type": "execute_result",
          "data": {
            "text/plain": [
              "<function matplotlib.pyplot.show>"
            ]
          },
          "metadata": {},
          "execution_count": 55
        },
        {
          "output_type": "display_data",
          "data": {
            "image/png": "[encoded data removed]",
            "text/plain": [
              "<Figure size 432x288 with 1 Axes>"
            ]
          },
          "metadata": {
            "needs_background": "light"
          }
        }
      ]
    },
    {
      "cell_type": "code",
      "metadata": {
        "colab": {
          "base_uri": "https://localhost:8080/"
        },
        "id": "Rr2cHwXGpFc9",
        "outputId": "7931b781-c197-49bd-c659-f3830f5eb69e"
      },
      "source": [
        "# Design of low pass chebyshev filter\n",
        "sos= scipy.signal.cheby2(4, 10, 25, 'low', fs=1000, output='sos')\n",
        "sos"
      ],
      "execution_count": 56,
      "outputs": [
        {
          "output_type": "execute_result",
          "data": {
            "text/plain": [
              "array([[ 0.26741176, -0.49141861,  0.26741176,  1.        , -1.6346899 ,\n",
              "         0.69069827],\n",
              "       [ 1.        , -1.97118242,  1.        ,  1.        , -1.92658177,\n",
              "         0.94891457]])"
            ]
          },
          "metadata": {},
          "execution_count": 56
        }
      ]
    },
    {
      "cell_type": "code",
      "metadata": {
        "colab": {
          "base_uri": "https://localhost:8080/",
          "height": 282
        },
        "id": "V2M-vdahpFfz",
        "outputId": "6c724000-8f6e-4074-ad6a-0ca24cc877b6"
      },
      "source": [
        "data= scipy.signal.sosfilt(sos, data) # applying chebyshev filter\n",
        "x= data[0,:]\n",
        "plt.plot(x)\n",
        "plt.show"
      ],
      "execution_count": 57,
      "outputs": [
        {
          "output_type": "execute_result",
          "data": {
            "text/plain": [
              "<function matplotlib.pyplot.show>"
            ]
          },
          "metadata": {},
          "execution_count": 57
        },
        {
          "output_type": "display_data",
          "data": {
            "image/png": "[encoded data removed]",
            "text/plain": [
              "<Figure size 432x288 with 1 Axes>"
            ]
          },
          "metadata": {
            "needs_background": "light"
          }
        }
      ]
    },
    {
      "cell_type": "code",
      "metadata": {
        "colab": {
          "base_uri": "https://localhost:8080/",
          "height": 282
        },
        "id": "dbCRU494pFiq",
        "outputId": "35d899d5-cc36-4e1f-81fe-ef21778bb74c"
      },
      "source": [
        "# Applying backward forward filter\n",
        "b, a = scipy.signal.butter(8, 0.125) # filter design\n",
        "\n",
        "data = scipy.signal.filtfilt(b, a, data, method=\"gust\")\n",
        "\n",
        "x= data[0,:]\n",
        "plt.plot(x)\n",
        "plt.show"
      ],
      "execution_count": 58,
      "outputs": [
        {
          "output_type": "execute_result",
          "data": {
            "text/plain": [
              "<function matplotlib.pyplot.show>"
            ]
          },
          "metadata": {},
          "execution_count": 58
        },
        {
          "output_type": "display_data",
          "data": {
            "image/png": "[encoded data removed]",
            "text/plain": [
              "<Figure size 432x288 with 1 Axes>"
            ]
          },
          "metadata": {
            "needs_background": "light"
          }
        }
      ]
    },
    {
      "cell_type": "code",
      "metadata": {
        "id": "Wp6SpBPGqCqY",
        "colab": {
          "base_uri": "https://localhost:8080/"
        },
        "outputId": "23f4cab9-7b11-41ca-8c08-01eba520dbc6"
      },
      "source": [
        "data1=data\n",
        "kpca=KernelPCA(kernel=\"rbf\",fit_inverse_transform=True, gamma=10)\n",
        "data=kpca.fit_transform(data)\n",
        "data.shape"
      ],
      "execution_count": 59,
      "outputs": [
        {
          "output_type": "execute_result",
          "data": {
            "text/plain": [
              "(495, 494)"
            ]
          },
          "metadata": {},
          "execution_count": 59
        }
      ]
    },
    {
      "cell_type": "code",
      "metadata": {
        "colab": {
          "base_uri": "https://localhost:8080/",
          "height": 282
        },
        "id": "Sq_3gb_TCpgf",
        "outputId": "427c9512-56ce-470a-9fc1-1fb366a7d065"
      },
      "source": [
        "x= data[0,:]\n",
        "plt.plot(x)\n",
        "plt.show"
      ],
      "execution_count": 60,
      "outputs": [
        {
          "output_type": "execute_result",
          "data": {
            "text/plain": [
              "<function matplotlib.pyplot.show>"
            ]
          },
          "metadata": {},
          "execution_count": 60
        },
        {
          "output_type": "display_data",
          "data": {
            "image/png": "[encoded data removed]",
            "text/plain": [
              "<Figure size 432x288 with 1 Axes>"
            ]
          },
          "metadata": {
            "needs_background": "light"
          }
        }
      ]
    },
    {
      "cell_type": "code",
      "metadata": {
        "id": "aT_bUQPBpFlu"
      },
      "source": [
        "from sklearn.model_selection import train_test_split\n",
        "xTrain1, xTest1, yTrain1, yTest1 = train_test_split(data, target, test_size = 0.3, random_state = 42)"
      ],
      "execution_count": 61,
      "outputs": []
    },
    {
      "cell_type": "code",
      "metadata": {
        "id": "K0ct8stEpFor"
      },
      "source": [
        "xTrain11 = np.expand_dims(xTrain1, axis=2)\n",
        "yTrain11 = tf.keras.utils.to_categorical(yTrain1, num_classes=2)\n",
        "xTest11 =  np.expand_dims(xTest1, axis=2)\n",
        "yTest11 = tf.keras.utils.to_categorical(yTest1, num_classes=2)"
      ],
      "execution_count": 62,
      "outputs": []
    },
    {
      "cell_type": "code",
      "metadata": {
        "id": "egKDUU6zpFr2"
      },
      "source": [
        "input_shape = (494, 1)\n"
      ],
      "execution_count": 63,
      "outputs": []
    },
    {
      "cell_type": "code",
      "metadata": {
        "id": "xJxQ1yvCpFur",
        "colab": {
          "base_uri": "https://localhost:8080/"
        },
        "outputId": "3f61ac54-f55b-401f-f823-fff65c3c9a2a"
      },
      "source": [
        "\n",
        "#CNN Model\n",
        "\n",
        "model = Sequential()\n",
        "model.add(Conv1D(32, 3, activation='relu', input_shape=input_shape[0:]))\n",
        "model.add(BatchNormalization())\n",
        "model.add(LeakyReLU(alpha=0.1))\n",
        "model.add(Conv1D(64, 3, activation='relu', name=\"my_intermediate_layer\"))\n",
        "model.add(MaxPooling1D(3))\n",
        "model.add(BatchNormalization())\n",
        "model.add(LeakyReLU(alpha=0.1))\n",
        "model.add(Conv1D(128, 3, activation='relu'))\n",
        "model.add(BatchNormalization())\n",
        "# model.add(LeakyReLU(alpha=0.1))\n",
        "# model.add(Conv1D(256, 3, activation='relu'))\n",
        "model.add(GlobalAveragePooling1D())\n",
        "model.add(Dropout(0.5))\n",
        "model.add(Dense(100, name=\"dense\"))\n",
        "model.add(Dense(2, activation='softmax', name=\"dense1\"))\n",
        "model.compile(loss='categorical_crossentropy',\n",
        "                    optimizer='adam',\n",
        "                    metrics=['accuracy'])\n",
        "model.summary()"
      ],
      "execution_count": 64,
      "outputs": [
        {
          "output_type": "stream",
          "text": [
            "Model: \"sequential_3\"\n",
            "_________________________________________________________________\n",
            "Layer (type)                 Output Shape              Param #   \n",
            "=================================================================\n",
            "conv1d_8 (Conv1D)            (None, 492, 32)           128       \n",
            "_________________________________________________________________\n",
            "batch_normalization_9 (Batch (None, 492, 32)           128       \n",
            "_________________________________________________________________\n",
            "leaky_re_lu_8 (LeakyReLU)    (None, 492, 32)           0         \n",
            "_________________________________________________________________\n",
            "my_intermediate_layer (Conv1 (None, 490, 64)           6208      \n",
            "_________________________________________________________________\n",
            "max_pooling1d_3 (MaxPooling1 (None, 163, 64)           0         \n",
            "_________________________________________________________________\n",
            "batch_normalization_10 (Batc (None, 163, 64)           256       \n",
            "_________________________________________________________________\n",
            "leaky_re_lu_9 (LeakyReLU)    (None, 163, 64)           0         \n",
            "_________________________________________________________________\n",
            "conv1d_9 (Conv1D)            (None, 161, 128)          24704     \n",
            "_________________________________________________________________\n",
            "batch_normalization_11 (Batc (None, 161, 128)          512       \n",
            "_________________________________________________________________\n",
            "global_average_pooling1d_3 ( (None, 128)               0         \n",
            "_________________________________________________________________\n",
            "dropout_3 (Dropout)          (None, 128)               0         \n",
            "_________________________________________________________________\n",
            "dense (Dense)                (None, 100)               12900     \n",
            "_________________________________________________________________\n",
            "dense1 (Dense)               (None, 2)                 202       \n",
            "=================================================================\n",
            "Total params: 45,038\n",
            "Trainable params: 44,590\n",
            "Non-trainable params: 448\n",
            "_________________________________________________________________\n"
          ],
          "name": "stdout"
        }
      ]
    },
    {
      "cell_type": "code",
      "metadata": {
        "id": "H3v31kS4v0Em"
      },
      "source": [
        "\n",
        "# from sklearn.model_selection import train_test_split\n",
        "# xTrain1, xTest1, yTrain1, yTest1 = train_test_split(data, target, test_size = 0.3, random_state = 42)\n",
        "\n",
        "# xTrain1.shape, yTest1.shape\n",
        "\n",
        "# xTrain11 = np.expand_dims(xTrain1, axis=2)\n",
        "# yTrain11 = tf.keras.utils.to_categorical(yTrain1, num_classes=2)\n",
        "# xTest11 =  np.expand_dims(xTest1, axis=2)\n",
        "# yTest11 = tf.keras.utils.to_categorical(yTest1, num_classes=2)\n",
        "\n",
        "# input_shape = (2100, 1)\n",
        "\n",
        "# model = Sequential()\n",
        "\n",
        "# model.add(Dense(128, activation='relu', input_shape=(2100, ) ))\n",
        "# #model.add(Dropout(0.2))\n",
        "# model.add(BatchNormalization())\n",
        "\n",
        "# model.add(Dense(64, activation='relu', kernel_regularizer='l2', kernel_initializer='he_uniform'))\n",
        "# model.add(BatchNormalization())\n",
        "# model.add(Dropout(0.5))\n",
        "# model.add(Dense(32, activation='relu', kernel_regularizer='l2', kernel_initializer='he_uniform'))\n",
        "# model.add(BatchNormalization())\n",
        "# model.add(Dropout(0.1))\n",
        "# model.add(Dense(16, activation='relu', kernel_regularizer='l2', kernel_initializer='he_uniform'))\n",
        "# model.add(BatchNormalization())\n",
        "# model.add(Dropout(0.1))\n",
        "# #model.add(Dense(16, activation='relu', kernel_regularizer='l2'))\n",
        "# #model.add(Dropout(0.05))\n",
        "# #model.add(Dense(64, activation='relu'))#\n",
        "\n",
        "# model.add(Dense(1, activation='sigmoid')) \n",
        "# opt = tf.keras.optimizers.Adam(learning_rate=.005)\n",
        "# model.compile(loss='binary_crossentropy',\n",
        "#               optimizer= opt,\n",
        "#                metrics=['accuracy'])\n",
        "# model.summary()               \n",
        "# history = model.fit(xTrain1, yTrain1, validation_split=0.3, epochs=200, batch_size=20, verbose=2)\n",
        "\n",
        "# # model.evaluate(x=xTest1, y=yTest1, verbose=2)\n",
        "\n",
        "# # import os\n",
        "# # import seaborn as sns\n",
        "# # #plot the training and validation accuracy and loss at each epoch\n",
        "# # loss = history.history['loss']\n",
        "# # val_loss = history.history['val_loss']\n",
        "# # epochs = range(1, len(loss) + 1)\n",
        "# # plt.plot(loss[10:], 'b', label='Training loss')\n",
        "# # plt.plot(val_loss[10:], 'g', label='Validation loss')\n",
        "# # plt.title('Training and validation loss')\n",
        "# # plt.xlabel('Epochs')\n",
        "# # plt.ylabel('Loss')\n",
        "# # plt.legend()\n",
        "# # plt.show()\n",
        "\n",
        "# # acc = history.history['accuracy']\n",
        "# # val_acc = history.history['val_accuracy']\n",
        "# # plt.plot(epochs, acc, 'r', label='Training acc')\n",
        "# # plt.plot(epochs, val_acc, 'c', label='Validation acc')\n",
        "# # plt.title('Training and validation accuracy')\n",
        "# # plt.xlabel('Epochs')\n",
        "# # plt.ylabel('Accuracy')\n",
        "# # plt.legend()\n",
        "# # plt.show()"
      ],
      "execution_count": 65,
      "outputs": []
    },
    {
      "cell_type": "code",
      "metadata": {
        "colab": {
          "base_uri": "https://localhost:8080/"
        },
        "id": "dpRAWw9cpFyD",
        "outputId": "59b139b8-13c2-4e95-ec6e-c973c40123ce"
      },
      "source": [
        "from keras.callbacks import EarlyStopping\n",
        "#set early stopping monitor so the model stops training when it won't improve anymore\n",
        "early_stopping_monitor = EarlyStopping(patience=500)\n",
        "\n",
        "#train model\n",
        "history=model.fit(xTrain11, yTrain11, validation_data = (xTest11, yTest11), epochs=50, batch_size=16)"
      ],
      "execution_count": 78,
      "outputs": [
        {
          "output_type": "stream",
          "text": [
            "Epoch 1/50\n",
            "22/22 [==============================] - 0s 9ms/step - loss: 0.0080 - accuracy: 0.9971 - val_loss: 2.6683 - val_accuracy: 0.6309\n",
            "Epoch 2/50\n",
            "22/22 [==============================] - 0s 9ms/step - loss: 0.0064 - accuracy: 1.0000 - val_loss: 2.3197 - val_accuracy: 0.6577\n",
            "Epoch 3/50\n",
            "22/22 [==============================] - 0s 8ms/step - loss: 0.0219 - accuracy: 0.9855 - val_loss: 1.4377 - val_accuracy: 0.7584\n",
            "Epoch 4/50\n",
            "22/22 [==============================] - 0s 10ms/step - loss: 0.0072 - accuracy: 1.0000 - val_loss: 2.1741 - val_accuracy: 0.6711\n",
            "Epoch 5/50\n",
            "22/22 [==============================] - 0s 7ms/step - loss: 0.0152 - accuracy: 0.9942 - val_loss: 1.8067 - val_accuracy: 0.6779\n",
            "Epoch 6/50\n",
            "22/22 [==============================] - 0s 9ms/step - loss: 0.0048 - accuracy: 1.0000 - val_loss: 1.4471 - val_accuracy: 0.7114\n",
            "Epoch 7/50\n",
            "22/22 [==============================] - 0s 8ms/step - loss: 0.0135 - accuracy: 0.9971 - val_loss: 1.7909 - val_accuracy: 0.7383\n",
            "Epoch 8/50\n",
            "22/22 [==============================] - 0s 7ms/step - loss: 0.0133 - accuracy: 0.9942 - val_loss: 2.2184 - val_accuracy: 0.7181\n",
            "Epoch 9/50\n",
            "22/22 [==============================] - 0s 8ms/step - loss: 0.0129 - accuracy: 0.9913 - val_loss: 1.6700 - val_accuracy: 0.7517\n",
            "Epoch 10/50\n",
            "22/22 [==============================] - 0s 9ms/step - loss: 0.0147 - accuracy: 0.9913 - val_loss: 1.5225 - val_accuracy: 0.7315\n",
            "Epoch 11/50\n",
            "22/22 [==============================] - 0s 8ms/step - loss: 0.0154 - accuracy: 0.9913 - val_loss: 2.4468 - val_accuracy: 0.5906\n",
            "Epoch 12/50\n",
            "22/22 [==============================] - 0s 9ms/step - loss: 0.0245 - accuracy: 0.9855 - val_loss: 2.2286 - val_accuracy: 0.6711\n",
            "Epoch 13/50\n",
            "22/22 [==============================] - 0s 9ms/step - loss: 0.0144 - accuracy: 0.9971 - val_loss: 2.9531 - val_accuracy: 0.6242\n",
            "Epoch 14/50\n",
            "22/22 [==============================] - 0s 7ms/step - loss: 0.0529 - accuracy: 0.9827 - val_loss: 3.1647 - val_accuracy: 0.6309\n",
            "Epoch 15/50\n",
            "22/22 [==============================] - 0s 7ms/step - loss: 0.0982 - accuracy: 0.9711 - val_loss: 6.1547 - val_accuracy: 0.5302\n",
            "Epoch 16/50\n",
            "22/22 [==============================] - 0s 7ms/step - loss: 0.0342 - accuracy: 0.9855 - val_loss: 6.2075 - val_accuracy: 0.6376\n",
            "Epoch 17/50\n",
            "22/22 [==============================] - 0s 7ms/step - loss: 0.0290 - accuracy: 0.9913 - val_loss: 11.5109 - val_accuracy: 0.5705\n",
            "Epoch 18/50\n",
            "22/22 [==============================] - 0s 9ms/step - loss: 0.0763 - accuracy: 0.9740 - val_loss: 10.1180 - val_accuracy: 0.5570\n",
            "Epoch 19/50\n",
            "22/22 [==============================] - 0s 7ms/step - loss: 0.0343 - accuracy: 0.9855 - val_loss: 5.0216 - val_accuracy: 0.6510\n",
            "Epoch 20/50\n",
            "22/22 [==============================] - 0s 7ms/step - loss: 0.0379 - accuracy: 0.9884 - val_loss: 5.0925 - val_accuracy: 0.6644\n",
            "Epoch 21/50\n",
            "22/22 [==============================] - 0s 7ms/step - loss: 0.0243 - accuracy: 0.9913 - val_loss: 4.0215 - val_accuracy: 0.6779\n",
            "Epoch 22/50\n",
            "22/22 [==============================] - 0s 7ms/step - loss: 0.0156 - accuracy: 0.9971 - val_loss: 2.9897 - val_accuracy: 0.6846\n",
            "Epoch 23/50\n",
            "22/22 [==============================] - 0s 7ms/step - loss: 0.0420 - accuracy: 0.9855 - val_loss: 1.8713 - val_accuracy: 0.6644\n",
            "Epoch 24/50\n",
            "22/22 [==============================] - 0s 8ms/step - loss: 0.0223 - accuracy: 0.9913 - val_loss: 3.0928 - val_accuracy: 0.6779\n",
            "Epoch 25/50\n",
            "22/22 [==============================] - 0s 9ms/step - loss: 0.0394 - accuracy: 0.9827 - val_loss: 4.1077 - val_accuracy: 0.6242\n",
            "Epoch 26/50\n",
            "22/22 [==============================] - 0s 9ms/step - loss: 0.0342 - accuracy: 0.9884 - val_loss: 4.6113 - val_accuracy: 0.6577\n",
            "Epoch 27/50\n",
            "22/22 [==============================] - 0s 9ms/step - loss: 0.0252 - accuracy: 0.9913 - val_loss: 11.3240 - val_accuracy: 0.5235\n",
            "Epoch 28/50\n",
            "22/22 [==============================] - 0s 7ms/step - loss: 0.0186 - accuracy: 0.9913 - val_loss: 14.0765 - val_accuracy: 0.4966\n",
            "Epoch 29/50\n",
            "22/22 [==============================] - 0s 9ms/step - loss: 0.0285 - accuracy: 0.9884 - val_loss: 10.9071 - val_accuracy: 0.5436\n",
            "Epoch 30/50\n",
            "22/22 [==============================] - 0s 9ms/step - loss: 0.1002 - accuracy: 0.9566 - val_loss: 6.5973 - val_accuracy: 0.6577\n",
            "Epoch 31/50\n",
            "22/22 [==============================] - 0s 7ms/step - loss: 0.0321 - accuracy: 0.9827 - val_loss: 4.7232 - val_accuracy: 0.6711\n",
            "Epoch 32/50\n",
            "22/22 [==============================] - 0s 7ms/step - loss: 0.0089 - accuracy: 0.9971 - val_loss: 2.8490 - val_accuracy: 0.6711\n",
            "Epoch 33/50\n",
            "22/22 [==============================] - 0s 7ms/step - loss: 0.0299 - accuracy: 0.9855 - val_loss: 2.8058 - val_accuracy: 0.6779\n",
            "Epoch 34/50\n",
            "22/22 [==============================] - 0s 7ms/step - loss: 0.0104 - accuracy: 1.0000 - val_loss: 1.6710 - val_accuracy: 0.6644\n",
            "Epoch 35/50\n",
            "22/22 [==============================] - 0s 7ms/step - loss: 0.0140 - accuracy: 0.9971 - val_loss: 2.2873 - val_accuracy: 0.6913\n",
            "Epoch 36/50\n",
            "22/22 [==============================] - 0s 9ms/step - loss: 0.0092 - accuracy: 0.9971 - val_loss: 2.4115 - val_accuracy: 0.6644\n",
            "Epoch 37/50\n",
            "22/22 [==============================] - 0s 7ms/step - loss: 0.0263 - accuracy: 0.9913 - val_loss: 6.8604 - val_accuracy: 0.5570\n",
            "Epoch 38/50\n",
            "22/22 [==============================] - 0s 7ms/step - loss: 0.0216 - accuracy: 0.9913 - val_loss: 3.1924 - val_accuracy: 0.6443\n",
            "Epoch 39/50\n",
            "22/22 [==============================] - 0s 9ms/step - loss: 0.0841 - accuracy: 0.9711 - val_loss: 1.5850 - val_accuracy: 0.7114\n",
            "Epoch 40/50\n",
            "22/22 [==============================] - 0s 7ms/step - loss: 0.0476 - accuracy: 0.9827 - val_loss: 1.3486 - val_accuracy: 0.6510\n",
            "Epoch 41/50\n",
            "22/22 [==============================] - 0s 9ms/step - loss: 0.0181 - accuracy: 0.9971 - val_loss: 1.8057 - val_accuracy: 0.6711\n",
            "Epoch 42/50\n",
            "22/22 [==============================] - 0s 7ms/step - loss: 0.0627 - accuracy: 0.9798 - val_loss: 1.9618 - val_accuracy: 0.6510\n",
            "Epoch 43/50\n",
            "22/22 [==============================] - 0s 7ms/step - loss: 0.0236 - accuracy: 0.9855 - val_loss: 3.7008 - val_accuracy: 0.6107\n",
            "Epoch 44/50\n",
            "22/22 [==============================] - 0s 7ms/step - loss: 0.0282 - accuracy: 0.9942 - val_loss: 4.8308 - val_accuracy: 0.5772\n",
            "Epoch 45/50\n",
            "22/22 [==============================] - 0s 7ms/step - loss: 0.0260 - accuracy: 0.9913 - val_loss: 3.3311 - val_accuracy: 0.6376\n",
            "Epoch 46/50\n",
            "22/22 [==============================] - 0s 7ms/step - loss: 0.0516 - accuracy: 0.9827 - val_loss: 1.9658 - val_accuracy: 0.7450\n",
            "Epoch 47/50\n",
            "22/22 [==============================] - 0s 7ms/step - loss: 0.0580 - accuracy: 0.9740 - val_loss: 4.9553 - val_accuracy: 0.5570\n",
            "Epoch 48/50\n",
            "22/22 [==============================] - 0s 9ms/step - loss: 0.0256 - accuracy: 0.9884 - val_loss: 4.0824 - val_accuracy: 0.6040\n",
            "Epoch 49/50\n",
            "22/22 [==============================] - 0s 9ms/step - loss: 0.0134 - accuracy: 0.9942 - val_loss: 2.1075 - val_accuracy: 0.6779\n",
            "Epoch 50/50\n",
            "22/22 [==============================] - 0s 9ms/step - loss: 0.0345 - accuracy: 0.9942 - val_loss: 3.0978 - val_accuracy: 0.6913\n"
          ],
          "name": "stdout"
        }
      ]
    },
    {
      "cell_type": "code",
      "metadata": {
        "colab": {
          "base_uri": "https://localhost:8080/",
          "height": 295
        },
        "id": "SKqzztQDpF01",
        "outputId": "59192af5-9bf5-46aa-9fe4-8af242d03a1e"
      },
      "source": [
        "import os\n",
        "import seaborn as sns\n",
        "#plot the training and validation accuracy and loss at each epoch\n",
        "loss = history.history['loss']\n",
        "val_loss = history.history['val_loss']\n",
        "epochs = range(1, len(loss) + 1)\n",
        "plt.plot(epochs, loss, 'y', label='Training loss')\n",
        "plt.plot(epochs, val_loss, 'r', label='Validation loss')\n",
        "plt.title('Training and validation loss')\n",
        "plt.xlabel('Epochs')\n",
        "plt.ylabel('Loss')\n",
        "plt.legend()\n",
        "plt.show()"
      ],
      "execution_count": 79,
      "outputs": [
        {
          "output_type": "display_data",
          "data": {
            "image/png": "[encoded data removed]",
            "text/plain": [
              "<Figure size 432x288 with 1 Axes>"
            ]
          },
          "metadata": {
            "needs_background": "light"
          }
        }
      ]
    },
    {
      "cell_type": "code",
      "metadata": {
        "colab": {
          "base_uri": "https://localhost:8080/",
          "height": 295
        },
        "id": "9mpZlD41pF4A",
        "outputId": "192d59e3-ab29-40a0-c6d2-40435a52865f"
      },
      "source": [
        "acc = history.history['accuracy']\n",
        "val_acc = history.history['val_accuracy']\n",
        "plt.plot(epochs, acc, 'y', label='Training acc')\n",
        "plt.plot(epochs, val_acc, 'r', label='Validation acc')\n",
        "plt.title('Training and validation accuracy')\n",
        "plt.xlabel('Epochs')\n",
        "plt.ylabel('Accuracy')\n",
        "plt.legend()\n",
        "plt.show()"
      ],
      "execution_count": 80,
      "outputs": [
        {
          "output_type": "display_data",
          "data": {
            "image/png": "[encoded data removed]",
            "text/plain": [
              "<Figure size 432x288 with 1 Axes>"
            ]
          },
          "metadata": {
            "needs_background": "light"
          }
        }
      ]
    },
    {
      "cell_type": "markdown",
      "metadata": {
        "id": "uaHR3zXKEEHp"
      },
      "source": [
        ""
      ]
    },
    {
      "cell_type": "code",
      "metadata": {
        "colab": {
          "base_uri": "https://localhost:8080/",
          "height": 332
        },
        "id": "D-PzHWUjpF7H",
        "outputId": "1c5e3ac2-f1c0-4a87-81e4-dd8e4f810f65"
      },
      "source": [
        "prediction_NN = model.predict(xTest11)\n",
        "prediction_NN = np.argmax(prediction_NN, axis=-1)\n",
        "#Print overall accuracy\n",
        "from sklearn import metrics\n",
        "print (\"Accuracy = \", metrics.accuracy_score(yTest1, prediction_NN))\n",
        "#Confusion Matrix - verify accuracy of each class\n",
        "from sklearn.metrics import confusion_matrix\n",
        "cm = confusion_matrix(yTest1, prediction_NN)\n",
        "print(cm)\n",
        "sns.heatmap(cm, annot=True)"
      ],
      "execution_count": 81,
      "outputs": [
        {
          "output_type": "stream",
          "text": [
            "Accuracy =  0.6912751677852349\n",
            "[[36 37]\n",
            " [ 9 67]]\n"
          ],
          "name": "stdout"
        },
        {
          "output_type": "execute_result",
          "data": {
            "text/plain": [
              "<matplotlib.axes._subplots.AxesSubplot at 0x7f8823814910>"
            ]
          },
          "metadata": {},
          "execution_count": 81
        },
        {
          "output_type": "display_data",
          "data": {
            "image/png": "[encoded data removed]",
            "text/plain": [
              "<Figure size 432x288 with 2 Axes>"
            ]
          },
          "metadata": {
            "needs_background": "light"
          }
        }
      ]
    },
    {
      "cell_type": "code",
      "metadata": {
        "id": "PlJwd47cAj79"
      },
      "source": [
        ""
      ],
      "execution_count": 69,
      "outputs": []
    }
  ]
}