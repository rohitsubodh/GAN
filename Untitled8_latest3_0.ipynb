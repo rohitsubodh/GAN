{
  "nbformat": 4,
  "nbformat_minor": 0,
  "metadata": {
    "colab": {
      "name": "Untitled8.ipynb",
      "provenance": [],
      "include_colab_link": true
    },
    "kernelspec": {
      "name": "python3",
      "display_name": "Python 3"
    },
    "language_info": {
      "name": "python"
    },
    "accelerator": "GPU"
  },
  "cells": [
    {
      "cell_type": "markdown",
      "metadata": {
        "id": "view-in-github",
        "colab_type": "text"
      },
      "source": [
        "<a href=\"https://colab.research.google.com/github/rohitsubodh/GAN/blob/main/Untitled8_latest3_0.ipynb\" target=\"_parent\"><img src=\"https://colab.research.google.com/assets/colab-badge.svg\" alt=\"Open In Colab\"/></a>"
      ]
    },
    {
      "cell_type": "code",
      "metadata": {
        "id": "cMHBuO0wos-j"
      },
      "source": [
        "\n",
        "import tensorflow as tf\n",
        "import keras\n",
        "import numpy as np\n",
        "from keras import models\n",
        "from keras import layers\n",
        "from keras.wrappers.scikit_learn import KerasClassifier\n",
        "from sklearn.model_selection import cross_val_score\n",
        "from sklearn.datasets import make_classification\n",
        "from matplotlib import pyplot\n",
        "import numpy as np\n",
        "import matplotlib.pyplot as plt\n",
        "import pandas as pd\n",
        "from sklearn import preprocessing\n",
        "from keras.models import Sequential,Model\n",
        "from keras.layers import Dense, Dropout,Input\n",
        "from keras.layers import Embedding,LeakyReLU\n",
        "from keras.layers import Conv1D, GlobalAveragePooling1D, MaxPooling1D, Flatten, LocallyConnected1D, BatchNormalization\n",
        "import scipy.signal\n",
        "from sklearn.decomposition import PCA, KernelPCA"
      ],
      "execution_count": 22,
      "outputs": []
    },
    {
      "cell_type": "code",
      "metadata": {
        "id": "Hi8fcclmpFNY"
      },
      "source": [
        "data = pd.read_excel('/content/PPG_new.xlsx',sheet_name='0-1')\n",
        "target = pd.read_excel('/content/PPG_new.xlsx',sheet_name='target 0-1')"
      ],
      "execution_count": 23,
      "outputs": []
    },
    {
      "cell_type": "code",
      "metadata": {
        "colab": {
          "base_uri": "https://localhost:8080/"
        },
        "id": "mUhak2l_B-rq",
        "outputId": "19b5d9d1-0844-4dd0-92be-516ff846c3b0"
      },
      "source": [
        "data.shape"
      ],
      "execution_count": 24,
      "outputs": [
        {
          "output_type": "execute_result",
          "data": {
            "text/plain": [
              "(495, 2100)"
            ]
          },
          "metadata": {},
          "execution_count": 24
        }
      ]
    },
    {
      "cell_type": "code",
      "metadata": {
        "colab": {
          "base_uri": "https://localhost:8080/",
          "height": 265
        },
        "id": "q1Q3Q3FepFW2",
        "outputId": "0c32c6b7-47fd-445a-8df3-2013f1d81be5"
      },
      "source": [
        "x= data.iloc[0,:]\n",
        "plt.plot(x)\n",
        "plt.show\n",
        "data1=data"
      ],
      "execution_count": 25,
      "outputs": [
        {
          "output_type": "display_data",
          "data": {
            "image/png": "[encoded data removed]",
            "text/plain": [
              "<Figure size 432x288 with 1 Axes>"
            ]
          },
          "metadata": {
            "needs_background": "light"
          }
        }
      ]
    },
    {
      "cell_type": "code",
      "metadata": {
        "colab": {
          "base_uri": "https://localhost:8080/",
          "height": 282
        },
        "id": "SRcZU0-ppFaK",
        "outputId": "779d5129-11ae-4bbb-9714-2e08f068ad86"
      },
      "source": [
        "# Applying median filter\n",
        "data=scipy.signal.medfilt(data)\n",
        "data\n",
        "x= data[0,:]\n",
        "plt.plot(x)\n",
        "plt.show"
      ],
      "execution_count": 26,
      "outputs": [
        {
          "output_type": "execute_result",
          "data": {
            "text/plain": [
              "<function matplotlib.pyplot.show>"
            ]
          },
          "metadata": {},
          "execution_count": 26
        },
        {
          "output_type": "display_data",
          "data": {
            "image/png": "[encoded data removed]",
            "text/plain": [
              "<Figure size 432x288 with 1 Axes>"
            ]
          },
          "metadata": {
            "needs_background": "light"
          }
        }
      ]
    },
    {
      "cell_type": "code",
      "metadata": {
        "colab": {
          "base_uri": "https://localhost:8080/"
        },
        "id": "Rr2cHwXGpFc9",
        "outputId": "28877a5b-2d41-42d7-c32b-260edfdbcf4e"
      },
      "source": [
        "# Design of low pass chebyshev filter\n",
        "sos= scipy.signal.cheby2(4, 10, 25, 'low', fs=1000, output='sos')\n",
        "sos"
      ],
      "execution_count": 27,
      "outputs": [
        {
          "output_type": "execute_result",
          "data": {
            "text/plain": [
              "array([[ 0.26741176, -0.49141861,  0.26741176,  1.        , -1.6346899 ,\n",
              "         0.69069827],\n",
              "       [ 1.        , -1.97118242,  1.        ,  1.        , -1.92658177,\n",
              "         0.94891457]])"
            ]
          },
          "metadata": {},
          "execution_count": 27
        }
      ]
    },
    {
      "cell_type": "code",
      "metadata": {
        "colab": {
          "base_uri": "https://localhost:8080/",
          "height": 282
        },
        "id": "V2M-vdahpFfz",
        "outputId": "257571a2-fab7-46d0-9ea8-08b9378210aa"
      },
      "source": [
        "data= scipy.signal.sosfilt(sos, data) # applying chebyshev filter\n",
        "x= data[0,:]\n",
        "plt.plot(x)\n",
        "plt.show"
      ],
      "execution_count": 28,
      "outputs": [
        {
          "output_type": "execute_result",
          "data": {
            "text/plain": [
              "<function matplotlib.pyplot.show>"
            ]
          },
          "metadata": {},
          "execution_count": 28
        },
        {
          "output_type": "display_data",
          "data": {
            "image/png": "[encoded data removed]",
            "text/plain": [
              "<Figure size 432x288 with 1 Axes>"
            ]
          },
          "metadata": {
            "needs_background": "light"
          }
        }
      ]
    },
    {
      "cell_type": "code",
      "metadata": {
        "colab": {
          "base_uri": "https://localhost:8080/",
          "height": 282
        },
        "id": "dbCRU494pFiq",
        "outputId": "45c4e60d-022f-4b2d-ae77-4f3d3c6811f4"
      },
      "source": [
        "# Applying backward forward filter\n",
        "b, a = scipy.signal.butter(8, 0.125) # filter design\n",
        "\n",
        "data = scipy.signal.filtfilt(b, a, data, method=\"gust\")\n",
        "\n",
        "x= data[0,:]\n",
        "plt.plot(x)\n",
        "plt.show"
      ],
      "execution_count": 29,
      "outputs": [
        {
          "output_type": "execute_result",
          "data": {
            "text/plain": [
              "<function matplotlib.pyplot.show>"
            ]
          },
          "metadata": {},
          "execution_count": 29
        },
        {
          "output_type": "display_data",
          "data": {
            "image/png": "[encoded data removed]",
            "text/plain": [
              "<Figure size 432x288 with 1 Axes>"
            ]
          },
          "metadata": {
            "needs_background": "light"
          }
        }
      ]
    },
    {
      "cell_type": "code",
      "metadata": {
        "id": "Wp6SpBPGqCqY",
        "colab": {
          "base_uri": "https://localhost:8080/"
        },
        "outputId": "fecf99f7-9fcf-4257-f254-3d9624422e51"
      },
      "source": [
        "data1=data\n",
        "kpca=KernelPCA(kernel=\"rbf\",fit_inverse_transform=True, gamma=10)\n",
        "data=kpca.fit_transform(data)\n",
        "data.shape"
      ],
      "execution_count": 30,
      "outputs": [
        {
          "output_type": "execute_result",
          "data": {
            "text/plain": [
              "(495, 494)"
            ]
          },
          "metadata": {},
          "execution_count": 30
        }
      ]
    },
    {
      "cell_type": "code",
      "metadata": {
        "colab": {
          "base_uri": "https://localhost:8080/",
          "height": 282
        },
        "id": "GWoHtut-eico",
        "outputId": "61f30adb-2d2e-452f-c266-44fa45a05e96"
      },
      "source": [
        "x= data[0,:]\n",
        "plt.plot(x)\n",
        "plt.show"
      ],
      "execution_count": 31,
      "outputs": [
        {
          "output_type": "execute_result",
          "data": {
            "text/plain": [
              "<function matplotlib.pyplot.show>"
            ]
          },
          "metadata": {},
          "execution_count": 31
        },
        {
          "output_type": "display_data",
          "data": {
            "image/png": "[encoded data removed]",
            "text/plain": [
              "<Figure size 432x288 with 1 Axes>"
            ]
          },
          "metadata": {
            "needs_background": "light"
          }
        }
      ]
    },
    {
      "cell_type": "code",
      "metadata": {
        "id": "aT_bUQPBpFlu"
      },
      "source": [
        "from sklearn.model_selection import train_test_split\n",
        "xTrain1, xTest1, yTrain1, yTest1 = train_test_split(data, target, test_size = 0.3, random_state = 0)"
      ],
      "execution_count": 32,
      "outputs": []
    },
    {
      "cell_type": "code",
      "metadata": {
        "id": "K0ct8stEpFor"
      },
      "source": [
        "xTrain11 = np.expand_dims(xTrain1, axis=2)\n",
        "yTrain11 = tf.keras.utils.to_categorical(yTrain1, num_classes=2)\n",
        "xTest11 =  np.expand_dims(xTest1, axis=2)\n",
        "yTest11 = tf.keras.utils.to_categorical(yTest1, num_classes=2)"
      ],
      "execution_count": 33,
      "outputs": []
    },
    {
      "cell_type": "code",
      "metadata": {
        "id": "egKDUU6zpFr2"
      },
      "source": [
        "input_shape = (494, 1)\n"
      ],
      "execution_count": 34,
      "outputs": []
    },
    {
      "cell_type": "code",
      "metadata": {
        "id": "xJxQ1yvCpFur",
        "colab": {
          "base_uri": "https://localhost:8080/"
        },
        "outputId": "88a5002d-5eb8-4336-cadc-88827df7d12b"
      },
      "source": [
        "\n",
        "#CNN Model\n",
        "\n",
        "model = Sequential()\n",
        "model.add(Conv1D(32, 3, activation='relu', input_shape=input_shape[0:]))\n",
        "model.add(BatchNormalization())\n",
        "model.add(LeakyReLU(alpha=0.1))\n",
        "model.add(Conv1D(64, 3, activation='relu', name=\"my_intermediate_layer\"))\n",
        "model.add(MaxPooling1D(3))\n",
        "model.add(BatchNormalization())\n",
        "model.add(LeakyReLU(alpha=0.1))\n",
        "model.add(Conv1D(128, 3, activation='relu'))\n",
        "model.add(BatchNormalization())\n",
        "model.add(LeakyReLU(alpha=0.1))\n",
        "model.add(Conv1D(256, 3, activation='relu'))\n",
        "model.add(GlobalAveragePooling1D())\n",
        "model.add(Dropout(0.5))\n",
        "model.add(Dense(100, name=\"dense\"))\n",
        "model.add(Dense(2, activation='softmax', name=\"dense1\"))\n",
        "model.compile(loss='categorical_crossentropy',\n",
        "                    optimizer='adam',\n",
        "                    metrics=['accuracy'])\n",
        "model.summary()"
      ],
      "execution_count": 35,
      "outputs": [
        {
          "output_type": "stream",
          "text": [
            "Model: \"sequential_1\"\n",
            "_________________________________________________________________\n",
            "Layer (type)                 Output Shape              Param #   \n",
            "=================================================================\n",
            "conv1d_3 (Conv1D)            (None, 492, 32)           128       \n",
            "_________________________________________________________________\n",
            "batch_normalization_3 (Batch (None, 492, 32)           128       \n",
            "_________________________________________________________________\n",
            "leaky_re_lu_3 (LeakyReLU)    (None, 492, 32)           0         \n",
            "_________________________________________________________________\n",
            "my_intermediate_layer (Conv1 (None, 490, 64)           6208      \n",
            "_________________________________________________________________\n",
            "max_pooling1d_1 (MaxPooling1 (None, 163, 64)           0         \n",
            "_________________________________________________________________\n",
            "batch_normalization_4 (Batch (None, 163, 64)           256       \n",
            "_________________________________________________________________\n",
            "leaky_re_lu_4 (LeakyReLU)    (None, 163, 64)           0         \n",
            "_________________________________________________________________\n",
            "conv1d_4 (Conv1D)            (None, 161, 128)          24704     \n",
            "_________________________________________________________________\n",
            "batch_normalization_5 (Batch (None, 161, 128)          512       \n",
            "_________________________________________________________________\n",
            "leaky_re_lu_5 (LeakyReLU)    (None, 161, 128)          0         \n",
            "_________________________________________________________________\n",
            "conv1d_5 (Conv1D)            (None, 159, 256)          98560     \n",
            "_________________________________________________________________\n",
            "global_average_pooling1d_1 ( (None, 256)               0         \n",
            "_________________________________________________________________\n",
            "dropout_1 (Dropout)          (None, 256)               0         \n",
            "_________________________________________________________________\n",
            "dense (Dense)                (None, 100)               25700     \n",
            "_________________________________________________________________\n",
            "dense1 (Dense)               (None, 2)                 202       \n",
            "=================================================================\n",
            "Total params: 156,398\n",
            "Trainable params: 155,950\n",
            "Non-trainable params: 448\n",
            "_________________________________________________________________\n"
          ],
          "name": "stdout"
        }
      ]
    },
    {
      "cell_type": "code",
      "metadata": {
        "colab": {
          "base_uri": "https://localhost:8080/"
        },
        "id": "dpRAWw9cpFyD",
        "outputId": "36b8fc05-1260-46eb-e84b-8eabca67d7df"
      },
      "source": [
        "from keras.callbacks import EarlyStopping\n",
        "#set early stopping monitor so the model stops training when it won't improve anymore\n",
        "early_stopping_monitor = EarlyStopping(patience=500)\n",
        "\n",
        "#train model\n",
        "history=model.fit(xTrain11, yTrain11, validation_data = (xTest11, yTest11), epochs=150, batch_size=16)\n"
      ],
      "execution_count": 36,
      "outputs": [
        {
          "output_type": "stream",
          "text": [
            "Epoch 1/150\n",
            "22/22 [==============================] - 2s 28ms/step - loss: 0.7590 - accuracy: 0.5780 - val_loss: 0.6972 - val_accuracy: 0.4698\n",
            "Epoch 2/150\n",
            "22/22 [==============================] - 0s 16ms/step - loss: 0.6198 - accuracy: 0.6561 - val_loss: 0.6999 - val_accuracy: 0.4698\n",
            "Epoch 3/150\n",
            "22/22 [==============================] - 0s 15ms/step - loss: 0.6119 - accuracy: 0.6879 - val_loss: 0.7051 - val_accuracy: 0.4698\n",
            "Epoch 4/150\n",
            "22/22 [==============================] - 0s 16ms/step - loss: 0.6091 - accuracy: 0.6821 - val_loss: 0.7163 - val_accuracy: 0.4698\n",
            "Epoch 5/150\n",
            "22/22 [==============================] - 0s 15ms/step - loss: 0.5733 - accuracy: 0.6850 - val_loss: 0.7289 - val_accuracy: 0.4698\n",
            "Epoch 6/150\n",
            "22/22 [==============================] - 0s 16ms/step - loss: 0.5484 - accuracy: 0.7254 - val_loss: 0.7399 - val_accuracy: 0.4698\n",
            "Epoch 7/150\n",
            "22/22 [==============================] - 0s 15ms/step - loss: 0.5460 - accuracy: 0.7370 - val_loss: 0.7542 - val_accuracy: 0.4698\n",
            "Epoch 8/150\n",
            "22/22 [==============================] - 0s 16ms/step - loss: 0.5628 - accuracy: 0.7081 - val_loss: 0.7641 - val_accuracy: 0.4698\n",
            "Epoch 9/150\n",
            "22/22 [==============================] - 0s 15ms/step - loss: 0.5714 - accuracy: 0.7081 - val_loss: 0.7567 - val_accuracy: 0.4698\n",
            "Epoch 10/150\n",
            "22/22 [==============================] - 0s 16ms/step - loss: 0.5477 - accuracy: 0.7139 - val_loss: 0.7559 - val_accuracy: 0.4698\n",
            "Epoch 11/150\n",
            "22/22 [==============================] - 0s 16ms/step - loss: 0.5196 - accuracy: 0.7457 - val_loss: 0.7588 - val_accuracy: 0.4698\n",
            "Epoch 12/150\n",
            "22/22 [==============================] - 0s 15ms/step - loss: 0.5126 - accuracy: 0.7630 - val_loss: 0.7936 - val_accuracy: 0.4698\n",
            "Epoch 13/150\n",
            "22/22 [==============================] - 0s 15ms/step - loss: 0.5164 - accuracy: 0.7283 - val_loss: 0.7818 - val_accuracy: 0.4698\n",
            "Epoch 14/150\n",
            "22/22 [==============================] - 0s 15ms/step - loss: 0.5227 - accuracy: 0.7312 - val_loss: 0.8068 - val_accuracy: 0.4698\n",
            "Epoch 15/150\n",
            "22/22 [==============================] - 0s 15ms/step - loss: 0.4895 - accuracy: 0.7543 - val_loss: 0.8840 - val_accuracy: 0.4698\n",
            "Epoch 16/150\n",
            "22/22 [==============================] - 0s 16ms/step - loss: 0.4270 - accuracy: 0.7948 - val_loss: 0.8789 - val_accuracy: 0.4698\n",
            "Epoch 17/150\n",
            "22/22 [==============================] - 0s 15ms/step - loss: 0.4848 - accuracy: 0.7717 - val_loss: 0.9072 - val_accuracy: 0.4698\n",
            "Epoch 18/150\n",
            "22/22 [==============================] - 0s 16ms/step - loss: 0.4425 - accuracy: 0.7948 - val_loss: 0.9580 - val_accuracy: 0.4698\n",
            "Epoch 19/150\n",
            "22/22 [==============================] - 0s 16ms/step - loss: 0.4748 - accuracy: 0.7514 - val_loss: 1.0544 - val_accuracy: 0.4698\n",
            "Epoch 20/150\n",
            "22/22 [==============================] - 0s 16ms/step - loss: 0.3996 - accuracy: 0.8208 - val_loss: 0.9936 - val_accuracy: 0.4698\n",
            "Epoch 21/150\n",
            "22/22 [==============================] - 0s 15ms/step - loss: 0.3535 - accuracy: 0.8439 - val_loss: 1.0603 - val_accuracy: 0.4698\n",
            "Epoch 22/150\n",
            "22/22 [==============================] - 0s 15ms/step - loss: 0.3694 - accuracy: 0.8150 - val_loss: 0.9130 - val_accuracy: 0.4698\n",
            "Epoch 23/150\n",
            "22/22 [==============================] - 0s 15ms/step - loss: 0.2973 - accuracy: 0.8699 - val_loss: 0.8251 - val_accuracy: 0.4899\n",
            "Epoch 24/150\n",
            "22/22 [==============================] - 0s 16ms/step - loss: 0.2534 - accuracy: 0.8844 - val_loss: 0.7278 - val_accuracy: 0.5235\n",
            "Epoch 25/150\n",
            "22/22 [==============================] - 0s 15ms/step - loss: 0.2602 - accuracy: 0.8844 - val_loss: 0.9846 - val_accuracy: 0.5034\n",
            "Epoch 26/150\n",
            "22/22 [==============================] - 0s 14ms/step - loss: 0.2734 - accuracy: 0.8757 - val_loss: 0.7663 - val_accuracy: 0.5570\n",
            "Epoch 27/150\n",
            "22/22 [==============================] - 0s 16ms/step - loss: 0.2705 - accuracy: 0.8815 - val_loss: 1.1162 - val_accuracy: 0.5302\n",
            "Epoch 28/150\n",
            "22/22 [==============================] - 0s 15ms/step - loss: 0.2717 - accuracy: 0.8757 - val_loss: 0.7347 - val_accuracy: 0.7248\n",
            "Epoch 29/150\n",
            "22/22 [==============================] - 0s 15ms/step - loss: 0.2068 - accuracy: 0.9220 - val_loss: 1.0714 - val_accuracy: 0.5436\n",
            "Epoch 30/150\n",
            "22/22 [==============================] - 0s 15ms/step - loss: 0.2060 - accuracy: 0.9133 - val_loss: 1.1957 - val_accuracy: 0.6309\n",
            "Epoch 31/150\n",
            "22/22 [==============================] - 0s 15ms/step - loss: 0.2438 - accuracy: 0.8873 - val_loss: 0.7212 - val_accuracy: 0.6577\n",
            "Epoch 32/150\n",
            "22/22 [==============================] - 0s 15ms/step - loss: 0.1873 - accuracy: 0.9191 - val_loss: 1.2549 - val_accuracy: 0.6040\n",
            "Epoch 33/150\n",
            "22/22 [==============================] - 0s 15ms/step - loss: 0.1293 - accuracy: 0.9422 - val_loss: 1.4846 - val_accuracy: 0.6107\n",
            "Epoch 34/150\n",
            "22/22 [==============================] - 0s 15ms/step - loss: 0.1153 - accuracy: 0.9624 - val_loss: 1.1399 - val_accuracy: 0.7114\n",
            "Epoch 35/150\n",
            "22/22 [==============================] - 0s 15ms/step - loss: 0.1280 - accuracy: 0.9480 - val_loss: 1.1485 - val_accuracy: 0.6980\n",
            "Epoch 36/150\n",
            "22/22 [==============================] - 0s 15ms/step - loss: 0.1000 - accuracy: 0.9711 - val_loss: 1.7265 - val_accuracy: 0.6980\n",
            "Epoch 37/150\n",
            "22/22 [==============================] - 0s 15ms/step - loss: 0.0666 - accuracy: 0.9884 - val_loss: 1.5156 - val_accuracy: 0.7450\n",
            "Epoch 38/150\n",
            "22/22 [==============================] - 0s 15ms/step - loss: 0.0511 - accuracy: 0.9798 - val_loss: 2.0899 - val_accuracy: 0.6779\n",
            "Epoch 39/150\n",
            "22/22 [==============================] - 0s 15ms/step - loss: 0.0376 - accuracy: 0.9855 - val_loss: 2.7441 - val_accuracy: 0.6980\n",
            "Epoch 40/150\n",
            "22/22 [==============================] - 0s 15ms/step - loss: 0.0385 - accuracy: 0.9827 - val_loss: 1.4283 - val_accuracy: 0.6913\n",
            "Epoch 41/150\n",
            "22/22 [==============================] - 0s 16ms/step - loss: 0.0809 - accuracy: 0.9711 - val_loss: 5.3976 - val_accuracy: 0.5503\n",
            "Epoch 42/150\n",
            "22/22 [==============================] - 0s 16ms/step - loss: 0.1834 - accuracy: 0.9393 - val_loss: 2.9639 - val_accuracy: 0.6174\n",
            "Epoch 43/150\n",
            "22/22 [==============================] - 0s 16ms/step - loss: 0.2406 - accuracy: 0.9104 - val_loss: 2.3940 - val_accuracy: 0.5705\n",
            "Epoch 44/150\n",
            "22/22 [==============================] - 0s 15ms/step - loss: 0.3076 - accuracy: 0.8815 - val_loss: 1.3648 - val_accuracy: 0.6711\n",
            "Epoch 45/150\n",
            "22/22 [==============================] - 0s 15ms/step - loss: 0.2514 - accuracy: 0.9017 - val_loss: 0.9822 - val_accuracy: 0.7114\n",
            "Epoch 46/150\n",
            "22/22 [==============================] - 0s 15ms/step - loss: 0.1336 - accuracy: 0.9422 - val_loss: 1.2515 - val_accuracy: 0.6242\n",
            "Epoch 47/150\n",
            "22/22 [==============================] - 0s 15ms/step - loss: 0.0729 - accuracy: 0.9884 - val_loss: 2.4332 - val_accuracy: 0.6913\n",
            "Epoch 48/150\n",
            "22/22 [==============================] - 0s 15ms/step - loss: 0.0542 - accuracy: 0.9884 - val_loss: 3.9160 - val_accuracy: 0.6107\n",
            "Epoch 49/150\n",
            "22/22 [==============================] - 0s 15ms/step - loss: 0.0279 - accuracy: 1.0000 - val_loss: 2.3851 - val_accuracy: 0.6510\n",
            "Epoch 50/150\n",
            "22/22 [==============================] - 0s 14ms/step - loss: 0.0368 - accuracy: 0.9913 - val_loss: 1.4069 - val_accuracy: 0.7383\n",
            "Epoch 51/150\n",
            "22/22 [==============================] - 0s 14ms/step - loss: 0.0184 - accuracy: 0.9942 - val_loss: 1.4955 - val_accuracy: 0.7450\n",
            "Epoch 52/150\n",
            "22/22 [==============================] - 0s 16ms/step - loss: 0.0157 - accuracy: 0.9971 - val_loss: 1.5192 - val_accuracy: 0.7181\n",
            "Epoch 53/150\n",
            "22/22 [==============================] - 0s 15ms/step - loss: 0.0130 - accuracy: 0.9971 - val_loss: 1.6142 - val_accuracy: 0.7450\n",
            "Epoch 54/150\n",
            "22/22 [==============================] - 0s 15ms/step - loss: 0.0091 - accuracy: 1.0000 - val_loss: 1.3839 - val_accuracy: 0.7517\n",
            "Epoch 55/150\n",
            "22/22 [==============================] - 0s 15ms/step - loss: 0.0077 - accuracy: 1.0000 - val_loss: 2.1880 - val_accuracy: 0.7047\n",
            "Epoch 56/150\n",
            "22/22 [==============================] - 0s 15ms/step - loss: 0.0094 - accuracy: 0.9971 - val_loss: 2.1756 - val_accuracy: 0.7114\n",
            "Epoch 57/150\n",
            "22/22 [==============================] - 0s 15ms/step - loss: 0.0091 - accuracy: 1.0000 - val_loss: 1.8982 - val_accuracy: 0.7248\n",
            "Epoch 58/150\n",
            "22/22 [==============================] - 0s 14ms/step - loss: 0.0086 - accuracy: 0.9971 - val_loss: 2.3849 - val_accuracy: 0.7114\n",
            "Epoch 59/150\n",
            "22/22 [==============================] - 0s 15ms/step - loss: 0.0584 - accuracy: 0.9769 - val_loss: 1.7678 - val_accuracy: 0.6443\n",
            "Epoch 60/150\n",
            "22/22 [==============================] - 0s 14ms/step - loss: 0.3156 - accuracy: 0.9249 - val_loss: 4.5034 - val_accuracy: 0.7114\n",
            "Epoch 61/150\n",
            "22/22 [==============================] - 0s 15ms/step - loss: 0.2823 - accuracy: 0.8931 - val_loss: 1.6838 - val_accuracy: 0.7114\n",
            "Epoch 62/150\n",
            "22/22 [==============================] - 0s 15ms/step - loss: 0.0932 - accuracy: 0.9624 - val_loss: 1.9648 - val_accuracy: 0.6107\n",
            "Epoch 63/150\n",
            "22/22 [==============================] - 0s 14ms/step - loss: 0.0739 - accuracy: 0.9740 - val_loss: 2.9304 - val_accuracy: 0.6376\n",
            "Epoch 64/150\n",
            "22/22 [==============================] - 0s 14ms/step - loss: 0.0408 - accuracy: 0.9884 - val_loss: 2.6613 - val_accuracy: 0.6443\n",
            "Epoch 65/150\n",
            "22/22 [==============================] - 0s 14ms/step - loss: 0.0147 - accuracy: 1.0000 - val_loss: 1.5838 - val_accuracy: 0.7315\n",
            "Epoch 66/150\n",
            "22/22 [==============================] - 0s 15ms/step - loss: 0.0148 - accuracy: 0.9971 - val_loss: 2.1093 - val_accuracy: 0.7047\n",
            "Epoch 67/150\n",
            "22/22 [==============================] - 0s 15ms/step - loss: 0.0112 - accuracy: 1.0000 - val_loss: 1.6369 - val_accuracy: 0.7517\n",
            "Epoch 68/150\n",
            "22/22 [==============================] - 0s 15ms/step - loss: 0.0082 - accuracy: 1.0000 - val_loss: 1.5903 - val_accuracy: 0.7383\n",
            "Epoch 69/150\n",
            "22/22 [==============================] - 0s 15ms/step - loss: 0.0196 - accuracy: 0.9971 - val_loss: 2.0379 - val_accuracy: 0.7047\n",
            "Epoch 70/150\n",
            "22/22 [==============================] - 0s 15ms/step - loss: 0.0139 - accuracy: 0.9942 - val_loss: 1.1447 - val_accuracy: 0.7584\n",
            "Epoch 71/150\n",
            "22/22 [==============================] - 0s 16ms/step - loss: 0.0205 - accuracy: 0.9913 - val_loss: 1.2088 - val_accuracy: 0.7315\n",
            "Epoch 72/150\n",
            "22/22 [==============================] - 0s 15ms/step - loss: 0.0090 - accuracy: 1.0000 - val_loss: 1.6628 - val_accuracy: 0.7315\n",
            "Epoch 73/150\n",
            "22/22 [==============================] - 0s 16ms/step - loss: 0.0062 - accuracy: 1.0000 - val_loss: 1.8940 - val_accuracy: 0.7248\n",
            "Epoch 74/150\n",
            "22/22 [==============================] - 0s 15ms/step - loss: 0.0051 - accuracy: 1.0000 - val_loss: 2.0578 - val_accuracy: 0.7181\n",
            "Epoch 75/150\n",
            "22/22 [==============================] - 0s 16ms/step - loss: 0.0064 - accuracy: 1.0000 - val_loss: 1.5381 - val_accuracy: 0.7450\n",
            "Epoch 76/150\n",
            "22/22 [==============================] - 0s 15ms/step - loss: 0.0037 - accuracy: 1.0000 - val_loss: 1.6870 - val_accuracy: 0.7517\n",
            "Epoch 77/150\n",
            "22/22 [==============================] - 0s 15ms/step - loss: 0.0048 - accuracy: 1.0000 - val_loss: 1.6074 - val_accuracy: 0.7315\n",
            "Epoch 78/150\n",
            "22/22 [==============================] - 0s 15ms/step - loss: 0.0043 - accuracy: 1.0000 - val_loss: 2.0749 - val_accuracy: 0.7517\n",
            "Epoch 79/150\n",
            "22/22 [==============================] - 0s 14ms/step - loss: 0.0257 - accuracy: 0.9913 - val_loss: 2.7939 - val_accuracy: 0.5973\n",
            "Epoch 80/150\n",
            "22/22 [==============================] - 0s 16ms/step - loss: 0.0303 - accuracy: 0.9884 - val_loss: 2.2599 - val_accuracy: 0.6510\n",
            "Epoch 81/150\n",
            "22/22 [==============================] - 0s 15ms/step - loss: 0.0265 - accuracy: 0.9884 - val_loss: 7.3438 - val_accuracy: 0.6443\n",
            "Epoch 82/150\n",
            "22/22 [==============================] - 0s 16ms/step - loss: 0.0652 - accuracy: 0.9798 - val_loss: 9.7479 - val_accuracy: 0.6040\n",
            "Epoch 83/150\n",
            "22/22 [==============================] - 0s 17ms/step - loss: 0.0289 - accuracy: 0.9913 - val_loss: 6.7344 - val_accuracy: 0.6913\n",
            "Epoch 84/150\n",
            "22/22 [==============================] - 0s 17ms/step - loss: 0.1092 - accuracy: 0.9769 - val_loss: 6.6455 - val_accuracy: 0.6242\n",
            "Epoch 85/150\n",
            "22/22 [==============================] - 0s 15ms/step - loss: 0.3450 - accuracy: 0.8757 - val_loss: 1.1101 - val_accuracy: 0.7047\n",
            "Epoch 86/150\n",
            "22/22 [==============================] - 0s 16ms/step - loss: 0.1145 - accuracy: 0.9538 - val_loss: 3.4807 - val_accuracy: 0.6510\n",
            "Epoch 87/150\n",
            "22/22 [==============================] - 0s 15ms/step - loss: 0.0601 - accuracy: 0.9827 - val_loss: 2.4822 - val_accuracy: 0.6711\n",
            "Epoch 88/150\n",
            "22/22 [==============================] - 0s 16ms/step - loss: 0.0252 - accuracy: 1.0000 - val_loss: 1.8809 - val_accuracy: 0.6644\n",
            "Epoch 89/150\n",
            "22/22 [==============================] - 0s 15ms/step - loss: 0.0124 - accuracy: 0.9971 - val_loss: 2.0225 - val_accuracy: 0.6711\n",
            "Epoch 90/150\n",
            "22/22 [==============================] - 0s 15ms/step - loss: 0.0171 - accuracy: 0.9971 - val_loss: 3.4609 - val_accuracy: 0.6174\n",
            "Epoch 91/150\n",
            "22/22 [==============================] - 0s 16ms/step - loss: 0.0053 - accuracy: 1.0000 - val_loss: 4.6629 - val_accuracy: 0.6107\n",
            "Epoch 92/150\n",
            "22/22 [==============================] - 0s 17ms/step - loss: 0.0047 - accuracy: 1.0000 - val_loss: 3.1428 - val_accuracy: 0.6376\n",
            "Epoch 93/150\n",
            "22/22 [==============================] - 0s 15ms/step - loss: 0.0032 - accuracy: 1.0000 - val_loss: 2.5428 - val_accuracy: 0.6577\n",
            "Epoch 94/150\n",
            "22/22 [==============================] - 0s 16ms/step - loss: 0.0033 - accuracy: 1.0000 - val_loss: 1.7442 - val_accuracy: 0.6846\n",
            "Epoch 95/150\n",
            "22/22 [==============================] - 0s 15ms/step - loss: 0.0030 - accuracy: 1.0000 - val_loss: 1.3902 - val_accuracy: 0.6980\n",
            "Epoch 96/150\n",
            "22/22 [==============================] - 0s 16ms/step - loss: 0.0048 - accuracy: 1.0000 - val_loss: 1.4165 - val_accuracy: 0.7047\n",
            "Epoch 97/150\n",
            "22/22 [==============================] - 0s 16ms/step - loss: 0.0021 - accuracy: 1.0000 - val_loss: 1.5461 - val_accuracy: 0.7114\n",
            "Epoch 98/150\n",
            "22/22 [==============================] - 0s 15ms/step - loss: 0.0016 - accuracy: 1.0000 - val_loss: 1.5977 - val_accuracy: 0.7047\n",
            "Epoch 99/150\n",
            "22/22 [==============================] - 0s 15ms/step - loss: 0.0026 - accuracy: 1.0000 - val_loss: 1.4866 - val_accuracy: 0.7248\n",
            "Epoch 100/150\n",
            "22/22 [==============================] - 0s 16ms/step - loss: 9.8489e-04 - accuracy: 1.0000 - val_loss: 1.5081 - val_accuracy: 0.7248\n",
            "Epoch 101/150\n",
            "22/22 [==============================] - 0s 15ms/step - loss: 0.0022 - accuracy: 1.0000 - val_loss: 1.5132 - val_accuracy: 0.7315\n",
            "Epoch 102/150\n",
            "22/22 [==============================] - 0s 16ms/step - loss: 0.0033 - accuracy: 1.0000 - val_loss: 1.7740 - val_accuracy: 0.7651\n",
            "Epoch 103/150\n",
            "22/22 [==============================] - 0s 16ms/step - loss: 0.0014 - accuracy: 1.0000 - val_loss: 1.7517 - val_accuracy: 0.7651\n",
            "Epoch 104/150\n",
            "22/22 [==============================] - 0s 15ms/step - loss: 0.0030 - accuracy: 1.0000 - val_loss: 1.8174 - val_accuracy: 0.7718\n",
            "Epoch 105/150\n",
            "22/22 [==============================] - 0s 16ms/step - loss: 0.0066 - accuracy: 0.9971 - val_loss: 3.0016 - val_accuracy: 0.7114\n",
            "Epoch 106/150\n",
            "22/22 [==============================] - 0s 16ms/step - loss: 0.0171 - accuracy: 0.9942 - val_loss: 2.9307 - val_accuracy: 0.7114\n",
            "Epoch 107/150\n",
            "22/22 [==============================] - 0s 15ms/step - loss: 0.0402 - accuracy: 0.9855 - val_loss: 1.8650 - val_accuracy: 0.7517\n",
            "Epoch 108/150\n",
            "22/22 [==============================] - 0s 15ms/step - loss: 0.0200 - accuracy: 0.9971 - val_loss: 5.6353 - val_accuracy: 0.6107\n",
            "Epoch 109/150\n",
            "22/22 [==============================] - 0s 17ms/step - loss: 0.0302 - accuracy: 0.9884 - val_loss: 3.0590 - val_accuracy: 0.7517\n",
            "Epoch 110/150\n",
            "22/22 [==============================] - 0s 17ms/step - loss: 0.0183 - accuracy: 0.9913 - val_loss: 2.8281 - val_accuracy: 0.7584\n",
            "Epoch 111/150\n",
            "22/22 [==============================] - 0s 15ms/step - loss: 0.0301 - accuracy: 0.9884 - val_loss: 4.2531 - val_accuracy: 0.7248\n",
            "Epoch 112/150\n",
            "22/22 [==============================] - 0s 17ms/step - loss: 0.0216 - accuracy: 0.9913 - val_loss: 3.0477 - val_accuracy: 0.7517\n",
            "Epoch 113/150\n",
            "22/22 [==============================] - 0s 15ms/step - loss: 0.0392 - accuracy: 0.9913 - val_loss: 3.7129 - val_accuracy: 0.6711\n",
            "Epoch 114/150\n",
            "22/22 [==============================] - 0s 15ms/step - loss: 0.0146 - accuracy: 0.9942 - val_loss: 1.9814 - val_accuracy: 0.6980\n",
            "Epoch 115/150\n",
            "22/22 [==============================] - 0s 16ms/step - loss: 0.0155 - accuracy: 0.9942 - val_loss: 1.6625 - val_accuracy: 0.7450\n",
            "Epoch 116/150\n",
            "22/22 [==============================] - 0s 15ms/step - loss: 0.0480 - accuracy: 0.9827 - val_loss: 5.2498 - val_accuracy: 0.6443\n",
            "Epoch 117/150\n",
            "22/22 [==============================] - 0s 15ms/step - loss: 0.0800 - accuracy: 0.9740 - val_loss: 34.0453 - val_accuracy: 0.5638\n",
            "Epoch 118/150\n",
            "22/22 [==============================] - 0s 15ms/step - loss: 0.1989 - accuracy: 0.9364 - val_loss: 64.4706 - val_accuracy: 0.5302\n",
            "Epoch 119/150\n",
            "22/22 [==============================] - 0s 15ms/step - loss: 0.1297 - accuracy: 0.9624 - val_loss: 33.4763 - val_accuracy: 0.5302\n",
            "Epoch 120/150\n",
            "22/22 [==============================] - 0s 15ms/step - loss: 0.1840 - accuracy: 0.9364 - val_loss: 51.0897 - val_accuracy: 0.5302\n",
            "Epoch 121/150\n",
            "22/22 [==============================] - 0s 16ms/step - loss: 0.0384 - accuracy: 0.9913 - val_loss: 23.0971 - val_accuracy: 0.5302\n",
            "Epoch 122/150\n",
            "22/22 [==============================] - 0s 15ms/step - loss: 0.0325 - accuracy: 0.9942 - val_loss: 11.9042 - val_accuracy: 0.5302\n",
            "Epoch 123/150\n",
            "22/22 [==============================] - 0s 15ms/step - loss: 0.0230 - accuracy: 0.9942 - val_loss: 1.9471 - val_accuracy: 0.6711\n",
            "Epoch 124/150\n",
            "22/22 [==============================] - 0s 16ms/step - loss: 0.0081 - accuracy: 1.0000 - val_loss: 1.9581 - val_accuracy: 0.6913\n",
            "Epoch 125/150\n",
            "22/22 [==============================] - 0s 16ms/step - loss: 0.0040 - accuracy: 1.0000 - val_loss: 1.9658 - val_accuracy: 0.6980\n",
            "Epoch 126/150\n",
            "22/22 [==============================] - 0s 16ms/step - loss: 0.0054 - accuracy: 1.0000 - val_loss: 2.4133 - val_accuracy: 0.7181\n",
            "Epoch 127/150\n",
            "22/22 [==============================] - 0s 16ms/step - loss: 0.0095 - accuracy: 0.9971 - val_loss: 2.1660 - val_accuracy: 0.7047\n",
            "Epoch 128/150\n",
            "22/22 [==============================] - 0s 15ms/step - loss: 0.0030 - accuracy: 1.0000 - val_loss: 2.1491 - val_accuracy: 0.6846\n",
            "Epoch 129/150\n",
            "22/22 [==============================] - 0s 15ms/step - loss: 0.0028 - accuracy: 1.0000 - val_loss: 2.3452 - val_accuracy: 0.6980\n",
            "Epoch 130/150\n",
            "22/22 [==============================] - 0s 16ms/step - loss: 0.0027 - accuracy: 1.0000 - val_loss: 2.3319 - val_accuracy: 0.7315\n",
            "Epoch 131/150\n",
            "22/22 [==============================] - 0s 15ms/step - loss: 0.0017 - accuracy: 1.0000 - val_loss: 2.2129 - val_accuracy: 0.7248\n",
            "Epoch 132/150\n",
            "22/22 [==============================] - 0s 16ms/step - loss: 7.4480e-04 - accuracy: 1.0000 - val_loss: 2.1684 - val_accuracy: 0.7047\n",
            "Epoch 133/150\n",
            "22/22 [==============================] - 0s 16ms/step - loss: 0.0022 - accuracy: 1.0000 - val_loss: 2.0951 - val_accuracy: 0.6980\n",
            "Epoch 134/150\n",
            "22/22 [==============================] - 0s 15ms/step - loss: 0.0013 - accuracy: 1.0000 - val_loss: 2.1036 - val_accuracy: 0.7047\n",
            "Epoch 135/150\n",
            "22/22 [==============================] - 0s 16ms/step - loss: 0.0014 - accuracy: 1.0000 - val_loss: 2.1543 - val_accuracy: 0.7047\n",
            "Epoch 136/150\n",
            "22/22 [==============================] - 0s 16ms/step - loss: 6.7404e-04 - accuracy: 1.0000 - val_loss: 2.1161 - val_accuracy: 0.7315\n",
            "Epoch 137/150\n",
            "22/22 [==============================] - 0s 16ms/step - loss: 0.0016 - accuracy: 1.0000 - val_loss: 2.1392 - val_accuracy: 0.7047\n",
            "Epoch 138/150\n",
            "22/22 [==============================] - 0s 16ms/step - loss: 0.0017 - accuracy: 1.0000 - val_loss: 2.1619 - val_accuracy: 0.6913\n",
            "Epoch 139/150\n",
            "22/22 [==============================] - 0s 15ms/step - loss: 6.5997e-04 - accuracy: 1.0000 - val_loss: 2.2460 - val_accuracy: 0.7114\n",
            "Epoch 140/150\n",
            "22/22 [==============================] - 0s 15ms/step - loss: 5.2932e-04 - accuracy: 1.0000 - val_loss: 2.2267 - val_accuracy: 0.6913\n",
            "Epoch 141/150\n",
            "22/22 [==============================] - 0s 16ms/step - loss: 0.0012 - accuracy: 1.0000 - val_loss: 2.1166 - val_accuracy: 0.6846\n",
            "Epoch 142/150\n",
            "22/22 [==============================] - 0s 15ms/step - loss: 9.8731e-04 - accuracy: 1.0000 - val_loss: 2.0551 - val_accuracy: 0.6980\n",
            "Epoch 143/150\n",
            "22/22 [==============================] - 0s 15ms/step - loss: 0.0010 - accuracy: 1.0000 - val_loss: 2.1313 - val_accuracy: 0.6779\n",
            "Epoch 144/150\n",
            "22/22 [==============================] - 0s 17ms/step - loss: 0.0011 - accuracy: 1.0000 - val_loss: 2.2061 - val_accuracy: 0.6779\n",
            "Epoch 145/150\n",
            "22/22 [==============================] - 0s 15ms/step - loss: 5.0456e-04 - accuracy: 1.0000 - val_loss: 2.2762 - val_accuracy: 0.6779\n",
            "Epoch 146/150\n",
            "22/22 [==============================] - 0s 15ms/step - loss: 6.1504e-04 - accuracy: 1.0000 - val_loss: 2.2945 - val_accuracy: 0.6980\n",
            "Epoch 147/150\n",
            "22/22 [==============================] - 0s 17ms/step - loss: 0.0011 - accuracy: 1.0000 - val_loss: 2.3383 - val_accuracy: 0.6846\n",
            "Epoch 148/150\n",
            "22/22 [==============================] - 0s 16ms/step - loss: 9.1624e-04 - accuracy: 1.0000 - val_loss: 3.0186 - val_accuracy: 0.6846\n",
            "Epoch 149/150\n",
            "22/22 [==============================] - 0s 15ms/step - loss: 0.0021 - accuracy: 1.0000 - val_loss: 2.1763 - val_accuracy: 0.7047\n",
            "Epoch 150/150\n",
            "22/22 [==============================] - 0s 16ms/step - loss: 0.0028 - accuracy: 1.0000 - val_loss: 1.8634 - val_accuracy: 0.7181\n"
          ],
          "name": "stdout"
        }
      ]
    },
    {
      "cell_type": "code",
      "metadata": {
        "colab": {
          "base_uri": "https://localhost:8080/",
          "height": 295
        },
        "id": "SKqzztQDpF01",
        "outputId": "8e649a21-f95a-46f4-9b39-6b64c3d68b66"
      },
      "source": [
        "import os\n",
        "import seaborn as sns\n",
        "#plot the training and validation accuracy and loss at each epoch\n",
        "loss = history.history['loss']\n",
        "val_loss = history.history['val_loss']\n",
        "epochs = range(1, len(loss) + 1)\n",
        "plt.plot(epochs, loss, 'y', label='Training loss')\n",
        "plt.plot(epochs, val_loss, 'r', label='Validation loss')\n",
        "plt.title('Training and validation loss')\n",
        "plt.xlabel('Epochs')\n",
        "plt.ylabel('Loss')\n",
        "plt.legend()\n",
        "plt.show()"
      ],
      "execution_count": 37,
      "outputs": [
        {
          "output_type": "display_data",
          "data": {
            "image/png": "[encoded data removed]",
            "text/plain": [
              "<Figure size 432x288 with 1 Axes>"
            ]
          },
          "metadata": {
            "needs_background": "light"
          }
        }
      ]
    },
    {
      "cell_type": "code",
      "metadata": {
        "colab": {
          "base_uri": "https://localhost:8080/",
          "height": 295
        },
        "id": "9mpZlD41pF4A",
        "outputId": "b87d2ef7-ebed-4e9d-aa08-d1777af94f5d"
      },
      "source": [
        "acc = history.history['accuracy']\n",
        "val_acc = history.history['val_accuracy']\n",
        "plt.plot(epochs, acc, 'y', label='Training acc')\n",
        "plt.plot(epochs, val_acc, 'r', label='Validation acc')\n",
        "plt.title('Training and validation accuracy')\n",
        "plt.xlabel('Epochs')\n",
        "plt.ylabel('Accuracy')\n",
        "plt.legend()\n",
        "plt.show()"
      ],
      "execution_count": 38,
      "outputs": [
        {
          "output_type": "display_data",
          "data": {
            "image/png": "[encoded data removed]",
            "text/plain": [
              "<Figure size 432x288 with 1 Axes>"
            ]
          },
          "metadata": {
            "needs_background": "light"
          }
        }
      ]
    },
    {
      "cell_type": "code",
      "metadata": {
        "colab": {
          "base_uri": "https://localhost:8080/",
          "height": 332
        },
        "id": "D-PzHWUjpF7H",
        "outputId": "c8040552-8c18-4c98-b360-f65c78a4735a"
      },
      "source": [
        "prediction_NN = model.predict(xTest11)\n",
        "prediction_NN = np.argmax(prediction_NN, axis=-1)\n",
        "#Print overall accuracy\n",
        "from sklearn import metrics\n",
        "print (\"Accuracy = \", metrics.accuracy_score(yTest1, prediction_NN))\n",
        "#Confusion Matrix - verify accuracy of each class\n",
        "from sklearn.metrics import confusion_matrix\n",
        "cm = confusion_matrix(yTest1, prediction_NN)\n",
        "print(cm)\n",
        "sns.heatmap(cm, annot=True)"
      ],
      "execution_count": 39,
      "outputs": [
        {
          "output_type": "stream",
          "text": [
            "Accuracy =  0.7181208053691275\n",
            "[[46 24]\n",
            " [18 61]]\n"
          ],
          "name": "stdout"
        },
        {
          "output_type": "execute_result",
          "data": {
            "text/plain": [
              "<matplotlib.axes._subplots.AxesSubplot at 0x7f9ac03d7750>"
            ]
          },
          "metadata": {},
          "execution_count": 39
        },
        {
          "output_type": "display_data",
          "data": {
            "image/png": "[encoded data removed]",
            "text/plain": [
              "<Figure size 432x288 with 2 Axes>"
            ]
          },
          "metadata": {
            "needs_background": "light"
          }
        }
      ]
    },
    {
      "cell_type": "code",
      "metadata": {
        "colab": {
          "base_uri": "https://localhost:8080/"
        },
        "id": "kRN2ooNbfptj",
        "outputId": "5adeb1c1-8c57-4972-b632-9cdfe49a67eb"
      },
      "source": [
        "from keras.callbacks import EarlyStopping\n",
        "#set early stopping monitor so the model stops training when it won't improve anymore\n",
        "early_stopping_monitor = EarlyStopping(patience=500)\n",
        "\n",
        "#train model\n",
        "history=model.fit(xTrain11, yTrain11, validation_data = (xTest11, yTest11), epochs=50, batch_size=16)\n"
      ],
      "execution_count": 40,
      "outputs": [
        {
          "output_type": "stream",
          "text": [
            "Epoch 1/50\n",
            "22/22 [==============================] - 0s 18ms/step - loss: 3.5119e-04 - accuracy: 1.0000 - val_loss: 1.9014 - val_accuracy: 0.7181\n",
            "Epoch 2/50\n",
            "22/22 [==============================] - 0s 17ms/step - loss: 4.2100e-04 - accuracy: 1.0000 - val_loss: 2.0075 - val_accuracy: 0.7181\n",
            "Epoch 3/50\n",
            "22/22 [==============================] - 0s 16ms/step - loss: 3.2915e-04 - accuracy: 1.0000 - val_loss: 2.0842 - val_accuracy: 0.7181\n",
            "Epoch 4/50\n",
            "22/22 [==============================] - 0s 15ms/step - loss: 6.2099e-04 - accuracy: 1.0000 - val_loss: 2.1742 - val_accuracy: 0.7181\n",
            "Epoch 5/50\n",
            "22/22 [==============================] - 0s 15ms/step - loss: 2.8884e-04 - accuracy: 1.0000 - val_loss: 2.2148 - val_accuracy: 0.7181\n",
            "Epoch 6/50\n",
            "22/22 [==============================] - 0s 16ms/step - loss: 7.0508e-04 - accuracy: 1.0000 - val_loss: 2.3262 - val_accuracy: 0.6980\n",
            "Epoch 7/50\n",
            "22/22 [==============================] - 0s 15ms/step - loss: 0.0029 - accuracy: 1.0000 - val_loss: 2.3733 - val_accuracy: 0.7047\n",
            "Epoch 8/50\n",
            "22/22 [==============================] - 0s 16ms/step - loss: 9.9502e-04 - accuracy: 1.0000 - val_loss: 2.8966 - val_accuracy: 0.6980\n",
            "Epoch 9/50\n",
            "22/22 [==============================] - 0s 14ms/step - loss: 0.0011 - accuracy: 1.0000 - val_loss: 2.4168 - val_accuracy: 0.7315\n",
            "Epoch 10/50\n",
            "22/22 [==============================] - 0s 15ms/step - loss: 6.3705e-04 - accuracy: 1.0000 - val_loss: 2.4738 - val_accuracy: 0.7114\n",
            "Epoch 11/50\n",
            "22/22 [==============================] - 0s 15ms/step - loss: 5.1804e-04 - accuracy: 1.0000 - val_loss: 2.8639 - val_accuracy: 0.6779\n",
            "Epoch 12/50\n",
            "22/22 [==============================] - 0s 16ms/step - loss: 3.2334e-04 - accuracy: 1.0000 - val_loss: 2.8485 - val_accuracy: 0.7248\n",
            "Epoch 13/50\n",
            "22/22 [==============================] - 0s 15ms/step - loss: 0.0010 - accuracy: 1.0000 - val_loss: 2.6373 - val_accuracy: 0.7248\n",
            "Epoch 14/50\n",
            "22/22 [==============================] - 0s 16ms/step - loss: 1.2623e-04 - accuracy: 1.0000 - val_loss: 2.5557 - val_accuracy: 0.7181\n",
            "Epoch 15/50\n",
            "22/22 [==============================] - 0s 15ms/step - loss: 5.5401e-04 - accuracy: 1.0000 - val_loss: 2.4636 - val_accuracy: 0.7248\n",
            "Epoch 16/50\n",
            "22/22 [==============================] - 0s 15ms/step - loss: 2.7221e-04 - accuracy: 1.0000 - val_loss: 2.5120 - val_accuracy: 0.7181\n",
            "Epoch 17/50\n",
            "22/22 [==============================] - 0s 15ms/step - loss: 2.4345e-04 - accuracy: 1.0000 - val_loss: 2.4929 - val_accuracy: 0.7114\n",
            "Epoch 18/50\n",
            "22/22 [==============================] - 0s 15ms/step - loss: 2.6998e-04 - accuracy: 1.0000 - val_loss: 2.5070 - val_accuracy: 0.7181\n",
            "Epoch 19/50\n",
            "22/22 [==============================] - 0s 15ms/step - loss: 3.1149e-04 - accuracy: 1.0000 - val_loss: 2.5726 - val_accuracy: 0.6980\n",
            "Epoch 20/50\n",
            "22/22 [==============================] - 0s 15ms/step - loss: 4.4074e-04 - accuracy: 1.0000 - val_loss: 2.5356 - val_accuracy: 0.7248\n",
            "Epoch 21/50\n",
            "22/22 [==============================] - 0s 16ms/step - loss: 6.5957e-05 - accuracy: 1.0000 - val_loss: 2.5329 - val_accuracy: 0.7315\n",
            "Epoch 22/50\n",
            "22/22 [==============================] - 0s 15ms/step - loss: 1.7968e-04 - accuracy: 1.0000 - val_loss: 2.5256 - val_accuracy: 0.7248\n",
            "Epoch 23/50\n",
            "22/22 [==============================] - 0s 15ms/step - loss: 7.9450e-05 - accuracy: 1.0000 - val_loss: 2.5099 - val_accuracy: 0.7248\n",
            "Epoch 24/50\n",
            "22/22 [==============================] - 0s 14ms/step - loss: 3.1842e-04 - accuracy: 1.0000 - val_loss: 2.5126 - val_accuracy: 0.6913\n",
            "Epoch 25/50\n",
            "22/22 [==============================] - 0s 16ms/step - loss: 1.2509e-04 - accuracy: 1.0000 - val_loss: 2.5030 - val_accuracy: 0.6913\n",
            "Epoch 26/50\n",
            "22/22 [==============================] - 0s 15ms/step - loss: 2.7096e-04 - accuracy: 1.0000 - val_loss: 2.5578 - val_accuracy: 0.7181\n",
            "Epoch 27/50\n",
            "22/22 [==============================] - 0s 14ms/step - loss: 2.2056e-04 - accuracy: 1.0000 - val_loss: 2.5838 - val_accuracy: 0.7114\n",
            "Epoch 28/50\n",
            "22/22 [==============================] - 0s 15ms/step - loss: 2.5936e-04 - accuracy: 1.0000 - val_loss: 2.6544 - val_accuracy: 0.6913\n",
            "Epoch 29/50\n",
            "22/22 [==============================] - 0s 15ms/step - loss: 9.9689e-05 - accuracy: 1.0000 - val_loss: 2.8144 - val_accuracy: 0.6913\n",
            "Epoch 30/50\n",
            "22/22 [==============================] - 0s 15ms/step - loss: 4.5693e-04 - accuracy: 1.0000 - val_loss: 2.7669 - val_accuracy: 0.6980\n",
            "Epoch 31/50\n",
            "22/22 [==============================] - 0s 15ms/step - loss: 1.2084e-04 - accuracy: 1.0000 - val_loss: 2.8161 - val_accuracy: 0.7047\n",
            "Epoch 32/50\n",
            "22/22 [==============================] - 0s 16ms/step - loss: 6.7327e-05 - accuracy: 1.0000 - val_loss: 2.7946 - val_accuracy: 0.7047\n",
            "Epoch 33/50\n",
            "22/22 [==============================] - 0s 14ms/step - loss: 0.0029 - accuracy: 0.9971 - val_loss: 3.8398 - val_accuracy: 0.6846\n",
            "Epoch 34/50\n",
            "22/22 [==============================] - 0s 15ms/step - loss: 0.1067 - accuracy: 0.9624 - val_loss: 4.3017 - val_accuracy: 0.5638\n",
            "Epoch 35/50\n",
            "22/22 [==============================] - 0s 14ms/step - loss: 0.3585 - accuracy: 0.9017 - val_loss: 162.3788 - val_accuracy: 0.5302\n",
            "Epoch 36/50\n",
            "22/22 [==============================] - 0s 14ms/step - loss: 0.1648 - accuracy: 0.9624 - val_loss: 206.0324 - val_accuracy: 0.5302\n",
            "Epoch 37/50\n",
            "22/22 [==============================] - 0s 15ms/step - loss: 0.2003 - accuracy: 0.9191 - val_loss: 19.8189 - val_accuracy: 0.6309\n",
            "Epoch 38/50\n",
            "22/22 [==============================] - 0s 15ms/step - loss: 0.1028 - accuracy: 0.9509 - val_loss: 18.9955 - val_accuracy: 0.6174\n",
            "Epoch 39/50\n",
            "22/22 [==============================] - 0s 16ms/step - loss: 0.0395 - accuracy: 0.9913 - val_loss: 22.7331 - val_accuracy: 0.6107\n",
            "Epoch 40/50\n",
            "22/22 [==============================] - 0s 14ms/step - loss: 0.0392 - accuracy: 0.9942 - val_loss: 25.0430 - val_accuracy: 0.5705\n",
            "Epoch 41/50\n",
            "22/22 [==============================] - 0s 15ms/step - loss: 0.0083 - accuracy: 1.0000 - val_loss: 23.6960 - val_accuracy: 0.5570\n",
            "Epoch 42/50\n",
            "22/22 [==============================] - 0s 14ms/step - loss: 0.0122 - accuracy: 0.9971 - val_loss: 15.0543 - val_accuracy: 0.5973\n",
            "Epoch 43/50\n",
            "22/22 [==============================] - 0s 16ms/step - loss: 0.0205 - accuracy: 0.9942 - val_loss: 4.8231 - val_accuracy: 0.6510\n",
            "Epoch 44/50\n",
            "22/22 [==============================] - 0s 15ms/step - loss: 0.0196 - accuracy: 0.9942 - val_loss: 4.7761 - val_accuracy: 0.6510\n",
            "Epoch 45/50\n",
            "22/22 [==============================] - 0s 15ms/step - loss: 0.0178 - accuracy: 0.9971 - val_loss: 2.8488 - val_accuracy: 0.6980\n",
            "Epoch 46/50\n",
            "22/22 [==============================] - 0s 14ms/step - loss: 0.0151 - accuracy: 0.9971 - val_loss: 1.7486 - val_accuracy: 0.7047\n",
            "Epoch 47/50\n",
            "22/22 [==============================] - 0s 14ms/step - loss: 0.0093 - accuracy: 1.0000 - val_loss: 1.8512 - val_accuracy: 0.6913\n",
            "Epoch 48/50\n",
            "22/22 [==============================] - 0s 15ms/step - loss: 0.0067 - accuracy: 1.0000 - val_loss: 1.7076 - val_accuracy: 0.6980\n",
            "Epoch 49/50\n",
            "22/22 [==============================] - 0s 15ms/step - loss: 0.0109 - accuracy: 0.9942 - val_loss: 1.8373 - val_accuracy: 0.7248\n",
            "Epoch 50/50\n",
            "22/22 [==============================] - 0s 16ms/step - loss: 0.0259 - accuracy: 0.9971 - val_loss: 2.3885 - val_accuracy: 0.6846\n"
          ],
          "name": "stdout"
        }
      ]
    },
    {
      "cell_type": "code",
      "metadata": {
        "colab": {
          "base_uri": "https://localhost:8080/",
          "height": 332
        },
        "id": "tPwbNe9QgPqb",
        "outputId": "1a8e8788-40e1-43f6-946b-359ca7396715"
      },
      "source": [
        "prediction_NN = model.predict(xTest11)\n",
        "prediction_NN = np.argmax(prediction_NN, axis=-1)\n",
        "#Print overall accuracy\n",
        "from sklearn import metrics\n",
        "print (\"Accuracy = \", metrics.accuracy_score(yTest1, prediction_NN))\n",
        "#Confusion Matrix - verify accuracy of each class\n",
        "from sklearn.metrics import confusion_matrix\n",
        "cm = confusion_matrix(yTest1, prediction_NN)\n",
        "print(cm)\n",
        "sns.heatmap(cm, annot=True)"
      ],
      "execution_count": 41,
      "outputs": [
        {
          "output_type": "stream",
          "text": [
            "Accuracy =  0.6845637583892618\n",
            "[[39 31]\n",
            " [16 63]]\n"
          ],
          "name": "stdout"
        },
        {
          "output_type": "execute_result",
          "data": {
            "text/plain": [
              "<matplotlib.axes._subplots.AxesSubplot at 0x7f9abc01cd10>"
            ]
          },
          "metadata": {},
          "execution_count": 41
        },
        {
          "output_type": "display_data",
          "data": {
            "image/png": "[encoded data removed]",
            "text/plain": [
              "<Figure size 432x288 with 2 Axes>"
            ]
          },
          "metadata": {
            "needs_background": "light"
          }
        }
      ]
    },
    {
      "cell_type": "code",
      "metadata": {
        "colab": {
          "base_uri": "https://localhost:8080/",
          "height": 1000
        },
        "id": "nF_cw4JwgWhO",
        "outputId": "744bf603-f16e-42ba-da23-21e9bed1e2e4"
      },
      "source": [
        "from keras.callbacks import EarlyStopping\n",
        "#set early stopping monitor so the model stops training when it won't improve anymore\n",
        "early_stopping_monitor = EarlyStopping(patience=500)\n",
        "\n",
        "#train model\n",
        "history=model.fit(xTrain11, yTrain11, validation_data = (xTest11, yTest11), epochs=50, batch_size=16)\n",
        "\n",
        "prediction_NN = model.predict(xTest11)\n",
        "prediction_NN = np.argmax(prediction_NN, axis=-1)\n",
        "#Print overall accuracy\n",
        "from sklearn import metrics\n",
        "print (\"Accuracy = \", metrics.accuracy_score(yTest1, prediction_NN))\n",
        "#Confusion Matrix - verify accuracy of each class\n",
        "from sklearn.metrics import confusion_matrix\n",
        "cm = confusion_matrix(yTest1, prediction_NN)\n",
        "print(cm)\n",
        "sns.heatmap(cm, annot=True)\n"
      ],
      "execution_count": 42,
      "outputs": [
        {
          "output_type": "stream",
          "text": [
            "Epoch 1/50\n",
            "22/22 [==============================] - 0s 17ms/step - loss: 0.0091 - accuracy: 0.9971 - val_loss: 1.8564 - val_accuracy: 0.6980\n",
            "Epoch 2/50\n",
            "22/22 [==============================] - 0s 15ms/step - loss: 0.0036 - accuracy: 1.0000 - val_loss: 1.3400 - val_accuracy: 0.6980\n",
            "Epoch 3/50\n",
            "22/22 [==============================] - 0s 15ms/step - loss: 0.0030 - accuracy: 1.0000 - val_loss: 1.5806 - val_accuracy: 0.7047\n",
            "Epoch 4/50\n",
            "22/22 [==============================] - 0s 16ms/step - loss: 0.0037 - accuracy: 1.0000 - val_loss: 1.6628 - val_accuracy: 0.7315\n",
            "Epoch 5/50\n",
            "22/22 [==============================] - 0s 15ms/step - loss: 0.0042 - accuracy: 1.0000 - val_loss: 1.8583 - val_accuracy: 0.6980\n",
            "Epoch 6/50\n",
            "22/22 [==============================] - 0s 15ms/step - loss: 0.0013 - accuracy: 1.0000 - val_loss: 1.8212 - val_accuracy: 0.6711\n",
            "Epoch 7/50\n",
            "22/22 [==============================] - 0s 15ms/step - loss: 0.0015 - accuracy: 1.0000 - val_loss: 1.9484 - val_accuracy: 0.7047\n",
            "Epoch 8/50\n",
            "22/22 [==============================] - 0s 15ms/step - loss: 0.0016 - accuracy: 1.0000 - val_loss: 2.0312 - val_accuracy: 0.7181\n",
            "Epoch 9/50\n",
            "22/22 [==============================] - 0s 15ms/step - loss: 6.5673e-04 - accuracy: 1.0000 - val_loss: 2.1082 - val_accuracy: 0.7181\n",
            "Epoch 10/50\n",
            "22/22 [==============================] - 0s 18ms/step - loss: 0.0014 - accuracy: 1.0000 - val_loss: 2.3233 - val_accuracy: 0.6913\n",
            "Epoch 11/50\n",
            "22/22 [==============================] - 0s 16ms/step - loss: 5.5779e-04 - accuracy: 1.0000 - val_loss: 2.3334 - val_accuracy: 0.6980\n",
            "Epoch 12/50\n",
            "22/22 [==============================] - 0s 15ms/step - loss: 7.4490e-04 - accuracy: 1.0000 - val_loss: 2.3550 - val_accuracy: 0.6980\n",
            "Epoch 13/50\n",
            "22/22 [==============================] - 0s 15ms/step - loss: 0.0021 - accuracy: 1.0000 - val_loss: 2.1965 - val_accuracy: 0.7047\n",
            "Epoch 14/50\n",
            "22/22 [==============================] - 0s 15ms/step - loss: 0.0020 - accuracy: 1.0000 - val_loss: 2.3184 - val_accuracy: 0.7114\n",
            "Epoch 15/50\n",
            "22/22 [==============================] - 0s 15ms/step - loss: 6.3417e-04 - accuracy: 1.0000 - val_loss: 2.2762 - val_accuracy: 0.7450\n",
            "Epoch 16/50\n",
            "22/22 [==============================] - 0s 15ms/step - loss: 6.6773e-04 - accuracy: 1.0000 - val_loss: 2.3458 - val_accuracy: 0.7383\n",
            "Epoch 17/50\n",
            "22/22 [==============================] - 0s 15ms/step - loss: 3.4598e-04 - accuracy: 1.0000 - val_loss: 2.3532 - val_accuracy: 0.7383\n",
            "Epoch 18/50\n",
            "22/22 [==============================] - 0s 14ms/step - loss: 9.0965e-04 - accuracy: 1.0000 - val_loss: 2.2961 - val_accuracy: 0.7248\n",
            "Epoch 19/50\n",
            "22/22 [==============================] - 0s 15ms/step - loss: 0.0029 - accuracy: 0.9971 - val_loss: 2.3476 - val_accuracy: 0.6980\n",
            "Epoch 20/50\n",
            "22/22 [==============================] - 0s 14ms/step - loss: 0.0026 - accuracy: 1.0000 - val_loss: 2.3579 - val_accuracy: 0.7248\n",
            "Epoch 21/50\n",
            "22/22 [==============================] - 0s 16ms/step - loss: 0.0027 - accuracy: 1.0000 - val_loss: 3.5337 - val_accuracy: 0.7450\n",
            "Epoch 22/50\n",
            "22/22 [==============================] - 0s 15ms/step - loss: 0.0052 - accuracy: 0.9971 - val_loss: 20.3520 - val_accuracy: 0.5839\n",
            "Epoch 23/50\n",
            "22/22 [==============================] - 0s 15ms/step - loss: 0.0068 - accuracy: 0.9971 - val_loss: 13.5806 - val_accuracy: 0.5973\n",
            "Epoch 24/50\n",
            "22/22 [==============================] - 0s 15ms/step - loss: 0.0647 - accuracy: 0.9884 - val_loss: 5.5426 - val_accuracy: 0.6510\n",
            "Epoch 25/50\n",
            "22/22 [==============================] - 0s 14ms/step - loss: 0.1706 - accuracy: 0.9653 - val_loss: 1.1904 - val_accuracy: 0.6913\n",
            "Epoch 26/50\n",
            "22/22 [==============================] - 0s 15ms/step - loss: 0.1401 - accuracy: 0.9509 - val_loss: 0.9640 - val_accuracy: 0.6107\n",
            "Epoch 27/50\n",
            "22/22 [==============================] - 0s 16ms/step - loss: 0.0333 - accuracy: 0.9913 - val_loss: 1.4589 - val_accuracy: 0.6779\n",
            "Epoch 28/50\n",
            "22/22 [==============================] - 0s 15ms/step - loss: 0.0259 - accuracy: 0.9942 - val_loss: 1.8954 - val_accuracy: 0.6846\n",
            "Epoch 29/50\n",
            "22/22 [==============================] - 0s 15ms/step - loss: 0.0527 - accuracy: 0.9740 - val_loss: 5.1503 - val_accuracy: 0.6376\n",
            "Epoch 30/50\n",
            "22/22 [==============================] - 0s 16ms/step - loss: 0.0744 - accuracy: 0.9798 - val_loss: 5.4260 - val_accuracy: 0.6376\n",
            "Epoch 31/50\n",
            "22/22 [==============================] - 0s 15ms/step - loss: 0.0355 - accuracy: 0.9913 - val_loss: 10.1102 - val_accuracy: 0.6174\n",
            "Epoch 32/50\n",
            "22/22 [==============================] - 0s 16ms/step - loss: 0.0218 - accuracy: 0.9913 - val_loss: 14.4692 - val_accuracy: 0.5436\n",
            "Epoch 33/50\n",
            "22/22 [==============================] - 0s 14ms/step - loss: 0.0216 - accuracy: 0.9942 - val_loss: 10.2863 - val_accuracy: 0.5705\n",
            "Epoch 34/50\n",
            "22/22 [==============================] - 0s 15ms/step - loss: 0.0085 - accuracy: 1.0000 - val_loss: 4.4556 - val_accuracy: 0.6174\n",
            "Epoch 35/50\n",
            "22/22 [==============================] - 0s 14ms/step - loss: 0.0041 - accuracy: 1.0000 - val_loss: 2.7943 - val_accuracy: 0.6711\n",
            "Epoch 36/50\n",
            "22/22 [==============================] - 0s 15ms/step - loss: 0.0162 - accuracy: 0.9913 - val_loss: 2.5357 - val_accuracy: 0.7315\n",
            "Epoch 37/50\n",
            "22/22 [==============================] - 0s 15ms/step - loss: 0.0272 - accuracy: 0.9884 - val_loss: 3.5998 - val_accuracy: 0.6711\n",
            "Epoch 38/50\n",
            "22/22 [==============================] - 0s 14ms/step - loss: 0.0454 - accuracy: 0.9913 - val_loss: 1.8818 - val_accuracy: 0.6711\n",
            "Epoch 39/50\n",
            "22/22 [==============================] - 0s 15ms/step - loss: 0.0344 - accuracy: 0.9913 - val_loss: 2.3450 - val_accuracy: 0.6980\n",
            "Epoch 40/50\n",
            "22/22 [==============================] - 0s 16ms/step - loss: 0.0478 - accuracy: 0.9827 - val_loss: 2.8034 - val_accuracy: 0.6510\n",
            "Epoch 41/50\n",
            "22/22 [==============================] - 0s 15ms/step - loss: 0.0439 - accuracy: 0.9827 - val_loss: 2.9748 - val_accuracy: 0.6644\n",
            "Epoch 42/50\n",
            "22/22 [==============================] - 0s 16ms/step - loss: 0.0072 - accuracy: 1.0000 - val_loss: 2.4525 - val_accuracy: 0.6913\n",
            "Epoch 43/50\n",
            "22/22 [==============================] - 0s 16ms/step - loss: 0.0063 - accuracy: 1.0000 - val_loss: 2.2963 - val_accuracy: 0.7047\n",
            "Epoch 44/50\n",
            "22/22 [==============================] - 0s 14ms/step - loss: 0.0475 - accuracy: 0.9884 - val_loss: 3.2769 - val_accuracy: 0.6040\n",
            "Epoch 45/50\n",
            "22/22 [==============================] - 0s 15ms/step - loss: 0.0097 - accuracy: 0.9971 - val_loss: 5.0073 - val_accuracy: 0.5839\n",
            "Epoch 46/50\n",
            "22/22 [==============================] - 0s 15ms/step - loss: 0.0080 - accuracy: 0.9971 - val_loss: 2.4965 - val_accuracy: 0.6980\n",
            "Epoch 47/50\n",
            "22/22 [==============================] - 0s 15ms/step - loss: 0.0033 - accuracy: 1.0000 - val_loss: 2.4348 - val_accuracy: 0.6846\n",
            "Epoch 48/50\n",
            "22/22 [==============================] - 0s 16ms/step - loss: 0.0039 - accuracy: 1.0000 - val_loss: 1.9327 - val_accuracy: 0.7248\n",
            "Epoch 49/50\n",
            "22/22 [==============================] - 0s 15ms/step - loss: 0.0037 - accuracy: 1.0000 - val_loss: 2.0172 - val_accuracy: 0.7383\n",
            "Epoch 50/50\n",
            "22/22 [==============================] - 0s 15ms/step - loss: 0.0101 - accuracy: 0.9971 - val_loss: 1.6912 - val_accuracy: 0.7047\n",
            "Accuracy =  0.7046979865771812\n",
            "[[47 23]\n",
            " [21 58]]\n"
          ],
          "name": "stdout"
        },
        {
          "output_type": "execute_result",
          "data": {
            "text/plain": [
              "<matplotlib.axes._subplots.AxesSubplot at 0x7f9abb8162d0>"
            ]
          },
          "metadata": {},
          "execution_count": 42
        },
        {
          "output_type": "display_data",
          "data": {
            "image/png": "[encoded data removed]",
            "text/plain": [
              "<Figure size 432x288 with 2 Axes>"
            ]
          },
          "metadata": {
            "needs_background": "light"
          }
        }
      ]
    },
    {
      "cell_type": "code",
      "metadata": {
        "id": "zF_XUwmMg2TP"
      },
      "source": [
        ""
      ],
      "execution_count": 42,
      "outputs": []
    }
  ]
}